{
 "cells": [
  {
   "cell_type": "code",
   "execution_count": 46,
   "metadata": {
    "scrolled": true
   },
   "outputs": [
    {
     "name": "stdout",
     "output_type": "stream",
     "text": [
      "Requirement already satisfied: pymongo in /home/ec2-user/anaconda3/envs/tensorflow_p36/lib/python3.6/site-packages (3.10.1)\n",
      "\u001b[33mWARNING: You are using pip version 20.0.2; however, version 20.1.1 is available.\n",
      "You should consider upgrading via the '/home/ec2-user/anaconda3/envs/tensorflow_p36/bin/python -m pip install --upgrade pip' command.\u001b[0m\n",
      "Requirement already satisfied: dnspython in /home/ec2-user/anaconda3/envs/tensorflow_p36/lib/python3.6/site-packages (1.16.0)\n",
      "\u001b[33mWARNING: You are using pip version 20.0.2; however, version 20.1.1 is available.\n",
      "You should consider upgrading via the '/home/ec2-user/anaconda3/envs/tensorflow_p36/bin/python -m pip install --upgrade pip' command.\u001b[0m\n",
      "Requirement already satisfied: pymongo[srv] in /home/ec2-user/anaconda3/envs/tensorflow_p36/lib/python3.6/site-packages (3.10.1)\n",
      "Requirement already satisfied: dnspython<2.0.0,>=1.16.0; extra == \"srv\" in /home/ec2-user/anaconda3/envs/tensorflow_p36/lib/python3.6/site-packages (from pymongo[srv]) (1.16.0)\n",
      "\u001b[33mWARNING: You are using pip version 20.0.2; however, version 20.1.1 is available.\n",
      "You should consider upgrading via the '/home/ec2-user/anaconda3/envs/tensorflow_p36/bin/python -m pip install --upgrade pip' command.\u001b[0m\n",
      "Requirement already satisfied: xgboost in /home/ec2-user/anaconda3/envs/tensorflow_p36/lib/python3.6/site-packages (1.1.1)\n",
      "Requirement already satisfied: numpy in /home/ec2-user/anaconda3/envs/tensorflow_p36/lib/python3.6/site-packages (from xgboost) (1.18.1)\n",
      "Requirement already satisfied: scipy in /home/ec2-user/anaconda3/envs/tensorflow_p36/lib/python3.6/site-packages (from xgboost) (1.4.1)\n",
      "\u001b[33mWARNING: You are using pip version 20.0.2; however, version 20.1.1 is available.\n",
      "You should consider upgrading via the '/home/ec2-user/anaconda3/envs/tensorflow_p36/bin/python -m pip install --upgrade pip' command.\u001b[0m\n",
      "DeprecationWarning: 'source deactivate' is deprecated. Use 'conda deactivate'.\n"
     ]
    }
   ],
   "source": [
    "!source activate python3\n",
    "!pip3 install pymongo\n",
    "!pip3 install dnspython\n",
    "!pip3 install pymongo[srv]\n",
    "!pip3 install xgboost\n",
    "!source deactivate"
   ]
  },
  {
   "cell_type": "code",
   "execution_count": 47,
   "metadata": {
    "scrolled": true
   },
   "outputs": [],
   "source": [
    "from Data_Creation_for_Tag_Classification import *"
   ]
  },
  {
   "cell_type": "code",
   "execution_count": 48,
   "metadata": {},
   "outputs": [
    {
     "name": "stderr",
     "output_type": "stream",
     "text": [
      "[nltk_data] Downloading package punkt to /home/ec2-user/nltk_data...\n",
      "[nltk_data]   Package punkt is already up-to-date!\n",
      "[nltk_data] Downloading package stopwords to\n",
      "[nltk_data]     /home/ec2-user/nltk_data...\n",
      "[nltk_data]   Package stopwords is already up-to-date!\n"
     ]
    },
    {
     "data": {
      "text/plain": [
       "True"
      ]
     },
     "execution_count": 48,
     "metadata": {},
     "output_type": "execute_result"
    }
   ],
   "source": [
    "import nltk\n",
    "nltk.download(['punkt', 'stopwords'])"
   ]
  },
  {
   "cell_type": "code",
   "execution_count": 49,
   "metadata": {},
   "outputs": [],
   "source": [
    "import os\n",
    "import warnings\n",
    "import pandas as pd\n",
    "import numpy as np\n",
    "import seaborn as sns\n",
    "import matplotlib.pyplot as plt\n",
    "from datetime import timedelta\n",
    "import pickle\n",
    "import configparser"
   ]
  },
  {
   "cell_type": "code",
   "execution_count": 50,
   "metadata": {},
   "outputs": [],
   "source": [
    "from nltk.tokenize import word_tokenize\n",
    "from string import punctuation\n",
    "from nltk.corpus import stopwords\n",
    "from nltk.stem import PorterStemmer\n",
    "\n",
    "from sklearn import model_selection, preprocessing, linear_model, naive_bayes, metrics, svm\n",
    "from sklearn.feature_extraction.text import TfidfVectorizer, CountVectorizer\n",
    "from sklearn import decomposition, ensemble\n",
    "from sklearn.model_selection import train_test_split\n",
    "\n",
    "import xgboost\n",
    "\n",
    "from keras.preprocessing import text, sequence\n",
    "from keras import layers, models, optimizers\n",
    "from tensorflow import keras"
   ]
  },
  {
   "cell_type": "code",
   "execution_count": 51,
   "metadata": {},
   "outputs": [
    {
     "data": {
      "text/plain": [
       "['Connection', 'Data_Creation', 'Evaluation', 'Modelling']"
      ]
     },
     "execution_count": 51,
     "metadata": {},
     "output_type": "execute_result"
    }
   ],
   "source": [
    "config = configparser.ConfigParser()\n",
    "config.read('reco_config_Tag_Classification.ini')\n",
    "config.sections()"
   ]
  },
  {
   "cell_type": "code",
   "execution_count": 52,
   "metadata": {},
   "outputs": [
    {
     "data": {
      "text/plain": [
       "'XGBoost'"
      ]
     },
     "execution_count": 52,
     "metadata": {},
     "output_type": "execute_result"
    }
   ],
   "source": [
    "model_type = config['Modelling']['MODEL_NAME']\n",
    "model_type"
   ]
  },
  {
   "cell_type": "code",
   "execution_count": 53,
   "metadata": {},
   "outputs": [],
   "source": [
    "#feed_hashtag = pd.read_csv(os.getcwd() + '/Datasets/feed_hashtag_long.csv')\n",
    "#feed_hashtag['createdAt'] = pd.to_datetime(feed_hashtag['createdAt'])\n",
    "#print(feed_hashtag.shape)\n",
    "#feed_hashtag.head(1)"
   ]
  },
  {
   "cell_type": "code",
   "execution_count": null,
   "metadata": {},
   "outputs": [],
   "source": []
  },
  {
   "cell_type": "code",
   "execution_count": 54,
   "metadata": {},
   "outputs": [
    {
     "name": "stdout",
     "output_type": "stream",
     "text": [
      "Data Size: 8521\n",
      "Unique Content: 5046\n",
      "Unique tags: 12\n"
     ]
    }
   ],
   "source": [
    "feed_hashtag = feed_hashtag[feed_hashtag['isPrimary'] == True]\n",
    "feed_hashtag = feed_hashtag[~feed_hashtag['text'].isna()]\n",
    "print(\"Data Size:\", feed_hashtag.shape[0])\n",
    "print(\"Unique Content:\", feed_hashtag['contentId'].nunique())\n",
    "print(\"Unique tags:\", feed_hashtag['hashtag'].nunique())"
   ]
  },
  {
   "cell_type": "code",
   "execution_count": 55,
   "metadata": {},
   "outputs": [
    {
     "data": {
      "text/html": [
       "<div>\n",
       "<style scoped>\n",
       "    .dataframe tbody tr th:only-of-type {\n",
       "        vertical-align: middle;\n",
       "    }\n",
       "\n",
       "    .dataframe tbody tr th {\n",
       "        vertical-align: top;\n",
       "    }\n",
       "\n",
       "    .dataframe thead th {\n",
       "        text-align: right;\n",
       "    }\n",
       "</style>\n",
       "<table border=\"1\" class=\"dataframe\">\n",
       "  <thead>\n",
       "    <tr style=\"text-align: right;\">\n",
       "      <th></th>\n",
       "      <th>contentId</th>\n",
       "      <th>authorId_content</th>\n",
       "      <th>createdAt</th>\n",
       "      <th>tagIds</th>\n",
       "      <th>text</th>\n",
       "      <th>type</th>\n",
       "      <th>dt</th>\n",
       "      <th>mnth</th>\n",
       "      <th>yr</th>\n",
       "      <th>yr_mnth</th>\n",
       "      <th>hashtagId</th>\n",
       "      <th>authorId_hashtag</th>\n",
       "      <th>hashtag</th>\n",
       "      <th>isActive</th>\n",
       "      <th>isPrimary</th>\n",
       "      <th>createDate</th>\n",
       "    </tr>\n",
       "  </thead>\n",
       "  <tbody>\n",
       "    <tr>\n",
       "      <th>0</th>\n",
       "      <td>5df454f37e4ea600161b8e2e</td>\n",
       "      <td>5df454297e4ea600161b8e25</td>\n",
       "      <td>2019-12-14 03:20:19.029</td>\n",
       "      <td>5df3940fb2694d0016bdb722</td>\n",
       "      <td>Hi I am Shreshtha. I have been baking for the ...</td>\n",
       "      <td>QUESTION</td>\n",
       "      <td>2019-12-14</td>\n",
       "      <td>12</td>\n",
       "      <td>2019</td>\n",
       "      <td>2019-12</td>\n",
       "      <td>5df3940fb2694d0016bdb722</td>\n",
       "      <td>5df38de0b2694d0016bdb71f</td>\n",
       "      <td>marketingQueries</td>\n",
       "      <td>True</td>\n",
       "      <td>True</td>\n",
       "      <td>2019-12-14</td>\n",
       "    </tr>\n",
       "  </tbody>\n",
       "</table>\n",
       "</div>"
      ],
      "text/plain": [
       "                  contentId          authorId_content               createdAt  \\\n",
       "0  5df454f37e4ea600161b8e2e  5df454297e4ea600161b8e25 2019-12-14 03:20:19.029   \n",
       "\n",
       "                     tagIds  \\\n",
       "0  5df3940fb2694d0016bdb722   \n",
       "\n",
       "                                                text      type          dt  \\\n",
       "0  Hi I am Shreshtha. I have been baking for the ...  QUESTION  2019-12-14   \n",
       "\n",
       "   mnth    yr  yr_mnth                 hashtagId          authorId_hashtag  \\\n",
       "0    12  2019  2019-12  5df3940fb2694d0016bdb722  5df38de0b2694d0016bdb71f   \n",
       "\n",
       "            hashtag  isActive  isPrimary  createDate  \n",
       "0  marketingQueries      True       True  2019-12-14  "
      ]
     },
     "execution_count": 55,
     "metadata": {},
     "output_type": "execute_result"
    }
   ],
   "source": [
    "feed_hashtag['createDate'] = feed_hashtag['createdAt'].dt.date\n",
    "feed_hashtag.head(1)"
   ]
  },
  {
   "cell_type": "code",
   "execution_count": 56,
   "metadata": {},
   "outputs": [],
   "source": [
    "#feed_hashtag.groupby(['createDate']).agg({'contentId':'nunique', 'tagIds':'count'})"
   ]
  },
  {
   "cell_type": "code",
   "execution_count": 57,
   "metadata": {},
   "outputs": [],
   "source": [
    "feed_hashtag = feed_hashtag.sort_values(['contentId'])"
   ]
  },
  {
   "cell_type": "code",
   "execution_count": 58,
   "metadata": {},
   "outputs": [],
   "source": [
    "#feed_hashtag.groupby(['contentId'])['hashtag'].count().reset_index().sort_values(['hashtag'], ascending = False).head()"
   ]
  },
  {
   "cell_type": "code",
   "execution_count": 59,
   "metadata": {},
   "outputs": [
    {
     "data": {
      "image/png": "[encoded data removed]",
      "text/plain": [
       "<Figure size 1296x360 with 1 Axes>"
      ]
     },
     "metadata": {},
     "output_type": "display_data"
    }
   ],
   "source": [
    "hashtag_class_ct = feed_hashtag.groupby(['hashtag'])['contentId'].agg([('row_count','count'), ('content_count','nunique')]).reset_index()\n",
    "hashtag_class_ct = hashtag_class_ct.sort_values(['content_count'], ascending=False)\n",
    "hashtag_class_ct\n",
    "f, ax = plt.subplots(figsize=(18,5))\n",
    "plt.bar(hashtag_class_ct['hashtag'], hashtag_class_ct['content_count'])\n",
    "plt.xlabel('hashtag', fontsize=20)\n",
    "plt.ylabel('No of Feeds', fontsize=20)\n",
    "plt.xticks(hashtag_class_ct['hashtag'], fontsize=20, rotation=30)\n",
    "plt.title('hashtag counts')\n",
    "\n",
    "plt.title(\"Number of Post for every Primary Hashtag\")\n",
    "plt.savefig(os.getcwd()+'/Charts/Total_Post_Per_Primary_Hashtag.png')\n",
    "\n",
    "plt.show()\n",
    "plt.close()"
   ]
  },
  {
   "cell_type": "code",
   "execution_count": 60,
   "metadata": {},
   "outputs": [
    {
     "name": "stdout",
     "output_type": "stream",
     "text": [
      "(5046, 9)\n"
     ]
    },
    {
     "data": {
      "text/html": [
       "<div>\n",
       "<style scoped>\n",
       "    .dataframe tbody tr th:only-of-type {\n",
       "        vertical-align: middle;\n",
       "    }\n",
       "\n",
       "    .dataframe tbody tr th {\n",
       "        vertical-align: top;\n",
       "    }\n",
       "\n",
       "    .dataframe thead th {\n",
       "        text-align: right;\n",
       "    }\n",
       "</style>\n",
       "<table border=\"1\" class=\"dataframe\">\n",
       "  <thead>\n",
       "    <tr style=\"text-align: right;\">\n",
       "      <th></th>\n",
       "      <th>contentId</th>\n",
       "      <th>authorId_content</th>\n",
       "      <th>createdAt</th>\n",
       "      <th>text</th>\n",
       "      <th>type</th>\n",
       "      <th>isActive</th>\n",
       "      <th>isPrimary</th>\n",
       "      <th>hashtag_count</th>\n",
       "      <th>hashtag_list</th>\n",
       "    </tr>\n",
       "  </thead>\n",
       "  <tbody>\n",
       "    <tr>\n",
       "      <th>1943</th>\n",
       "      <td>5ea903a51081fc002f901eaf</td>\n",
       "      <td>5ea90095cc13d50046a192fe</td>\n",
       "      <td>2020-04-29 04:33:41.016</td>\n",
       "      <td>Hi, I am teaching spanish language, If anyone ...</td>\n",
       "      <td>POST</td>\n",
       "      <td>True</td>\n",
       "      <td>True</td>\n",
       "      <td>5</td>\n",
       "      <td>starting-out,selfcare,inspiration,career-switc...</td>\n",
       "    </tr>\n",
       "    <tr>\n",
       "      <th>3024</th>\n",
       "      <td>5ed20828940ce60028af5811</td>\n",
       "      <td>5e809291b0854d0031972a19</td>\n",
       "      <td>2020-05-30 07:15:52.422</td>\n",
       "      <td>Will the window-shopping be fun post-COVID 19?...</td>\n",
       "      <td>POST</td>\n",
       "      <td>True</td>\n",
       "      <td>True</td>\n",
       "      <td>4</td>\n",
       "      <td>starting-out,networking,speaking-out,selfcare</td>\n",
       "    </tr>\n",
       "  </tbody>\n",
       "</table>\n",
       "</div>"
      ],
      "text/plain": [
       "                     contentId          authorId_content  \\\n",
       "1943  5ea903a51081fc002f901eaf  5ea90095cc13d50046a192fe   \n",
       "3024  5ed20828940ce60028af5811  5e809291b0854d0031972a19   \n",
       "\n",
       "                   createdAt  \\\n",
       "1943 2020-04-29 04:33:41.016   \n",
       "3024 2020-05-30 07:15:52.422   \n",
       "\n",
       "                                                   text  type  isActive  \\\n",
       "1943  Hi, I am teaching spanish language, If anyone ...  POST      True   \n",
       "3024  Will the window-shopping be fun post-COVID 19?...  POST      True   \n",
       "\n",
       "      isPrimary  hashtag_count  \\\n",
       "1943       True              5   \n",
       "3024       True              4   \n",
       "\n",
       "                                           hashtag_list  \n",
       "1943  starting-out,selfcare,inspiration,career-switc...  \n",
       "3024      starting-out,networking,speaking-out,selfcare  "
      ]
     },
     "execution_count": 60,
     "metadata": {},
     "output_type": "execute_result"
    }
   ],
   "source": [
    "feed_hashtag_rollup = feed_hashtag.groupby(['contentId', 'authorId_content', 'createdAt', 'text', 'type', 'isActive', 'isPrimary'])['hashtag'].agg([('hashtag_count','count'), ('hashtag_list', ','.join)]).reset_index()\n",
    "print(feed_hashtag_rollup.shape)\n",
    "feed_hashtag_rollup.sort_values(['hashtag_count'],ascending=False).head(2)"
   ]
  },
  {
   "cell_type": "code",
   "execution_count": 61,
   "metadata": {},
   "outputs": [
    {
     "data": {
      "text/plain": [
       "Timestamp('2020-07-08 00:00:00')"
      ]
     },
     "execution_count": 61,
     "metadata": {},
     "output_type": "execute_result"
    }
   ],
   "source": [
    "train_test_cutoff = pd.to_datetime(feed_hashtag['createDate'].max() - timedelta(10))\n",
    "train_test_cutoff"
   ]
  },
  {
   "cell_type": "code",
   "execution_count": 62,
   "metadata": {},
   "outputs": [
    {
     "name": "stdout",
     "output_type": "stream",
     "text": [
      "train data: 7572\n",
      "test data: 949\n"
     ]
    }
   ],
   "source": [
    "train = feed_hashtag[feed_hashtag['createdAt'] <= train_test_cutoff].copy()\n",
    "print(\"train data:\", train.shape[0])\n",
    "test = feed_hashtag[feed_hashtag['createdAt'] > train_test_cutoff].copy()\n",
    "print(\"test data:\", test.shape[0])"
   ]
  },
  {
   "cell_type": "code",
   "execution_count": 63,
   "metadata": {},
   "outputs": [
    {
     "name": "stdout",
     "output_type": "stream",
     "text": [
      "---------------------------------------------------------------------------------------------------\n",
      "----------------------------------     Data Processing Started     --------------------------------\n",
      "---------------------------------------------------------------------------------------------------\n"
     ]
    }
   ],
   "source": [
    "print(\"---------------------------------------------------------------------------------------------------\")\n",
    "print(\"----------------------------------     Data Processing Started     --------------------------------\")\n",
    "print(\"---------------------------------------------------------------------------------------------------\")"
   ]
  },
  {
   "cell_type": "markdown",
   "metadata": {},
   "source": [
    "# Text Cleansing"
   ]
  },
  {
   "cell_type": "code",
   "execution_count": 64,
   "metadata": {},
   "outputs": [],
   "source": [
    "def del_stop(sent, stop_word_list):\n",
    "    return [term for term in sent if term not in stop_word_list]\n",
    "\n",
    "porter = PorterStemmer()\n",
    "def stem_tokens(token_list):\n",
    "    token_stem = [porter.stem(term) for term in token_list]\n",
    "    return(token_stem)\n",
    "\n",
    "def get_clean_text(txt):\n",
    "    feed_token = [word_tokenize(sent.lower()) for sent in txt]\n",
    "    \n",
    "    stop_punct = list(punctuation)\n",
    "    stop_nltk = stopwords.words(\"english\")\n",
    "    stop_updated = stop_nltk + stop_punct\n",
    "    \n",
    "    feed_token_clean = [del_stop(sent, stop_updated) for sent in feed_token]\n",
    "    feed_token_stemmed = [stem_tokens(tk) for tk in feed_token_clean]\n",
    "    \n",
    "    clean_text = [\" \".join(sent) for sent in feed_token_clean]\n",
    "    return(clean_text)"
   ]
  },
  {
   "cell_type": "code",
   "execution_count": 65,
   "metadata": {},
   "outputs": [
    {
     "data": {
      "text/html": [
       "<div>\n",
       "<style scoped>\n",
       "    .dataframe tbody tr th:only-of-type {\n",
       "        vertical-align: middle;\n",
       "    }\n",
       "\n",
       "    .dataframe tbody tr th {\n",
       "        vertical-align: top;\n",
       "    }\n",
       "\n",
       "    .dataframe thead th {\n",
       "        text-align: right;\n",
       "    }\n",
       "</style>\n",
       "<table border=\"1\" class=\"dataframe\">\n",
       "  <thead>\n",
       "    <tr style=\"text-align: right;\">\n",
       "      <th></th>\n",
       "      <th>contentId</th>\n",
       "      <th>authorId_content</th>\n",
       "      <th>createdAt</th>\n",
       "      <th>tagIds</th>\n",
       "      <th>text</th>\n",
       "      <th>type</th>\n",
       "      <th>dt</th>\n",
       "      <th>mnth</th>\n",
       "      <th>yr</th>\n",
       "      <th>yr_mnth</th>\n",
       "      <th>hashtagId</th>\n",
       "      <th>authorId_hashtag</th>\n",
       "      <th>hashtag</th>\n",
       "      <th>isActive</th>\n",
       "      <th>isPrimary</th>\n",
       "      <th>createDate</th>\n",
       "      <th>text_clean</th>\n",
       "    </tr>\n",
       "  </thead>\n",
       "  <tbody>\n",
       "    <tr>\n",
       "      <th>0</th>\n",
       "      <td>5df454f37e4ea600161b8e2e</td>\n",
       "      <td>5df454297e4ea600161b8e25</td>\n",
       "      <td>2019-12-14 03:20:19.029</td>\n",
       "      <td>5df3940fb2694d0016bdb722</td>\n",
       "      <td>Hi I am Shreshtha. I have been baking for the ...</td>\n",
       "      <td>QUESTION</td>\n",
       "      <td>2019-12-14</td>\n",
       "      <td>12</td>\n",
       "      <td>2019</td>\n",
       "      <td>2019-12</td>\n",
       "      <td>5df3940fb2694d0016bdb722</td>\n",
       "      <td>5df38de0b2694d0016bdb71f</td>\n",
       "      <td>marketingQueries</td>\n",
       "      <td>True</td>\n",
       "      <td>True</td>\n",
       "      <td>2019-12-14</td>\n",
       "      <td>hi shreshtha baking last 5 years brand associa...</td>\n",
       "    </tr>\n",
       "  </tbody>\n",
       "</table>\n",
       "</div>"
      ],
      "text/plain": [
       "                  contentId          authorId_content               createdAt  \\\n",
       "0  5df454f37e4ea600161b8e2e  5df454297e4ea600161b8e25 2019-12-14 03:20:19.029   \n",
       "\n",
       "                     tagIds  \\\n",
       "0  5df3940fb2694d0016bdb722   \n",
       "\n",
       "                                                text      type          dt  \\\n",
       "0  Hi I am Shreshtha. I have been baking for the ...  QUESTION  2019-12-14   \n",
       "\n",
       "   mnth    yr  yr_mnth                 hashtagId          authorId_hashtag  \\\n",
       "0    12  2019  2019-12  5df3940fb2694d0016bdb722  5df38de0b2694d0016bdb71f   \n",
       "\n",
       "            hashtag  isActive  isPrimary  createDate  \\\n",
       "0  marketingQueries      True       True  2019-12-14   \n",
       "\n",
       "                                          text_clean  \n",
       "0  hi shreshtha baking last 5 years brand associa...  "
      ]
     },
     "execution_count": 65,
     "metadata": {},
     "output_type": "execute_result"
    }
   ],
   "source": [
    "train['text_clean'] = get_clean_text(train.text)\n",
    "train.head(1)"
   ]
  },
  {
   "cell_type": "code",
   "execution_count": 66,
   "metadata": {},
   "outputs": [
    {
     "data": {
      "text/html": [
       "<div>\n",
       "<style scoped>\n",
       "    .dataframe tbody tr th:only-of-type {\n",
       "        vertical-align: middle;\n",
       "    }\n",
       "\n",
       "    .dataframe tbody tr th {\n",
       "        vertical-align: top;\n",
       "    }\n",
       "\n",
       "    .dataframe thead th {\n",
       "        text-align: right;\n",
       "    }\n",
       "</style>\n",
       "<table border=\"1\" class=\"dataframe\">\n",
       "  <thead>\n",
       "    <tr style=\"text-align: right;\">\n",
       "      <th></th>\n",
       "      <th>contentId</th>\n",
       "      <th>authorId_content</th>\n",
       "      <th>createdAt</th>\n",
       "      <th>tagIds</th>\n",
       "      <th>text</th>\n",
       "      <th>type</th>\n",
       "      <th>dt</th>\n",
       "      <th>mnth</th>\n",
       "      <th>yr</th>\n",
       "      <th>yr_mnth</th>\n",
       "      <th>hashtagId</th>\n",
       "      <th>authorId_hashtag</th>\n",
       "      <th>hashtag</th>\n",
       "      <th>isActive</th>\n",
       "      <th>isPrimary</th>\n",
       "      <th>createDate</th>\n",
       "      <th>text_clean</th>\n",
       "    </tr>\n",
       "  </thead>\n",
       "  <tbody>\n",
       "    <tr>\n",
       "      <th>20636</th>\n",
       "      <td>5f053b56f824310022082bf3</td>\n",
       "      <td>5f0538ca748c8600249cd63d</td>\n",
       "      <td>2020-07-08 03:19:50.689</td>\n",
       "      <td>5df39412b2694d0016bdb72a</td>\n",
       "      <td>Hello ladies. I am a marketer and have been wa...</td>\n",
       "      <td>QUESTION</td>\n",
       "      <td>2020-07-08</td>\n",
       "      <td>7</td>\n",
       "      <td>2020</td>\n",
       "      <td>2020-7</td>\n",
       "      <td>5df39412b2694d0016bdb72a</td>\n",
       "      <td>5df38de0b2694d0016bdb71f</td>\n",
       "      <td>career-switch</td>\n",
       "      <td>True</td>\n",
       "      <td>True</td>\n",
       "      <td>2020-07-08</td>\n",
       "      <td>hello ladies marketer wanting make switch data...</td>\n",
       "    </tr>\n",
       "  </tbody>\n",
       "</table>\n",
       "</div>"
      ],
      "text/plain": [
       "                      contentId          authorId_content  \\\n",
       "20636  5f053b56f824310022082bf3  5f0538ca748c8600249cd63d   \n",
       "\n",
       "                    createdAt                    tagIds  \\\n",
       "20636 2020-07-08 03:19:50.689  5df39412b2694d0016bdb72a   \n",
       "\n",
       "                                                    text      type  \\\n",
       "20636  Hello ladies. I am a marketer and have been wa...  QUESTION   \n",
       "\n",
       "               dt  mnth    yr yr_mnth                 hashtagId  \\\n",
       "20636  2020-07-08     7  2020  2020-7  5df39412b2694d0016bdb72a   \n",
       "\n",
       "               authorId_hashtag        hashtag  isActive  isPrimary  \\\n",
       "20636  5df38de0b2694d0016bdb71f  career-switch      True       True   \n",
       "\n",
       "       createDate                                         text_clean  \n",
       "20636  2020-07-08  hello ladies marketer wanting make switch data...  "
      ]
     },
     "execution_count": 66,
     "metadata": {},
     "output_type": "execute_result"
    }
   ],
   "source": [
    "test['text_clean'] = get_clean_text(test.text)\n",
    "test.head(1)"
   ]
  },
  {
   "cell_type": "code",
   "execution_count": 67,
   "metadata": {},
   "outputs": [
    {
     "data": {
      "text/plain": [
       "(4505, 10)"
      ]
     },
     "execution_count": 67,
     "metadata": {},
     "output_type": "execute_result"
    }
   ],
   "source": [
    "train_rollup = train.groupby(['contentId', 'authorId_content', 'createdAt', 'text', 'type', 'isActive', 'isPrimary', 'text_clean'])['hashtag'].agg([('hashtag_count','count'), ('hashtag_list', ','.join)]).reset_index()\n",
    "train_rollup.shape"
   ]
  },
  {
   "cell_type": "code",
   "execution_count": null,
   "metadata": {},
   "outputs": [],
   "source": []
  },
  {
   "cell_type": "code",
   "execution_count": 68,
   "metadata": {},
   "outputs": [
    {
     "name": "stdout",
     "output_type": "stream",
     "text": [
      "(3604, 10) (901, 10)\n",
      "(6068, 17)\n",
      "(1504, 17)\n"
     ]
    }
   ],
   "source": [
    "train_df_rollup, validation_rollup = model_selection.train_test_split(train_rollup, test_size=0.20)\n",
    "print(train_df_rollup.shape, validation_rollup.shape)\n",
    "train_df = train[train['contentId'].isin(train_df_rollup['contentId'])]\n",
    "validation = train[train['contentId'].isin(validation_rollup['contentId'])]\n",
    "print(train_df.shape)\n",
    "print(validation.shape)"
   ]
  },
  {
   "cell_type": "code",
   "execution_count": 69,
   "metadata": {},
   "outputs": [
    {
     "name": "stdout",
     "output_type": "stream",
     "text": [
      "(541, 10)\n"
     ]
    },
    {
     "data": {
      "text/html": [
       "<div>\n",
       "<style scoped>\n",
       "    .dataframe tbody tr th:only-of-type {\n",
       "        vertical-align: middle;\n",
       "    }\n",
       "\n",
       "    .dataframe tbody tr th {\n",
       "        vertical-align: top;\n",
       "    }\n",
       "\n",
       "    .dataframe thead th {\n",
       "        text-align: right;\n",
       "    }\n",
       "</style>\n",
       "<table border=\"1\" class=\"dataframe\">\n",
       "  <thead>\n",
       "    <tr style=\"text-align: right;\">\n",
       "      <th></th>\n",
       "      <th>contentId</th>\n",
       "      <th>authorId_content</th>\n",
       "      <th>createdAt</th>\n",
       "      <th>text</th>\n",
       "      <th>type</th>\n",
       "      <th>isActive</th>\n",
       "      <th>isPrimary</th>\n",
       "      <th>text_clean</th>\n",
       "      <th>hashtag_count</th>\n",
       "      <th>hashtag_list</th>\n",
       "    </tr>\n",
       "  </thead>\n",
       "  <tbody>\n",
       "    <tr>\n",
       "      <th>181</th>\n",
       "      <td>5f0803563fbf9700246b418b</td>\n",
       "      <td>5f0800643fbf9700246b416f</td>\n",
       "      <td>2020-07-10 05:57:42.292</td>\n",
       "      <td>Hi All,   So good to connect with you all. I a...</td>\n",
       "      <td>QUESTION</td>\n",
       "      <td>True</td>\n",
       "      <td>True</td>\n",
       "      <td>hi good connect looking inputs regarding situa...</td>\n",
       "      <td>3</td>\n",
       "      <td>career-growth,starting-out,networking</td>\n",
       "    </tr>\n",
       "    <tr>\n",
       "      <th>476</th>\n",
       "      <td>5f113cf39f3d2400235ef39d</td>\n",
       "      <td>5efc2d119f04ce0022c4aa0f</td>\n",
       "      <td>2020-07-17 05:53:55.311</td>\n",
       "      <td>Hello everyone, In the view of contributing to...</td>\n",
       "      <td>POST</td>\n",
       "      <td>True</td>\n",
       "      <td>True</td>\n",
       "      <td>hello everyone view contributing welfare farme...</td>\n",
       "      <td>3</td>\n",
       "      <td>starting-out,networking,inspiration</td>\n",
       "    </tr>\n",
       "  </tbody>\n",
       "</table>\n",
       "</div>"
      ],
      "text/plain": [
       "                    contentId          authorId_content  \\\n",
       "181  5f0803563fbf9700246b418b  5f0800643fbf9700246b416f   \n",
       "476  5f113cf39f3d2400235ef39d  5efc2d119f04ce0022c4aa0f   \n",
       "\n",
       "                  createdAt  \\\n",
       "181 2020-07-10 05:57:42.292   \n",
       "476 2020-07-17 05:53:55.311   \n",
       "\n",
       "                                                  text      type  isActive  \\\n",
       "181  Hi All,   So good to connect with you all. I a...  QUESTION      True   \n",
       "476  Hello everyone, In the view of contributing to...      POST      True   \n",
       "\n",
       "     isPrimary                                         text_clean  \\\n",
       "181       True  hi good connect looking inputs regarding situa...   \n",
       "476       True  hello everyone view contributing welfare farme...   \n",
       "\n",
       "     hashtag_count                           hashtag_list  \n",
       "181              3  career-growth,starting-out,networking  \n",
       "476              3    starting-out,networking,inspiration  "
      ]
     },
     "execution_count": 69,
     "metadata": {},
     "output_type": "execute_result"
    }
   ],
   "source": [
    "test_rollup = test.groupby(['contentId', 'authorId_content', 'createdAt', 'text', 'type', 'isActive', 'isPrimary', 'text_clean'])['hashtag'].agg([('hashtag_count','count'), ('hashtag_list', ','.join)]).reset_index()\n",
    "print(test_rollup.shape)\n",
    "test_rollup.sort_values(['hashtag_count'],ascending=False).head(2)"
   ]
  },
  {
   "cell_type": "code",
   "execution_count": null,
   "metadata": {},
   "outputs": [],
   "source": []
  },
  {
   "cell_type": "code",
   "execution_count": 70,
   "metadata": {},
   "outputs": [],
   "source": [
    "train_x = train_df['text_clean']\n",
    "train_y = train_df['hashtag']\n",
    "valid_x = validation_rollup['text_clean']\n",
    "valid_y = validation_rollup['hashtag_list']\n",
    "test_x = test_rollup['text_clean']\n",
    "test_y = test_rollup['hashtag_list']"
   ]
  },
  {
   "cell_type": "code",
   "execution_count": 71,
   "metadata": {},
   "outputs": [],
   "source": [
    "# label encode the target variable \n",
    "encoder = preprocessing.LabelEncoder()\n",
    "train_y_enc = encoder.fit_transform(train_y)"
   ]
  },
  {
   "cell_type": "code",
   "execution_count": 72,
   "metadata": {},
   "outputs": [],
   "source": [
    "mapping = pd.DataFrame({'hashtag':train_y, 'hashtag_encoding':train_y_enc})\n",
    "mapping = mapping.drop_duplicates()\n",
    "mapping.sort_values(['hashtag_encoding'])\n",
    "mapping.to_csv(os.getcwd() + '/Model_Output/encoder_mapping.csv', index=False)"
   ]
  },
  {
   "cell_type": "code",
   "execution_count": null,
   "metadata": {},
   "outputs": [],
   "source": []
  },
  {
   "cell_type": "markdown",
   "metadata": {},
   "source": [
    "# Feature Creation"
   ]
  },
  {
   "cell_type": "code",
   "execution_count": 73,
   "metadata": {},
   "outputs": [],
   "source": [
    "text_for_feature = train['text_clean']"
   ]
  },
  {
   "cell_type": "code",
   "execution_count": 90,
   "metadata": {},
   "outputs": [],
   "source": [
    "def feature_creation_func(feature_type):\n",
    "    if(feature_type == 'Count Vectorizer'):\n",
    "        # create a count vectorizer object \n",
    "        count_vect = CountVectorizer(analyzer='word', token_pattern=r'\\w{1,}')\n",
    "        count_vect.fit(text_for_feature)\n",
    "        # transform the training and validation data using count vectorizer object\n",
    "        xtrain_feature =  count_vect.transform(train_x)\n",
    "        xvalid_feature =  count_vect.transform(valid_x)\n",
    "        xtest_feature = count_vect.transform(test_x)\n",
    "        pickle.dump(count_vect, open(os.getcwd() + '/Model_Output/feature_transformer.pkl', \"wb\"))\n",
    "    \n",
    "    if(feature_type == 'Word TFIDF'):\n",
    "        # word level tf-idf\n",
    "        tfidf_vect = TfidfVectorizer(analyzer='word', token_pattern=r'\\w{1,}', max_features=5000)\n",
    "        tfidf_vect.fit(text_for_feature)\n",
    "        xtrain_feature =  tfidf_vect.transform(train_x)\n",
    "        xvalid_feature =  tfidf_vect.transform(valid_x)\n",
    "        xtest_feature = tfidf_vect.transform(test_x)\n",
    "        pickle.dump(tfidf_vect, open(os.getcwd() + '/Model_Output/feature_transformer.pkl', \"wb\"))\n",
    "        \n",
    "    if(feature_type == 'N-gram TFIDF'):\n",
    "        # ngram level tf-idf \n",
    "        tfidf_vect_ngram = TfidfVectorizer(analyzer='word', token_pattern=r'\\w{1,}', ngram_range=(2,3), max_features=5000)\n",
    "        tfidf_vect_ngram.fit(text_for_feature)\n",
    "        xtrain_feature =  tfidf_vect_ngram.transform(train_x)\n",
    "        xvalid_feature =  tfidf_vect_ngram.transform(valid_x)\n",
    "        xtest_feature =  tfidf_vect_ngram.transform(test_x)\n",
    "        pickle.dump(tfidf_vect_ngram, open(os.getcwd() + '/Model_Output/feature_transformer.pkl', \"wb\"))\n",
    "        \n",
    "    if(feature_type == 'Character TFIDF'):\n",
    "        # characters level tf-idf\n",
    "        tfidf_vect_ngram_chars = TfidfVectorizer(analyzer='char', token_pattern=r'\\w{1,}', ngram_range=(2,3), max_features=5000)\n",
    "        tfidf_vect_ngram_chars.fit(text_for_feature)\n",
    "        xtrain_feature =  tfidf_vect_ngram_chars.transform(train_x) \n",
    "        xvalid_feature =  tfidf_vect_ngram_chars.transform(valid_x) \n",
    "        xtest_feature =  tfidf_vect_ngram_chars.transform(test_x)\n",
    "        pickle.dump(tfidf_vect_ngram_chars, open(os.getcwd() + '/Model_Output/feature_transformer.pkl', \"wb\"))\n",
    "        \n",
    "    return(xtrain_feature, xvalid_feature, xtest_feature)"
   ]
  },
  {
   "cell_type": "code",
   "execution_count": 76,
   "metadata": {},
   "outputs": [],
   "source": [
    "FEATURE_TYPE = 'Word TFIDF'\n",
    "xtrain_var, xvalid_var, xtest_var = feature_creation_func(FEATURE_TYPE)"
   ]
  },
  {
   "cell_type": "markdown",
   "metadata": {},
   "source": [
    "# Model Building"
   ]
  },
  {
   "cell_type": "markdown",
   "metadata": {},
   "source": [
    "### Shallow Neural Networks"
   ]
  },
  {
   "cell_type": "code",
   "execution_count": 77,
   "metadata": {},
   "outputs": [],
   "source": [
    "def create_model_architecture(input_size):\n",
    "    # create input layer \n",
    "    input_layer = layers.Input((input_size, ), sparse=True)\n",
    "    \n",
    "    # create hidden layer\n",
    "    hidden_layer = layers.Dense(1000, activation=\"relu\")(input_layer)\n",
    "    \n",
    "    # create output layer\n",
    "    output_layer = layers.Dense(mapping.shape[0], activation=\"softmax\")(hidden_layer)\n",
    "\n",
    "    classifier = models.Model(inputs = input_layer, outputs = output_layer)\n",
    "    classifier.compile(optimizer=optimizers.Adam(), loss='binary_crossentropy')\n",
    "    return(classifier)"
   ]
  },
  {
   "cell_type": "code",
   "execution_count": 78,
   "metadata": {},
   "outputs": [],
   "source": [
    "#train_y_onehot_enc = pd.get_dummies(train_y_enc)\n",
    "#classifier = create_model_architecture(xtrain_var.shape[1])\n",
    "#classifier.fit(xtrain_var, train_y_onehot_enc, epochs=5)\n",
    "#prob_predictions = classifier.predict(xvalid_var)"
   ]
  },
  {
   "cell_type": "markdown",
   "metadata": {},
   "source": [
    "### All Models"
   ]
  },
  {
   "cell_type": "code",
   "execution_count": 79,
   "metadata": {},
   "outputs": [],
   "source": [
    "def build_model(model_name):\n",
    "    #Naive Bayes Model\n",
    "    if(model_name == 'Naive Bayes'):\n",
    "        model = naive_bayes.MultinomialNB()\n",
    "        model.fit(xtrain_var, train_y_enc)\n",
    "    \n",
    "    #SVM Model\n",
    "    if(model_name == 'SVM'):\n",
    "        model = svm.SVC(probability=True)\n",
    "        model.fit(xtrain_var, train_y_enc)\n",
    "    \n",
    "    #Random Forest Model\n",
    "    if(model_name == 'Random Forest'):\n",
    "        model = ensemble.RandomForestClassifier()\n",
    "        model.fit(xtrain_var, train_y_enc)\n",
    "    \n",
    "    #XGBoost Model\n",
    "    if(model_name == 'XGBoost'):\n",
    "        model = xgboost.XGBClassifier()\n",
    "        model.fit(xtrain_var, train_y_enc)\n",
    "    \n",
    "    #Shallow Neural Networks Model\n",
    "    if(model_name == 'Shallow Neural Networks'):\n",
    "        train_y_onehot_enc = pd.get_dummies(train_y_enc)\n",
    "        \n",
    "        model = create_model_architecture(xtrain_var.shape[1])\n",
    "        model.fit(xtrain_var, train_y_onehot_enc, epochs=5)\n",
    "    \n",
    "    return(model)"
   ]
  },
  {
   "cell_type": "code",
   "execution_count": 80,
   "metadata": {
    "scrolled": true
   },
   "outputs": [],
   "source": [
    "MODEL_NAME = model_type\n",
    "classifier = build_model(MODEL_NAME)"
   ]
  },
  {
   "cell_type": "code",
   "execution_count": null,
   "metadata": {
    "scrolled": true
   },
   "outputs": [],
   "source": []
  },
  {
   "cell_type": "code",
   "execution_count": 82,
   "metadata": {},
   "outputs": [],
   "source": [
    "#weight = classifier.get_weights()\n",
    "pklfile= os.getcwd() + '/Model_Output/model_file.pkl'\n",
    "\n",
    "try:\n",
    "    fpkl= open(pklfile, 'wb')    #Python 3     \n",
    "    pickle.dump(classifier, fpkl, protocol= pickle.HIGHEST_PROTOCOL)\n",
    "    fpkl.close()\n",
    "except:\n",
    "    fpkl= open(pklfile, 'w')    #Python 2      \n",
    "    pickle.dump(classifier, fpkl, protocol= pickle.HIGHEST_PROTOCOL)\n",
    "    fpkl.close()"
   ]
  },
  {
   "cell_type": "code",
   "execution_count": 83,
   "metadata": {},
   "outputs": [],
   "source": [
    "with open(os.getcwd() + '/Model_Output/model_file.pkl', 'rb') as f:\n",
    "    classifier = pickle.load(f)"
   ]
  },
  {
   "cell_type": "code",
   "execution_count": null,
   "metadata": {},
   "outputs": [],
   "source": []
  },
  {
   "cell_type": "code",
   "execution_count": null,
   "metadata": {},
   "outputs": [],
   "source": []
  },
  {
   "cell_type": "code",
   "execution_count": null,
   "metadata": {},
   "outputs": [],
   "source": []
  },
  {
   "cell_type": "markdown",
   "metadata": {},
   "source": [
    "# Prediction for Accuracy"
   ]
  },
  {
   "cell_type": "code",
   "execution_count": 84,
   "metadata": {},
   "outputs": [],
   "source": [
    "def prediction_accuracy_func(model_name, x_var, measurement_df):\n",
    "    if(model_name == 'Shallow Neural Networks'):\n",
    "        prob_predictions = classifier.predict(x_var)\n",
    "    else:\n",
    "        prob_predictions = classifier.predict_proba(x_var)\n",
    "        \n",
    "    print(\"Evaluating: \", model_name)\n",
    "    prob_prediction_df = pd.DataFrame(prob_predictions)\n",
    "    print(\"prob_prediction_df\", prob_prediction_df.shape)\n",
    "    prob_prediction_df['contentId'] = list(measurement_df['contentId'])\n",
    "    \n",
    "    prob_prediction_df_long = pd.melt(prob_prediction_df, id_vars='contentId', value_vars=range(mapping.shape[0]))\n",
    "    prob_prediction_df_long.columns = ['contentId', 'hashtag_encoding', 'predicted_prob']\n",
    "    prob_prediction_df_long['hashtag_rank'] = prob_prediction_df_long.groupby(['contentId'])['predicted_prob'].rank(ascending=False, method = 'first')\n",
    "    prob_prediction_df_long = prob_prediction_df_long.sort_values(['contentId', 'hashtag_rank'])\n",
    "    prob_prediction_df_long = pd.merge(prob_prediction_df_long, mapping, how = 'left', on = 'hashtag_encoding')\n",
    "    prob_prediction_df_long['pred_rank'] = 'pred_rank_' + prob_prediction_df_long['hashtag_rank'].astype(int).map(str)\n",
    "    prob_prediction_df_long = prob_prediction_df_long.sort_values(['contentId', 'hashtag_rank'])\n",
    "    print(\"prob_prediction_df_long\", prob_prediction_df_long.shape)\n",
    "    \n",
    "    prob_prediction_df_wide = prob_prediction_df_long.pivot_table(index = ['contentId'], columns = 'pred_rank', values = ['hashtag'], aggfunc=lambda x: ''.join(x))\n",
    "    prob_prediction_df_wide = prob_prediction_df_wide.reset_index()\n",
    "    prob_prediction_df_wide.columns = ['%s%s' % (a, '_%s' % b if b else '') for a, b in prob_prediction_df_wide.columns]\n",
    "    print(\"prob_prediction_df_wide\", prob_prediction_df_wide.shape)\n",
    "    \n",
    "    prediction_results = pd.merge(measurement_df[['contentId', 'text', 'hashtag_list', 'hashtag_count']], prob_prediction_df_wide, how = 'right', on='contentId', sort=False, copy=True)\n",
    "    print(\"prediction_results\", prediction_results.shape)\n",
    "    \n",
    "    print(\"\")\n",
    "    \n",
    "    print(\"Exact Match 1st Prediction:\", sum(prediction_results['hashtag_list'] == prediction_results['hashtag_pred_rank_1']))\n",
    "    print(\"Exact Match 2nd Prediction:\", sum(prediction_results['hashtag_list'] == prediction_results['hashtag_pred_rank_2']))\n",
    "    print(\"Exact Match 3rd Prediction:\", sum(prediction_results['hashtag_list'] == prediction_results['hashtag_pred_rank_3']))\n",
    "    print(\"Exact Match 4th Prediction:\", sum(prediction_results['hashtag_list'] == prediction_results['hashtag_pred_rank_4']))\n",
    "    print(\"Exact Match 5th Prediction:\", sum(prediction_results['hashtag_list'] == prediction_results['hashtag_pred_rank_5']))\n",
    "    \n",
    "    h_list = prediction_results['hashtag_list'].str.split(',')\n",
    "\n",
    "    top_3_pred = prediction_results[['hashtag_pred_rank_1', 'hashtag_pred_rank_2', 'hashtag_pred_rank_3']].values.tolist()\n",
    "    \n",
    "    prediction_results['matching_hashtag_ct'] = [len(set(a) & set(b)) for a,b in zip(h_list, top_3_pred)]\n",
    "    prediction_results['matching_percent'] = (prediction_results['matching_hashtag_ct']/prediction_results['hashtag_count'])*100\n",
    "    \n",
    "    pred_summary = prediction_results.groupby(['matching_percent'])['contentId'].count().reset_index()\n",
    "    pred_summary['content_proportion'] = (pred_summary['contentId']/sum(pred_summary['contentId']))*100\n",
    "    pred_summary.sort_values(['matching_percent'], ascending=False)\n",
    "    \n",
    "    pred_summary_by_hash_ct = prediction_results.groupby(['matching_percent', 'hashtag_count'])['contentId'].count().reset_index()\n",
    "    pred_summary_by_hash_ct.sort_values(['hashtag_count', 'matching_percent'], ascending=False)\n",
    "    \n",
    "    return(pred_summary, pred_summary_by_hash_ct, prediction_results)\n"
   ]
  },
  {
   "cell_type": "code",
   "execution_count": 85,
   "metadata": {},
   "outputs": [
    {
     "name": "stdout",
     "output_type": "stream",
     "text": [
      "Evaluating:  XGBoost\n",
      "prob_prediction_df (901, 12)\n",
      "prob_prediction_df_long (10812, 6)\n",
      "prob_prediction_df_wide (901, 13)\n",
      "prediction_results (901, 16)\n",
      "\n",
      "Exact Match 1st Prediction: 209\n",
      "Exact Match 2nd Prediction: 115\n",
      "Exact Match 3rd Prediction: 80\n",
      "Exact Match 4th Prediction: 48\n",
      "Exact Match 5th Prediction: 32\n",
      "---------------------------------------------------------------------------------------\n",
      "Validation Data Accuracy\n",
      "   matching_percent  contentId  content_proportion\n",
      "0          0.000000        145           16.093230\n",
      "1         33.333333         58            6.437292\n",
      "2         50.000000         70            7.769145\n",
      "3         60.000000          1            0.110988\n",
      "4         66.666667        101           11.209767\n",
      "5        100.000000        526           58.379578\n"
     ]
    }
   ],
   "source": [
    "pred_summary_valid, pred_summary_by_hash_ct_valid, prediction_results_valid = prediction_accuracy_func(MODEL_NAME, xvalid_var, validation_rollup)\n",
    "print(\"---------------------------------------------------------------------------------------\")\n",
    "print(\"Validation Data Accuracy\")\n",
    "print(pred_summary_valid)"
   ]
  },
  {
   "cell_type": "code",
   "execution_count": 86,
   "metadata": {},
   "outputs": [
    {
     "name": "stdout",
     "output_type": "stream",
     "text": [
      "    matching_percent  hashtag_count  contentId\n",
      "0           0.000000              1        126\n",
      "1           0.000000              2         12\n",
      "2           0.000000              3          7\n",
      "3          33.333333              3         58\n",
      "4          50.000000              2         64\n",
      "5          50.000000              4          6\n",
      "6          60.000000              5          1\n",
      "7          66.666667              3        101\n",
      "8         100.000000              1        404\n",
      "9         100.000000              2         71\n",
      "10        100.000000              3         51\n"
     ]
    }
   ],
   "source": [
    "print(pred_summary_by_hash_ct_valid)"
   ]
  },
  {
   "cell_type": "code",
   "execution_count": 87,
   "metadata": {},
   "outputs": [
    {
     "data": {
      "text/html": [
       "<div>\n",
       "<style scoped>\n",
       "    .dataframe tbody tr th:only-of-type {\n",
       "        vertical-align: middle;\n",
       "    }\n",
       "\n",
       "    .dataframe tbody tr th {\n",
       "        vertical-align: top;\n",
       "    }\n",
       "\n",
       "    .dataframe thead th {\n",
       "        text-align: right;\n",
       "    }\n",
       "</style>\n",
       "<table border=\"1\" class=\"dataframe\">\n",
       "  <thead>\n",
       "    <tr style=\"text-align: right;\">\n",
       "      <th></th>\n",
       "      <th>contentId</th>\n",
       "      <th>text</th>\n",
       "      <th>hashtag_list</th>\n",
       "      <th>hashtag_count</th>\n",
       "      <th>hashtag_pred_rank_1</th>\n",
       "      <th>hashtag_pred_rank_10</th>\n",
       "      <th>hashtag_pred_rank_11</th>\n",
       "      <th>hashtag_pred_rank_12</th>\n",
       "      <th>hashtag_pred_rank_2</th>\n",
       "      <th>hashtag_pred_rank_3</th>\n",
       "      <th>hashtag_pred_rank_4</th>\n",
       "      <th>hashtag_pred_rank_5</th>\n",
       "      <th>hashtag_pred_rank_6</th>\n",
       "      <th>hashtag_pred_rank_7</th>\n",
       "      <th>hashtag_pred_rank_8</th>\n",
       "      <th>hashtag_pred_rank_9</th>\n",
       "      <th>matching_hashtag_ct</th>\n",
       "      <th>matching_percent</th>\n",
       "    </tr>\n",
       "  </thead>\n",
       "  <tbody>\n",
       "    <tr>\n",
       "      <th>0</th>\n",
       "      <td>5ef046df8f7b6900229e3aae</td>\n",
       "      <td>Hey everyone, I am an experienced Content Writ...</td>\n",
       "      <td>career-growth</td>\n",
       "      <td>1</td>\n",
       "      <td>career-growth</td>\n",
       "      <td>all-things-legal</td>\n",
       "      <td>motherhood</td>\n",
       "      <td>IamHiring</td>\n",
       "      <td>networking</td>\n",
       "      <td>starting-out</td>\n",
       "      <td>marketingQueries</td>\n",
       "      <td>inspiration</td>\n",
       "      <td>career-switch</td>\n",
       "      <td>speaking-out</td>\n",
       "      <td>Finance</td>\n",
       "      <td>selfcare</td>\n",
       "      <td>1</td>\n",
       "      <td>100.0</td>\n",
       "    </tr>\n",
       "    <tr>\n",
       "      <th>1</th>\n",
       "      <td>5e958ecfbdca200024b49ecc</td>\n",
       "      <td>Hi I am looking for a part-time teaching job I...</td>\n",
       "      <td>career-switch,career-growth</td>\n",
       "      <td>2</td>\n",
       "      <td>career-growth</td>\n",
       "      <td>motherhood</td>\n",
       "      <td>all-things-legal</td>\n",
       "      <td>IamHiring</td>\n",
       "      <td>starting-out</td>\n",
       "      <td>career-switch</td>\n",
       "      <td>Finance</td>\n",
       "      <td>networking</td>\n",
       "      <td>marketingQueries</td>\n",
       "      <td>speaking-out</td>\n",
       "      <td>inspiration</td>\n",
       "      <td>selfcare</td>\n",
       "      <td>2</td>\n",
       "      <td>100.0</td>\n",
       "    </tr>\n",
       "    <tr>\n",
       "      <th>2</th>\n",
       "      <td>5df72253d092c700162032b9</td>\n",
       "      <td>Pretending To Play Nice At Work To Appear More...</td>\n",
       "      <td>speaking-out</td>\n",
       "      <td>1</td>\n",
       "      <td>career-growth</td>\n",
       "      <td>motherhood</td>\n",
       "      <td>all-things-legal</td>\n",
       "      <td>IamHiring</td>\n",
       "      <td>speaking-out</td>\n",
       "      <td>starting-out</td>\n",
       "      <td>inspiration</td>\n",
       "      <td>selfcare</td>\n",
       "      <td>networking</td>\n",
       "      <td>marketingQueries</td>\n",
       "      <td>career-switch</td>\n",
       "      <td>Finance</td>\n",
       "      <td>1</td>\n",
       "      <td>100.0</td>\n",
       "    </tr>\n",
       "    <tr>\n",
       "      <th>3</th>\n",
       "      <td>5ea12718fc66110044584ca5</td>\n",
       "      <td>How to improve your writing style and make you...</td>\n",
       "      <td>inspiration</td>\n",
       "      <td>1</td>\n",
       "      <td>starting-out</td>\n",
       "      <td>motherhood</td>\n",
       "      <td>all-things-legal</td>\n",
       "      <td>IamHiring</td>\n",
       "      <td>career-growth</td>\n",
       "      <td>networking</td>\n",
       "      <td>inspiration</td>\n",
       "      <td>marketingQueries</td>\n",
       "      <td>career-switch</td>\n",
       "      <td>Finance</td>\n",
       "      <td>speaking-out</td>\n",
       "      <td>selfcare</td>\n",
       "      <td>0</td>\n",
       "      <td>0.0</td>\n",
       "    </tr>\n",
       "    <tr>\n",
       "      <th>4</th>\n",
       "      <td>5ebcecb2981c7100228932bd</td>\n",
       "      <td>Few week back, few koolkanyas were asking abou...</td>\n",
       "      <td>inspiration,speaking-out</td>\n",
       "      <td>2</td>\n",
       "      <td>speaking-out</td>\n",
       "      <td>Finance</td>\n",
       "      <td>all-things-legal</td>\n",
       "      <td>IamHiring</td>\n",
       "      <td>starting-out</td>\n",
       "      <td>career-growth</td>\n",
       "      <td>networking</td>\n",
       "      <td>marketingQueries</td>\n",
       "      <td>inspiration</td>\n",
       "      <td>selfcare</td>\n",
       "      <td>career-switch</td>\n",
       "      <td>motherhood</td>\n",
       "      <td>1</td>\n",
       "      <td>50.0</td>\n",
       "    </tr>\n",
       "  </tbody>\n",
       "</table>\n",
       "</div>"
      ],
      "text/plain": [
       "                  contentId  \\\n",
       "0  5ef046df8f7b6900229e3aae   \n",
       "1  5e958ecfbdca200024b49ecc   \n",
       "2  5df72253d092c700162032b9   \n",
       "3  5ea12718fc66110044584ca5   \n",
       "4  5ebcecb2981c7100228932bd   \n",
       "\n",
       "                                                text  \\\n",
       "0  Hey everyone, I am an experienced Content Writ...   \n",
       "1  Hi I am looking for a part-time teaching job I...   \n",
       "2  Pretending To Play Nice At Work To Appear More...   \n",
       "3  How to improve your writing style and make you...   \n",
       "4  Few week back, few koolkanyas were asking abou...   \n",
       "\n",
       "                  hashtag_list  hashtag_count hashtag_pred_rank_1  \\\n",
       "0                career-growth              1       career-growth   \n",
       "1  career-switch,career-growth              2       career-growth   \n",
       "2                 speaking-out              1       career-growth   \n",
       "3                  inspiration              1        starting-out   \n",
       "4     inspiration,speaking-out              2        speaking-out   \n",
       "\n",
       "  hashtag_pred_rank_10 hashtag_pred_rank_11 hashtag_pred_rank_12  \\\n",
       "0     all-things-legal           motherhood            IamHiring   \n",
       "1           motherhood     all-things-legal            IamHiring   \n",
       "2           motherhood     all-things-legal            IamHiring   \n",
       "3           motherhood     all-things-legal            IamHiring   \n",
       "4              Finance     all-things-legal            IamHiring   \n",
       "\n",
       "  hashtag_pred_rank_2 hashtag_pred_rank_3 hashtag_pred_rank_4  \\\n",
       "0          networking        starting-out    marketingQueries   \n",
       "1        starting-out       career-switch             Finance   \n",
       "2        speaking-out        starting-out         inspiration   \n",
       "3       career-growth          networking         inspiration   \n",
       "4        starting-out       career-growth          networking   \n",
       "\n",
       "  hashtag_pred_rank_5 hashtag_pred_rank_6 hashtag_pred_rank_7  \\\n",
       "0         inspiration       career-switch        speaking-out   \n",
       "1          networking    marketingQueries        speaking-out   \n",
       "2            selfcare          networking    marketingQueries   \n",
       "3    marketingQueries       career-switch             Finance   \n",
       "4    marketingQueries         inspiration            selfcare   \n",
       "\n",
       "  hashtag_pred_rank_8 hashtag_pred_rank_9  matching_hashtag_ct  \\\n",
       "0             Finance            selfcare                    1   \n",
       "1         inspiration            selfcare                    2   \n",
       "2       career-switch             Finance                    1   \n",
       "3        speaking-out            selfcare                    0   \n",
       "4       career-switch          motherhood                    1   \n",
       "\n",
       "   matching_percent  \n",
       "0             100.0  \n",
       "1             100.0  \n",
       "2             100.0  \n",
       "3               0.0  \n",
       "4              50.0  "
      ]
     },
     "execution_count": 87,
     "metadata": {},
     "output_type": "execute_result"
    }
   ],
   "source": [
    "prediction_results_valid.head()"
   ]
  },
  {
   "cell_type": "code",
   "execution_count": 88,
   "metadata": {},
   "outputs": [
    {
     "name": "stdout",
     "output_type": "stream",
     "text": [
      "Evaluating:  XGBoost\n",
      "prob_prediction_df (541, 12)\n",
      "prob_prediction_df_long (6492, 6)\n",
      "prob_prediction_df_wide (541, 13)\n",
      "prediction_results (541, 16)\n",
      "\n",
      "Exact Match 1st Prediction: 92\n",
      "Exact Match 2nd Prediction: 52\n",
      "Exact Match 3rd Prediction: 56\n",
      "Exact Match 4th Prediction: 25\n",
      "Exact Match 5th Prediction: 15\n",
      "---------------------------------------------------------------------------------------\n",
      "Test Data Accuracy\n",
      "   matching_percent  contentId  content_proportion\n",
      "0          0.000000         96           17.744917\n",
      "1         33.333333         51            9.426987\n",
      "2         50.000000         48            8.872458\n",
      "3         66.666667         72           13.308688\n",
      "4        100.000000        274           50.646950\n"
     ]
    }
   ],
   "source": [
    "pred_summary_test, pred_summary_by_hash_ct_test, prediction_results_test = prediction_accuracy_func(MODEL_NAME, xtest_var, test_rollup)\n",
    "print(\"---------------------------------------------------------------------------------------\")\n",
    "print(\"Test Data Accuracy\")\n",
    "print(pred_summary_test)"
   ]
  },
  {
   "cell_type": "code",
   "execution_count": 89,
   "metadata": {},
   "outputs": [
    {
     "name": "stdout",
     "output_type": "stream",
     "text": [
      "   matching_percent  hashtag_count  contentId\n",
      "0          0.000000              1         84\n",
      "1          0.000000              2          7\n",
      "2          0.000000              3          5\n",
      "3         33.333333              3         51\n",
      "4         50.000000              2         48\n",
      "5         66.666667              3         72\n",
      "6        100.000000              1        200\n",
      "7        100.000000              2         51\n",
      "8        100.000000              3         23\n"
     ]
    }
   ],
   "source": [
    "print(pred_summary_by_hash_ct_test)"
   ]
  },
  {
   "cell_type": "code",
   "execution_count": null,
   "metadata": {},
   "outputs": [],
   "source": []
  }
 ],
 "metadata": {
  "kernelspec": {
   "display_name": "conda_tensorflow_p36",
   "language": "python",
   "name": "conda_tensorflow_p36"
  },
  "language_info": {
   "codemirror_mode": {
    "name": "ipython",
    "version": 3
   },
   "file_extension": ".py",
   "mimetype": "text/x-python",
   "name": "python",
   "nbconvert_exporter": "python",
   "pygments_lexer": "ipython3",
   "version": "3.6.10"
  }
 },
 "nbformat": 4,
 "nbformat_minor": 4
}
