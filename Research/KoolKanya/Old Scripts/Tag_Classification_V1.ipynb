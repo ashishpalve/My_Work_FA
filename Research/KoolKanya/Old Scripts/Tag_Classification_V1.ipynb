{
 "cells": [
  {
   "cell_type": "code",
   "execution_count": 1,
   "metadata": {},
   "outputs": [],
   "source": [
    "import nltk"
   ]
  },
  {
   "cell_type": "code",
   "execution_count": 2,
   "metadata": {},
   "outputs": [
    {
     "name": "stdout",
     "output_type": "stream",
     "text": [
      "[nltk_data] Downloading package punkt to /home/ec2-user/nltk_data...\n",
      "[nltk_data]   Package punkt is already up-to-date!\n"
     ]
    },
    {
     "data": {
      "text/plain": [
       "True"
      ]
     },
     "execution_count": 2,
     "metadata": {},
     "output_type": "execute_result"
    }
   ],
   "source": [
    "nltk.download('punkt')"
   ]
  },
  {
   "cell_type": "code",
   "execution_count": 3,
   "metadata": {},
   "outputs": [],
   "source": [
    "import os\n",
    "import warnings\n",
    "import pandas as pd\n",
    "import numpy as np"
   ]
  },
  {
   "cell_type": "code",
   "execution_count": 4,
   "metadata": {},
   "outputs": [],
   "source": [
    "from nltk.tokenize import word_tokenize\n",
    "from string import punctuation\n",
    "from nltk.corpus import stopwords\n",
    "\n",
    "from sklearn import model_selection, preprocessing, linear_model, naive_bayes, metrics, svm\n",
    "from sklearn.feature_extraction.text import TfidfVectorizer, CountVectorizer\n",
    "from sklearn import decomposition, ensemble"
   ]
  },
  {
   "cell_type": "code",
   "execution_count": 5,
   "metadata": {},
   "outputs": [
    {
     "name": "stdout",
     "output_type": "stream",
     "text": [
      "(10776, 11)\n"
     ]
    },
    {
     "data": {
      "text/html": [
       "<div>\n",
       "<style scoped>\n",
       "    .dataframe tbody tr th:only-of-type {\n",
       "        vertical-align: middle;\n",
       "    }\n",
       "\n",
       "    .dataframe tbody tr th {\n",
       "        vertical-align: top;\n",
       "    }\n",
       "\n",
       "    .dataframe thead th {\n",
       "        text-align: right;\n",
       "    }\n",
       "</style>\n",
       "<table border=\"1\" class=\"dataframe\">\n",
       "  <thead>\n",
       "    <tr style=\"text-align: right;\">\n",
       "      <th></th>\n",
       "      <th>contentId</th>\n",
       "      <th>authorId_content</th>\n",
       "      <th>createdAt</th>\n",
       "      <th>tagIds</th>\n",
       "      <th>text</th>\n",
       "      <th>type</th>\n",
       "      <th>hashtagId</th>\n",
       "      <th>authorId_hashtag</th>\n",
       "      <th>hashtag</th>\n",
       "      <th>isActive</th>\n",
       "      <th>isPrimary</th>\n",
       "    </tr>\n",
       "  </thead>\n",
       "  <tbody>\n",
       "    <tr>\n",
       "      <th>0</th>\n",
       "      <td>5df457077e4ea600161b8e53</td>\n",
       "      <td>5df4561e7e4ea600161b8e3e</td>\n",
       "      <td>2019-12-14 03:29:11.865</td>\n",
       "      <td>5df39410b2694d0016bdb724</td>\n",
       "      <td>Hello, my name is Kalyani. I have done my bach...</td>\n",
       "      <td>QUESTION</td>\n",
       "      <td>5df39410b2694d0016bdb724</td>\n",
       "      <td>5df38de0b2694d0016bdb71f</td>\n",
       "      <td>inspiration</td>\n",
       "      <td>True</td>\n",
       "      <td>True</td>\n",
       "    </tr>\n",
       "  </tbody>\n",
       "</table>\n",
       "</div>"
      ],
      "text/plain": [
       "                  contentId          authorId_content               createdAt  \\\n",
       "0  5df457077e4ea600161b8e53  5df4561e7e4ea600161b8e3e 2019-12-14 03:29:11.865   \n",
       "\n",
       "                     tagIds  \\\n",
       "0  5df39410b2694d0016bdb724   \n",
       "\n",
       "                                                text      type  \\\n",
       "0  Hello, my name is Kalyani. I have done my bach...  QUESTION   \n",
       "\n",
       "                  hashtagId          authorId_hashtag      hashtag  isActive  \\\n",
       "0  5df39410b2694d0016bdb724  5df38de0b2694d0016bdb71f  inspiration      True   \n",
       "\n",
       "   isPrimary  \n",
       "0       True  "
      ]
     },
     "execution_count": 5,
     "metadata": {},
     "output_type": "execute_result"
    }
   ],
   "source": [
    "feed_hashtag = pd.read_csv(os.getcwd() + '/Datasets/feed_hashtag_long.csv')\n",
    "feed_hashtag['createdAt'] = pd.to_datetime(feed_hashtag['createdAt'])\n",
    "print(feed_hashtag.shape)\n",
    "feed_hashtag.head(1)"
   ]
  },
  {
   "cell_type": "code",
   "execution_count": null,
   "metadata": {},
   "outputs": [],
   "source": []
  },
  {
   "cell_type": "code",
   "execution_count": 6,
   "metadata": {},
   "outputs": [
    {
     "name": "stdout",
     "output_type": "stream",
     "text": [
      "Data Size: 2724\n",
      "Unique Content: 1708\n",
      "Unique tags: 11\n"
     ]
    }
   ],
   "source": [
    "feed_hashtag = feed_hashtag[feed_hashtag['isPrimary'] == True]\n",
    "feed_hashtag = feed_hashtag[~feed_hashtag['text'].isna()]\n",
    "print(\"Data Size:\", feed_hashtag.shape[0])\n",
    "print(\"Unique Content:\", feed_hashtag['contentId'].nunique())\n",
    "print(\"Unique tags:\", feed_hashtag['hashtag'].nunique())"
   ]
  },
  {
   "cell_type": "code",
   "execution_count": 7,
   "metadata": {},
   "outputs": [
    {
     "data": {
      "text/html": [
       "<div>\n",
       "<style scoped>\n",
       "    .dataframe tbody tr th:only-of-type {\n",
       "        vertical-align: middle;\n",
       "    }\n",
       "\n",
       "    .dataframe tbody tr th {\n",
       "        vertical-align: top;\n",
       "    }\n",
       "\n",
       "    .dataframe thead th {\n",
       "        text-align: right;\n",
       "    }\n",
       "</style>\n",
       "<table border=\"1\" class=\"dataframe\">\n",
       "  <thead>\n",
       "    <tr style=\"text-align: right;\">\n",
       "      <th></th>\n",
       "      <th>contentId</th>\n",
       "      <th>authorId_content</th>\n",
       "      <th>createdAt</th>\n",
       "      <th>tagIds</th>\n",
       "      <th>text</th>\n",
       "      <th>type</th>\n",
       "      <th>hashtagId</th>\n",
       "      <th>authorId_hashtag</th>\n",
       "      <th>hashtag</th>\n",
       "      <th>isActive</th>\n",
       "      <th>isPrimary</th>\n",
       "      <th>createDate</th>\n",
       "    </tr>\n",
       "  </thead>\n",
       "  <tbody>\n",
       "    <tr>\n",
       "      <th>0</th>\n",
       "      <td>5df457077e4ea600161b8e53</td>\n",
       "      <td>5df4561e7e4ea600161b8e3e</td>\n",
       "      <td>2019-12-14 03:29:11.865</td>\n",
       "      <td>5df39410b2694d0016bdb724</td>\n",
       "      <td>Hello, my name is Kalyani. I have done my bach...</td>\n",
       "      <td>QUESTION</td>\n",
       "      <td>5df39410b2694d0016bdb724</td>\n",
       "      <td>5df38de0b2694d0016bdb71f</td>\n",
       "      <td>inspiration</td>\n",
       "      <td>True</td>\n",
       "      <td>True</td>\n",
       "      <td>2019-12-14</td>\n",
       "    </tr>\n",
       "  </tbody>\n",
       "</table>\n",
       "</div>"
      ],
      "text/plain": [
       "                  contentId          authorId_content               createdAt  \\\n",
       "0  5df457077e4ea600161b8e53  5df4561e7e4ea600161b8e3e 2019-12-14 03:29:11.865   \n",
       "\n",
       "                     tagIds  \\\n",
       "0  5df39410b2694d0016bdb724   \n",
       "\n",
       "                                                text      type  \\\n",
       "0  Hello, my name is Kalyani. I have done my bach...  QUESTION   \n",
       "\n",
       "                  hashtagId          authorId_hashtag      hashtag  isActive  \\\n",
       "0  5df39410b2694d0016bdb724  5df38de0b2694d0016bdb71f  inspiration      True   \n",
       "\n",
       "   isPrimary  createDate  \n",
       "0       True  2019-12-14  "
      ]
     },
     "execution_count": 7,
     "metadata": {},
     "output_type": "execute_result"
    }
   ],
   "source": [
    "feed_hashtag['createDate'] = feed_hashtag['createdAt'].dt.date\n",
    "feed_hashtag.head(1)"
   ]
  },
  {
   "cell_type": "code",
   "execution_count": 8,
   "metadata": {},
   "outputs": [
    {
     "data": {
      "text/html": [
       "<div>\n",
       "<style scoped>\n",
       "    .dataframe tbody tr th:only-of-type {\n",
       "        vertical-align: middle;\n",
       "    }\n",
       "\n",
       "    .dataframe tbody tr th {\n",
       "        vertical-align: top;\n",
       "    }\n",
       "\n",
       "    .dataframe thead th {\n",
       "        text-align: right;\n",
       "    }\n",
       "</style>\n",
       "<table border=\"1\" class=\"dataframe\">\n",
       "  <thead>\n",
       "    <tr style=\"text-align: right;\">\n",
       "      <th></th>\n",
       "      <th>contentId</th>\n",
       "      <th>tagIds</th>\n",
       "    </tr>\n",
       "    <tr>\n",
       "      <th>createDate</th>\n",
       "      <th></th>\n",
       "      <th></th>\n",
       "    </tr>\n",
       "  </thead>\n",
       "  <tbody>\n",
       "    <tr>\n",
       "      <th>2019-12-12</th>\n",
       "      <td>261</td>\n",
       "      <td>262</td>\n",
       "    </tr>\n",
       "    <tr>\n",
       "      <th>2019-12-14</th>\n",
       "      <td>125</td>\n",
       "      <td>133</td>\n",
       "    </tr>\n",
       "    <tr>\n",
       "      <th>2019-12-15</th>\n",
       "      <td>2</td>\n",
       "      <td>2</td>\n",
       "    </tr>\n",
       "    <tr>\n",
       "      <th>2019-12-16</th>\n",
       "      <td>15</td>\n",
       "      <td>24</td>\n",
       "    </tr>\n",
       "    <tr>\n",
       "      <th>2019-12-17</th>\n",
       "      <td>4</td>\n",
       "      <td>8</td>\n",
       "    </tr>\n",
       "  </tbody>\n",
       "</table>\n",
       "</div>"
      ],
      "text/plain": [
       "            contentId  tagIds\n",
       "createDate                   \n",
       "2019-12-12        261     262\n",
       "2019-12-14        125     133\n",
       "2019-12-15          2       2\n",
       "2019-12-16         15      24\n",
       "2019-12-17          4       8"
      ]
     },
     "execution_count": 8,
     "metadata": {},
     "output_type": "execute_result"
    }
   ],
   "source": [
    "feed_hashtag.groupby(['createDate']).agg({'contentId':'nunique', 'tagIds':'count'}).head()"
   ]
  },
  {
   "cell_type": "code",
   "execution_count": 9,
   "metadata": {},
   "outputs": [],
   "source": [
    "feed_hashtag = feed_hashtag.sort_values(['contentId'])"
   ]
  },
  {
   "cell_type": "code",
   "execution_count": 10,
   "metadata": {},
   "outputs": [
    {
     "data": {
      "text/html": [
       "<div>\n",
       "<style scoped>\n",
       "    .dataframe tbody tr th:only-of-type {\n",
       "        vertical-align: middle;\n",
       "    }\n",
       "\n",
       "    .dataframe tbody tr th {\n",
       "        vertical-align: top;\n",
       "    }\n",
       "\n",
       "    .dataframe thead th {\n",
       "        text-align: right;\n",
       "    }\n",
       "</style>\n",
       "<table border=\"1\" class=\"dataframe\">\n",
       "  <thead>\n",
       "    <tr style=\"text-align: right;\">\n",
       "      <th></th>\n",
       "      <th>contentId</th>\n",
       "      <th>hashtag</th>\n",
       "    </tr>\n",
       "  </thead>\n",
       "  <tbody>\n",
       "    <tr>\n",
       "      <th>794</th>\n",
       "      <td>5e7cbbbbad47950024ffd35c</td>\n",
       "      <td>4</td>\n",
       "    </tr>\n",
       "    <tr>\n",
       "      <th>1322</th>\n",
       "      <td>5e92bfa9f04afc002e0974f4</td>\n",
       "      <td>4</td>\n",
       "    </tr>\n",
       "    <tr>\n",
       "      <th>1156</th>\n",
       "      <td>5e88746bbac5dc004dc55f96</td>\n",
       "      <td>4</td>\n",
       "    </tr>\n",
       "    <tr>\n",
       "      <th>861</th>\n",
       "      <td>5e7e59ec8735d5002991dd78</td>\n",
       "      <td>4</td>\n",
       "    </tr>\n",
       "    <tr>\n",
       "      <th>1148</th>\n",
       "      <td>5e883e2239bde20029d8280a</td>\n",
       "      <td>4</td>\n",
       "    </tr>\n",
       "  </tbody>\n",
       "</table>\n",
       "</div>"
      ],
      "text/plain": [
       "                     contentId  hashtag\n",
       "794   5e7cbbbbad47950024ffd35c        4\n",
       "1322  5e92bfa9f04afc002e0974f4        4\n",
       "1156  5e88746bbac5dc004dc55f96        4\n",
       "861   5e7e59ec8735d5002991dd78        4\n",
       "1148  5e883e2239bde20029d8280a        4"
      ]
     },
     "execution_count": 10,
     "metadata": {},
     "output_type": "execute_result"
    }
   ],
   "source": [
    "feed_hashtag.groupby(['contentId'])['hashtag'].count().reset_index().sort_values(['hashtag'], ascending = False).head()"
   ]
  },
  {
   "cell_type": "code",
   "execution_count": 12,
   "metadata": {},
   "outputs": [
    {
     "name": "stdout",
     "output_type": "stream",
     "text": [
      "(1708, 9)\n"
     ]
    },
    {
     "data": {
      "text/html": [
       "<div>\n",
       "<style scoped>\n",
       "    .dataframe tbody tr th:only-of-type {\n",
       "        vertical-align: middle;\n",
       "    }\n",
       "\n",
       "    .dataframe tbody tr th {\n",
       "        vertical-align: top;\n",
       "    }\n",
       "\n",
       "    .dataframe thead th {\n",
       "        text-align: right;\n",
       "    }\n",
       "</style>\n",
       "<table border=\"1\" class=\"dataframe\">\n",
       "  <thead>\n",
       "    <tr style=\"text-align: right;\">\n",
       "      <th></th>\n",
       "      <th>contentId</th>\n",
       "      <th>authorId_content</th>\n",
       "      <th>createdAt</th>\n",
       "      <th>text</th>\n",
       "      <th>type</th>\n",
       "      <th>isActive</th>\n",
       "      <th>isPrimary</th>\n",
       "      <th>hashtag_count</th>\n",
       "      <th>hashtag_list</th>\n",
       "    </tr>\n",
       "  </thead>\n",
       "  <tbody>\n",
       "    <tr>\n",
       "      <th>794</th>\n",
       "      <td>5e7cbbbbad47950024ffd35c</td>\n",
       "      <td>5e7cb9c8ad47950024ffd357</td>\n",
       "      <td>2020-03-26 14:27:07.376</td>\n",
       "      <td>Hi KoolKanyas #careeradvice  #career #engineer...</td>\n",
       "      <td>QUESTION</td>\n",
       "      <td>True</td>\n",
       "      <td>True</td>\n",
       "      <td>4</td>\n",
       "      <td>career-switch,inspiration,starting-out,career-...</td>\n",
       "    </tr>\n",
       "    <tr>\n",
       "      <th>1322</th>\n",
       "      <td>5e92bfa9f04afc002e0974f4</td>\n",
       "      <td>5e92b67680326b00285f4f42</td>\n",
       "      <td>2020-04-12 07:13:45.175</td>\n",
       "      <td>I am Janhavi . I have my own Event design and ...</td>\n",
       "      <td>POST</td>\n",
       "      <td>True</td>\n",
       "      <td>True</td>\n",
       "      <td>4</td>\n",
       "      <td>career-growth,marketingQueries,selfcare,networ...</td>\n",
       "    </tr>\n",
       "  </tbody>\n",
       "</table>\n",
       "</div>"
      ],
      "text/plain": [
       "                     contentId          authorId_content  \\\n",
       "794   5e7cbbbbad47950024ffd35c  5e7cb9c8ad47950024ffd357   \n",
       "1322  5e92bfa9f04afc002e0974f4  5e92b67680326b00285f4f42   \n",
       "\n",
       "                   createdAt  \\\n",
       "794  2020-03-26 14:27:07.376   \n",
       "1322 2020-04-12 07:13:45.175   \n",
       "\n",
       "                                                   text      type  isActive  \\\n",
       "794   Hi KoolKanyas #careeradvice  #career #engineer...  QUESTION      True   \n",
       "1322  I am Janhavi . I have my own Event design and ...      POST      True   \n",
       "\n",
       "      isPrimary  hashtag_count  \\\n",
       "794        True              4   \n",
       "1322       True              4   \n",
       "\n",
       "                                           hashtag_list  \n",
       "794   career-switch,inspiration,starting-out,career-...  \n",
       "1322  career-growth,marketingQueries,selfcare,networ...  "
      ]
     },
     "execution_count": 12,
     "metadata": {},
     "output_type": "execute_result"
    }
   ],
   "source": [
    "feed_hashtag_rollup = feed_hashtag.groupby(['contentId', 'authorId_content', 'createdAt', 'text', 'type', 'isActive', 'isPrimary'])['hashtag'].agg([('hashtag_count','count'), ('hashtag_list', ','.join)]).reset_index()\n",
    "print(feed_hashtag_rollup.shape)\n",
    "feed_hashtag_rollup.sort_values(['hashtag_count'],ascending=False).head(2)"
   ]
  },
  {
   "cell_type": "code",
   "execution_count": 13,
   "metadata": {},
   "outputs": [
    {
     "name": "stdout",
     "output_type": "stream",
     "text": [
      "train data: 2214\n",
      "test data: 510\n"
     ]
    }
   ],
   "source": [
    "train = feed_hashtag[feed_hashtag['createdAt'] <= pd.to_datetime('2020-04-16')].copy()\n",
    "print(\"train data:\", train.shape[0])\n",
    "test = feed_hashtag[feed_hashtag['createdAt'] > pd.to_datetime('2020-04-16')].copy()\n",
    "print(\"test data:\", test.shape[0])"
   ]
  },
  {
   "cell_type": "code",
   "execution_count": 14,
   "metadata": {},
   "outputs": [],
   "source": [
    "feed_token = [word_tokenize(sent.lower()) for sent in train.text]"
   ]
  },
  {
   "cell_type": "code",
   "execution_count": 15,
   "metadata": {},
   "outputs": [],
   "source": [
    "stop_punct = list(punctuation)\n",
    "stop_nltk = stopwords.words(\"english\")\n",
    "stop_updated = stop_nltk + stop_punct"
   ]
  },
  {
   "cell_type": "code",
   "execution_count": 16,
   "metadata": {},
   "outputs": [],
   "source": [
    "def del_stop(sent):\n",
    "    return [term for term in sent if term not in stop_updated]"
   ]
  },
  {
   "cell_type": "code",
   "execution_count": 17,
   "metadata": {},
   "outputs": [],
   "source": [
    "feed_token_clean = [del_stop(sent) for sent in feed_token]"
   ]
  },
  {
   "cell_type": "code",
   "execution_count": 18,
   "metadata": {},
   "outputs": [
    {
     "data": {
      "text/html": [
       "<div>\n",
       "<style scoped>\n",
       "    .dataframe tbody tr th:only-of-type {\n",
       "        vertical-align: middle;\n",
       "    }\n",
       "\n",
       "    .dataframe tbody tr th {\n",
       "        vertical-align: top;\n",
       "    }\n",
       "\n",
       "    .dataframe thead th {\n",
       "        text-align: right;\n",
       "    }\n",
       "</style>\n",
       "<table border=\"1\" class=\"dataframe\">\n",
       "  <thead>\n",
       "    <tr style=\"text-align: right;\">\n",
       "      <th></th>\n",
       "      <th>contentId</th>\n",
       "      <th>authorId_content</th>\n",
       "      <th>createdAt</th>\n",
       "      <th>tagIds</th>\n",
       "      <th>text</th>\n",
       "      <th>type</th>\n",
       "      <th>hashtagId</th>\n",
       "      <th>authorId_hashtag</th>\n",
       "      <th>hashtag</th>\n",
       "      <th>isActive</th>\n",
       "      <th>isPrimary</th>\n",
       "      <th>createDate</th>\n",
       "      <th>text_clean</th>\n",
       "    </tr>\n",
       "  </thead>\n",
       "  <tbody>\n",
       "    <tr>\n",
       "      <th>41</th>\n",
       "      <td>5df454f37e4ea600161b8e2e</td>\n",
       "      <td>5df454297e4ea600161b8e25</td>\n",
       "      <td>2019-12-14 03:20:19.029</td>\n",
       "      <td>5df39412b2694d0016bdb72b</td>\n",
       "      <td>Hi I am Shreshtha. I have been baking for the ...</td>\n",
       "      <td>QUESTION</td>\n",
       "      <td>5df39412b2694d0016bdb72b</td>\n",
       "      <td>5df38de0b2694d0016bdb71f</td>\n",
       "      <td>career-growth</td>\n",
       "      <td>True</td>\n",
       "      <td>True</td>\n",
       "      <td>2019-12-14</td>\n",
       "      <td>hi shreshtha baking last 5 years brand associa...</td>\n",
       "    </tr>\n",
       "  </tbody>\n",
       "</table>\n",
       "</div>"
      ],
      "text/plain": [
       "                   contentId          authorId_content  \\\n",
       "41  5df454f37e4ea600161b8e2e  5df454297e4ea600161b8e25   \n",
       "\n",
       "                 createdAt                    tagIds  \\\n",
       "41 2019-12-14 03:20:19.029  5df39412b2694d0016bdb72b   \n",
       "\n",
       "                                                 text      type  \\\n",
       "41  Hi I am Shreshtha. I have been baking for the ...  QUESTION   \n",
       "\n",
       "                   hashtagId          authorId_hashtag        hashtag  \\\n",
       "41  5df39412b2694d0016bdb72b  5df38de0b2694d0016bdb71f  career-growth   \n",
       "\n",
       "    isActive  isPrimary  createDate  \\\n",
       "41      True       True  2019-12-14   \n",
       "\n",
       "                                           text_clean  \n",
       "41  hi shreshtha baking last 5 years brand associa...  "
      ]
     },
     "execution_count": 18,
     "metadata": {},
     "output_type": "execute_result"
    }
   ],
   "source": [
    "train['text_clean'] = [\" \".join(sent) for sent in feed_token_clean]\n",
    "train.head(1)"
   ]
  },
  {
   "cell_type": "code",
   "execution_count": 19,
   "metadata": {},
   "outputs": [],
   "source": [
    "# split the dataset into training and validation datasets \n",
    "train_x, valid_x, train_y, valid_y = model_selection.train_test_split(train['text_clean'], train['hashtag'])"
   ]
  },
  {
   "cell_type": "code",
   "execution_count": 20,
   "metadata": {},
   "outputs": [],
   "source": [
    "# label encode the target variable \n",
    "encoder = preprocessing.LabelEncoder()\n",
    "train_y_enc = encoder.fit_transform(train_y)\n",
    "valid_y_enc = encoder.fit_transform(valid_y)"
   ]
  },
  {
   "cell_type": "code",
   "execution_count": 21,
   "metadata": {
    "scrolled": true
   },
   "outputs": [
    {
     "data": {
      "text/html": [
       "<div>\n",
       "<style scoped>\n",
       "    .dataframe tbody tr th:only-of-type {\n",
       "        vertical-align: middle;\n",
       "    }\n",
       "\n",
       "    .dataframe tbody tr th {\n",
       "        vertical-align: top;\n",
       "    }\n",
       "\n",
       "    .dataframe thead th {\n",
       "        text-align: right;\n",
       "    }\n",
       "</style>\n",
       "<table border=\"1\" class=\"dataframe\">\n",
       "  <thead>\n",
       "    <tr style=\"text-align: right;\">\n",
       "      <th></th>\n",
       "      <th>hashtag</th>\n",
       "      <th>hashtag_encoding</th>\n",
       "    </tr>\n",
       "  </thead>\n",
       "  <tbody>\n",
       "    <tr>\n",
       "      <th>1872</th>\n",
       "      <td>Finance</td>\n",
       "      <td>0</td>\n",
       "    </tr>\n",
       "    <tr>\n",
       "      <th>8007</th>\n",
       "      <td>all-things-legal</td>\n",
       "      <td>1</td>\n",
       "    </tr>\n",
       "    <tr>\n",
       "      <th>10469</th>\n",
       "      <td>career-growth</td>\n",
       "      <td>2</td>\n",
       "    </tr>\n",
       "    <tr>\n",
       "      <th>9209</th>\n",
       "      <td>career-switch</td>\n",
       "      <td>3</td>\n",
       "    </tr>\n",
       "    <tr>\n",
       "      <th>10387</th>\n",
       "      <td>inspiration</td>\n",
       "      <td>4</td>\n",
       "    </tr>\n",
       "    <tr>\n",
       "      <th>4261</th>\n",
       "      <td>marketingQueries</td>\n",
       "      <td>5</td>\n",
       "    </tr>\n",
       "    <tr>\n",
       "      <th>5206</th>\n",
       "      <td>motherhood</td>\n",
       "      <td>6</td>\n",
       "    </tr>\n",
       "    <tr>\n",
       "      <th>10633</th>\n",
       "      <td>networking</td>\n",
       "      <td>7</td>\n",
       "    </tr>\n",
       "    <tr>\n",
       "      <th>8771</th>\n",
       "      <td>selfcare</td>\n",
       "      <td>8</td>\n",
       "    </tr>\n",
       "    <tr>\n",
       "      <th>5132</th>\n",
       "      <td>speaking-out</td>\n",
       "      <td>9</td>\n",
       "    </tr>\n",
       "    <tr>\n",
       "      <th>10348</th>\n",
       "      <td>starting-out</td>\n",
       "      <td>10</td>\n",
       "    </tr>\n",
       "  </tbody>\n",
       "</table>\n",
       "</div>"
      ],
      "text/plain": [
       "                hashtag  hashtag_encoding\n",
       "1872            Finance                 0\n",
       "8007   all-things-legal                 1\n",
       "10469     career-growth                 2\n",
       "9209      career-switch                 3\n",
       "10387       inspiration                 4\n",
       "4261   marketingQueries                 5\n",
       "5206         motherhood                 6\n",
       "10633        networking                 7\n",
       "8771           selfcare                 8\n",
       "5132       speaking-out                 9\n",
       "10348      starting-out                10"
      ]
     },
     "execution_count": 21,
     "metadata": {},
     "output_type": "execute_result"
    }
   ],
   "source": [
    "mapping = pd.DataFrame({'hashtag':train_y, 'hashtag_encoding':train_y_enc})\n",
    "mapping = mapping.drop_duplicates()\n",
    "mapping.sort_values(['hashtag_encoding'])"
   ]
  },
  {
   "cell_type": "code",
   "execution_count": null,
   "metadata": {},
   "outputs": [],
   "source": []
  },
  {
   "cell_type": "markdown",
   "metadata": {},
   "source": [
    "# Count Vectorizer as Features"
   ]
  },
  {
   "cell_type": "code",
   "execution_count": 22,
   "metadata": {},
   "outputs": [
    {
     "data": {
      "text/plain": [
       "CountVectorizer(analyzer='word', binary=False, decode_error='strict',\n",
       "        dtype=<class 'numpy.int64'>, encoding='utf-8', input='content',\n",
       "        lowercase=True, max_df=1.0, max_features=None, min_df=1,\n",
       "        ngram_range=(1, 1), preprocessor=None, stop_words=None,\n",
       "        strip_accents=None, token_pattern='\\\\w{1,}', tokenizer=None,\n",
       "        vocabulary=None)"
      ]
     },
     "execution_count": 22,
     "metadata": {},
     "output_type": "execute_result"
    }
   ],
   "source": [
    "# create a count vectorizer object \n",
    "count_vect = CountVectorizer(analyzer='word', token_pattern=r'\\w{1,}')\n",
    "count_vect.fit(train['text_clean'])"
   ]
  },
  {
   "cell_type": "code",
   "execution_count": 23,
   "metadata": {},
   "outputs": [],
   "source": [
    "# transform the training and validation data using count vectorizer object\n",
    "xtrain_count =  count_vect.transform(train_x)\n",
    "xvalid_count =  count_vect.transform(valid_x)"
   ]
  },
  {
   "cell_type": "markdown",
   "metadata": {},
   "source": [
    "# TFIDF Vectors as Features"
   ]
  },
  {
   "cell_type": "code",
   "execution_count": 24,
   "metadata": {},
   "outputs": [],
   "source": [
    "# word level tf-idf\n",
    "tfidf_vect = TfidfVectorizer(analyzer='word', token_pattern=r'\\w{1,}', max_features=5000)\n",
    "tfidf_vect.fit(train['text_clean'])\n",
    "xtrain_tfidf =  tfidf_vect.transform(train_x)\n",
    "xvalid_tfidf =  tfidf_vect.transform(valid_x)"
   ]
  },
  {
   "cell_type": "markdown",
   "metadata": {},
   "source": [
    "# Model Building"
   ]
  },
  {
   "cell_type": "code",
   "execution_count": 25,
   "metadata": {},
   "outputs": [],
   "source": [
    "def train_model(classifier, feature_vector_train, label, feature_vector_valid, is_neural_net=False):\n",
    "    # fit the training dataset on the classifier\n",
    "    classifier.fit(feature_vector_train, label)\n",
    "    \n",
    "    # predict the labels on validation dataset\n",
    "    predictions = classifier.predict(feature_vector_valid)\n",
    "    \n",
    "    if is_neural_net:\n",
    "        predictions = predictions.argmax(axis=-1)\n",
    "    \n",
    "    return metrics.accuracy_score(predictions, valid_y)"
   ]
  },
  {
   "cell_type": "code",
   "execution_count": null,
   "metadata": {},
   "outputs": [],
   "source": []
  },
  {
   "cell_type": "code",
   "execution_count": 26,
   "metadata": {},
   "outputs": [
    {
     "name": "stdout",
     "output_type": "stream",
     "text": [
      "NB, Count Vectors:  0.2075812274368231\n"
     ]
    }
   ],
   "source": [
    "# Naive Bayes on Count Vectors\n",
    "accuracy = train_model(naive_bayes.MultinomialNB(), xtrain_count, train_y, xvalid_count)\n",
    "print(\"NB, Count Vectors: \", accuracy)"
   ]
  },
  {
   "cell_type": "code",
   "execution_count": 27,
   "metadata": {},
   "outputs": [
    {
     "name": "stdout",
     "output_type": "stream",
     "text": [
      "NB, WordLevel TF-IDF:  0.2292418772563177\n"
     ]
    }
   ],
   "source": [
    "# Naive Bayes on Word Level TF IDF Vectors\n",
    "accuracy = train_model(naive_bayes.MultinomialNB(), xtrain_tfidf, train_y, xvalid_tfidf)\n",
    "print(\"NB, WordLevel TF-IDF: \", accuracy)"
   ]
  },
  {
   "cell_type": "code",
   "execution_count": 28,
   "metadata": {},
   "outputs": [
    {
     "data": {
      "text/plain": [
       "MultinomialNB(alpha=1.0, class_prior=None, fit_prior=True)"
      ]
     },
     "execution_count": 28,
     "metadata": {},
     "output_type": "execute_result"
    }
   ],
   "source": [
    "classifier = naive_bayes.MultinomialNB()\n",
    "classifier.fit(xtrain_tfidf, train_y_enc)"
   ]
  },
  {
   "cell_type": "code",
   "execution_count": null,
   "metadata": {},
   "outputs": [],
   "source": [
    "#predictions = classifier.predict(xvalid_count)"
   ]
  },
  {
   "cell_type": "code",
   "execution_count": 29,
   "metadata": {},
   "outputs": [
    {
     "data": {
      "text/plain": [
       "array([0.0069119 , 0.00314012, 0.0879011 , 0.03007183, 0.27388804,\n",
       "       0.07043501, 0.00645206, 0.04766004, 0.0565681 , 0.29924179,\n",
       "       0.11773002])"
      ]
     },
     "execution_count": 29,
     "metadata": {},
     "output_type": "execute_result"
    }
   ],
   "source": [
    "prob_predictions = classifier.predict_proba(xvalid_tfidf)\n",
    "prob_predictions[0]"
   ]
  },
  {
   "cell_type": "code",
   "execution_count": 34,
   "metadata": {},
   "outputs": [
    {
     "name": "stdout",
     "output_type": "stream",
     "text": [
      "(554, 11)\n"
     ]
    },
    {
     "data": {
      "text/html": [
       "<div>\n",
       "<style scoped>\n",
       "    .dataframe tbody tr th:only-of-type {\n",
       "        vertical-align: middle;\n",
       "    }\n",
       "\n",
       "    .dataframe tbody tr th {\n",
       "        vertical-align: top;\n",
       "    }\n",
       "\n",
       "    .dataframe thead th {\n",
       "        text-align: right;\n",
       "    }\n",
       "</style>\n",
       "<table border=\"1\" class=\"dataframe\">\n",
       "  <thead>\n",
       "    <tr style=\"text-align: right;\">\n",
       "      <th></th>\n",
       "      <th>0</th>\n",
       "      <th>1</th>\n",
       "      <th>2</th>\n",
       "      <th>3</th>\n",
       "      <th>4</th>\n",
       "      <th>5</th>\n",
       "      <th>6</th>\n",
       "      <th>7</th>\n",
       "      <th>8</th>\n",
       "      <th>9</th>\n",
       "      <th>10</th>\n",
       "      <th>index_col</th>\n",
       "    </tr>\n",
       "  </thead>\n",
       "  <tbody>\n",
       "    <tr>\n",
       "      <th>10482</th>\n",
       "      <td>0.006912</td>\n",
       "      <td>0.003140</td>\n",
       "      <td>0.087901</td>\n",
       "      <td>0.030072</td>\n",
       "      <td>0.273888</td>\n",
       "      <td>0.070435</td>\n",
       "      <td>0.006452</td>\n",
       "      <td>0.047660</td>\n",
       "      <td>0.056568</td>\n",
       "      <td>0.299242</td>\n",
       "      <td>0.117730</td>\n",
       "      <td>10482</td>\n",
       "    </tr>\n",
       "    <tr>\n",
       "      <th>6451</th>\n",
       "      <td>0.003525</td>\n",
       "      <td>0.001647</td>\n",
       "      <td>0.026129</td>\n",
       "      <td>0.010634</td>\n",
       "      <td>0.850486</td>\n",
       "      <td>0.022937</td>\n",
       "      <td>0.003432</td>\n",
       "      <td>0.014145</td>\n",
       "      <td>0.016240</td>\n",
       "      <td>0.024009</td>\n",
       "      <td>0.026815</td>\n",
       "      <td>6451</td>\n",
       "    </tr>\n",
       "    <tr>\n",
       "      <th>5311</th>\n",
       "      <td>0.002670</td>\n",
       "      <td>0.001045</td>\n",
       "      <td>0.171724</td>\n",
       "      <td>0.029948</td>\n",
       "      <td>0.077921</td>\n",
       "      <td>0.075104</td>\n",
       "      <td>0.002234</td>\n",
       "      <td>0.098589</td>\n",
       "      <td>0.017309</td>\n",
       "      <td>0.044947</td>\n",
       "      <td>0.478508</td>\n",
       "      <td>5311</td>\n",
       "    </tr>\n",
       "    <tr>\n",
       "      <th>7643</th>\n",
       "      <td>0.001595</td>\n",
       "      <td>0.000590</td>\n",
       "      <td>0.132083</td>\n",
       "      <td>0.015577</td>\n",
       "      <td>0.274687</td>\n",
       "      <td>0.108526</td>\n",
       "      <td>0.001540</td>\n",
       "      <td>0.028894</td>\n",
       "      <td>0.047549</td>\n",
       "      <td>0.122294</td>\n",
       "      <td>0.266664</td>\n",
       "      <td>7643</td>\n",
       "    </tr>\n",
       "    <tr>\n",
       "      <th>8340</th>\n",
       "      <td>0.005704</td>\n",
       "      <td>0.001734</td>\n",
       "      <td>0.230743</td>\n",
       "      <td>0.029436</td>\n",
       "      <td>0.191992</td>\n",
       "      <td>0.065051</td>\n",
       "      <td>0.003556</td>\n",
       "      <td>0.041281</td>\n",
       "      <td>0.032372</td>\n",
       "      <td>0.101076</td>\n",
       "      <td>0.297056</td>\n",
       "      <td>8340</td>\n",
       "    </tr>\n",
       "  </tbody>\n",
       "</table>\n",
       "</div>"
      ],
      "text/plain": [
       "              0         1         2         3         4         5         6  \\\n",
       "10482  0.006912  0.003140  0.087901  0.030072  0.273888  0.070435  0.006452   \n",
       "6451   0.003525  0.001647  0.026129  0.010634  0.850486  0.022937  0.003432   \n",
       "5311   0.002670  0.001045  0.171724  0.029948  0.077921  0.075104  0.002234   \n",
       "7643   0.001595  0.000590  0.132083  0.015577  0.274687  0.108526  0.001540   \n",
       "8340   0.005704  0.001734  0.230743  0.029436  0.191992  0.065051  0.003556   \n",
       "\n",
       "              7         8         9        10  index_col  \n",
       "10482  0.047660  0.056568  0.299242  0.117730      10482  \n",
       "6451   0.014145  0.016240  0.024009  0.026815       6451  \n",
       "5311   0.098589  0.017309  0.044947  0.478508       5311  \n",
       "7643   0.028894  0.047549  0.122294  0.266664       7643  \n",
       "8340   0.041281  0.032372  0.101076  0.297056       8340  "
      ]
     },
     "execution_count": 34,
     "metadata": {},
     "output_type": "execute_result"
    }
   ],
   "source": [
    "prob_prediction_df = pd.DataFrame(prob_predictions, index = valid_y.index)\n",
    "print(prob_prediction_df.shape)\n",
    "prob_prediction_df['index_col'] = prob_prediction_df.index\n",
    "prob_prediction_df.head()"
   ]
  },
  {
   "cell_type": "code",
   "execution_count": null,
   "metadata": {},
   "outputs": [],
   "source": []
  },
  {
   "cell_type": "code",
   "execution_count": null,
   "metadata": {
    "scrolled": true
   },
   "outputs": [],
   "source": [
    "prob_prediction_df_long = pd.melt(prob_prediction_df, id_vars='index_col', value_vars=range(11))\n",
    "prob_prediction_df_long.columns = ['index_col', 'hashtag_encoding', 'predicted_prob']\n",
    "prob_prediction_df_long['hashtag_rank'] = prob_prediction_df_long.groupby(['index_col'])['predicted_prob'].rank(ascending=False)\n",
    "prob_prediction_df_long = prob_prediction_df_long.sort_values(['index_col', 'hashtag_rank'])\n",
    "prob_prediction_df_long = pd.merge(prob_prediction_df_long, mapping, how = 'left', on = 'hashtag_encoding')\n",
    "prob_prediction_df_long['pred_rank'] = 'pred_rank_' + prob_prediction_df_long['hashtag_rank'].astype(int).map(str)\n",
    "prob_prediction_df_long = prob_prediction_df_long.sort_values(['index_col', 'hashtag_rank'])\n",
    "prob_prediction_df_long.head(11)"
   ]
  },
  {
   "cell_type": "code",
   "execution_count": null,
   "metadata": {},
   "outputs": [],
   "source": [
    "prob_prediction_df_wide = prob_prediction_df_long.pivot_table(index = ['index_col'], columns = 'pred_rank', values = ['hashtag'], aggfunc=lambda x: ''.join(x))\n",
    "prob_prediction_df_wide = prob_prediction_df_wide.reset_index()\n",
    "prob_prediction_df_wide.columns = ['%s%s' % (a, '_%s' % b if b else '') for a, b in prob_prediction_df_wide.columns]\n",
    "prob_prediction_df_wide.index = prob_prediction_df_wide.index_col\n",
    "print(prob_prediction_df_wide.shape)\n",
    "prob_prediction_df_wide.head()\n"
   ]
  },
  {
   "cell_type": "code",
   "execution_count": null,
   "metadata": {},
   "outputs": [],
   "source": [
    "validation = train[train.index.isin(valid_y.index)]\n",
    "print(validation.shape)\n",
    "validation_rollup = validation.groupby(['contentId', 'authorId_content', 'createdAt', 'text', 'type', 'isActive', 'isPrimary'])['hashtag'].agg([('hashtag_count','count'), ('hashtag_list', ','.join)]).reset_index()\n",
    "print(validation_rollup.shape)\n",
    "#validation_rollup.sort_values(['hashtag_count'],ascending=False).head()"
   ]
  },
  {
   "cell_type": "code",
   "execution_count": null,
   "metadata": {},
   "outputs": [],
   "source": [
    "prediction_results = pd.merge(validation_rollup[['text', 'hashtag_list']], prob_prediction_df_wide, how = 'right', left_index=True, right_index=True, sort=False, copy=True)\n",
    "prediction_results = prediction_results.drop(['index_col'], axis=1)\n",
    "print(prediction_results.shape)\n",
    "prediction_results"
   ]
  },
  {
   "cell_type": "code",
   "execution_count": null,
   "metadata": {},
   "outputs": [],
   "source": []
  },
  {
   "cell_type": "code",
   "execution_count": null,
   "metadata": {},
   "outputs": [],
   "source": []
  }
 ],
 "metadata": {
  "kernelspec": {
   "display_name": "conda_python3",
   "language": "python",
   "name": "conda_python3"
  },
  "language_info": {
   "codemirror_mode": {
    "name": "ipython",
    "version": 3
   },
   "file_extension": ".py",
   "mimetype": "text/x-python",
   "name": "python",
   "nbconvert_exporter": "python",
   "pygments_lexer": "ipython3",
   "version": "3.6.5"
  }
 },
 "nbformat": 4,
 "nbformat_minor": 4
}
