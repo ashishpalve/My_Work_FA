{
 "cells": [
  {
   "cell_type": "code",
   "execution_count": 1,
   "metadata": {},
   "outputs": [
    {
     "name": "stdout",
     "output_type": "stream",
     "text": [
      "Collecting xgboost\n",
      "\u001b[?25l  Downloading https://files.pythonhosted.org/packages/75/6c/fb30ff1703846db8e8e511399e41123ac968dc29171f04e9f0b2585e40c9/xgboost-1.1.0-py3-none-manylinux2010_x86_64.whl (127.6MB)\n",
      "\u001b[K     |████████████████████████████████| 127.6MB 106kB/s  eta 0:00:01\n",
      "\u001b[?25hRequirement already satisfied: numpy in /home/ec2-user/anaconda3/envs/tensorflow_p36/lib/python3.6/site-packages (from xgboost) (1.16.4)\n",
      "Requirement already satisfied: scipy in /home/ec2-user/anaconda3/envs/tensorflow_p36/lib/python3.6/site-packages (from xgboost) (1.4.1)\n",
      "Installing collected packages: xgboost\n",
      "Successfully installed xgboost-1.1.0\n",
      "\u001b[33mWARNING: You are using pip version 19.3.1; however, version 20.1.1 is available.\n",
      "You should consider upgrading via the 'pip install --upgrade pip' command.\u001b[0m\n"
     ]
    }
   ],
   "source": [
    "!source activate python3\n",
    "!pip3 install xgboost\n",
    "!source deactivate"
   ]
  },
  {
   "cell_type": "code",
   "execution_count": 2,
   "metadata": {},
   "outputs": [
    {
     "name": "stdout",
     "output_type": "stream",
     "text": [
      "[nltk_data] Downloading package punkt to /home/ec2-user/nltk_data...\n",
      "[nltk_data]   Unzipping tokenizers/punkt.zip.\n",
      "[nltk_data] Downloading package stopwords to\n",
      "[nltk_data]     /home/ec2-user/nltk_data...\n",
      "[nltk_data]   Package stopwords is already up-to-date!\n"
     ]
    },
    {
     "data": {
      "text/plain": [
       "True"
      ]
     },
     "execution_count": 2,
     "metadata": {},
     "output_type": "execute_result"
    }
   ],
   "source": [
    "import nltk\n",
    "nltk.download(['punkt', 'stopwords'])"
   ]
  },
  {
   "cell_type": "code",
   "execution_count": 3,
   "metadata": {},
   "outputs": [],
   "source": [
    "import os\n",
    "import warnings\n",
    "import pandas as pd\n",
    "import numpy as np\n",
    "import matplotlib.pyplot as plt"
   ]
  },
  {
   "cell_type": "code",
   "execution_count": 4,
   "metadata": {},
   "outputs": [
    {
     "name": "stderr",
     "output_type": "stream",
     "text": [
      "Using TensorFlow backend.\n"
     ]
    },
    {
     "name": "stdout",
     "output_type": "stream",
     "text": [
      "WARNING:tensorflow:From /home/ec2-user/anaconda3/envs/tensorflow_p36/lib/python3.6/site-packages/tensorflow_core/__init__.py:1467: The name tf.estimator.inputs is deprecated. Please use tf.compat.v1.estimator.inputs instead.\n",
      "\n"
     ]
    }
   ],
   "source": [
    "from nltk.tokenize import word_tokenize\n",
    "from string import punctuation\n",
    "from nltk.corpus import stopwords\n",
    "from nltk.stem import PorterStemmer\n",
    "\n",
    "from sklearn import model_selection, preprocessing, linear_model, naive_bayes, metrics, svm\n",
    "from sklearn.feature_extraction.text import TfidfVectorizer, CountVectorizer\n",
    "from sklearn import decomposition, ensemble\n",
    "import xgboost\n",
    "\n",
    "from keras.preprocessing import text, sequence\n",
    "from keras import layers, models, optimizers"
   ]
  },
  {
   "cell_type": "code",
   "execution_count": 5,
   "metadata": {},
   "outputs": [
    {
     "name": "stdout",
     "output_type": "stream",
     "text": [
      "(13535, 15)\n"
     ]
    },
    {
     "data": {
      "text/html": [
       "<div>\n",
       "<style scoped>\n",
       "    .dataframe tbody tr th:only-of-type {\n",
       "        vertical-align: middle;\n",
       "    }\n",
       "\n",
       "    .dataframe tbody tr th {\n",
       "        vertical-align: top;\n",
       "    }\n",
       "\n",
       "    .dataframe thead th {\n",
       "        text-align: right;\n",
       "    }\n",
       "</style>\n",
       "<table border=\"1\" class=\"dataframe\">\n",
       "  <thead>\n",
       "    <tr style=\"text-align: right;\">\n",
       "      <th></th>\n",
       "      <th>contentId</th>\n",
       "      <th>authorId_content</th>\n",
       "      <th>createdAt</th>\n",
       "      <th>tagIds</th>\n",
       "      <th>text</th>\n",
       "      <th>type</th>\n",
       "      <th>dt</th>\n",
       "      <th>mnth</th>\n",
       "      <th>yr</th>\n",
       "      <th>yr_mnth</th>\n",
       "      <th>hashtagId</th>\n",
       "      <th>authorId_hashtag</th>\n",
       "      <th>hashtag</th>\n",
       "      <th>isActive</th>\n",
       "      <th>isPrimary</th>\n",
       "    </tr>\n",
       "  </thead>\n",
       "  <tbody>\n",
       "    <tr>\n",
       "      <th>0</th>\n",
       "      <td>5eaa8499d9e8980022200604</td>\n",
       "      <td>5ea238633ae1b80048f4f43c</td>\n",
       "      <td>2020-04-30 07:56:09.909</td>\n",
       "      <td>5df3940fb2694d0016bdb721</td>\n",
       "      <td>Balance #Negotiation Power  Negotiation requir...</td>\n",
       "      <td>POST</td>\n",
       "      <td>2020-04-30</td>\n",
       "      <td>4</td>\n",
       "      <td>2020</td>\n",
       "      <td>2020-4</td>\n",
       "      <td>5df3940fb2694d0016bdb721</td>\n",
       "      <td>5df38de0b2694d0016bdb71f</td>\n",
       "      <td>starting-out</td>\n",
       "      <td>True</td>\n",
       "      <td>True</td>\n",
       "    </tr>\n",
       "  </tbody>\n",
       "</table>\n",
       "</div>"
      ],
      "text/plain": [
       "                  contentId          authorId_content               createdAt  \\\n",
       "0  5eaa8499d9e8980022200604  5ea238633ae1b80048f4f43c 2020-04-30 07:56:09.909   \n",
       "\n",
       "                     tagIds  \\\n",
       "0  5df3940fb2694d0016bdb721   \n",
       "\n",
       "                                                text  type          dt  mnth  \\\n",
       "0  Balance #Negotiation Power  Negotiation requir...  POST  2020-04-30     4   \n",
       "\n",
       "     yr yr_mnth                 hashtagId          authorId_hashtag  \\\n",
       "0  2020  2020-4  5df3940fb2694d0016bdb721  5df38de0b2694d0016bdb71f   \n",
       "\n",
       "        hashtag  isActive  isPrimary  \n",
       "0  starting-out      True       True  "
      ]
     },
     "execution_count": 5,
     "metadata": {},
     "output_type": "execute_result"
    }
   ],
   "source": [
    "feed_hashtag = pd.read_csv(os.getcwd() + '/Datasets/feed_hashtag_long.csv')\n",
    "feed_hashtag['createdAt'] = pd.to_datetime(feed_hashtag['createdAt'])\n",
    "print(feed_hashtag.shape)\n",
    "feed_hashtag.head(1)"
   ]
  },
  {
   "cell_type": "code",
   "execution_count": null,
   "metadata": {},
   "outputs": [],
   "source": []
  },
  {
   "cell_type": "code",
   "execution_count": 6,
   "metadata": {},
   "outputs": [
    {
     "name": "stdout",
     "output_type": "stream",
     "text": [
      "Data Size: 4142\n",
      "Unique Content: 2523\n",
      "Unique tags: 11\n"
     ]
    }
   ],
   "source": [
    "feed_hashtag = feed_hashtag[feed_hashtag['isPrimary'] == True]\n",
    "feed_hashtag = feed_hashtag[~feed_hashtag['text'].isna()]\n",
    "print(\"Data Size:\", feed_hashtag.shape[0])\n",
    "print(\"Unique Content:\", feed_hashtag['contentId'].nunique())\n",
    "print(\"Unique tags:\", feed_hashtag['hashtag'].nunique())"
   ]
  },
  {
   "cell_type": "code",
   "execution_count": 7,
   "metadata": {},
   "outputs": [
    {
     "data": {
      "text/html": [
       "<div>\n",
       "<style scoped>\n",
       "    .dataframe tbody tr th:only-of-type {\n",
       "        vertical-align: middle;\n",
       "    }\n",
       "\n",
       "    .dataframe tbody tr th {\n",
       "        vertical-align: top;\n",
       "    }\n",
       "\n",
       "    .dataframe thead th {\n",
       "        text-align: right;\n",
       "    }\n",
       "</style>\n",
       "<table border=\"1\" class=\"dataframe\">\n",
       "  <thead>\n",
       "    <tr style=\"text-align: right;\">\n",
       "      <th></th>\n",
       "      <th>contentId</th>\n",
       "      <th>authorId_content</th>\n",
       "      <th>createdAt</th>\n",
       "      <th>tagIds</th>\n",
       "      <th>text</th>\n",
       "      <th>type</th>\n",
       "      <th>dt</th>\n",
       "      <th>mnth</th>\n",
       "      <th>yr</th>\n",
       "      <th>yr_mnth</th>\n",
       "      <th>hashtagId</th>\n",
       "      <th>authorId_hashtag</th>\n",
       "      <th>hashtag</th>\n",
       "      <th>isActive</th>\n",
       "      <th>isPrimary</th>\n",
       "      <th>createDate</th>\n",
       "    </tr>\n",
       "  </thead>\n",
       "  <tbody>\n",
       "    <tr>\n",
       "      <th>0</th>\n",
       "      <td>5eaa8499d9e8980022200604</td>\n",
       "      <td>5ea238633ae1b80048f4f43c</td>\n",
       "      <td>2020-04-30 07:56:09.909</td>\n",
       "      <td>5df3940fb2694d0016bdb721</td>\n",
       "      <td>Balance #Negotiation Power  Negotiation requir...</td>\n",
       "      <td>POST</td>\n",
       "      <td>2020-04-30</td>\n",
       "      <td>4</td>\n",
       "      <td>2020</td>\n",
       "      <td>2020-4</td>\n",
       "      <td>5df3940fb2694d0016bdb721</td>\n",
       "      <td>5df38de0b2694d0016bdb71f</td>\n",
       "      <td>starting-out</td>\n",
       "      <td>True</td>\n",
       "      <td>True</td>\n",
       "      <td>2020-04-30</td>\n",
       "    </tr>\n",
       "  </tbody>\n",
       "</table>\n",
       "</div>"
      ],
      "text/plain": [
       "                  contentId          authorId_content               createdAt  \\\n",
       "0  5eaa8499d9e8980022200604  5ea238633ae1b80048f4f43c 2020-04-30 07:56:09.909   \n",
       "\n",
       "                     tagIds  \\\n",
       "0  5df3940fb2694d0016bdb721   \n",
       "\n",
       "                                                text  type          dt  mnth  \\\n",
       "0  Balance #Negotiation Power  Negotiation requir...  POST  2020-04-30     4   \n",
       "\n",
       "     yr yr_mnth                 hashtagId          authorId_hashtag  \\\n",
       "0  2020  2020-4  5df3940fb2694d0016bdb721  5df38de0b2694d0016bdb71f   \n",
       "\n",
       "        hashtag  isActive  isPrimary  createDate  \n",
       "0  starting-out      True       True  2020-04-30  "
      ]
     },
     "execution_count": 7,
     "metadata": {},
     "output_type": "execute_result"
    }
   ],
   "source": [
    "feed_hashtag['createDate'] = feed_hashtag['createdAt'].dt.date\n",
    "feed_hashtag.head(1)"
   ]
  },
  {
   "cell_type": "code",
   "execution_count": 8,
   "metadata": {},
   "outputs": [
    {
     "data": {
      "text/html": [
       "<div>\n",
       "<style scoped>\n",
       "    .dataframe tbody tr th:only-of-type {\n",
       "        vertical-align: middle;\n",
       "    }\n",
       "\n",
       "    .dataframe tbody tr th {\n",
       "        vertical-align: top;\n",
       "    }\n",
       "\n",
       "    .dataframe thead th {\n",
       "        text-align: right;\n",
       "    }\n",
       "</style>\n",
       "<table border=\"1\" class=\"dataframe\">\n",
       "  <thead>\n",
       "    <tr style=\"text-align: right;\">\n",
       "      <th></th>\n",
       "      <th>contentId</th>\n",
       "      <th>tagIds</th>\n",
       "    </tr>\n",
       "    <tr>\n",
       "      <th>createDate</th>\n",
       "      <th></th>\n",
       "      <th></th>\n",
       "    </tr>\n",
       "  </thead>\n",
       "  <tbody>\n",
       "    <tr>\n",
       "      <th>2019-12-12</th>\n",
       "      <td>261</td>\n",
       "      <td>262</td>\n",
       "    </tr>\n",
       "    <tr>\n",
       "      <th>2019-12-14</th>\n",
       "      <td>125</td>\n",
       "      <td>133</td>\n",
       "    </tr>\n",
       "    <tr>\n",
       "      <th>2019-12-15</th>\n",
       "      <td>2</td>\n",
       "      <td>2</td>\n",
       "    </tr>\n",
       "    <tr>\n",
       "      <th>2019-12-16</th>\n",
       "      <td>15</td>\n",
       "      <td>24</td>\n",
       "    </tr>\n",
       "    <tr>\n",
       "      <th>2019-12-17</th>\n",
       "      <td>4</td>\n",
       "      <td>8</td>\n",
       "    </tr>\n",
       "  </tbody>\n",
       "</table>\n",
       "</div>"
      ],
      "text/plain": [
       "            contentId  tagIds\n",
       "createDate                   \n",
       "2019-12-12        261     262\n",
       "2019-12-14        125     133\n",
       "2019-12-15          2       2\n",
       "2019-12-16         15      24\n",
       "2019-12-17          4       8"
      ]
     },
     "execution_count": 8,
     "metadata": {},
     "output_type": "execute_result"
    }
   ],
   "source": [
    "feed_hashtag.groupby(['createDate']).agg({'contentId':'nunique', 'tagIds':'count'}).head()"
   ]
  },
  {
   "cell_type": "code",
   "execution_count": 9,
   "metadata": {},
   "outputs": [],
   "source": [
    "feed_hashtag = feed_hashtag.sort_values(['contentId'])"
   ]
  },
  {
   "cell_type": "code",
   "execution_count": 10,
   "metadata": {},
   "outputs": [
    {
     "data": {
      "text/html": [
       "<div>\n",
       "<style scoped>\n",
       "    .dataframe tbody tr th:only-of-type {\n",
       "        vertical-align: middle;\n",
       "    }\n",
       "\n",
       "    .dataframe tbody tr th {\n",
       "        vertical-align: top;\n",
       "    }\n",
       "\n",
       "    .dataframe thead th {\n",
       "        text-align: right;\n",
       "    }\n",
       "</style>\n",
       "<table border=\"1\" class=\"dataframe\">\n",
       "  <thead>\n",
       "    <tr style=\"text-align: right;\">\n",
       "      <th></th>\n",
       "      <th>contentId</th>\n",
       "      <th>hashtag</th>\n",
       "    </tr>\n",
       "  </thead>\n",
       "  <tbody>\n",
       "    <tr>\n",
       "      <th>1923</th>\n",
       "      <td>5ea903a51081fc002f901eaf</td>\n",
       "      <td>5</td>\n",
       "    </tr>\n",
       "    <tr>\n",
       "      <th>2435</th>\n",
       "      <td>5ebe2fa99acd57002817fefe</td>\n",
       "      <td>4</td>\n",
       "    </tr>\n",
       "    <tr>\n",
       "      <th>2403</th>\n",
       "      <td>5ebd02339acd57002817faf5</td>\n",
       "      <td>4</td>\n",
       "    </tr>\n",
       "    <tr>\n",
       "      <th>2212</th>\n",
       "      <td>5eb697fcbb6731002ababcac</td>\n",
       "      <td>4</td>\n",
       "    </tr>\n",
       "    <tr>\n",
       "      <th>2278</th>\n",
       "      <td>5eb95da7be2b9900460549e1</td>\n",
       "      <td>4</td>\n",
       "    </tr>\n",
       "  </tbody>\n",
       "</table>\n",
       "</div>"
      ],
      "text/plain": [
       "                     contentId  hashtag\n",
       "1923  5ea903a51081fc002f901eaf        5\n",
       "2435  5ebe2fa99acd57002817fefe        4\n",
       "2403  5ebd02339acd57002817faf5        4\n",
       "2212  5eb697fcbb6731002ababcac        4\n",
       "2278  5eb95da7be2b9900460549e1        4"
      ]
     },
     "execution_count": 10,
     "metadata": {},
     "output_type": "execute_result"
    }
   ],
   "source": [
    "feed_hashtag.groupby(['contentId'])['hashtag'].count().reset_index().sort_values(['hashtag'], ascending = False).head()"
   ]
  },
  {
   "cell_type": "code",
   "execution_count": 11,
   "metadata": {},
   "outputs": [
    {
     "data": {
      "image/png": "[encoded data removed]",
      "text/plain": [
       "<Figure size 1296x360 with 1 Axes>"
      ]
     },
     "metadata": {},
     "output_type": "display_data"
    }
   ],
   "source": [
    "hashtag_class_ct = feed_hashtag.groupby(['hashtag'])['contentId'].agg([('row_count','count'), ('content_count','nunique')]).reset_index()\n",
    "hashtag_class_ct = hashtag_class_ct.sort_values(['content_count'], ascending=False)\n",
    "hashtag_class_ct\n",
    "f, ax = plt.subplots(figsize=(18,5))\n",
    "plt.bar(hashtag_class_ct['hashtag'], hashtag_class_ct['content_count'])\n",
    "plt.xlabel('hashtag', fontsize=20)\n",
    "plt.ylabel('No of Feeds', fontsize=20)\n",
    "plt.xticks(hashtag_class_ct['hashtag'], fontsize=20, rotation=30)\n",
    "plt.title('hashtag counts')\n",
    "plt.show()"
   ]
  },
  {
   "cell_type": "code",
   "execution_count": 12,
   "metadata": {},
   "outputs": [
    {
     "name": "stdout",
     "output_type": "stream",
     "text": [
      "(2523, 9)\n"
     ]
    },
    {
     "data": {
      "text/html": [
       "<div>\n",
       "<style scoped>\n",
       "    .dataframe tbody tr th:only-of-type {\n",
       "        vertical-align: middle;\n",
       "    }\n",
       "\n",
       "    .dataframe tbody tr th {\n",
       "        vertical-align: top;\n",
       "    }\n",
       "\n",
       "    .dataframe thead th {\n",
       "        text-align: right;\n",
       "    }\n",
       "</style>\n",
       "<table border=\"1\" class=\"dataframe\">\n",
       "  <thead>\n",
       "    <tr style=\"text-align: right;\">\n",
       "      <th></th>\n",
       "      <th>contentId</th>\n",
       "      <th>authorId_content</th>\n",
       "      <th>createdAt</th>\n",
       "      <th>text</th>\n",
       "      <th>type</th>\n",
       "      <th>isActive</th>\n",
       "      <th>isPrimary</th>\n",
       "      <th>hashtag_count</th>\n",
       "      <th>hashtag_list</th>\n",
       "    </tr>\n",
       "  </thead>\n",
       "  <tbody>\n",
       "    <tr>\n",
       "      <th>1923</th>\n",
       "      <td>5ea903a51081fc002f901eaf</td>\n",
       "      <td>5ea90095cc13d50046a192fe</td>\n",
       "      <td>2020-04-29 04:33:41.016</td>\n",
       "      <td>Hi, I am teaching spanish language, If anyone ...</td>\n",
       "      <td>POST</td>\n",
       "      <td>True</td>\n",
       "      <td>True</td>\n",
       "      <td>5</td>\n",
       "      <td>career-switch,inspiration,selfcare,starting-ou...</td>\n",
       "    </tr>\n",
       "    <tr>\n",
       "      <th>2435</th>\n",
       "      <td>5ebe2fa99acd57002817fefe</td>\n",
       "      <td>5df76af011788b0016813414</td>\n",
       "      <td>2020-05-15 05:59:05.035</td>\n",
       "      <td>We are all fearing the future in some way or t...</td>\n",
       "      <td>QUESTION</td>\n",
       "      <td>True</td>\n",
       "      <td>True</td>\n",
       "      <td>4</td>\n",
       "      <td>speaking-out,inspiration,selfcare,starting-out</td>\n",
       "    </tr>\n",
       "  </tbody>\n",
       "</table>\n",
       "</div>"
      ],
      "text/plain": [
       "                     contentId          authorId_content  \\\n",
       "1923  5ea903a51081fc002f901eaf  5ea90095cc13d50046a192fe   \n",
       "2435  5ebe2fa99acd57002817fefe  5df76af011788b0016813414   \n",
       "\n",
       "                   createdAt  \\\n",
       "1923 2020-04-29 04:33:41.016   \n",
       "2435 2020-05-15 05:59:05.035   \n",
       "\n",
       "                                                   text      type  isActive  \\\n",
       "1923  Hi, I am teaching spanish language, If anyone ...      POST      True   \n",
       "2435  We are all fearing the future in some way or t...  QUESTION      True   \n",
       "\n",
       "      isPrimary  hashtag_count  \\\n",
       "1923       True              5   \n",
       "2435       True              4   \n",
       "\n",
       "                                           hashtag_list  \n",
       "1923  career-switch,inspiration,selfcare,starting-ou...  \n",
       "2435     speaking-out,inspiration,selfcare,starting-out  "
      ]
     },
     "execution_count": 12,
     "metadata": {},
     "output_type": "execute_result"
    }
   ],
   "source": [
    "feed_hashtag_rollup = feed_hashtag.groupby(['contentId', 'authorId_content', 'createdAt', 'text', 'type', 'isActive', 'isPrimary'])['hashtag'].agg([('hashtag_count','count'), ('hashtag_list', ','.join)]).reset_index()\n",
    "print(feed_hashtag_rollup.shape)\n",
    "feed_hashtag_rollup.sort_values(['hashtag_count'],ascending=False).head(2)"
   ]
  },
  {
   "cell_type": "code",
   "execution_count": 14,
   "metadata": {},
   "outputs": [
    {
     "name": "stdout",
     "output_type": "stream",
     "text": [
      "train data: 3156\n",
      "test data: 986\n"
     ]
    }
   ],
   "source": [
    "train = feed_hashtag[feed_hashtag['createdAt'] <= pd.to_datetime('2020-04-30')].copy()\n",
    "print(\"train data:\", train.shape[0])\n",
    "test = feed_hashtag[feed_hashtag['createdAt'] > pd.to_datetime('2020-04-30')].copy()\n",
    "print(\"test data:\", test.shape[0])"
   ]
  },
  {
   "cell_type": "markdown",
   "metadata": {},
   "source": [
    "# Text Cleansing"
   ]
  },
  {
   "cell_type": "code",
   "execution_count": 15,
   "metadata": {},
   "outputs": [],
   "source": [
    "feed_token = [word_tokenize(sent.lower()) for sent in train.text]"
   ]
  },
  {
   "cell_type": "code",
   "execution_count": 16,
   "metadata": {},
   "outputs": [],
   "source": [
    "stop_punct = list(punctuation)\n",
    "stop_nltk = stopwords.words(\"english\")\n",
    "stop_updated = stop_nltk + stop_punct"
   ]
  },
  {
   "cell_type": "code",
   "execution_count": 17,
   "metadata": {},
   "outputs": [],
   "source": [
    "def del_stop(sent):\n",
    "    return [term for term in sent if term not in stop_updated]"
   ]
  },
  {
   "cell_type": "code",
   "execution_count": 18,
   "metadata": {},
   "outputs": [],
   "source": [
    "feed_token_clean = [del_stop(sent) for sent in feed_token]"
   ]
  },
  {
   "cell_type": "code",
   "execution_count": 19,
   "metadata": {},
   "outputs": [],
   "source": [
    "porter = PorterStemmer()\n",
    "def stem_tokens(token_list):\n",
    "    token_stem = [porter.stem(term) for term in token_list]\n",
    "    return(token_stem)"
   ]
  },
  {
   "cell_type": "code",
   "execution_count": 20,
   "metadata": {},
   "outputs": [],
   "source": [
    "feed_token_stemmed = [stem_tokens(tk) for tk in feed_token_clean]"
   ]
  },
  {
   "cell_type": "code",
   "execution_count": 21,
   "metadata": {},
   "outputs": [
    {
     "data": {
      "text/html": [
       "<div>\n",
       "<style scoped>\n",
       "    .dataframe tbody tr th:only-of-type {\n",
       "        vertical-align: middle;\n",
       "    }\n",
       "\n",
       "    .dataframe tbody tr th {\n",
       "        vertical-align: top;\n",
       "    }\n",
       "\n",
       "    .dataframe thead th {\n",
       "        text-align: right;\n",
       "    }\n",
       "</style>\n",
       "<table border=\"1\" class=\"dataframe\">\n",
       "  <thead>\n",
       "    <tr style=\"text-align: right;\">\n",
       "      <th></th>\n",
       "      <th>contentId</th>\n",
       "      <th>authorId_content</th>\n",
       "      <th>createdAt</th>\n",
       "      <th>tagIds</th>\n",
       "      <th>text</th>\n",
       "      <th>type</th>\n",
       "      <th>dt</th>\n",
       "      <th>mnth</th>\n",
       "      <th>yr</th>\n",
       "      <th>yr_mnth</th>\n",
       "      <th>hashtagId</th>\n",
       "      <th>authorId_hashtag</th>\n",
       "      <th>hashtag</th>\n",
       "      <th>isActive</th>\n",
       "      <th>isPrimary</th>\n",
       "      <th>createDate</th>\n",
       "      <th>text_clean</th>\n",
       "    </tr>\n",
       "  </thead>\n",
       "  <tbody>\n",
       "    <tr>\n",
       "      <th>2272</th>\n",
       "      <td>5df454f37e4ea600161b8e2e</td>\n",
       "      <td>5df454297e4ea600161b8e25</td>\n",
       "      <td>2019-12-14 03:20:19.029</td>\n",
       "      <td>5df39412b2694d0016bdb72b</td>\n",
       "      <td>Hi I am Shreshtha. I have been baking for the ...</td>\n",
       "      <td>QUESTION</td>\n",
       "      <td>2019-12-14</td>\n",
       "      <td>12</td>\n",
       "      <td>2019</td>\n",
       "      <td>2019-12</td>\n",
       "      <td>5df39412b2694d0016bdb72b</td>\n",
       "      <td>5df38de0b2694d0016bdb71f</td>\n",
       "      <td>career-growth</td>\n",
       "      <td>True</td>\n",
       "      <td>True</td>\n",
       "      <td>2019-12-14</td>\n",
       "      <td>hi shreshtha baking last 5 years brand associa...</td>\n",
       "    </tr>\n",
       "  </tbody>\n",
       "</table>\n",
       "</div>"
      ],
      "text/plain": [
       "                     contentId          authorId_content  \\\n",
       "2272  5df454f37e4ea600161b8e2e  5df454297e4ea600161b8e25   \n",
       "\n",
       "                   createdAt                    tagIds  \\\n",
       "2272 2019-12-14 03:20:19.029  5df39412b2694d0016bdb72b   \n",
       "\n",
       "                                                   text      type          dt  \\\n",
       "2272  Hi I am Shreshtha. I have been baking for the ...  QUESTION  2019-12-14   \n",
       "\n",
       "      mnth    yr  yr_mnth                 hashtagId          authorId_hashtag  \\\n",
       "2272    12  2019  2019-12  5df39412b2694d0016bdb72b  5df38de0b2694d0016bdb71f   \n",
       "\n",
       "            hashtag  isActive  isPrimary  createDate  \\\n",
       "2272  career-growth      True       True  2019-12-14   \n",
       "\n",
       "                                             text_clean  \n",
       "2272  hi shreshtha baking last 5 years brand associa...  "
      ]
     },
     "execution_count": 21,
     "metadata": {},
     "output_type": "execute_result"
    }
   ],
   "source": [
    "train['text_clean'] = [\" \".join(sent) for sent in feed_token_clean]\n",
    "train.head(1)"
   ]
  },
  {
   "cell_type": "code",
   "execution_count": 22,
   "metadata": {},
   "outputs": [
    {
     "name": "stdout",
     "output_type": "stream",
     "text": [
      "(2367, 17)\n",
      "(789, 17)\n"
     ]
    }
   ],
   "source": [
    "train_df, validation = model_selection.train_test_split(train)\n",
    "print(train_df.shape)\n",
    "print(validation.shape)"
   ]
  },
  {
   "cell_type": "code",
   "execution_count": 23,
   "metadata": {},
   "outputs": [
    {
     "name": "stdout",
     "output_type": "stream",
     "text": [
      "(700, 10)\n"
     ]
    },
    {
     "data": {
      "text/html": [
       "<div>\n",
       "<style scoped>\n",
       "    .dataframe tbody tr th:only-of-type {\n",
       "        vertical-align: middle;\n",
       "    }\n",
       "\n",
       "    .dataframe tbody tr th {\n",
       "        vertical-align: top;\n",
       "    }\n",
       "\n",
       "    .dataframe thead th {\n",
       "        text-align: right;\n",
       "    }\n",
       "</style>\n",
       "<table border=\"1\" class=\"dataframe\">\n",
       "  <thead>\n",
       "    <tr style=\"text-align: right;\">\n",
       "      <th></th>\n",
       "      <th>contentId</th>\n",
       "      <th>authorId_content</th>\n",
       "      <th>createdAt</th>\n",
       "      <th>text</th>\n",
       "      <th>type</th>\n",
       "      <th>isActive</th>\n",
       "      <th>isPrimary</th>\n",
       "      <th>text_clean</th>\n",
       "      <th>hashtag_count</th>\n",
       "      <th>hashtag_list</th>\n",
       "    </tr>\n",
       "  </thead>\n",
       "  <tbody>\n",
       "    <tr>\n",
       "      <th>128</th>\n",
       "      <td>5e05e66554f7880016b75c1e</td>\n",
       "      <td>5e058aec54f7880016b75a1d</td>\n",
       "      <td>2019-12-27 11:09:25.269</td>\n",
       "      <td>Wether the work that im doing today would help...</td>\n",
       "      <td>POST</td>\n",
       "      <td>True</td>\n",
       "      <td>True</td>\n",
       "      <td>wether work im today would help build career w...</td>\n",
       "      <td>3</td>\n",
       "      <td>inspiration,career-switch,starting-out</td>\n",
       "    </tr>\n",
       "    <tr>\n",
       "      <th>602</th>\n",
       "      <td>5ea29bf151316b003f3873f1</td>\n",
       "      <td>5e7c79d8ad47950024ffd1db</td>\n",
       "      <td>2020-04-24 07:57:37.920</td>\n",
       "      <td>Day 23 April, Time 7.30 A call received to my ...</td>\n",
       "      <td>POST</td>\n",
       "      <td>True</td>\n",
       "      <td>True</td>\n",
       "      <td>day 23 april time 7.30 call received husband `...</td>\n",
       "      <td>3</td>\n",
       "      <td>starting-out,speaking-out,inspiration</td>\n",
       "    </tr>\n",
       "  </tbody>\n",
       "</table>\n",
       "</div>"
      ],
      "text/plain": [
       "                    contentId          authorId_content  \\\n",
       "128  5e05e66554f7880016b75c1e  5e058aec54f7880016b75a1d   \n",
       "602  5ea29bf151316b003f3873f1  5e7c79d8ad47950024ffd1db   \n",
       "\n",
       "                  createdAt  \\\n",
       "128 2019-12-27 11:09:25.269   \n",
       "602 2020-04-24 07:57:37.920   \n",
       "\n",
       "                                                  text  type  isActive  \\\n",
       "128  Wether the work that im doing today would help...  POST      True   \n",
       "602  Day 23 April, Time 7.30 A call received to my ...  POST      True   \n",
       "\n",
       "     isPrimary                                         text_clean  \\\n",
       "128       True  wether work im today would help build career w...   \n",
       "602       True  day 23 april time 7.30 call received husband `...   \n",
       "\n",
       "     hashtag_count                            hashtag_list  \n",
       "128              3  inspiration,career-switch,starting-out  \n",
       "602              3   starting-out,speaking-out,inspiration  "
      ]
     },
     "execution_count": 23,
     "metadata": {},
     "output_type": "execute_result"
    }
   ],
   "source": [
    "validation_rollup = validation.groupby(['contentId', 'authorId_content', 'createdAt', 'text', 'type', 'isActive', 'isPrimary', 'text_clean'])['hashtag'].agg([('hashtag_count','count'), ('hashtag_list', ','.join)]).reset_index()\n",
    "print(validation_rollup.shape)\n",
    "validation_rollup.sort_values(['hashtag_count'],ascending=False).head(2)"
   ]
  },
  {
   "cell_type": "code",
   "execution_count": 24,
   "metadata": {},
   "outputs": [],
   "source": [
    "train_x = train_df['text_clean']\n",
    "train_y = train_df['hashtag']\n",
    "valid_x = validation_rollup['text_clean']\n",
    "valid_y = validation_rollup['hashtag_list']"
   ]
  },
  {
   "cell_type": "code",
   "execution_count": 25,
   "metadata": {},
   "outputs": [],
   "source": [
    "# label encode the target variable \n",
    "encoder = preprocessing.LabelEncoder()\n",
    "train_y_enc = encoder.fit_transform(train_y)"
   ]
  },
  {
   "cell_type": "code",
   "execution_count": 26,
   "metadata": {},
   "outputs": [
    {
     "data": {
      "text/html": [
       "<div>\n",
       "<style scoped>\n",
       "    .dataframe tbody tr th:only-of-type {\n",
       "        vertical-align: middle;\n",
       "    }\n",
       "\n",
       "    .dataframe tbody tr th {\n",
       "        vertical-align: top;\n",
       "    }\n",
       "\n",
       "    .dataframe thead th {\n",
       "        text-align: right;\n",
       "    }\n",
       "</style>\n",
       "<table border=\"1\" class=\"dataframe\">\n",
       "  <thead>\n",
       "    <tr style=\"text-align: right;\">\n",
       "      <th></th>\n",
       "      <th>hashtag</th>\n",
       "      <th>hashtag_encoding</th>\n",
       "    </tr>\n",
       "  </thead>\n",
       "  <tbody>\n",
       "    <tr>\n",
       "      <th>4296</th>\n",
       "      <td>Finance</td>\n",
       "      <td>0</td>\n",
       "    </tr>\n",
       "    <tr>\n",
       "      <th>9906</th>\n",
       "      <td>all-things-legal</td>\n",
       "      <td>1</td>\n",
       "    </tr>\n",
       "    <tr>\n",
       "      <th>5714</th>\n",
       "      <td>career-growth</td>\n",
       "      <td>2</td>\n",
       "    </tr>\n",
       "    <tr>\n",
       "      <th>9411</th>\n",
       "      <td>career-switch</td>\n",
       "      <td>3</td>\n",
       "    </tr>\n",
       "    <tr>\n",
       "      <th>12534</th>\n",
       "      <td>inspiration</td>\n",
       "      <td>4</td>\n",
       "    </tr>\n",
       "    <tr>\n",
       "      <th>10026</th>\n",
       "      <td>marketingQueries</td>\n",
       "      <td>5</td>\n",
       "    </tr>\n",
       "    <tr>\n",
       "      <th>11590</th>\n",
       "      <td>motherhood</td>\n",
       "      <td>6</td>\n",
       "    </tr>\n",
       "    <tr>\n",
       "      <th>11718</th>\n",
       "      <td>networking</td>\n",
       "      <td>7</td>\n",
       "    </tr>\n",
       "    <tr>\n",
       "      <th>12388</th>\n",
       "      <td>selfcare</td>\n",
       "      <td>8</td>\n",
       "    </tr>\n",
       "    <tr>\n",
       "      <th>10246</th>\n",
       "      <td>speaking-out</td>\n",
       "      <td>9</td>\n",
       "    </tr>\n",
       "    <tr>\n",
       "      <th>10051</th>\n",
       "      <td>starting-out</td>\n",
       "      <td>10</td>\n",
       "    </tr>\n",
       "  </tbody>\n",
       "</table>\n",
       "</div>"
      ],
      "text/plain": [
       "                hashtag  hashtag_encoding\n",
       "4296            Finance                 0\n",
       "9906   all-things-legal                 1\n",
       "5714      career-growth                 2\n",
       "9411      career-switch                 3\n",
       "12534       inspiration                 4\n",
       "10026  marketingQueries                 5\n",
       "11590        motherhood                 6\n",
       "11718        networking                 7\n",
       "12388          selfcare                 8\n",
       "10246      speaking-out                 9\n",
       "10051      starting-out                10"
      ]
     },
     "execution_count": 26,
     "metadata": {},
     "output_type": "execute_result"
    }
   ],
   "source": [
    "mapping = pd.DataFrame({'hashtag':train_y, 'hashtag_encoding':train_y_enc})\n",
    "mapping = mapping.drop_duplicates()\n",
    "mapping.sort_values(['hashtag_encoding'])"
   ]
  },
  {
   "cell_type": "code",
   "execution_count": null,
   "metadata": {},
   "outputs": [],
   "source": []
  },
  {
   "cell_type": "markdown",
   "metadata": {},
   "source": [
    "# Count Vectorizer as Features"
   ]
  },
  {
   "cell_type": "code",
   "execution_count": 27,
   "metadata": {},
   "outputs": [
    {
     "data": {
      "text/plain": [
       "CountVectorizer(analyzer='word', binary=False, decode_error='strict',\n",
       "                dtype=<class 'numpy.int64'>, encoding='utf-8', input='content',\n",
       "                lowercase=True, max_df=1.0, max_features=None, min_df=1,\n",
       "                ngram_range=(1, 1), preprocessor=None, stop_words=None,\n",
       "                strip_accents=None, token_pattern='\\\\w{1,}', tokenizer=None,\n",
       "                vocabulary=None)"
      ]
     },
     "execution_count": 27,
     "metadata": {},
     "output_type": "execute_result"
    }
   ],
   "source": [
    "# create a count vectorizer object \n",
    "count_vect = CountVectorizer(analyzer='word', token_pattern=r'\\w{1,}')\n",
    "count_vect.fit(train['text_clean'])"
   ]
  },
  {
   "cell_type": "code",
   "execution_count": 28,
   "metadata": {},
   "outputs": [],
   "source": [
    "# transform the training and validation data using count vectorizer object\n",
    "xtrain_count =  count_vect.transform(train_x)\n",
    "xvalid_count =  count_vect.transform(valid_x)"
   ]
  },
  {
   "cell_type": "markdown",
   "metadata": {},
   "source": [
    "# Word Level TFIDF Vectors as Features"
   ]
  },
  {
   "cell_type": "code",
   "execution_count": 29,
   "metadata": {},
   "outputs": [],
   "source": [
    "# word level tf-idf\n",
    "tfidf_vect = TfidfVectorizer(analyzer='word', token_pattern=r'\\w{1,}', max_features=5000)\n",
    "tfidf_vect.fit(train['text_clean'])\n",
    "xtrain_tfidf =  tfidf_vect.transform(train_x)\n",
    "xvalid_tfidf =  tfidf_vect.transform(valid_x)"
   ]
  },
  {
   "cell_type": "markdown",
   "metadata": {},
   "source": [
    "# N-gram Level TFIDF"
   ]
  },
  {
   "cell_type": "code",
   "execution_count": null,
   "metadata": {},
   "outputs": [],
   "source": [
    "# ngram level tf-idf \n",
    "tfidf_vect_ngram = TfidfVectorizer(analyzer='word', token_pattern=r'\\w{1,}', ngram_range=(2,3), max_features=5000)\n",
    "tfidf_vect_ngram.fit(train['text_clean'])\n",
    "xtrain_tfidf_ngram =  tfidf_vect_ngram.transform(train_x)\n",
    "xvalid_tfidf_ngram =  tfidf_vect_ngram.transform(valid_x)"
   ]
  },
  {
   "cell_type": "markdown",
   "metadata": {},
   "source": [
    "# Character Level TFIDF"
   ]
  },
  {
   "cell_type": "code",
   "execution_count": 42,
   "metadata": {},
   "outputs": [
    {
     "name": "stderr",
     "output_type": "stream",
     "text": [
      "/home/ec2-user/anaconda3/envs/tensorflow_p36/lib/python3.6/site-packages/sklearn/feature_extraction/text.py:524: UserWarning: The parameter 'token_pattern' will not be used since 'analyzer' != 'word'\n",
      "  warnings.warn(\"The parameter 'token_pattern' will not be used\"\n"
     ]
    }
   ],
   "source": [
    "# characters level tf-idf\n",
    "tfidf_vect_ngram_chars = TfidfVectorizer(analyzer='char', token_pattern=r'\\w{1,}', ngram_range=(2,3), max_features=5000)\n",
    "tfidf_vect_ngram_chars.fit(train['text_clean'])\n",
    "xtrain_tfidf_ngram_chars =  tfidf_vect_ngram_chars.transform(train_x) \n",
    "xvalid_tfidf_ngram_chars =  tfidf_vect_ngram_chars.transform(valid_x) "
   ]
  },
  {
   "cell_type": "markdown",
   "metadata": {},
   "source": [
    "# Model Building"
   ]
  },
  {
   "cell_type": "code",
   "execution_count": 30,
   "metadata": {},
   "outputs": [],
   "source": [
    "xtrain_var = xtrain_tfidf\n",
    "xvalid_var = xvalid_tfidf"
   ]
  },
  {
   "cell_type": "markdown",
   "metadata": {},
   "source": [
    "### Naive Bayes"
   ]
  },
  {
   "cell_type": "code",
   "execution_count": 57,
   "metadata": {},
   "outputs": [
    {
     "data": {
      "text/plain": [
       "MultinomialNB(alpha=1.0, class_prior=None, fit_prior=True)"
      ]
     },
     "execution_count": 57,
     "metadata": {},
     "output_type": "execute_result"
    }
   ],
   "source": [
    "classifier = naive_bayes.MultinomialNB()\n",
    "classifier.fit(xtrain_var, train_y_enc)"
   ]
  },
  {
   "cell_type": "markdown",
   "metadata": {},
   "source": [
    "### SVM"
   ]
  },
  {
   "cell_type": "code",
   "execution_count": 43,
   "metadata": {},
   "outputs": [
    {
     "data": {
      "text/plain": [
       "SVC(C=1.0, break_ties=False, cache_size=200, class_weight=None, coef0=0.0,\n",
       "    decision_function_shape='ovr', degree=3, gamma='scale', kernel='rbf',\n",
       "    max_iter=-1, probability=True, random_state=None, shrinking=True, tol=0.001,\n",
       "    verbose=False)"
      ]
     },
     "execution_count": 43,
     "metadata": {},
     "output_type": "execute_result"
    }
   ],
   "source": [
    "classifier = svm.SVC(probability=True)\n",
    "classifier.fit(xtrain_var, train_y_enc)"
   ]
  },
  {
   "cell_type": "markdown",
   "metadata": {},
   "source": [
    "### Random Forest"
   ]
  },
  {
   "cell_type": "code",
   "execution_count": 69,
   "metadata": {},
   "outputs": [
    {
     "data": {
      "text/plain": [
       "RandomForestClassifier(bootstrap=True, ccp_alpha=0.0, class_weight=None,\n",
       "                       criterion='gini', max_depth=None, max_features='auto',\n",
       "                       max_leaf_nodes=None, max_samples=None,\n",
       "                       min_impurity_decrease=0.0, min_impurity_split=None,\n",
       "                       min_samples_leaf=1, min_samples_split=2,\n",
       "                       min_weight_fraction_leaf=0.0, n_estimators=100,\n",
       "                       n_jobs=None, oob_score=False, random_state=None,\n",
       "                       verbose=0, warm_start=False)"
      ]
     },
     "execution_count": 69,
     "metadata": {},
     "output_type": "execute_result"
    }
   ],
   "source": [
    "classifier = ensemble.RandomForestClassifier()\n",
    "classifier.fit(xtrain_var, train_y_enc)"
   ]
  },
  {
   "cell_type": "markdown",
   "metadata": {},
   "source": [
    "### XGBoost"
   ]
  },
  {
   "cell_type": "code",
   "execution_count": 81,
   "metadata": {},
   "outputs": [
    {
     "data": {
      "text/plain": [
       "XGBClassifier(base_score=0.5, booster='gbtree', colsample_bylevel=1,\n",
       "              colsample_bynode=1, colsample_bytree=1, gamma=0, gpu_id=-1,\n",
       "              importance_type='gain', interaction_constraints='',\n",
       "              learning_rate=0.300000012, max_delta_step=0, max_depth=6,\n",
       "              min_child_weight=1, missing=nan, monotone_constraints='()',\n",
       "              n_estimators=100, n_jobs=0, num_parallel_tree=1,\n",
       "              objective='multi:softprob', random_state=0, reg_alpha=0,\n",
       "              reg_lambda=1, scale_pos_weight=None, subsample=1,\n",
       "              tree_method='exact', validate_parameters=1, verbosity=None)"
      ]
     },
     "execution_count": 81,
     "metadata": {},
     "output_type": "execute_result"
    }
   ],
   "source": [
    "classifier = xgboost.XGBClassifier()\n",
    "classifier.fit(xtrain_var, train_y_enc)"
   ]
  },
  {
   "cell_type": "markdown",
   "metadata": {},
   "source": [
    "### Shallow Neural Networks"
   ]
  },
  {
   "cell_type": "code",
   "execution_count": 92,
   "metadata": {},
   "outputs": [],
   "source": [
    "def create_model_architecture(input_size):\n",
    "    # create input layer \n",
    "    input_layer = layers.Input((input_size, ), sparse=True)\n",
    "    \n",
    "    # create hidden layer\n",
    "    hidden_layer = layers.Dense(1000, activation=\"relu\")(input_layer)\n",
    "    \n",
    "    # create output layer\n",
    "    output_layer = layers.Dense(11, activation=\"softmax\")(hidden_layer)\n",
    "\n",
    "    classifier = models.Model(inputs = input_layer, outputs = output_layer)\n",
    "    classifier.compile(optimizer=optimizers.Adam(), loss='binary_crossentropy')\n",
    "    return(classifier)"
   ]
  },
  {
   "cell_type": "code",
   "execution_count": 93,
   "metadata": {},
   "outputs": [],
   "source": [
    "train_y_onehot_enc = pd.get_dummies(train_y_enc)"
   ]
  },
  {
   "cell_type": "code",
   "execution_count": 94,
   "metadata": {},
   "outputs": [
    {
     "name": "stdout",
     "output_type": "stream",
     "text": [
      "WARNING:tensorflow:From /home/ec2-user/anaconda3/envs/tensorflow_p36/lib/python3.6/site-packages/keras/backend/tensorflow_backend.py:74: The name tf.get_default_graph is deprecated. Please use tf.compat.v1.get_default_graph instead.\n",
      "\n",
      "WARNING:tensorflow:From /home/ec2-user/anaconda3/envs/tensorflow_p36/lib/python3.6/site-packages/keras/backend/tensorflow_backend.py:515: The name tf.sparse_placeholder is deprecated. Please use tf.compat.v1.sparse_placeholder instead.\n",
      "\n",
      "WARNING:tensorflow:From /home/ec2-user/anaconda3/envs/tensorflow_p36/lib/python3.6/site-packages/keras/backend/tensorflow_backend.py:4138: The name tf.random_uniform is deprecated. Please use tf.random.uniform instead.\n",
      "\n",
      "WARNING:tensorflow:From /home/ec2-user/anaconda3/envs/tensorflow_p36/lib/python3.6/site-packages/keras/backend/tensorflow_backend.py:1083: The name tf.sparse_tensor_dense_matmul is deprecated. Please use tf.sparse.sparse_dense_matmul instead.\n",
      "\n",
      "WARNING:tensorflow:From /home/ec2-user/anaconda3/envs/tensorflow_p36/lib/python3.6/site-packages/keras/optimizers.py:790: The name tf.train.Optimizer is deprecated. Please use tf.compat.v1.train.Optimizer instead.\n",
      "\n",
      "WARNING:tensorflow:From /home/ec2-user/anaconda3/envs/tensorflow_p36/lib/python3.6/site-packages/keras/backend/tensorflow_backend.py:517: The name tf.placeholder is deprecated. Please use tf.compat.v1.placeholder instead.\n",
      "\n",
      "WARNING:tensorflow:From /home/ec2-user/anaconda3/envs/tensorflow_p36/lib/python3.6/site-packages/keras/backend/tensorflow_backend.py:3376: The name tf.log is deprecated. Please use tf.math.log instead.\n",
      "\n",
      "WARNING:tensorflow:From /home/ec2-user/anaconda3/envs/tensorflow_p36/lib/python3.6/site-packages/tensorflow_core/python/ops/nn_impl.py:183: where (from tensorflow.python.ops.array_ops) is deprecated and will be removed in a future version.\n",
      "Instructions for updating:\n",
      "Use tf.where in 2.0, which has the same broadcast rule as np.where\n",
      "WARNING:tensorflow:From /home/ec2-user/anaconda3/envs/tensorflow_p36/lib/python3.6/site-packages/keras/backend/tensorflow_backend.py:986: The name tf.assign_add is deprecated. Please use tf.compat.v1.assign_add instead.\n",
      "\n",
      "WARNING:tensorflow:From /home/ec2-user/anaconda3/envs/tensorflow_p36/lib/python3.6/site-packages/keras/backend/tensorflow_backend.py:973: The name tf.assign is deprecated. Please use tf.compat.v1.assign instead.\n",
      "\n",
      "WARNING:tensorflow:From /home/ec2-user/anaconda3/envs/tensorflow_p36/lib/python3.6/site-packages/keras/backend/tensorflow_backend.py:2741: The name tf.Session is deprecated. Please use tf.compat.v1.Session instead.\n",
      "\n",
      "Epoch 1/5\n",
      "WARNING:tensorflow:From /home/ec2-user/anaconda3/envs/tensorflow_p36/lib/python3.6/site-packages/keras/backend/tensorflow_backend.py:174: The name tf.get_default_session is deprecated. Please use tf.compat.v1.get_default_session instead.\n",
      "\n",
      "WARNING:tensorflow:From /home/ec2-user/anaconda3/envs/tensorflow_p36/lib/python3.6/site-packages/keras/backend/tensorflow_backend.py:184: The name tf.ConfigProto is deprecated. Please use tf.compat.v1.ConfigProto instead.\n",
      "\n",
      "WARNING:tensorflow:From /home/ec2-user/anaconda3/envs/tensorflow_p36/lib/python3.6/site-packages/keras/backend/tensorflow_backend.py:190: The name tf.global_variables is deprecated. Please use tf.compat.v1.global_variables instead.\n",
      "\n",
      "WARNING:tensorflow:From /home/ec2-user/anaconda3/envs/tensorflow_p36/lib/python3.6/site-packages/keras/backend/tensorflow_backend.py:199: The name tf.is_variable_initialized is deprecated. Please use tf.compat.v1.is_variable_initialized instead.\n",
      "\n",
      "WARNING:tensorflow:From /home/ec2-user/anaconda3/envs/tensorflow_p36/lib/python3.6/site-packages/keras/backend/tensorflow_backend.py:206: The name tf.variables_initializer is deprecated. Please use tf.compat.v1.variables_initializer instead.\n",
      "\n",
      "2367/2367 [==============================] - 6s 2ms/step - loss: 0.2848\n",
      "Epoch 2/5\n",
      "2367/2367 [==============================] - 5s 2ms/step - loss: 0.2390\n",
      "Epoch 3/5\n",
      "2367/2367 [==============================] - 5s 2ms/step - loss: 0.1986\n",
      "Epoch 4/5\n",
      "2367/2367 [==============================] - 5s 2ms/step - loss: 0.1681\n",
      "Epoch 5/5\n",
      "2367/2367 [==============================] - 5s 2ms/step - loss: 0.1524\n"
     ]
    },
    {
     "data": {
      "text/plain": [
       "<keras.callbacks.History at 0x7f66fad4def0>"
      ]
     },
     "execution_count": 94,
     "metadata": {},
     "output_type": "execute_result"
    }
   ],
   "source": [
    "classifier = create_model_architecture(xtrain_var.shape[1])\n",
    "classifier.fit(xtrain_var, train_y_onehot_enc, epochs=5)"
   ]
  },
  {
   "cell_type": "code",
   "execution_count": 97,
   "metadata": {},
   "outputs": [
    {
     "data": {
      "text/plain": [
       "array([0.01076617, 0.00769388, 0.04932269, 0.01066311, 0.10985273,\n",
       "       0.05245522, 0.01292596, 0.12018687, 0.06898011, 0.5431429 ,\n",
       "       0.01401038], dtype=float32)"
      ]
     },
     "execution_count": 97,
     "metadata": {},
     "output_type": "execute_result"
    }
   ],
   "source": [
    "prob_predictions = classifier.predict(xvalid_var)\n",
    "prob_predictions[0]"
   ]
  },
  {
   "cell_type": "markdown",
   "metadata": {},
   "source": [
    "### Deep Neural Networks - CNN"
   ]
  },
  {
   "cell_type": "code",
   "execution_count": null,
   "metadata": {},
   "outputs": [],
   "source": [
    "def create_cnn():\n",
    "    # Add an Input Layer\n",
    "    input_layer = layers.Input((5000,1))\n",
    "\n",
    "    # Add the convolutional Layer\n",
    "    conv_layer = layers.Convolution1D(100, 3, activation=\"relu\")(input_layer)\n",
    "\n",
    "    # Add the pooling Layer\n",
    "    pooling_layer = layers.GlobalMaxPool1D()(conv_layer)\n",
    "\n",
    "    # Add the output Layers\n",
    "    output_layer1 = layers.Dense(50, activation=\"relu\")(pooling_layer)\n",
    "    output_layer1 = layers.Dropout(0.25)(output_layer1)\n",
    "    output_layer2 = layers.Dense(11, activation=\"softmax\")(output_layer1)\n",
    "\n",
    "    # Compile the model\n",
    "    model = models.Model(inputs=input_layer, outputs=output_layer2)\n",
    "    model.compile(optimizer=optimizers.Adam(), loss='binary_crossentropy')\n",
    "    \n",
    "    return model"
   ]
  },
  {
   "cell_type": "code",
   "execution_count": null,
   "metadata": {},
   "outputs": [],
   "source": [
    "classifier = create_cnn()\n",
    "classifier.fit(xtrain_var, train_y_onehot_enc)"
   ]
  },
  {
   "cell_type": "code",
   "execution_count": null,
   "metadata": {},
   "outputs": [],
   "source": []
  },
  {
   "cell_type": "markdown",
   "metadata": {},
   "source": [
    "# Prediction for Accuracy"
   ]
  },
  {
   "cell_type": "code",
   "execution_count": null,
   "metadata": {},
   "outputs": [],
   "source": [
    "#predictions = classifier.predict(xvalid_count)"
   ]
  },
  {
   "cell_type": "code",
   "execution_count": 96,
   "metadata": {},
   "outputs": [
    {
     "ename": "AttributeError",
     "evalue": "'Model' object has no attribute 'predict_proba'",
     "output_type": "error",
     "traceback": [
      "\u001b[0;31m---------------------------------------------------------------------------\u001b[0m",
      "\u001b[0;31mAttributeError\u001b[0m                            Traceback (most recent call last)",
      "\u001b[0;32m<ipython-input-96-80e3fc9e2545>\u001b[0m in \u001b[0;36m<module>\u001b[0;34m()\u001b[0m\n\u001b[0;32m----> 1\u001b[0;31m \u001b[0mprob_predictions\u001b[0m \u001b[0;34m=\u001b[0m \u001b[0mclassifier\u001b[0m\u001b[0;34m.\u001b[0m\u001b[0mpredict_proba\u001b[0m\u001b[0;34m(\u001b[0m\u001b[0mxvalid_var\u001b[0m\u001b[0;34m)\u001b[0m\u001b[0;34m\u001b[0m\u001b[0m\n\u001b[0m\u001b[1;32m      2\u001b[0m \u001b[0mprob_predictions\u001b[0m\u001b[0;34m[\u001b[0m\u001b[0;36m0\u001b[0m\u001b[0;34m]\u001b[0m\u001b[0;34m\u001b[0m\u001b[0m\n",
      "\u001b[0;31mAttributeError\u001b[0m: 'Model' object has no attribute 'predict_proba'"
     ]
    }
   ],
   "source": [
    "prob_predictions = classifier.predict_proba(xvalid_var)\n",
    "prob_predictions[0]"
   ]
  },
  {
   "cell_type": "code",
   "execution_count": null,
   "metadata": {},
   "outputs": [],
   "source": []
  },
  {
   "cell_type": "code",
   "execution_count": 98,
   "metadata": {},
   "outputs": [
    {
     "name": "stdout",
     "output_type": "stream",
     "text": [
      "(700, 11)\n"
     ]
    },
    {
     "data": {
      "text/html": [
       "<div>\n",
       "<style scoped>\n",
       "    .dataframe tbody tr th:only-of-type {\n",
       "        vertical-align: middle;\n",
       "    }\n",
       "\n",
       "    .dataframe tbody tr th {\n",
       "        vertical-align: top;\n",
       "    }\n",
       "\n",
       "    .dataframe thead th {\n",
       "        text-align: right;\n",
       "    }\n",
       "</style>\n",
       "<table border=\"1\" class=\"dataframe\">\n",
       "  <thead>\n",
       "    <tr style=\"text-align: right;\">\n",
       "      <th></th>\n",
       "      <th>0</th>\n",
       "      <th>1</th>\n",
       "      <th>2</th>\n",
       "      <th>3</th>\n",
       "      <th>4</th>\n",
       "      <th>5</th>\n",
       "      <th>6</th>\n",
       "      <th>7</th>\n",
       "      <th>8</th>\n",
       "      <th>9</th>\n",
       "      <th>10</th>\n",
       "      <th>contentId</th>\n",
       "    </tr>\n",
       "  </thead>\n",
       "  <tbody>\n",
       "    <tr>\n",
       "      <th>0</th>\n",
       "      <td>0.010766</td>\n",
       "      <td>0.007694</td>\n",
       "      <td>0.049323</td>\n",
       "      <td>0.010663</td>\n",
       "      <td>0.109853</td>\n",
       "      <td>0.052455</td>\n",
       "      <td>0.012926</td>\n",
       "      <td>0.120187</td>\n",
       "      <td>0.068980</td>\n",
       "      <td>0.543143</td>\n",
       "      <td>0.014010</td>\n",
       "      <td>5df4556a7e4ea600161b8e32</td>\n",
       "    </tr>\n",
       "    <tr>\n",
       "      <th>1</th>\n",
       "      <td>0.004912</td>\n",
       "      <td>0.003344</td>\n",
       "      <td>0.039619</td>\n",
       "      <td>0.420561</td>\n",
       "      <td>0.338132</td>\n",
       "      <td>0.005177</td>\n",
       "      <td>0.007786</td>\n",
       "      <td>0.012904</td>\n",
       "      <td>0.015569</td>\n",
       "      <td>0.059635</td>\n",
       "      <td>0.092363</td>\n",
       "      <td>5df457077e4ea600161b8e53</td>\n",
       "    </tr>\n",
       "    <tr>\n",
       "      <th>2</th>\n",
       "      <td>0.013665</td>\n",
       "      <td>0.005795</td>\n",
       "      <td>0.051754</td>\n",
       "      <td>0.016515</td>\n",
       "      <td>0.010483</td>\n",
       "      <td>0.057493</td>\n",
       "      <td>0.004400</td>\n",
       "      <td>0.646000</td>\n",
       "      <td>0.006063</td>\n",
       "      <td>0.006752</td>\n",
       "      <td>0.181080</td>\n",
       "      <td>5df459cf7e4ea600161b8eaa</td>\n",
       "    </tr>\n",
       "    <tr>\n",
       "      <th>3</th>\n",
       "      <td>0.003444</td>\n",
       "      <td>0.001670</td>\n",
       "      <td>0.402506</td>\n",
       "      <td>0.012717</td>\n",
       "      <td>0.016926</td>\n",
       "      <td>0.032238</td>\n",
       "      <td>0.004026</td>\n",
       "      <td>0.042816</td>\n",
       "      <td>0.012660</td>\n",
       "      <td>0.043460</td>\n",
       "      <td>0.427539</td>\n",
       "      <td>5df45a507e4ea600161b8eb8</td>\n",
       "    </tr>\n",
       "    <tr>\n",
       "      <th>4</th>\n",
       "      <td>0.027111</td>\n",
       "      <td>0.017667</td>\n",
       "      <td>0.089330</td>\n",
       "      <td>0.554980</td>\n",
       "      <td>0.009403</td>\n",
       "      <td>0.051502</td>\n",
       "      <td>0.015449</td>\n",
       "      <td>0.046997</td>\n",
       "      <td>0.007791</td>\n",
       "      <td>0.035277</td>\n",
       "      <td>0.144493</td>\n",
       "      <td>5df45e1d7e4ea600161b8f43</td>\n",
       "    </tr>\n",
       "  </tbody>\n",
       "</table>\n",
       "</div>"
      ],
      "text/plain": [
       "          0         1         2         3         4         5         6  \\\n",
       "0  0.010766  0.007694  0.049323  0.010663  0.109853  0.052455  0.012926   \n",
       "1  0.004912  0.003344  0.039619  0.420561  0.338132  0.005177  0.007786   \n",
       "2  0.013665  0.005795  0.051754  0.016515  0.010483  0.057493  0.004400   \n",
       "3  0.003444  0.001670  0.402506  0.012717  0.016926  0.032238  0.004026   \n",
       "4  0.027111  0.017667  0.089330  0.554980  0.009403  0.051502  0.015449   \n",
       "\n",
       "          7         8         9        10                 contentId  \n",
       "0  0.120187  0.068980  0.543143  0.014010  5df4556a7e4ea600161b8e32  \n",
       "1  0.012904  0.015569  0.059635  0.092363  5df457077e4ea600161b8e53  \n",
       "2  0.646000  0.006063  0.006752  0.181080  5df459cf7e4ea600161b8eaa  \n",
       "3  0.042816  0.012660  0.043460  0.427539  5df45a507e4ea600161b8eb8  \n",
       "4  0.046997  0.007791  0.035277  0.144493  5df45e1d7e4ea600161b8f43  "
      ]
     },
     "execution_count": 98,
     "metadata": {},
     "output_type": "execute_result"
    }
   ],
   "source": [
    "prob_prediction_df = pd.DataFrame(prob_predictions)\n",
    "print(prob_prediction_df.shape)\n",
    "prob_prediction_df['contentId'] = validation_rollup['contentId']\n",
    "prob_prediction_df.head()"
   ]
  },
  {
   "cell_type": "code",
   "execution_count": null,
   "metadata": {},
   "outputs": [],
   "source": []
  },
  {
   "cell_type": "code",
   "execution_count": 99,
   "metadata": {
    "scrolled": true
   },
   "outputs": [
    {
     "data": {
      "text/html": [
       "<div>\n",
       "<style scoped>\n",
       "    .dataframe tbody tr th:only-of-type {\n",
       "        vertical-align: middle;\n",
       "    }\n",
       "\n",
       "    .dataframe tbody tr th {\n",
       "        vertical-align: top;\n",
       "    }\n",
       "\n",
       "    .dataframe thead th {\n",
       "        text-align: right;\n",
       "    }\n",
       "</style>\n",
       "<table border=\"1\" class=\"dataframe\">\n",
       "  <thead>\n",
       "    <tr style=\"text-align: right;\">\n",
       "      <th></th>\n",
       "      <th>contentId</th>\n",
       "      <th>hashtag_encoding</th>\n",
       "      <th>predicted_prob</th>\n",
       "      <th>hashtag_rank</th>\n",
       "      <th>hashtag</th>\n",
       "      <th>pred_rank</th>\n",
       "    </tr>\n",
       "  </thead>\n",
       "  <tbody>\n",
       "    <tr>\n",
       "      <th>0</th>\n",
       "      <td>5df4556a7e4ea600161b8e32</td>\n",
       "      <td>9</td>\n",
       "      <td>0.543143</td>\n",
       "      <td>1.0</td>\n",
       "      <td>speaking-out</td>\n",
       "      <td>pred_rank_1</td>\n",
       "    </tr>\n",
       "    <tr>\n",
       "      <th>1</th>\n",
       "      <td>5df4556a7e4ea600161b8e32</td>\n",
       "      <td>7</td>\n",
       "      <td>0.120187</td>\n",
       "      <td>2.0</td>\n",
       "      <td>networking</td>\n",
       "      <td>pred_rank_2</td>\n",
       "    </tr>\n",
       "    <tr>\n",
       "      <th>2</th>\n",
       "      <td>5df4556a7e4ea600161b8e32</td>\n",
       "      <td>4</td>\n",
       "      <td>0.109853</td>\n",
       "      <td>3.0</td>\n",
       "      <td>inspiration</td>\n",
       "      <td>pred_rank_3</td>\n",
       "    </tr>\n",
       "    <tr>\n",
       "      <th>3</th>\n",
       "      <td>5df4556a7e4ea600161b8e32</td>\n",
       "      <td>8</td>\n",
       "      <td>0.068980</td>\n",
       "      <td>4.0</td>\n",
       "      <td>selfcare</td>\n",
       "      <td>pred_rank_4</td>\n",
       "    </tr>\n",
       "    <tr>\n",
       "      <th>4</th>\n",
       "      <td>5df4556a7e4ea600161b8e32</td>\n",
       "      <td>5</td>\n",
       "      <td>0.052455</td>\n",
       "      <td>5.0</td>\n",
       "      <td>marketingQueries</td>\n",
       "      <td>pred_rank_5</td>\n",
       "    </tr>\n",
       "  </tbody>\n",
       "</table>\n",
       "</div>"
      ],
      "text/plain": [
       "                  contentId hashtag_encoding  predicted_prob  hashtag_rank  \\\n",
       "0  5df4556a7e4ea600161b8e32                9        0.543143           1.0   \n",
       "1  5df4556a7e4ea600161b8e32                7        0.120187           2.0   \n",
       "2  5df4556a7e4ea600161b8e32                4        0.109853           3.0   \n",
       "3  5df4556a7e4ea600161b8e32                8        0.068980           4.0   \n",
       "4  5df4556a7e4ea600161b8e32                5        0.052455           5.0   \n",
       "\n",
       "            hashtag    pred_rank  \n",
       "0      speaking-out  pred_rank_1  \n",
       "1        networking  pred_rank_2  \n",
       "2       inspiration  pred_rank_3  \n",
       "3          selfcare  pred_rank_4  \n",
       "4  marketingQueries  pred_rank_5  "
      ]
     },
     "execution_count": 99,
     "metadata": {},
     "output_type": "execute_result"
    }
   ],
   "source": [
    "prob_prediction_df_long = pd.melt(prob_prediction_df, id_vars='contentId', value_vars=range(11))\n",
    "prob_prediction_df_long.columns = ['contentId', 'hashtag_encoding', 'predicted_prob']\n",
    "prob_prediction_df_long['hashtag_rank'] = prob_prediction_df_long.groupby(['contentId'])['predicted_prob'].rank(ascending=False, method = 'first')\n",
    "prob_prediction_df_long = prob_prediction_df_long.sort_values(['contentId', 'hashtag_rank'])\n",
    "prob_prediction_df_long = pd.merge(prob_prediction_df_long, mapping, how = 'left', on = 'hashtag_encoding')\n",
    "prob_prediction_df_long['pred_rank'] = 'pred_rank_' + prob_prediction_df_long['hashtag_rank'].astype(int).map(str)\n",
    "prob_prediction_df_long = prob_prediction_df_long.sort_values(['contentId', 'hashtag_rank'])\n",
    "prob_prediction_df_long.head()"
   ]
  },
  {
   "cell_type": "code",
   "execution_count": 100,
   "metadata": {},
   "outputs": [
    {
     "name": "stdout",
     "output_type": "stream",
     "text": [
      "(700, 12)\n"
     ]
    },
    {
     "data": {
      "text/html": [
       "<div>\n",
       "<style scoped>\n",
       "    .dataframe tbody tr th:only-of-type {\n",
       "        vertical-align: middle;\n",
       "    }\n",
       "\n",
       "    .dataframe tbody tr th {\n",
       "        vertical-align: top;\n",
       "    }\n",
       "\n",
       "    .dataframe thead th {\n",
       "        text-align: right;\n",
       "    }\n",
       "</style>\n",
       "<table border=\"1\" class=\"dataframe\">\n",
       "  <thead>\n",
       "    <tr style=\"text-align: right;\">\n",
       "      <th></th>\n",
       "      <th>contentId</th>\n",
       "      <th>hashtag_pred_rank_1</th>\n",
       "      <th>hashtag_pred_rank_10</th>\n",
       "      <th>hashtag_pred_rank_11</th>\n",
       "      <th>hashtag_pred_rank_2</th>\n",
       "      <th>hashtag_pred_rank_3</th>\n",
       "      <th>hashtag_pred_rank_4</th>\n",
       "      <th>hashtag_pred_rank_5</th>\n",
       "      <th>hashtag_pred_rank_6</th>\n",
       "      <th>hashtag_pred_rank_7</th>\n",
       "      <th>hashtag_pred_rank_8</th>\n",
       "      <th>hashtag_pred_rank_9</th>\n",
       "    </tr>\n",
       "  </thead>\n",
       "  <tbody>\n",
       "    <tr>\n",
       "      <th>0</th>\n",
       "      <td>5df4556a7e4ea600161b8e32</td>\n",
       "      <td>speaking-out</td>\n",
       "      <td>career-switch</td>\n",
       "      <td>all-things-legal</td>\n",
       "      <td>networking</td>\n",
       "      <td>inspiration</td>\n",
       "      <td>selfcare</td>\n",
       "      <td>marketingQueries</td>\n",
       "      <td>career-growth</td>\n",
       "      <td>starting-out</td>\n",
       "      <td>motherhood</td>\n",
       "      <td>Finance</td>\n",
       "    </tr>\n",
       "    <tr>\n",
       "      <th>1</th>\n",
       "      <td>5df457077e4ea600161b8e53</td>\n",
       "      <td>career-switch</td>\n",
       "      <td>Finance</td>\n",
       "      <td>all-things-legal</td>\n",
       "      <td>inspiration</td>\n",
       "      <td>starting-out</td>\n",
       "      <td>speaking-out</td>\n",
       "      <td>career-growth</td>\n",
       "      <td>selfcare</td>\n",
       "      <td>networking</td>\n",
       "      <td>motherhood</td>\n",
       "      <td>marketingQueries</td>\n",
       "    </tr>\n",
       "    <tr>\n",
       "      <th>2</th>\n",
       "      <td>5df459cf7e4ea600161b8eaa</td>\n",
       "      <td>networking</td>\n",
       "      <td>all-things-legal</td>\n",
       "      <td>motherhood</td>\n",
       "      <td>starting-out</td>\n",
       "      <td>marketingQueries</td>\n",
       "      <td>career-growth</td>\n",
       "      <td>career-switch</td>\n",
       "      <td>Finance</td>\n",
       "      <td>inspiration</td>\n",
       "      <td>speaking-out</td>\n",
       "      <td>selfcare</td>\n",
       "    </tr>\n",
       "    <tr>\n",
       "      <th>3</th>\n",
       "      <td>5df45a507e4ea600161b8eb8</td>\n",
       "      <td>starting-out</td>\n",
       "      <td>Finance</td>\n",
       "      <td>all-things-legal</td>\n",
       "      <td>career-growth</td>\n",
       "      <td>speaking-out</td>\n",
       "      <td>networking</td>\n",
       "      <td>marketingQueries</td>\n",
       "      <td>inspiration</td>\n",
       "      <td>career-switch</td>\n",
       "      <td>selfcare</td>\n",
       "      <td>motherhood</td>\n",
       "    </tr>\n",
       "    <tr>\n",
       "      <th>4</th>\n",
       "      <td>5df45e1d7e4ea600161b8f43</td>\n",
       "      <td>career-switch</td>\n",
       "      <td>inspiration</td>\n",
       "      <td>selfcare</td>\n",
       "      <td>starting-out</td>\n",
       "      <td>career-growth</td>\n",
       "      <td>marketingQueries</td>\n",
       "      <td>networking</td>\n",
       "      <td>speaking-out</td>\n",
       "      <td>Finance</td>\n",
       "      <td>all-things-legal</td>\n",
       "      <td>motherhood</td>\n",
       "    </tr>\n",
       "  </tbody>\n",
       "</table>\n",
       "</div>"
      ],
      "text/plain": [
       "                  contentId hashtag_pred_rank_1 hashtag_pred_rank_10  \\\n",
       "0  5df4556a7e4ea600161b8e32        speaking-out        career-switch   \n",
       "1  5df457077e4ea600161b8e53       career-switch              Finance   \n",
       "2  5df459cf7e4ea600161b8eaa          networking     all-things-legal   \n",
       "3  5df45a507e4ea600161b8eb8        starting-out              Finance   \n",
       "4  5df45e1d7e4ea600161b8f43       career-switch          inspiration   \n",
       "\n",
       "  hashtag_pred_rank_11 hashtag_pred_rank_2 hashtag_pred_rank_3  \\\n",
       "0     all-things-legal          networking         inspiration   \n",
       "1     all-things-legal         inspiration        starting-out   \n",
       "2           motherhood        starting-out    marketingQueries   \n",
       "3     all-things-legal       career-growth        speaking-out   \n",
       "4             selfcare        starting-out       career-growth   \n",
       "\n",
       "  hashtag_pred_rank_4 hashtag_pred_rank_5 hashtag_pred_rank_6  \\\n",
       "0            selfcare    marketingQueries       career-growth   \n",
       "1        speaking-out       career-growth            selfcare   \n",
       "2       career-growth       career-switch             Finance   \n",
       "3          networking    marketingQueries         inspiration   \n",
       "4    marketingQueries          networking        speaking-out   \n",
       "\n",
       "  hashtag_pred_rank_7 hashtag_pred_rank_8 hashtag_pred_rank_9  \n",
       "0        starting-out          motherhood             Finance  \n",
       "1          networking          motherhood    marketingQueries  \n",
       "2         inspiration        speaking-out            selfcare  \n",
       "3       career-switch            selfcare          motherhood  \n",
       "4             Finance    all-things-legal          motherhood  "
      ]
     },
     "execution_count": 100,
     "metadata": {},
     "output_type": "execute_result"
    }
   ],
   "source": [
    "prob_prediction_df_wide = prob_prediction_df_long.pivot_table(index = ['contentId'], columns = 'pred_rank', values = ['hashtag'], aggfunc=lambda x: ''.join(x))\n",
    "prob_prediction_df_wide = prob_prediction_df_wide.reset_index()\n",
    "prob_prediction_df_wide.columns = ['%s%s' % (a, '_%s' % b if b else '') for a, b in prob_prediction_df_wide.columns]\n",
    "print(prob_prediction_df_wide.shape)\n",
    "prob_prediction_df_wide.head()\n"
   ]
  },
  {
   "cell_type": "code",
   "execution_count": null,
   "metadata": {},
   "outputs": [],
   "source": []
  },
  {
   "cell_type": "code",
   "execution_count": 101,
   "metadata": {},
   "outputs": [
    {
     "name": "stdout",
     "output_type": "stream",
     "text": [
      "(700, 15)\n"
     ]
    },
    {
     "data": {
      "text/html": [
       "<div>\n",
       "<style scoped>\n",
       "    .dataframe tbody tr th:only-of-type {\n",
       "        vertical-align: middle;\n",
       "    }\n",
       "\n",
       "    .dataframe tbody tr th {\n",
       "        vertical-align: top;\n",
       "    }\n",
       "\n",
       "    .dataframe thead th {\n",
       "        text-align: right;\n",
       "    }\n",
       "</style>\n",
       "<table border=\"1\" class=\"dataframe\">\n",
       "  <thead>\n",
       "    <tr style=\"text-align: right;\">\n",
       "      <th></th>\n",
       "      <th>contentId</th>\n",
       "      <th>text</th>\n",
       "      <th>hashtag_list</th>\n",
       "      <th>hashtag_count</th>\n",
       "      <th>hashtag_pred_rank_1</th>\n",
       "      <th>hashtag_pred_rank_10</th>\n",
       "      <th>hashtag_pred_rank_11</th>\n",
       "      <th>hashtag_pred_rank_2</th>\n",
       "      <th>hashtag_pred_rank_3</th>\n",
       "      <th>hashtag_pred_rank_4</th>\n",
       "      <th>hashtag_pred_rank_5</th>\n",
       "      <th>hashtag_pred_rank_6</th>\n",
       "      <th>hashtag_pred_rank_7</th>\n",
       "      <th>hashtag_pred_rank_8</th>\n",
       "      <th>hashtag_pred_rank_9</th>\n",
       "    </tr>\n",
       "  </thead>\n",
       "  <tbody>\n",
       "    <tr>\n",
       "      <th>0</th>\n",
       "      <td>5df4556a7e4ea600161b8e32</td>\n",
       "      <td>My name is Shreshtha. I have often faced probl...</td>\n",
       "      <td>Finance</td>\n",
       "      <td>1</td>\n",
       "      <td>speaking-out</td>\n",
       "      <td>career-switch</td>\n",
       "      <td>all-things-legal</td>\n",
       "      <td>networking</td>\n",
       "      <td>inspiration</td>\n",
       "      <td>selfcare</td>\n",
       "      <td>marketingQueries</td>\n",
       "      <td>career-growth</td>\n",
       "      <td>starting-out</td>\n",
       "      <td>motherhood</td>\n",
       "      <td>Finance</td>\n",
       "    </tr>\n",
       "    <tr>\n",
       "      <th>1</th>\n",
       "      <td>5df457077e4ea600161b8e53</td>\n",
       "      <td>Hello, my name is Kalyani. I have done my bach...</td>\n",
       "      <td>Finance</td>\n",
       "      <td>1</td>\n",
       "      <td>career-switch</td>\n",
       "      <td>Finance</td>\n",
       "      <td>all-things-legal</td>\n",
       "      <td>inspiration</td>\n",
       "      <td>starting-out</td>\n",
       "      <td>speaking-out</td>\n",
       "      <td>career-growth</td>\n",
       "      <td>selfcare</td>\n",
       "      <td>networking</td>\n",
       "      <td>motherhood</td>\n",
       "      <td>marketingQueries</td>\n",
       "    </tr>\n",
       "    <tr>\n",
       "      <th>2</th>\n",
       "      <td>5df459cf7e4ea600161b8eaa</td>\n",
       "      <td>Gaurika here. I am an aspiring freelancer. Bef...</td>\n",
       "      <td>starting-out</td>\n",
       "      <td>1</td>\n",
       "      <td>networking</td>\n",
       "      <td>all-things-legal</td>\n",
       "      <td>motherhood</td>\n",
       "      <td>starting-out</td>\n",
       "      <td>marketingQueries</td>\n",
       "      <td>career-growth</td>\n",
       "      <td>career-switch</td>\n",
       "      <td>Finance</td>\n",
       "      <td>inspiration</td>\n",
       "      <td>speaking-out</td>\n",
       "      <td>selfcare</td>\n",
       "    </tr>\n",
       "    <tr>\n",
       "      <th>3</th>\n",
       "      <td>5df45a507e4ea600161b8eb8</td>\n",
       "      <td>My name is Sharmila.I have been a homemaker fo...</td>\n",
       "      <td>career-switch</td>\n",
       "      <td>1</td>\n",
       "      <td>starting-out</td>\n",
       "      <td>Finance</td>\n",
       "      <td>all-things-legal</td>\n",
       "      <td>career-growth</td>\n",
       "      <td>speaking-out</td>\n",
       "      <td>networking</td>\n",
       "      <td>marketingQueries</td>\n",
       "      <td>inspiration</td>\n",
       "      <td>career-switch</td>\n",
       "      <td>selfcare</td>\n",
       "      <td>motherhood</td>\n",
       "    </tr>\n",
       "    <tr>\n",
       "      <th>4</th>\n",
       "      <td>5df45e1d7e4ea600161b8f43</td>\n",
       "      <td>I have been at home on a break for the last 3 ...</td>\n",
       "      <td>career-growth</td>\n",
       "      <td>1</td>\n",
       "      <td>career-switch</td>\n",
       "      <td>inspiration</td>\n",
       "      <td>selfcare</td>\n",
       "      <td>starting-out</td>\n",
       "      <td>career-growth</td>\n",
       "      <td>marketingQueries</td>\n",
       "      <td>networking</td>\n",
       "      <td>speaking-out</td>\n",
       "      <td>Finance</td>\n",
       "      <td>all-things-legal</td>\n",
       "      <td>motherhood</td>\n",
       "    </tr>\n",
       "  </tbody>\n",
       "</table>\n",
       "</div>"
      ],
      "text/plain": [
       "                  contentId  \\\n",
       "0  5df4556a7e4ea600161b8e32   \n",
       "1  5df457077e4ea600161b8e53   \n",
       "2  5df459cf7e4ea600161b8eaa   \n",
       "3  5df45a507e4ea600161b8eb8   \n",
       "4  5df45e1d7e4ea600161b8f43   \n",
       "\n",
       "                                                text   hashtag_list  \\\n",
       "0  My name is Shreshtha. I have often faced probl...        Finance   \n",
       "1  Hello, my name is Kalyani. I have done my bach...        Finance   \n",
       "2  Gaurika here. I am an aspiring freelancer. Bef...   starting-out   \n",
       "3  My name is Sharmila.I have been a homemaker fo...  career-switch   \n",
       "4  I have been at home on a break for the last 3 ...  career-growth   \n",
       "\n",
       "   hashtag_count hashtag_pred_rank_1 hashtag_pred_rank_10  \\\n",
       "0              1        speaking-out        career-switch   \n",
       "1              1       career-switch              Finance   \n",
       "2              1          networking     all-things-legal   \n",
       "3              1        starting-out              Finance   \n",
       "4              1       career-switch          inspiration   \n",
       "\n",
       "  hashtag_pred_rank_11 hashtag_pred_rank_2 hashtag_pred_rank_3  \\\n",
       "0     all-things-legal          networking         inspiration   \n",
       "1     all-things-legal         inspiration        starting-out   \n",
       "2           motherhood        starting-out    marketingQueries   \n",
       "3     all-things-legal       career-growth        speaking-out   \n",
       "4             selfcare        starting-out       career-growth   \n",
       "\n",
       "  hashtag_pred_rank_4 hashtag_pred_rank_5 hashtag_pred_rank_6  \\\n",
       "0            selfcare    marketingQueries       career-growth   \n",
       "1        speaking-out       career-growth            selfcare   \n",
       "2       career-growth       career-switch             Finance   \n",
       "3          networking    marketingQueries         inspiration   \n",
       "4    marketingQueries          networking        speaking-out   \n",
       "\n",
       "  hashtag_pred_rank_7 hashtag_pred_rank_8 hashtag_pred_rank_9  \n",
       "0        starting-out          motherhood             Finance  \n",
       "1          networking          motherhood    marketingQueries  \n",
       "2         inspiration        speaking-out            selfcare  \n",
       "3       career-switch            selfcare          motherhood  \n",
       "4             Finance    all-things-legal          motherhood  "
      ]
     },
     "execution_count": 101,
     "metadata": {},
     "output_type": "execute_result"
    }
   ],
   "source": [
    "prediction_results = pd.merge(validation_rollup[['contentId', 'text', 'hashtag_list', 'hashtag_count']], prob_prediction_df_wide, how = 'right', on='contentId', sort=False, copy=True)\n",
    "#prediction_results = prediction_results.drop(['index_col'], axis=1)\n",
    "print(prediction_results.shape)\n",
    "prediction_results.head()"
   ]
  },
  {
   "cell_type": "code",
   "execution_count": 102,
   "metadata": {},
   "outputs": [
    {
     "name": "stdout",
     "output_type": "stream",
     "text": [
      "Exact Match 1st Prediction: 126\n",
      "Exact Match 2nd Prediction: 117\n",
      "Exact Match 3rd Prediction: 134\n",
      "Exact Match 4th Prediction: 93\n",
      "Exact Match 5th Prediction: 45\n"
     ]
    }
   ],
   "source": [
    "print(\"Exact Match 1st Prediction:\", sum(prediction_results['hashtag_list'] == prediction_results['hashtag_pred_rank_1']))\n",
    "print(\"Exact Match 2nd Prediction:\", sum(prediction_results['hashtag_list'] == prediction_results['hashtag_pred_rank_2']))\n",
    "print(\"Exact Match 3rd Prediction:\", sum(prediction_results['hashtag_list'] == prediction_results['hashtag_pred_rank_3']))\n",
    "print(\"Exact Match 4th Prediction:\", sum(prediction_results['hashtag_list'] == prediction_results['hashtag_pred_rank_4']))\n",
    "print(\"Exact Match 5th Prediction:\", sum(prediction_results['hashtag_list'] == prediction_results['hashtag_pred_rank_5']))\n"
   ]
  },
  {
   "cell_type": "code",
   "execution_count": 103,
   "metadata": {},
   "outputs": [
    {
     "data": {
      "text/plain": [
       "['Finance']"
      ]
     },
     "execution_count": 103,
     "metadata": {},
     "output_type": "execute_result"
    }
   ],
   "source": [
    "h_list = prediction_results['hashtag_list'].str.split(',')\n",
    "h_list[0]"
   ]
  },
  {
   "cell_type": "code",
   "execution_count": 104,
   "metadata": {},
   "outputs": [
    {
     "data": {
      "text/plain": [
       "['speaking-out', 'networking', 'inspiration']"
      ]
     },
     "execution_count": 104,
     "metadata": {},
     "output_type": "execute_result"
    }
   ],
   "source": [
    "top_3_pred = prediction_results[['hashtag_pred_rank_1', 'hashtag_pred_rank_2', 'hashtag_pred_rank_3']].values.tolist()\n",
    "top_3_pred[0]"
   ]
  },
  {
   "cell_type": "code",
   "execution_count": 105,
   "metadata": {},
   "outputs": [
    {
     "data": {
      "text/html": [
       "<div>\n",
       "<style scoped>\n",
       "    .dataframe tbody tr th:only-of-type {\n",
       "        vertical-align: middle;\n",
       "    }\n",
       "\n",
       "    .dataframe tbody tr th {\n",
       "        vertical-align: top;\n",
       "    }\n",
       "\n",
       "    .dataframe thead th {\n",
       "        text-align: right;\n",
       "    }\n",
       "</style>\n",
       "<table border=\"1\" class=\"dataframe\">\n",
       "  <thead>\n",
       "    <tr style=\"text-align: right;\">\n",
       "      <th></th>\n",
       "      <th>contentId</th>\n",
       "      <th>text</th>\n",
       "      <th>hashtag_list</th>\n",
       "      <th>hashtag_count</th>\n",
       "      <th>hashtag_pred_rank_1</th>\n",
       "      <th>hashtag_pred_rank_10</th>\n",
       "      <th>hashtag_pred_rank_11</th>\n",
       "      <th>hashtag_pred_rank_2</th>\n",
       "      <th>hashtag_pred_rank_3</th>\n",
       "      <th>hashtag_pred_rank_4</th>\n",
       "      <th>hashtag_pred_rank_5</th>\n",
       "      <th>hashtag_pred_rank_6</th>\n",
       "      <th>hashtag_pred_rank_7</th>\n",
       "      <th>hashtag_pred_rank_8</th>\n",
       "      <th>hashtag_pred_rank_9</th>\n",
       "      <th>matching_hashtag_ct</th>\n",
       "      <th>matching_percent</th>\n",
       "    </tr>\n",
       "  </thead>\n",
       "  <tbody>\n",
       "    <tr>\n",
       "      <th>0</th>\n",
       "      <td>5df4556a7e4ea600161b8e32</td>\n",
       "      <td>My name is Shreshtha. I have often faced probl...</td>\n",
       "      <td>Finance</td>\n",
       "      <td>1</td>\n",
       "      <td>speaking-out</td>\n",
       "      <td>career-switch</td>\n",
       "      <td>all-things-legal</td>\n",
       "      <td>networking</td>\n",
       "      <td>inspiration</td>\n",
       "      <td>selfcare</td>\n",
       "      <td>marketingQueries</td>\n",
       "      <td>career-growth</td>\n",
       "      <td>starting-out</td>\n",
       "      <td>motherhood</td>\n",
       "      <td>Finance</td>\n",
       "      <td>0</td>\n",
       "      <td>0.0</td>\n",
       "    </tr>\n",
       "    <tr>\n",
       "      <th>1</th>\n",
       "      <td>5df457077e4ea600161b8e53</td>\n",
       "      <td>Hello, my name is Kalyani. I have done my bach...</td>\n",
       "      <td>Finance</td>\n",
       "      <td>1</td>\n",
       "      <td>career-switch</td>\n",
       "      <td>Finance</td>\n",
       "      <td>all-things-legal</td>\n",
       "      <td>inspiration</td>\n",
       "      <td>starting-out</td>\n",
       "      <td>speaking-out</td>\n",
       "      <td>career-growth</td>\n",
       "      <td>selfcare</td>\n",
       "      <td>networking</td>\n",
       "      <td>motherhood</td>\n",
       "      <td>marketingQueries</td>\n",
       "      <td>0</td>\n",
       "      <td>0.0</td>\n",
       "    </tr>\n",
       "  </tbody>\n",
       "</table>\n",
       "</div>"
      ],
      "text/plain": [
       "                  contentId  \\\n",
       "0  5df4556a7e4ea600161b8e32   \n",
       "1  5df457077e4ea600161b8e53   \n",
       "\n",
       "                                                text hashtag_list  \\\n",
       "0  My name is Shreshtha. I have often faced probl...      Finance   \n",
       "1  Hello, my name is Kalyani. I have done my bach...      Finance   \n",
       "\n",
       "   hashtag_count hashtag_pred_rank_1 hashtag_pred_rank_10  \\\n",
       "0              1        speaking-out        career-switch   \n",
       "1              1       career-switch              Finance   \n",
       "\n",
       "  hashtag_pred_rank_11 hashtag_pred_rank_2 hashtag_pred_rank_3  \\\n",
       "0     all-things-legal          networking         inspiration   \n",
       "1     all-things-legal         inspiration        starting-out   \n",
       "\n",
       "  hashtag_pred_rank_4 hashtag_pred_rank_5 hashtag_pred_rank_6  \\\n",
       "0            selfcare    marketingQueries       career-growth   \n",
       "1        speaking-out       career-growth            selfcare   \n",
       "\n",
       "  hashtag_pred_rank_7 hashtag_pred_rank_8 hashtag_pred_rank_9  \\\n",
       "0        starting-out          motherhood             Finance   \n",
       "1          networking          motherhood    marketingQueries   \n",
       "\n",
       "   matching_hashtag_ct  matching_percent  \n",
       "0                    0               0.0  \n",
       "1                    0               0.0  "
      ]
     },
     "execution_count": 105,
     "metadata": {},
     "output_type": "execute_result"
    }
   ],
   "source": [
    "prediction_results['matching_hashtag_ct'] = [len(set(a) & set(b)) for a,b in zip(h_list, top_3_pred)]\n",
    "prediction_results['matching_percent'] = (prediction_results['matching_hashtag_ct']/prediction_results['hashtag_count'])*100\n",
    "prediction_results.head(2)"
   ]
  },
  {
   "cell_type": "code",
   "execution_count": 106,
   "metadata": {},
   "outputs": [
    {
     "data": {
      "text/html": [
       "<div>\n",
       "<style scoped>\n",
       "    .dataframe tbody tr th:only-of-type {\n",
       "        vertical-align: middle;\n",
       "    }\n",
       "\n",
       "    .dataframe tbody tr th {\n",
       "        vertical-align: top;\n",
       "    }\n",
       "\n",
       "    .dataframe thead th {\n",
       "        text-align: right;\n",
       "    }\n",
       "</style>\n",
       "<table border=\"1\" class=\"dataframe\">\n",
       "  <thead>\n",
       "    <tr style=\"text-align: right;\">\n",
       "      <th></th>\n",
       "      <th>matching_percent</th>\n",
       "      <th>contentId</th>\n",
       "      <th>content_proportion</th>\n",
       "    </tr>\n",
       "  </thead>\n",
       "  <tbody>\n",
       "    <tr>\n",
       "      <th>3</th>\n",
       "      <td>100.000000</td>\n",
       "      <td>398</td>\n",
       "      <td>56.857143</td>\n",
       "    </tr>\n",
       "    <tr>\n",
       "      <th>2</th>\n",
       "      <td>66.666667</td>\n",
       "      <td>4</td>\n",
       "      <td>0.571429</td>\n",
       "    </tr>\n",
       "    <tr>\n",
       "      <th>1</th>\n",
       "      <td>50.000000</td>\n",
       "      <td>49</td>\n",
       "      <td>7.000000</td>\n",
       "    </tr>\n",
       "    <tr>\n",
       "      <th>0</th>\n",
       "      <td>0.000000</td>\n",
       "      <td>249</td>\n",
       "      <td>35.571429</td>\n",
       "    </tr>\n",
       "  </tbody>\n",
       "</table>\n",
       "</div>"
      ],
      "text/plain": [
       "   matching_percent  contentId  content_proportion\n",
       "3        100.000000        398           56.857143\n",
       "2         66.666667          4            0.571429\n",
       "1         50.000000         49            7.000000\n",
       "0          0.000000        249           35.571429"
      ]
     },
     "execution_count": 106,
     "metadata": {},
     "output_type": "execute_result"
    }
   ],
   "source": [
    "pred_summary = prediction_results.groupby(['matching_percent'])['contentId'].count().reset_index()\n",
    "pred_summary['content_proportion'] = (pred_summary['contentId']/sum(pred_summary['contentId']))*100\n",
    "pred_summary.sort_values(['matching_percent'], ascending=False)"
   ]
  },
  {
   "cell_type": "code",
   "execution_count": 107,
   "metadata": {},
   "outputs": [
    {
     "data": {
      "text/html": [
       "<div>\n",
       "<style scoped>\n",
       "    .dataframe tbody tr th:only-of-type {\n",
       "        vertical-align: middle;\n",
       "    }\n",
       "\n",
       "    .dataframe tbody tr th {\n",
       "        vertical-align: top;\n",
       "    }\n",
       "\n",
       "    .dataframe thead th {\n",
       "        text-align: right;\n",
       "    }\n",
       "</style>\n",
       "<table border=\"1\" class=\"dataframe\">\n",
       "  <thead>\n",
       "    <tr style=\"text-align: right;\">\n",
       "      <th></th>\n",
       "      <th>matching_percent</th>\n",
       "      <th>hashtag_count</th>\n",
       "      <th>contentId</th>\n",
       "    </tr>\n",
       "  </thead>\n",
       "  <tbody>\n",
       "    <tr>\n",
       "      <th>6</th>\n",
       "      <td>100.000000</td>\n",
       "      <td>3</td>\n",
       "      <td>1</td>\n",
       "    </tr>\n",
       "    <tr>\n",
       "      <th>3</th>\n",
       "      <td>66.666667</td>\n",
       "      <td>3</td>\n",
       "      <td>4</td>\n",
       "    </tr>\n",
       "    <tr>\n",
       "      <th>5</th>\n",
       "      <td>100.000000</td>\n",
       "      <td>2</td>\n",
       "      <td>20</td>\n",
       "    </tr>\n",
       "    <tr>\n",
       "      <th>2</th>\n",
       "      <td>50.000000</td>\n",
       "      <td>2</td>\n",
       "      <td>49</td>\n",
       "    </tr>\n",
       "    <tr>\n",
       "      <th>1</th>\n",
       "      <td>0.000000</td>\n",
       "      <td>2</td>\n",
       "      <td>10</td>\n",
       "    </tr>\n",
       "    <tr>\n",
       "      <th>4</th>\n",
       "      <td>100.000000</td>\n",
       "      <td>1</td>\n",
       "      <td>377</td>\n",
       "    </tr>\n",
       "    <tr>\n",
       "      <th>0</th>\n",
       "      <td>0.000000</td>\n",
       "      <td>1</td>\n",
       "      <td>239</td>\n",
       "    </tr>\n",
       "  </tbody>\n",
       "</table>\n",
       "</div>"
      ],
      "text/plain": [
       "   matching_percent  hashtag_count  contentId\n",
       "6        100.000000              3          1\n",
       "3         66.666667              3          4\n",
       "5        100.000000              2         20\n",
       "2         50.000000              2         49\n",
       "1          0.000000              2         10\n",
       "4        100.000000              1        377\n",
       "0          0.000000              1        239"
      ]
     },
     "execution_count": 107,
     "metadata": {},
     "output_type": "execute_result"
    }
   ],
   "source": [
    "pred_summary = prediction_results.groupby(['matching_percent', 'hashtag_count'])['contentId'].count().reset_index()\n",
    "pred_summary.sort_values(['hashtag_count', 'matching_percent'], ascending=False)"
   ]
  },
  {
   "cell_type": "code",
   "execution_count": null,
   "metadata": {},
   "outputs": [],
   "source": []
  },
  {
   "cell_type": "code",
   "execution_count": null,
   "metadata": {},
   "outputs": [],
   "source": []
  },
  {
   "cell_type": "code",
   "execution_count": null,
   "metadata": {},
   "outputs": [],
   "source": []
  },
  {
   "cell_type": "code",
   "execution_count": null,
   "metadata": {},
   "outputs": [],
   "source": []
  },
  {
   "cell_type": "code",
   "execution_count": null,
   "metadata": {},
   "outputs": [],
   "source": []
  },
  {
   "cell_type": "code",
   "execution_count": null,
   "metadata": {},
   "outputs": [],
   "source": []
  },
  {
   "cell_type": "code",
   "execution_count": null,
   "metadata": {},
   "outputs": [],
   "source": []
  }
 ],
 "metadata": {
  "kernelspec": {
   "display_name": "conda_tensorflow_p36",
   "language": "python",
   "name": "conda_tensorflow_p36"
  },
  "language_info": {
   "codemirror_mode": {
    "name": "ipython",
    "version": 3
   },
   "file_extension": ".py",
   "mimetype": "text/x-python",
   "name": "python",
   "nbconvert_exporter": "python",
   "pygments_lexer": "ipython3",
   "version": "3.6.6"
  }
 },
 "nbformat": 4,
 "nbformat_minor": 4
}
