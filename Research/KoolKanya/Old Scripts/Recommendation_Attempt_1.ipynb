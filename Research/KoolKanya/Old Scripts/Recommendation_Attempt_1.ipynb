{
 "cells": [
  {
   "cell_type": "code",
   "execution_count": 1,
   "metadata": {},
   "outputs": [],
   "source": [
    "import os\n",
    "import warnings\n",
    "import re\n",
    "import random\n",
    "import math\n",
    "import pandas as pd\n",
    "import numpy as np\n",
    "import scipy\n",
    "import sklearn"
   ]
  },
  {
   "cell_type": "code",
   "execution_count": 2,
   "metadata": {},
   "outputs": [
    {
     "name": "stdout",
     "output_type": "stream",
     "text": [
      "[nltk_data] Downloading package stopwords to\n",
      "[nltk_data]     /home/ec2-user/nltk_data...\n",
      "[nltk_data]   Unzipping corpora/stopwords.zip.\n"
     ]
    },
    {
     "data": {
      "text/plain": [
       "True"
      ]
     },
     "execution_count": 2,
     "metadata": {},
     "output_type": "execute_result"
    }
   ],
   "source": [
    "import nltk\n",
    "nltk.download('stopwords')"
   ]
  },
  {
   "cell_type": "code",
   "execution_count": 3,
   "metadata": {},
   "outputs": [],
   "source": [
    "from nltk.corpus import stopwords\n",
    "from scipy.sparse import csr_matrix\n",
    "from sklearn.model_selection import train_test_split\n",
    "from sklearn.feature_extraction.text import TfidfVectorizer\n",
    "from sklearn.metrics.pairwise import cosine_similarity\n",
    "from scipy.sparse.linalg import svds\n",
    "from sklearn.preprocessing import MinMaxScaler\n",
    "import matplotlib.pyplot as plt"
   ]
  },
  {
   "cell_type": "code",
   "execution_count": 4,
   "metadata": {},
   "outputs": [
    {
     "name": "stdout",
     "output_type": "stream",
     "text": [
      "(1740, 13)\n"
     ]
    },
    {
     "data": {
      "text/html": [
       "<div>\n",
       "<style scoped>\n",
       "    .dataframe tbody tr th:only-of-type {\n",
       "        vertical-align: middle;\n",
       "    }\n",
       "\n",
       "    .dataframe tbody tr th {\n",
       "        vertical-align: top;\n",
       "    }\n",
       "\n",
       "    .dataframe thead th {\n",
       "        text-align: right;\n",
       "    }\n",
       "</style>\n",
       "<table border=\"1\" class=\"dataframe\">\n",
       "  <thead>\n",
       "    <tr style=\"text-align: right;\">\n",
       "      <th></th>\n",
       "      <th>contentId</th>\n",
       "      <th>anonymous</th>\n",
       "      <th>authorId</th>\n",
       "      <th>createdAt</th>\n",
       "      <th>isActive</th>\n",
       "      <th>isDelete</th>\n",
       "      <th>points</th>\n",
       "      <th>text</th>\n",
       "      <th>type</th>\n",
       "      <th>updatedAt</th>\n",
       "      <th>resource_link</th>\n",
       "      <th>resource_videoUrl</th>\n",
       "      <th>resource_image</th>\n",
       "    </tr>\n",
       "  </thead>\n",
       "  <tbody>\n",
       "    <tr>\n",
       "      <th>0</th>\n",
       "      <td>5df457077e4ea600161b8e53</td>\n",
       "      <td>False</td>\n",
       "      <td>5df4561e7e4ea600161b8e3e</td>\n",
       "      <td>2019-12-14 03:29:11.865</td>\n",
       "      <td>True</td>\n",
       "      <td>False</td>\n",
       "      <td>0.007634</td>\n",
       "      <td>Hello, my name is Kalyani. I have done my bach...</td>\n",
       "      <td>QUESTION</td>\n",
       "      <td>2020-02-06 05:14:28.877</td>\n",
       "      <td>[]</td>\n",
       "      <td>[]</td>\n",
       "      <td>[]</td>\n",
       "    </tr>\n",
       "    <tr>\n",
       "      <th>1</th>\n",
       "      <td>5df45c817e4ea600161b8f00</td>\n",
       "      <td>False</td>\n",
       "      <td>5df45a987e4ea600161b8ec4</td>\n",
       "      <td>2019-12-14 03:52:34.000</td>\n",
       "      <td>True</td>\n",
       "      <td>False</td>\n",
       "      <td>0.015267</td>\n",
       "      <td>My name is Vartika. I am interested in photogr...</td>\n",
       "      <td>QUESTION</td>\n",
       "      <td>2020-02-06 05:14:28.925</td>\n",
       "      <td>[]</td>\n",
       "      <td>[]</td>\n",
       "      <td>[]</td>\n",
       "    </tr>\n",
       "    <tr>\n",
       "      <th>2</th>\n",
       "      <td>5df456257e4ea600161b8e41</td>\n",
       "      <td>False</td>\n",
       "      <td>5df454d27e4ea600161b8e2a</td>\n",
       "      <td>2019-12-14 03:25:25.300</td>\n",
       "      <td>True</td>\n",
       "      <td>False</td>\n",
       "      <td>0.007634</td>\n",
       "      <td>Hello. I am Yashi. I have just started freelan...</td>\n",
       "      <td>POST</td>\n",
       "      <td>2020-02-06 05:14:28.872</td>\n",
       "      <td>[]</td>\n",
       "      <td>[]</td>\n",
       "      <td>[]</td>\n",
       "    </tr>\n",
       "    <tr>\n",
       "      <th>3</th>\n",
       "      <td>5df462ba7e4ea600161b9016</td>\n",
       "      <td>False</td>\n",
       "      <td>5df462387e4ea600161b8ffc</td>\n",
       "      <td>2019-12-14 04:19:06.651</td>\n",
       "      <td>True</td>\n",
       "      <td>True</td>\n",
       "      <td>0.007634</td>\n",
       "      <td>Hi! I’m Neha and I have just started out as a ...</td>\n",
       "      <td>QUESTION</td>\n",
       "      <td>2020-02-17 07:11:03.815</td>\n",
       "      <td>[]</td>\n",
       "      <td>[]</td>\n",
       "      <td>[]</td>\n",
       "    </tr>\n",
       "    <tr>\n",
       "      <th>4</th>\n",
       "      <td>5df46b807e4ea600161b9170</td>\n",
       "      <td>False</td>\n",
       "      <td>5df468337e4ea600161b9129</td>\n",
       "      <td>2019-12-14 04:56:32.858</td>\n",
       "      <td>True</td>\n",
       "      <td>False</td>\n",
       "      <td>0.015267</td>\n",
       "      <td>interested in learning the skills of a beautic...</td>\n",
       "      <td>QUESTION</td>\n",
       "      <td>2020-02-06 05:14:29.217</td>\n",
       "      <td>[]</td>\n",
       "      <td>[]</td>\n",
       "      <td>[]</td>\n",
       "    </tr>\n",
       "  </tbody>\n",
       "</table>\n",
       "</div>"
      ],
      "text/plain": [
       "                  contentId  anonymous                  authorId  \\\n",
       "0  5df457077e4ea600161b8e53      False  5df4561e7e4ea600161b8e3e   \n",
       "1  5df45c817e4ea600161b8f00      False  5df45a987e4ea600161b8ec4   \n",
       "2  5df456257e4ea600161b8e41      False  5df454d27e4ea600161b8e2a   \n",
       "3  5df462ba7e4ea600161b9016      False  5df462387e4ea600161b8ffc   \n",
       "4  5df46b807e4ea600161b9170      False  5df468337e4ea600161b9129   \n",
       "\n",
       "                createdAt  isActive  isDelete    points  \\\n",
       "0 2019-12-14 03:29:11.865      True     False  0.007634   \n",
       "1 2019-12-14 03:52:34.000      True     False  0.015267   \n",
       "2 2019-12-14 03:25:25.300      True     False  0.007634   \n",
       "3 2019-12-14 04:19:06.651      True      True  0.007634   \n",
       "4 2019-12-14 04:56:32.858      True     False  0.015267   \n",
       "\n",
       "                                                text      type  \\\n",
       "0  Hello, my name is Kalyani. I have done my bach...  QUESTION   \n",
       "1  My name is Vartika. I am interested in photogr...  QUESTION   \n",
       "2  Hello. I am Yashi. I have just started freelan...      POST   \n",
       "3  Hi! I’m Neha and I have just started out as a ...  QUESTION   \n",
       "4  interested in learning the skills of a beautic...  QUESTION   \n",
       "\n",
       "                updatedAt resource_link resource_videoUrl resource_image  \n",
       "0 2020-02-06 05:14:28.877            []                []             []  \n",
       "1 2020-02-06 05:14:28.925            []                []             []  \n",
       "2 2020-02-06 05:14:28.872            []                []             []  \n",
       "3 2020-02-17 07:11:03.815            []                []             []  \n",
       "4 2020-02-06 05:14:29.217            []                []             []  "
      ]
     },
     "execution_count": 4,
     "metadata": {},
     "output_type": "execute_result"
    }
   ],
   "source": [
    "feeds_df = pd.read_csv(os.getcwd() + '/Datasets/feeds_df_for_reco.csv')\n",
    "feeds_df['createdAt'] = pd.to_datetime(feeds_df['createdAt'])\n",
    "feeds_df['updatedAt'] = pd.to_datetime(feeds_df['updatedAt'])\n",
    "feeds_df = feeds_df[~feeds_df['text'].isna()]\n",
    "print(feeds_df.shape)\n",
    "feeds_df.head()"
   ]
  },
  {
   "cell_type": "markdown",
   "metadata": {},
   "source": [
    "# Interactions Data"
   ]
  },
  {
   "cell_type": "code",
   "execution_count": 5,
   "metadata": {},
   "outputs": [
    {
     "name": "stdout",
     "output_type": "stream",
     "text": [
      "(4456, 9)\n"
     ]
    },
    {
     "data": {
      "text/html": [
       "<div>\n",
       "<style scoped>\n",
       "    .dataframe tbody tr th:only-of-type {\n",
       "        vertical-align: middle;\n",
       "    }\n",
       "\n",
       "    .dataframe tbody tr th {\n",
       "        vertical-align: top;\n",
       "    }\n",
       "\n",
       "    .dataframe thead th {\n",
       "        text-align: right;\n",
       "    }\n",
       "</style>\n",
       "<table border=\"1\" class=\"dataframe\">\n",
       "  <thead>\n",
       "    <tr style=\"text-align: right;\">\n",
       "      <th></th>\n",
       "      <th>likeId</th>\n",
       "      <th>commentId</th>\n",
       "      <th>createdAt</th>\n",
       "      <th>emojiType</th>\n",
       "      <th>isActive</th>\n",
       "      <th>referenceId</th>\n",
       "      <th>type</th>\n",
       "      <th>updatedAt</th>\n",
       "      <th>userId</th>\n",
       "    </tr>\n",
       "  </thead>\n",
       "  <tbody>\n",
       "    <tr>\n",
       "      <th>0</th>\n",
       "      <td>5df736726c5e063edee5d014</td>\n",
       "      <td>5df4b118a68eb700165a6665</td>\n",
       "      <td>2019-12-16 07:46:58.348</td>\n",
       "      <td>Like</td>\n",
       "      <td>True</td>\n",
       "      <td>NaN</td>\n",
       "      <td>COMMENT</td>\n",
       "      <td>2019-12-16 07:46:58.348</td>\n",
       "      <td>5df734e4d092c70016203ba9</td>\n",
       "    </tr>\n",
       "    <tr>\n",
       "      <th>1</th>\n",
       "      <td>5df737896c5e063edee5e632</td>\n",
       "      <td>NaN</td>\n",
       "      <td>2019-12-16 07:51:37.315</td>\n",
       "      <td>Like</td>\n",
       "      <td>True</td>\n",
       "      <td>5df736d3d092c70016203bca</td>\n",
       "      <td>QUESTION</td>\n",
       "      <td>2019-12-16 07:51:37.315</td>\n",
       "      <td>5df72831d092c70016203a8e</td>\n",
       "    </tr>\n",
       "    <tr>\n",
       "      <th>2</th>\n",
       "      <td>5df7494e6c5e063edee70dde</td>\n",
       "      <td>5df73f56d092c70016203c84</td>\n",
       "      <td>2019-12-16 09:07:26.908</td>\n",
       "      <td>Like</td>\n",
       "      <td>True</td>\n",
       "      <td>NaN</td>\n",
       "      <td>COMMENT</td>\n",
       "      <td>2019-12-16 09:07:26.908</td>\n",
       "      <td>5df4bb29a68eb700165a66bc</td>\n",
       "    </tr>\n",
       "    <tr>\n",
       "      <th>3</th>\n",
       "      <td>5df78b7a6c5e063edeeae69c</td>\n",
       "      <td>NaN</td>\n",
       "      <td>2019-12-16 13:49:46.842</td>\n",
       "      <td>Like</td>\n",
       "      <td>True</td>\n",
       "      <td>5df76b0a11788b0016813416</td>\n",
       "      <td>POST</td>\n",
       "      <td>2019-12-16 13:49:46.842</td>\n",
       "      <td>5df789f511788b0016813438</td>\n",
       "    </tr>\n",
       "    <tr>\n",
       "      <th>4</th>\n",
       "      <td>5df7bbfe6c5e063edeed8ea8</td>\n",
       "      <td>5df75af7d092c70016203db1</td>\n",
       "      <td>2019-12-16 17:16:46.086</td>\n",
       "      <td>Like</td>\n",
       "      <td>True</td>\n",
       "      <td>NaN</td>\n",
       "      <td>COMMENT</td>\n",
       "      <td>2019-12-16 17:16:46.086</td>\n",
       "      <td>5df7ba6e11788b0016813478</td>\n",
       "    </tr>\n",
       "  </tbody>\n",
       "</table>\n",
       "</div>"
      ],
      "text/plain": [
       "                     likeId                 commentId               createdAt  \\\n",
       "0  5df736726c5e063edee5d014  5df4b118a68eb700165a6665 2019-12-16 07:46:58.348   \n",
       "1  5df737896c5e063edee5e632                       NaN 2019-12-16 07:51:37.315   \n",
       "2  5df7494e6c5e063edee70dde  5df73f56d092c70016203c84 2019-12-16 09:07:26.908   \n",
       "3  5df78b7a6c5e063edeeae69c                       NaN 2019-12-16 13:49:46.842   \n",
       "4  5df7bbfe6c5e063edeed8ea8  5df75af7d092c70016203db1 2019-12-16 17:16:46.086   \n",
       "\n",
       "  emojiType  isActive               referenceId      type  \\\n",
       "0      Like      True                       NaN   COMMENT   \n",
       "1      Like      True  5df736d3d092c70016203bca  QUESTION   \n",
       "2      Like      True                       NaN   COMMENT   \n",
       "3      Like      True  5df76b0a11788b0016813416      POST   \n",
       "4      Like      True                       NaN   COMMENT   \n",
       "\n",
       "                updatedAt                    userId  \n",
       "0 2019-12-16 07:46:58.348  5df734e4d092c70016203ba9  \n",
       "1 2019-12-16 07:51:37.315  5df72831d092c70016203a8e  \n",
       "2 2019-12-16 09:07:26.908  5df4bb29a68eb700165a66bc  \n",
       "3 2019-12-16 13:49:46.842  5df789f511788b0016813438  \n",
       "4 2019-12-16 17:16:46.086  5df7ba6e11788b0016813478  "
      ]
     },
     "execution_count": 5,
     "metadata": {},
     "output_type": "execute_result"
    }
   ],
   "source": [
    "likes_df = pd.read_csv(os.getcwd() + '/Datasets/likes_coll_df.csv')\n",
    "likes_df['createdAt'] = pd.to_datetime(likes_df['createdAt'])\n",
    "likes_df['updatedAt'] = pd.to_datetime(likes_df['updatedAt'])\n",
    "likes_df = likes_df[likes_df['type'] != 'ARTICLE']\n",
    "print(likes_df.shape)\n",
    "likes_df.head()"
   ]
  },
  {
   "cell_type": "code",
   "execution_count": 6,
   "metadata": {},
   "outputs": [
    {
     "name": "stdout",
     "output_type": "stream",
     "text": [
      "(4426, 8)\n"
     ]
    },
    {
     "data": {
      "text/html": [
       "<div>\n",
       "<style scoped>\n",
       "    .dataframe tbody tr th:only-of-type {\n",
       "        vertical-align: middle;\n",
       "    }\n",
       "\n",
       "    .dataframe tbody tr th {\n",
       "        vertical-align: top;\n",
       "    }\n",
       "\n",
       "    .dataframe thead th {\n",
       "        text-align: right;\n",
       "    }\n",
       "</style>\n",
       "<table border=\"1\" class=\"dataframe\">\n",
       "  <thead>\n",
       "    <tr style=\"text-align: right;\">\n",
       "      <th></th>\n",
       "      <th>commentId</th>\n",
       "      <th>authorId</th>\n",
       "      <th>createdAt</th>\n",
       "      <th>isActive</th>\n",
       "      <th>isSubComment</th>\n",
       "      <th>referenceId</th>\n",
       "      <th>type</th>\n",
       "      <th>comment_text</th>\n",
       "    </tr>\n",
       "  </thead>\n",
       "  <tbody>\n",
       "    <tr>\n",
       "      <th>0</th>\n",
       "      <td>5df479d37e4ea600161b9425</td>\n",
       "      <td>5df467277e4ea600161b9109</td>\n",
       "      <td>2019-12-14 05:57:39.052</td>\n",
       "      <td>True</td>\n",
       "      <td>False</td>\n",
       "      <td>5df45c817e4ea600161b8f00</td>\n",
       "      <td>QUESTION</td>\n",
       "      <td>Vartika, I have been through this and it took ...</td>\n",
       "    </tr>\n",
       "    <tr>\n",
       "      <th>1</th>\n",
       "      <td>5df475b27e4ea600161b934e</td>\n",
       "      <td>5df465bd7e4ea600161b90d0</td>\n",
       "      <td>2019-12-14 05:40:02.158</td>\n",
       "      <td>True</td>\n",
       "      <td>False</td>\n",
       "      <td>5df45ec37e4ea600161b8f68</td>\n",
       "      <td>POST</td>\n",
       "      <td>Hi Swati. Definitely, blogging can really take...</td>\n",
       "    </tr>\n",
       "    <tr>\n",
       "      <th>2</th>\n",
       "      <td>5df480917e4ea600161b94da</td>\n",
       "      <td>5df4579f7e4ea600161b8e68</td>\n",
       "      <td>2019-12-14 06:26:25.577</td>\n",
       "      <td>True</td>\n",
       "      <td>True</td>\n",
       "      <td>5df458dd7e4ea600161b8e8f</td>\n",
       "      <td>POST</td>\n",
       "      <td>Thanks Seema! This was very helpful!</td>\n",
       "    </tr>\n",
       "    <tr>\n",
       "      <th>3</th>\n",
       "      <td>5df48ae87e4ea600161b9626</td>\n",
       "      <td>5df46cf57e4ea600161b9191</td>\n",
       "      <td>2019-12-14 07:10:32.012</td>\n",
       "      <td>True</td>\n",
       "      <td>False</td>\n",
       "      <td>5df488727e4ea600161b95e8</td>\n",
       "      <td>QUESTION</td>\n",
       "      <td>Hi Mona. It is really important for us to make...</td>\n",
       "    </tr>\n",
       "    <tr>\n",
       "      <th>4</th>\n",
       "      <td>5df4a998a68eb700165a65cf</td>\n",
       "      <td>5df4651e7e4ea600161b9099</td>\n",
       "      <td>2019-12-14 09:21:28.821</td>\n",
       "      <td>True</td>\n",
       "      <td>False</td>\n",
       "      <td>5df465017e4ea600161b9091</td>\n",
       "      <td>QUESTION</td>\n",
       "      <td>Hi. After the camera, laptop seems to me to be...</td>\n",
       "    </tr>\n",
       "  </tbody>\n",
       "</table>\n",
       "</div>"
      ],
      "text/plain": [
       "                  commentId                  authorId               createdAt  \\\n",
       "0  5df479d37e4ea600161b9425  5df467277e4ea600161b9109 2019-12-14 05:57:39.052   \n",
       "1  5df475b27e4ea600161b934e  5df465bd7e4ea600161b90d0 2019-12-14 05:40:02.158   \n",
       "2  5df480917e4ea600161b94da  5df4579f7e4ea600161b8e68 2019-12-14 06:26:25.577   \n",
       "3  5df48ae87e4ea600161b9626  5df46cf57e4ea600161b9191 2019-12-14 07:10:32.012   \n",
       "4  5df4a998a68eb700165a65cf  5df4651e7e4ea600161b9099 2019-12-14 09:21:28.821   \n",
       "\n",
       "   isActive  isSubComment               referenceId      type  \\\n",
       "0      True         False  5df45c817e4ea600161b8f00  QUESTION   \n",
       "1      True         False  5df45ec37e4ea600161b8f68      POST   \n",
       "2      True          True  5df458dd7e4ea600161b8e8f      POST   \n",
       "3      True         False  5df488727e4ea600161b95e8  QUESTION   \n",
       "4      True         False  5df465017e4ea600161b9091  QUESTION   \n",
       "\n",
       "                                        comment_text  \n",
       "0  Vartika, I have been through this and it took ...  \n",
       "1  Hi Swati. Definitely, blogging can really take...  \n",
       "2               Thanks Seema! This was very helpful!  \n",
       "3  Hi Mona. It is really important for us to make...  \n",
       "4  Hi. After the camera, laptop seems to me to be...  "
      ]
     },
     "execution_count": 6,
     "metadata": {},
     "output_type": "execute_result"
    }
   ],
   "source": [
    "comments_df = pd.read_csv(os.getcwd() + '/Datasets/comments_df.csv')\n",
    "comments_df['createdAt'] = pd.to_datetime(comments_df['createdAt'])\n",
    "print(comments_df.shape)\n",
    "comments_df.head()"
   ]
  },
  {
   "cell_type": "code",
   "execution_count": 7,
   "metadata": {},
   "outputs": [
    {
     "name": "stdout",
     "output_type": "stream",
     "text": [
      "(126, 7)\n"
     ]
    },
    {
     "data": {
      "text/html": [
       "<div>\n",
       "<style scoped>\n",
       "    .dataframe tbody tr th:only-of-type {\n",
       "        vertical-align: middle;\n",
       "    }\n",
       "\n",
       "    .dataframe tbody tr th {\n",
       "        vertical-align: top;\n",
       "    }\n",
       "\n",
       "    .dataframe thead th {\n",
       "        text-align: right;\n",
       "    }\n",
       "</style>\n",
       "<table border=\"1\" class=\"dataframe\">\n",
       "  <thead>\n",
       "    <tr style=\"text-align: right;\">\n",
       "      <th></th>\n",
       "      <th>bookmarkId</th>\n",
       "      <th>createdAt</th>\n",
       "      <th>isActive</th>\n",
       "      <th>referenceFeedId</th>\n",
       "      <th>type</th>\n",
       "      <th>updatedAt</th>\n",
       "      <th>userId</th>\n",
       "    </tr>\n",
       "  </thead>\n",
       "  <tbody>\n",
       "    <tr>\n",
       "      <th>0</th>\n",
       "      <td>5e5e1df0038098664944f081</td>\n",
       "      <td>2020-03-03 09:05:52.348</td>\n",
       "      <td>True</td>\n",
       "      <td>5e5e195568860c00163d49db</td>\n",
       "      <td>POST</td>\n",
       "      <td>2020-03-16 09:37:54.993</td>\n",
       "      <td>5df4c077a68eb700165a66c3</td>\n",
       "    </tr>\n",
       "    <tr>\n",
       "      <th>2</th>\n",
       "      <td>5e60a430c268fb81a0fe786b</td>\n",
       "      <td>2020-03-05 07:03:12.363</td>\n",
       "      <td>True</td>\n",
       "      <td>5e5e195568860c00163d49db</td>\n",
       "      <td>POST</td>\n",
       "      <td>2020-03-05 07:04:25.611</td>\n",
       "      <td>5df72831d092c70016203a8e</td>\n",
       "    </tr>\n",
       "    <tr>\n",
       "      <th>3</th>\n",
       "      <td>5e60c1c4c268fb81a0002f7d</td>\n",
       "      <td>2020-03-05 09:09:24.755</td>\n",
       "      <td>True</td>\n",
       "      <td>5e60a54c83660f0016b76f9b</td>\n",
       "      <td>POST</td>\n",
       "      <td>2020-03-05 09:09:24.755</td>\n",
       "      <td>5df4c077a68eb700165a66c3</td>\n",
       "    </tr>\n",
       "    <tr>\n",
       "      <th>4</th>\n",
       "      <td>5e7f1dd4c268fb81a0cf1465</td>\n",
       "      <td>2020-03-28 09:50:11.912</td>\n",
       "      <td>True</td>\n",
       "      <td>5e1320d6ce1fa00016e8344d</td>\n",
       "      <td>POST</td>\n",
       "      <td>2020-03-28 09:50:11.912</td>\n",
       "      <td>5e7ee338c3f6090022544a33</td>\n",
       "    </tr>\n",
       "    <tr>\n",
       "      <th>5</th>\n",
       "      <td>5e809622c268fb81a0f79044</td>\n",
       "      <td>2020-03-29 12:35:46.432</td>\n",
       "      <td>True</td>\n",
       "      <td>5e80784d894de50024c4c674</td>\n",
       "      <td>QUESTION</td>\n",
       "      <td>2020-03-29 12:35:46.432</td>\n",
       "      <td>5e7b4c8a5e2628002444fd04</td>\n",
       "    </tr>\n",
       "  </tbody>\n",
       "</table>\n",
       "</div>"
      ],
      "text/plain": [
       "                 bookmarkId               createdAt  isActive  \\\n",
       "0  5e5e1df0038098664944f081 2020-03-03 09:05:52.348      True   \n",
       "2  5e60a430c268fb81a0fe786b 2020-03-05 07:03:12.363      True   \n",
       "3  5e60c1c4c268fb81a0002f7d 2020-03-05 09:09:24.755      True   \n",
       "4  5e7f1dd4c268fb81a0cf1465 2020-03-28 09:50:11.912      True   \n",
       "5  5e809622c268fb81a0f79044 2020-03-29 12:35:46.432      True   \n",
       "\n",
       "            referenceFeedId      type               updatedAt  \\\n",
       "0  5e5e195568860c00163d49db      POST 2020-03-16 09:37:54.993   \n",
       "2  5e5e195568860c00163d49db      POST 2020-03-05 07:04:25.611   \n",
       "3  5e60a54c83660f0016b76f9b      POST 2020-03-05 09:09:24.755   \n",
       "4  5e1320d6ce1fa00016e8344d      POST 2020-03-28 09:50:11.912   \n",
       "5  5e80784d894de50024c4c674  QUESTION 2020-03-29 12:35:46.432   \n",
       "\n",
       "                     userId  \n",
       "0  5df4c077a68eb700165a66c3  \n",
       "2  5df72831d092c70016203a8e  \n",
       "3  5df4c077a68eb700165a66c3  \n",
       "4  5e7ee338c3f6090022544a33  \n",
       "5  5e7b4c8a5e2628002444fd04  "
      ]
     },
     "execution_count": 7,
     "metadata": {},
     "output_type": "execute_result"
    }
   ],
   "source": [
    "bookmarks_df = pd.read_csv(os.getcwd() + '/Datasets/bookmarks_coll_df.csv')\n",
    "bookmarks_df['createdAt'] = pd.to_datetime(bookmarks_df['createdAt'])\n",
    "bookmarks_df['updatedAt'] = pd.to_datetime(bookmarks_df['updatedAt'])\n",
    "bookmarks_df = bookmarks_df[bookmarks_df['type'] != 'COMPANY']\n",
    "print(bookmarks_df.shape)\n",
    "bookmarks_df.head()"
   ]
  },
  {
   "cell_type": "code",
   "execution_count": 8,
   "metadata": {},
   "outputs": [
    {
     "data": {
      "text/plain": [
       "Index(['likeId', 'commentId', 'createdAt', 'emojiType', 'isActive',\n",
       "       'referenceId', 'type', 'updatedAt', 'userId'],\n",
       "      dtype='object')"
      ]
     },
     "execution_count": 8,
     "metadata": {},
     "output_type": "execute_result"
    }
   ],
   "source": [
    "likes_df.columns"
   ]
  },
  {
   "cell_type": "code",
   "execution_count": 9,
   "metadata": {},
   "outputs": [
    {
     "data": {
      "text/plain": [
       "Index(['commentId', 'authorId', 'createdAt', 'isActive', 'isSubComment',\n",
       "       'referenceId', 'type', 'comment_text'],\n",
       "      dtype='object')"
      ]
     },
     "execution_count": 9,
     "metadata": {},
     "output_type": "execute_result"
    }
   ],
   "source": [
    "comments_df.columns"
   ]
  },
  {
   "cell_type": "code",
   "execution_count": 10,
   "metadata": {},
   "outputs": [
    {
     "data": {
      "text/plain": [
       "Index(['bookmarkId', 'createdAt', 'isActive', 'referenceFeedId', 'type',\n",
       "       'updatedAt', 'userId'],\n",
       "      dtype='object')"
      ]
     },
     "execution_count": 10,
     "metadata": {},
     "output_type": "execute_result"
    }
   ],
   "source": [
    "bookmarks_df.columns"
   ]
  },
  {
   "cell_type": "code",
   "execution_count": 11,
   "metadata": {},
   "outputs": [
    {
     "name": "stdout",
     "output_type": "stream",
     "text": [
      "(2490, 9)\n"
     ]
    }
   ],
   "source": [
    "post_likes_df = likes_df[likes_df['type'] != 'COMMENT']\n",
    "print(post_likes_df.shape)\n",
    "post_likes_df = post_likes_df[['likeId', 'referenceId', 'userId', 'createdAt', 'type']]\n",
    "post_likes_df = post_likes_df.rename(columns = {'likeId':'eventId', 'referenceId':'contentId', 'userId':'personId'})\n",
    "post_likes_df['eventType'] = 'LIKE'"
   ]
  },
  {
   "cell_type": "code",
   "execution_count": 12,
   "metadata": {},
   "outputs": [
    {
     "data": {
      "text/html": [
       "<div>\n",
       "<style scoped>\n",
       "    .dataframe tbody tr th:only-of-type {\n",
       "        vertical-align: middle;\n",
       "    }\n",
       "\n",
       "    .dataframe tbody tr th {\n",
       "        vertical-align: top;\n",
       "    }\n",
       "\n",
       "    .dataframe thead th {\n",
       "        text-align: right;\n",
       "    }\n",
       "</style>\n",
       "<table border=\"1\" class=\"dataframe\">\n",
       "  <thead>\n",
       "    <tr style=\"text-align: right;\">\n",
       "      <th></th>\n",
       "      <th>eventId</th>\n",
       "      <th>contentId</th>\n",
       "      <th>personId</th>\n",
       "      <th>createdAt</th>\n",
       "      <th>type</th>\n",
       "      <th>eventType</th>\n",
       "    </tr>\n",
       "  </thead>\n",
       "  <tbody>\n",
       "    <tr>\n",
       "      <th>1</th>\n",
       "      <td>5df737896c5e063edee5e632</td>\n",
       "      <td>5df736d3d092c70016203bca</td>\n",
       "      <td>5df72831d092c70016203a8e</td>\n",
       "      <td>2019-12-16 07:51:37.315</td>\n",
       "      <td>QUESTION</td>\n",
       "      <td>LIKE</td>\n",
       "    </tr>\n",
       "    <tr>\n",
       "      <th>3</th>\n",
       "      <td>5df78b7a6c5e063edeeae69c</td>\n",
       "      <td>5df76b0a11788b0016813416</td>\n",
       "      <td>5df789f511788b0016813438</td>\n",
       "      <td>2019-12-16 13:49:46.842</td>\n",
       "      <td>POST</td>\n",
       "      <td>LIKE</td>\n",
       "    </tr>\n",
       "    <tr>\n",
       "      <th>6</th>\n",
       "      <td>5df86ea96c5e063edef77c12</td>\n",
       "      <td>5df78b5d11788b0016813449</td>\n",
       "      <td>5df765c9d092c70016203dd3</td>\n",
       "      <td>2019-12-17 05:59:05.461</td>\n",
       "      <td>POST</td>\n",
       "      <td>LIKE</td>\n",
       "    </tr>\n",
       "    <tr>\n",
       "      <th>7</th>\n",
       "      <td>5df89d146c5e063edefa6340</td>\n",
       "      <td>5df8772411788b0016813595</td>\n",
       "      <td>5df45b5b7e4ea600161b8ede</td>\n",
       "      <td>2019-12-17 09:17:08.555</td>\n",
       "      <td>POST</td>\n",
       "      <td>LIKE</td>\n",
       "    </tr>\n",
       "    <tr>\n",
       "      <th>8</th>\n",
       "      <td>5df8bab86c5e063edefc3cef</td>\n",
       "      <td>5df78b5d11788b0016813449</td>\n",
       "      <td>5df50ced3a629f001633613c</td>\n",
       "      <td>2019-12-17 11:23:36.737</td>\n",
       "      <td>POST</td>\n",
       "      <td>LIKE</td>\n",
       "    </tr>\n",
       "  </tbody>\n",
       "</table>\n",
       "</div>"
      ],
      "text/plain": [
       "                    eventId                 contentId  \\\n",
       "1  5df737896c5e063edee5e632  5df736d3d092c70016203bca   \n",
       "3  5df78b7a6c5e063edeeae69c  5df76b0a11788b0016813416   \n",
       "6  5df86ea96c5e063edef77c12  5df78b5d11788b0016813449   \n",
       "7  5df89d146c5e063edefa6340  5df8772411788b0016813595   \n",
       "8  5df8bab86c5e063edefc3cef  5df78b5d11788b0016813449   \n",
       "\n",
       "                   personId               createdAt      type eventType  \n",
       "1  5df72831d092c70016203a8e 2019-12-16 07:51:37.315  QUESTION      LIKE  \n",
       "3  5df789f511788b0016813438 2019-12-16 13:49:46.842      POST      LIKE  \n",
       "6  5df765c9d092c70016203dd3 2019-12-17 05:59:05.461      POST      LIKE  \n",
       "7  5df45b5b7e4ea600161b8ede 2019-12-17 09:17:08.555      POST      LIKE  \n",
       "8  5df50ced3a629f001633613c 2019-12-17 11:23:36.737      POST      LIKE  "
      ]
     },
     "execution_count": 12,
     "metadata": {},
     "output_type": "execute_result"
    }
   ],
   "source": [
    "likes_df_formatted = post_likes_df\n",
    "likes_df_formatted.head()"
   ]
  },
  {
   "cell_type": "code",
   "execution_count": 13,
   "metadata": {},
   "outputs": [
    {
     "data": {
      "text/html": [
       "<div>\n",
       "<style scoped>\n",
       "    .dataframe tbody tr th:only-of-type {\n",
       "        vertical-align: middle;\n",
       "    }\n",
       "\n",
       "    .dataframe tbody tr th {\n",
       "        vertical-align: top;\n",
       "    }\n",
       "\n",
       "    .dataframe thead th {\n",
       "        text-align: right;\n",
       "    }\n",
       "</style>\n",
       "<table border=\"1\" class=\"dataframe\">\n",
       "  <thead>\n",
       "    <tr style=\"text-align: right;\">\n",
       "      <th></th>\n",
       "      <th>eventId</th>\n",
       "      <th>contentId</th>\n",
       "      <th>personId</th>\n",
       "      <th>createdAt</th>\n",
       "      <th>type</th>\n",
       "      <th>eventType</th>\n",
       "    </tr>\n",
       "  </thead>\n",
       "  <tbody>\n",
       "    <tr>\n",
       "      <th>0</th>\n",
       "      <td>5df479d37e4ea600161b9425</td>\n",
       "      <td>5df45c817e4ea600161b8f00</td>\n",
       "      <td>5df467277e4ea600161b9109</td>\n",
       "      <td>2019-12-14 05:57:39.052</td>\n",
       "      <td>QUESTION</td>\n",
       "      <td>COMMENT</td>\n",
       "    </tr>\n",
       "    <tr>\n",
       "      <th>1</th>\n",
       "      <td>5df475b27e4ea600161b934e</td>\n",
       "      <td>5df45ec37e4ea600161b8f68</td>\n",
       "      <td>5df465bd7e4ea600161b90d0</td>\n",
       "      <td>2019-12-14 05:40:02.158</td>\n",
       "      <td>POST</td>\n",
       "      <td>COMMENT</td>\n",
       "    </tr>\n",
       "    <tr>\n",
       "      <th>2</th>\n",
       "      <td>5df480917e4ea600161b94da</td>\n",
       "      <td>5df458dd7e4ea600161b8e8f</td>\n",
       "      <td>5df4579f7e4ea600161b8e68</td>\n",
       "      <td>2019-12-14 06:26:25.577</td>\n",
       "      <td>POST</td>\n",
       "      <td>SUBCOMMENT</td>\n",
       "    </tr>\n",
       "    <tr>\n",
       "      <th>3</th>\n",
       "      <td>5df48ae87e4ea600161b9626</td>\n",
       "      <td>5df488727e4ea600161b95e8</td>\n",
       "      <td>5df46cf57e4ea600161b9191</td>\n",
       "      <td>2019-12-14 07:10:32.012</td>\n",
       "      <td>QUESTION</td>\n",
       "      <td>COMMENT</td>\n",
       "    </tr>\n",
       "    <tr>\n",
       "      <th>4</th>\n",
       "      <td>5df4a998a68eb700165a65cf</td>\n",
       "      <td>5df465017e4ea600161b9091</td>\n",
       "      <td>5df4651e7e4ea600161b9099</td>\n",
       "      <td>2019-12-14 09:21:28.821</td>\n",
       "      <td>QUESTION</td>\n",
       "      <td>COMMENT</td>\n",
       "    </tr>\n",
       "  </tbody>\n",
       "</table>\n",
       "</div>"
      ],
      "text/plain": [
       "                    eventId                 contentId  \\\n",
       "0  5df479d37e4ea600161b9425  5df45c817e4ea600161b8f00   \n",
       "1  5df475b27e4ea600161b934e  5df45ec37e4ea600161b8f68   \n",
       "2  5df480917e4ea600161b94da  5df458dd7e4ea600161b8e8f   \n",
       "3  5df48ae87e4ea600161b9626  5df488727e4ea600161b95e8   \n",
       "4  5df4a998a68eb700165a65cf  5df465017e4ea600161b9091   \n",
       "\n",
       "                   personId               createdAt      type   eventType  \n",
       "0  5df467277e4ea600161b9109 2019-12-14 05:57:39.052  QUESTION     COMMENT  \n",
       "1  5df465bd7e4ea600161b90d0 2019-12-14 05:40:02.158      POST     COMMENT  \n",
       "2  5df4579f7e4ea600161b8e68 2019-12-14 06:26:25.577      POST  SUBCOMMENT  \n",
       "3  5df46cf57e4ea600161b9191 2019-12-14 07:10:32.012  QUESTION     COMMENT  \n",
       "4  5df4651e7e4ea600161b9099 2019-12-14 09:21:28.821  QUESTION     COMMENT  "
      ]
     },
     "execution_count": 13,
     "metadata": {},
     "output_type": "execute_result"
    }
   ],
   "source": [
    "comments_df_formatted = comments_df[['commentId', 'referenceId', 'authorId', 'createdAt', 'type', 'isSubComment']]\n",
    "comments_df_formatted = comments_df_formatted.rename(columns = {'commentId':'eventId', 'referenceId':'contentId', 'authorId':'personId'})\n",
    "comments_df_formatted['eventType'] = np.where(comments_df_formatted['isSubComment'] == False, 'COMMENT', 'SUBCOMMENT')\n",
    "comments_df_formatted = comments_df_formatted.drop(['isSubComment'], axis=1)\n",
    "comments_df_formatted.head()\n"
   ]
  },
  {
   "cell_type": "code",
   "execution_count": 14,
   "metadata": {},
   "outputs": [
    {
     "data": {
      "text/html": [
       "<div>\n",
       "<style scoped>\n",
       "    .dataframe tbody tr th:only-of-type {\n",
       "        vertical-align: middle;\n",
       "    }\n",
       "\n",
       "    .dataframe tbody tr th {\n",
       "        vertical-align: top;\n",
       "    }\n",
       "\n",
       "    .dataframe thead th {\n",
       "        text-align: right;\n",
       "    }\n",
       "</style>\n",
       "<table border=\"1\" class=\"dataframe\">\n",
       "  <thead>\n",
       "    <tr style=\"text-align: right;\">\n",
       "      <th></th>\n",
       "      <th>eventId</th>\n",
       "      <th>contentId</th>\n",
       "      <th>personId</th>\n",
       "      <th>createdAt</th>\n",
       "      <th>type</th>\n",
       "      <th>eventType</th>\n",
       "    </tr>\n",
       "  </thead>\n",
       "  <tbody>\n",
       "    <tr>\n",
       "      <th>0</th>\n",
       "      <td>5e5e1df0038098664944f081</td>\n",
       "      <td>5e5e195568860c00163d49db</td>\n",
       "      <td>5df4c077a68eb700165a66c3</td>\n",
       "      <td>2020-03-03 09:05:52.348</td>\n",
       "      <td>POST</td>\n",
       "      <td>BOOKMARK</td>\n",
       "    </tr>\n",
       "    <tr>\n",
       "      <th>2</th>\n",
       "      <td>5e60a430c268fb81a0fe786b</td>\n",
       "      <td>5e5e195568860c00163d49db</td>\n",
       "      <td>5df72831d092c70016203a8e</td>\n",
       "      <td>2020-03-05 07:03:12.363</td>\n",
       "      <td>POST</td>\n",
       "      <td>BOOKMARK</td>\n",
       "    </tr>\n",
       "    <tr>\n",
       "      <th>3</th>\n",
       "      <td>5e60c1c4c268fb81a0002f7d</td>\n",
       "      <td>5e60a54c83660f0016b76f9b</td>\n",
       "      <td>5df4c077a68eb700165a66c3</td>\n",
       "      <td>2020-03-05 09:09:24.755</td>\n",
       "      <td>POST</td>\n",
       "      <td>BOOKMARK</td>\n",
       "    </tr>\n",
       "    <tr>\n",
       "      <th>4</th>\n",
       "      <td>5e7f1dd4c268fb81a0cf1465</td>\n",
       "      <td>5e1320d6ce1fa00016e8344d</td>\n",
       "      <td>5e7ee338c3f6090022544a33</td>\n",
       "      <td>2020-03-28 09:50:11.912</td>\n",
       "      <td>POST</td>\n",
       "      <td>BOOKMARK</td>\n",
       "    </tr>\n",
       "    <tr>\n",
       "      <th>5</th>\n",
       "      <td>5e809622c268fb81a0f79044</td>\n",
       "      <td>5e80784d894de50024c4c674</td>\n",
       "      <td>5e7b4c8a5e2628002444fd04</td>\n",
       "      <td>2020-03-29 12:35:46.432</td>\n",
       "      <td>QUESTION</td>\n",
       "      <td>BOOKMARK</td>\n",
       "    </tr>\n",
       "  </tbody>\n",
       "</table>\n",
       "</div>"
      ],
      "text/plain": [
       "                    eventId                 contentId  \\\n",
       "0  5e5e1df0038098664944f081  5e5e195568860c00163d49db   \n",
       "2  5e60a430c268fb81a0fe786b  5e5e195568860c00163d49db   \n",
       "3  5e60c1c4c268fb81a0002f7d  5e60a54c83660f0016b76f9b   \n",
       "4  5e7f1dd4c268fb81a0cf1465  5e1320d6ce1fa00016e8344d   \n",
       "5  5e809622c268fb81a0f79044  5e80784d894de50024c4c674   \n",
       "\n",
       "                   personId               createdAt      type eventType  \n",
       "0  5df4c077a68eb700165a66c3 2020-03-03 09:05:52.348      POST  BOOKMARK  \n",
       "2  5df72831d092c70016203a8e 2020-03-05 07:03:12.363      POST  BOOKMARK  \n",
       "3  5df4c077a68eb700165a66c3 2020-03-05 09:09:24.755      POST  BOOKMARK  \n",
       "4  5e7ee338c3f6090022544a33 2020-03-28 09:50:11.912      POST  BOOKMARK  \n",
       "5  5e7b4c8a5e2628002444fd04 2020-03-29 12:35:46.432  QUESTION  BOOKMARK  "
      ]
     },
     "execution_count": 14,
     "metadata": {},
     "output_type": "execute_result"
    }
   ],
   "source": [
    "bookmarks_df_formatted = bookmarks_df[['bookmarkId', 'referenceFeedId', 'userId', 'createdAt', 'type']]\n",
    "bookmarks_df_formatted = bookmarks_df_formatted.rename(columns = {'bookmarkId':'eventId', 'referenceFeedId':'contentId', 'userId':'personId'})\n",
    "bookmarks_df_formatted['eventType'] = 'BOOKMARK'\n",
    "bookmarks_df_formatted.head()"
   ]
  },
  {
   "cell_type": "code",
   "execution_count": 15,
   "metadata": {},
   "outputs": [
    {
     "name": "stdout",
     "output_type": "stream",
     "text": [
      "(7042, 6)\n"
     ]
    },
    {
     "data": {
      "text/html": [
       "<div>\n",
       "<style scoped>\n",
       "    .dataframe tbody tr th:only-of-type {\n",
       "        vertical-align: middle;\n",
       "    }\n",
       "\n",
       "    .dataframe tbody tr th {\n",
       "        vertical-align: top;\n",
       "    }\n",
       "\n",
       "    .dataframe thead th {\n",
       "        text-align: right;\n",
       "    }\n",
       "</style>\n",
       "<table border=\"1\" class=\"dataframe\">\n",
       "  <thead>\n",
       "    <tr style=\"text-align: right;\">\n",
       "      <th></th>\n",
       "      <th>eventId</th>\n",
       "      <th>contentId</th>\n",
       "      <th>personId</th>\n",
       "      <th>createdAt</th>\n",
       "      <th>type</th>\n",
       "      <th>eventType</th>\n",
       "    </tr>\n",
       "  </thead>\n",
       "  <tbody>\n",
       "    <tr>\n",
       "      <th>1</th>\n",
       "      <td>5df737896c5e063edee5e632</td>\n",
       "      <td>5df736d3d092c70016203bca</td>\n",
       "      <td>5df72831d092c70016203a8e</td>\n",
       "      <td>2019-12-16 07:51:37.315</td>\n",
       "      <td>QUESTION</td>\n",
       "      <td>LIKE</td>\n",
       "    </tr>\n",
       "    <tr>\n",
       "      <th>3</th>\n",
       "      <td>5df78b7a6c5e063edeeae69c</td>\n",
       "      <td>5df76b0a11788b0016813416</td>\n",
       "      <td>5df789f511788b0016813438</td>\n",
       "      <td>2019-12-16 13:49:46.842</td>\n",
       "      <td>POST</td>\n",
       "      <td>LIKE</td>\n",
       "    </tr>\n",
       "    <tr>\n",
       "      <th>6</th>\n",
       "      <td>5df86ea96c5e063edef77c12</td>\n",
       "      <td>5df78b5d11788b0016813449</td>\n",
       "      <td>5df765c9d092c70016203dd3</td>\n",
       "      <td>2019-12-17 05:59:05.461</td>\n",
       "      <td>POST</td>\n",
       "      <td>LIKE</td>\n",
       "    </tr>\n",
       "    <tr>\n",
       "      <th>7</th>\n",
       "      <td>5df89d146c5e063edefa6340</td>\n",
       "      <td>5df8772411788b0016813595</td>\n",
       "      <td>5df45b5b7e4ea600161b8ede</td>\n",
       "      <td>2019-12-17 09:17:08.555</td>\n",
       "      <td>POST</td>\n",
       "      <td>LIKE</td>\n",
       "    </tr>\n",
       "    <tr>\n",
       "      <th>8</th>\n",
       "      <td>5df8bab86c5e063edefc3cef</td>\n",
       "      <td>5df78b5d11788b0016813449</td>\n",
       "      <td>5df50ced3a629f001633613c</td>\n",
       "      <td>2019-12-17 11:23:36.737</td>\n",
       "      <td>POST</td>\n",
       "      <td>LIKE</td>\n",
       "    </tr>\n",
       "  </tbody>\n",
       "</table>\n",
       "</div>"
      ],
      "text/plain": [
       "                    eventId                 contentId  \\\n",
       "1  5df737896c5e063edee5e632  5df736d3d092c70016203bca   \n",
       "3  5df78b7a6c5e063edeeae69c  5df76b0a11788b0016813416   \n",
       "6  5df86ea96c5e063edef77c12  5df78b5d11788b0016813449   \n",
       "7  5df89d146c5e063edefa6340  5df8772411788b0016813595   \n",
       "8  5df8bab86c5e063edefc3cef  5df78b5d11788b0016813449   \n",
       "\n",
       "                   personId               createdAt      type eventType  \n",
       "1  5df72831d092c70016203a8e 2019-12-16 07:51:37.315  QUESTION      LIKE  \n",
       "3  5df789f511788b0016813438 2019-12-16 13:49:46.842      POST      LIKE  \n",
       "6  5df765c9d092c70016203dd3 2019-12-17 05:59:05.461      POST      LIKE  \n",
       "7  5df45b5b7e4ea600161b8ede 2019-12-17 09:17:08.555      POST      LIKE  \n",
       "8  5df50ced3a629f001633613c 2019-12-17 11:23:36.737      POST      LIKE  "
      ]
     },
     "execution_count": 15,
     "metadata": {},
     "output_type": "execute_result"
    }
   ],
   "source": [
    "interactions_df = likes_df_formatted.append([comments_df_formatted, bookmarks_df_formatted])\n",
    "print(interactions_df.shape)\n",
    "interactions_df.head()"
   ]
  },
  {
   "cell_type": "code",
   "execution_count": 16,
   "metadata": {},
   "outputs": [
    {
     "name": "stdout",
     "output_type": "stream",
     "text": [
      "Total Users: (1044, 2)\n",
      "Users with more than 1 content interaction: (470, 2)\n"
     ]
    },
    {
     "data": {
      "text/html": [
       "<div>\n",
       "<style scoped>\n",
       "    .dataframe tbody tr th:only-of-type {\n",
       "        vertical-align: middle;\n",
       "    }\n",
       "\n",
       "    .dataframe tbody tr th {\n",
       "        vertical-align: top;\n",
       "    }\n",
       "\n",
       "    .dataframe thead th {\n",
       "        text-align: right;\n",
       "    }\n",
       "</style>\n",
       "<table border=\"1\" class=\"dataframe\">\n",
       "  <thead>\n",
       "    <tr style=\"text-align: right;\">\n",
       "      <th></th>\n",
       "      <th>personId</th>\n",
       "      <th>content_ct</th>\n",
       "    </tr>\n",
       "  </thead>\n",
       "  <tbody>\n",
       "    <tr>\n",
       "      <th>97</th>\n",
       "      <td>5df4c077a68eb700165a66c3</td>\n",
       "      <td>164</td>\n",
       "    </tr>\n",
       "    <tr>\n",
       "      <th>100</th>\n",
       "      <td>5df72831d092c70016203a8e</td>\n",
       "      <td>155</td>\n",
       "    </tr>\n",
       "    <tr>\n",
       "      <th>226</th>\n",
       "      <td>5e783e20ea7e44002251594b</td>\n",
       "      <td>152</td>\n",
       "    </tr>\n",
       "    <tr>\n",
       "      <th>134</th>\n",
       "      <td>5df7877d11788b0016813430</td>\n",
       "      <td>136</td>\n",
       "    </tr>\n",
       "    <tr>\n",
       "      <th>113</th>\n",
       "      <td>5df734e4d092c70016203ba9</td>\n",
       "      <td>125</td>\n",
       "    </tr>\n",
       "  </tbody>\n",
       "</table>\n",
       "</div>"
      ],
      "text/plain": [
       "                     personId  content_ct\n",
       "97   5df4c077a68eb700165a66c3         164\n",
       "100  5df72831d092c70016203a8e         155\n",
       "226  5e783e20ea7e44002251594b         152\n",
       "134  5df7877d11788b0016813430         136\n",
       "113  5df734e4d092c70016203ba9         125"
      ]
     },
     "execution_count": 16,
     "metadata": {},
     "output_type": "execute_result"
    }
   ],
   "source": [
    "interaction_summary = interactions_df.groupby(['personId'])['contentId'].nunique().reset_index()\n",
    "interaction_summary.columns = ['personId', 'content_ct']\n",
    "interaction_summary = interaction_summary.sort_values(['content_ct'], ascending=False)\n",
    "print(\"Total Users:\", interaction_summary.shape)\n",
    "print(\"Users with more than 1 content interaction:\", interaction_summary[interaction_summary['content_ct']>1].shape)\n",
    "interaction_summary.head()\n"
   ]
  },
  {
   "cell_type": "markdown",
   "metadata": {},
   "source": [
    "# Data Wrangling"
   ]
  },
  {
   "cell_type": "code",
   "execution_count": 17,
   "metadata": {},
   "outputs": [],
   "source": [
    "event_type_strength = {\n",
    "#   'VIEW': 1.0,\n",
    "   'LIKE': 2.0, \n",
    "   'BOOKMARK': 2.5, \n",
    "#   'FOLLOW': 3.0,\n",
    "   'COMMENT': 4.0,\n",
    "    'SUBCOMMENT': 4.0\n",
    "}\n",
    "\n",
    "interactions_df['eventStrength'] = interactions_df['eventType'].apply(lambda x: event_type_strength[x])"
   ]
  },
  {
   "cell_type": "code",
   "execution_count": 24,
   "metadata": {},
   "outputs": [
    {
     "name": "stdout",
     "output_type": "stream",
     "text": [
      "# users: 1044\n",
      "# users with 1 interactions: 574\n",
      "# users with at least 2 interactions: 470\n"
     ]
    }
   ],
   "source": [
    "users_interactions_count_df = interactions_df.groupby(['personId', 'contentId']).size().groupby('personId').size()\n",
    "print('# users: %d' % len(users_interactions_count_df))\n",
    "users_with_1_interactions_df = users_interactions_count_df[users_interactions_count_df == 1].reset_index()[['personId']]\n",
    "print('# users with 1 interactions: %d' % len(users_with_1_interactions_df))\n",
    "users_with_enough_interactions_df = users_interactions_count_df[users_interactions_count_df >= 2].reset_index()[['personId']]\n",
    "print('# users with at least 2 interactions: %d' % len(users_with_enough_interactions_df))"
   ]
  },
  {
   "cell_type": "code",
   "execution_count": null,
   "metadata": {},
   "outputs": [],
   "source": []
  },
  {
   "cell_type": "code",
   "execution_count": 25,
   "metadata": {},
   "outputs": [
    {
     "name": "stdout",
     "output_type": "stream",
     "text": [
      "# of interactions: 7042\n",
      "# of interactions from users with at least 2 interactions: 6252\n"
     ]
    }
   ],
   "source": [
    "print('# of interactions: %d' % len(interactions_df))\n",
    "interactions_from_selected_users_df = interactions_df.merge(users_with_enough_interactions_df, \n",
    "               how = 'right',\n",
    "               left_on = 'personId',\n",
    "               right_on = 'personId')\n",
    "print('# of interactions from users with at least 2 interactions: %d' % len(interactions_from_selected_users_df))"
   ]
  },
  {
   "cell_type": "code",
   "execution_count": null,
   "metadata": {},
   "outputs": [],
   "source": [
    "def smooth_user_preference(x):\n",
    "    return math.log(1+x, 2)\n",
    "    \n",
    "interactions_full_df = interactions_from_selected_users_df \\\n",
    "                    .groupby(['personId', 'contentId'])['eventStrength'].sum() \\\n",
    "                    .apply(smooth_user_preference).reset_index()\n",
    "print('# of unique user/item interactions: %d' % len(interactions_full_df))\n",
    "interactions_full_df.head(10)"
   ]
  },
  {
   "cell_type": "markdown",
   "metadata": {},
   "source": [
    "# Evaluation"
   ]
  },
  {
   "cell_type": "code",
   "execution_count": null,
   "metadata": {},
   "outputs": [],
   "source": [
    "interactions_train_df, interactions_test_df = train_test_split(interactions_full_df,\n",
    "                                   stratify=interactions_full_df['personId'], \n",
    "                                   test_size=0.20,\n",
    "                                   random_state=42)\n",
    "\n",
    "print('# interactions on Train set: %d' % len(interactions_train_df))\n",
    "print('# interactions on Test set: %d' % len(interactions_test_df))"
   ]
  },
  {
   "cell_type": "code",
   "execution_count": null,
   "metadata": {},
   "outputs": [],
   "source": [
    "#Indexing by personId to speed up the searches during evaluation\n",
    "interactions_full_indexed_df = interactions_full_df.set_index('personId')\n",
    "interactions_train_indexed_df = interactions_train_df.set_index('personId')\n",
    "interactions_test_indexed_df = interactions_test_df.set_index('personId')"
   ]
  },
  {
   "cell_type": "code",
   "execution_count": null,
   "metadata": {},
   "outputs": [],
   "source": [
    "EVAL_RANDOM_SAMPLE_NON_INTERACTED_ITEMS = 100"
   ]
  },
  {
   "cell_type": "code",
   "execution_count": null,
   "metadata": {},
   "outputs": [],
   "source": [
    "def get_items_interacted(person_id, interactions_df):\n",
    "    # Get the user's data and merge in the movie information.\n",
    "    if(((pd.Series(person_id).isin(pd.Series(interactions_df.index.unique().to_list()))) == True)[0]):\n",
    "        interacted_items = interactions_df.loc[person_id]['contentId']\n",
    "        return(set(interacted_items if type(interacted_items) == pd.Series else [interacted_items]))\n",
    "    else:\n",
    "        interacted_items = set()\n",
    "        return(interacted_items)\n",
    "    "
   ]
  },
  {
   "cell_type": "code",
   "execution_count": null,
   "metadata": {},
   "outputs": [],
   "source": [
    "def get_not_interacted_items_sample(person_id, sample_size, seed=42):\n",
    "    interacted_items = get_items_interacted(person_id, interactions_full_indexed_df)\n",
    "    all_items = set(feeds_df['contentId'])\n",
    "    non_interacted_items = all_items - interacted_items\n",
    "\n",
    "    random.seed(seed)\n",
    "    non_interacted_items_sample = random.sample(non_interacted_items, sample_size)\n",
    "    return set(non_interacted_items_sample)"
   ]
  },
  {
   "cell_type": "code",
   "execution_count": null,
   "metadata": {},
   "outputs": [],
   "source": [
    "def _verify_hit_top_n(item_id, recommended_items, topn):\n",
    "    try:\n",
    "        index = next(i for i, c in enumerate(recommended_items) if c == item_id)\n",
    "    except:\n",
    "        index = -1\n",
    "    hit = int(index in range(0, topn))\n",
    "    return hit, index"
   ]
  },
  {
   "cell_type": "code",
   "execution_count": null,
   "metadata": {},
   "outputs": [],
   "source": [
    "def evaluate_model_for_user(model, person_id):\n",
    "    #Getting the items in test set\n",
    "    interacted_values_testset = interactions_test_indexed_df.loc[person_id]\n",
    "    if type(interacted_values_testset['contentId']) == pd.Series:\n",
    "        person_interacted_items_testset = set(interacted_values_testset['contentId'])\n",
    "    else:\n",
    "        person_interacted_items_testset = set([interacted_values_testset['contentId']])  \n",
    "    interacted_items_count_testset = len(person_interacted_items_testset) \n",
    "    \n",
    "    #Getting a ranked recommendation list from a model for a given user\n",
    "    person_recs_df = model.recommend_items(person_id, \n",
    "                                         items_to_ignore=get_items_interacted(person_id, \n",
    "                                         interactions_train_indexed_df), \n",
    "                                         topn=10000000000)\n",
    "    hits_at_5_count = 0\n",
    "    hits_at_10_count = 0\n",
    "    #For each item the user has interacted in test set\n",
    "    for item_id in person_interacted_items_testset:\n",
    "        #Getting a random sample (100) items the user has not interacted \n",
    "        #(to represent items that are assumed to be no relevant to the user)\n",
    "        non_interacted_items_sample = get_not_interacted_items_sample(person_id, \n",
    "                                                      sample_size=EVAL_RANDOM_SAMPLE_NON_INTERACTED_ITEMS, \n",
    "                                                      seed=int(re.sub(r'[a-zA-Z]', r'', item_id))%(2**32))\n",
    "\n",
    "        #Combining the current interacted item with the 100 random items\n",
    "        items_to_filter_recs = non_interacted_items_sample.union(set([item_id]))\n",
    "\n",
    "        #Filtering only recommendations that are either the interacted item or from a random sample of 100 non-interacted items\n",
    "        valid_recs_df = person_recs_df[person_recs_df['contentId'].isin(items_to_filter_recs)]                    \n",
    "        valid_recs = valid_recs_df['contentId'].values\n",
    "        \n",
    "        #Verifying if the current interacted item is among the Top-N recommended items\n",
    "        hit_at_5, index_at_5 = _verify_hit_top_n(item_id, valid_recs, 5)\n",
    "        hits_at_5_count += hit_at_5\n",
    "        hit_at_10, index_at_10 = _verify_hit_top_n(item_id, valid_recs, 10)\n",
    "        hits_at_10_count += hit_at_10\n",
    "\n",
    "        #Recall is the rate of the interacted items that are ranked among the Top-N recommended items, \n",
    "        #when mixed with a set of non-relevant items\n",
    "    recall_at_5 = hits_at_5_count / float(interacted_items_count_testset)\n",
    "    recall_at_10 = hits_at_10_count / float(interacted_items_count_testset)\n",
    "\n",
    "    person_metrics = {'hits@5_count':hits_at_5_count, \n",
    "                          'hits@10_count':hits_at_10_count, \n",
    "                          'interacted_count': interacted_items_count_testset,\n",
    "                          'recall@5': recall_at_5,\n",
    "                          'recall@10': recall_at_10}\n",
    "    return person_metrics, person_recs_df[0:10]"
   ]
  },
  {
   "cell_type": "code",
   "execution_count": null,
   "metadata": {},
   "outputs": [],
   "source": [
    "def evaluate_model(model):\n",
    "    #print('Running evaluation for users')\n",
    "    people_metrics = []\n",
    "    reco_list = pd.DataFrame(columns = ['contentId', 'eventStrength'])\n",
    "    \n",
    "    for idx, person_id in enumerate(list(interactions_test_indexed_df.index.unique().values)):\n",
    "        #if idx % 100 == 0 and idx > 0:\n",
    "        #    print('%d users processed' % idx)\n",
    "        #print(person_id)\n",
    "        person_metrics, rec_list = evaluate_model_for_user(model, person_id)  \n",
    "        person_metrics['_person_id'] = person_id\n",
    "        people_metrics.append(person_metrics)\n",
    "        reco_list = reco_list.append(rec_list)\n",
    "        \n",
    "    print('%d users processed' % idx)\n",
    "\n",
    "    detailed_results_df = pd.DataFrame(people_metrics) \\\n",
    "                            .sort_values('interacted_count', ascending=False)\n",
    "        \n",
    "    global_recall_at_5 = detailed_results_df['hits@5_count'].sum() / float(detailed_results_df['interacted_count'].sum())\n",
    "    global_recall_at_10 = detailed_results_df['hits@10_count'].sum() / float(detailed_results_df['interacted_count'].sum())\n",
    "        \n",
    "    global_metrics = {'modelName': model.get_model_name(),\n",
    "                          'recall@5': global_recall_at_5,\n",
    "                          'recall@10': global_recall_at_10}\n",
    "    \n",
    "    \n",
    "    return global_metrics, detailed_results_df, reco_list"
   ]
  },
  {
   "cell_type": "markdown",
   "metadata": {},
   "source": [
    "# Popularity Model"
   ]
  },
  {
   "cell_type": "code",
   "execution_count": null,
   "metadata": {},
   "outputs": [],
   "source": [
    "#Computes the most popular items\n",
    "item_popularity_df = interactions_full_df.groupby('contentId')['eventStrength'].sum().sort_values(ascending=False).reset_index()\n",
    "item_popularity_df.head(10)"
   ]
  },
  {
   "cell_type": "code",
   "execution_count": null,
   "metadata": {},
   "outputs": [],
   "source": [
    "class PopularityRecommender:\n",
    "    \n",
    "    MODEL_NAME = 'Popularity'\n",
    "    \n",
    "    def __init__(self, popularity_df, items_df=None):\n",
    "        self.popularity_df = popularity_df\n",
    "        self.items_df = items_df\n",
    "        \n",
    "    def get_model_name(self):\n",
    "        return self.MODEL_NAME\n",
    "        \n",
    "    def recommend_items(self, user_id, items_to_ignore=[], topn=10, verbose=False):\n",
    "        # Recommend the more popular items that the user hasn't seen yet.\n",
    "        recommendations_df = self.popularity_df[~self.popularity_df['contentId'].isin(items_to_ignore)] \\\n",
    "                               .sort_values('eventStrength', ascending = False) \\\n",
    "                               .head(topn)\n",
    "\n",
    "        if verbose:\n",
    "            if self.items_df is None:\n",
    "                raise Exception('\"items_df\" is required in verbose mode')\n",
    "\n",
    "            recommendations_df = recommendations_df.merge(self.items_df, how = 'left', \n",
    "                                                          left_on = 'contentId', \n",
    "                                                          right_on = 'contentId')[['eventStrength', 'contentId']]\n",
    "\n",
    "\n",
    "        return recommendations_df\n",
    "    \n",
    "popularity_model = PopularityRecommender(item_popularity_df, feeds_df)"
   ]
  },
  {
   "cell_type": "code",
   "execution_count": null,
   "metadata": {},
   "outputs": [],
   "source": [
    "print('Evaluating Popularity recommendation model...')\n",
    "pop_global_metrics, pop_detailed_results_df, full_reco_list = evaluate_model(popularity_model)\n",
    "print('\\nGlobal metrics:\\n%s' % pop_global_metrics)\n",
    "pop_detailed_results_df.head(10)"
   ]
  },
  {
   "cell_type": "code",
   "execution_count": null,
   "metadata": {},
   "outputs": [],
   "source": [
    "print(\"Coverage:\", full_reco_list['contentId'].nunique() / feeds_df['contentId'].nunique())"
   ]
  },
  {
   "cell_type": "code",
   "execution_count": null,
   "metadata": {},
   "outputs": [],
   "source": []
  },
  {
   "cell_type": "markdown",
   "metadata": {},
   "source": [
    "# Content-Based Filtering model"
   ]
  },
  {
   "cell_type": "code",
   "execution_count": null,
   "metadata": {},
   "outputs": [],
   "source": [
    "#Ignoring stopwords (words with no semantics) from English and Portuguese (as we have a corpus with mixed languages)\n",
    "stopwords_list = stopwords.words('english')\n",
    "\n",
    "#Trains a model whose vectors size is 5000, composed by the main unigrams and bigrams found in the corpus, ignoring stopwords\n",
    "vectorizer = TfidfVectorizer(analyzer='word',\n",
    "                     ngram_range=(1, 2),\n",
    "                     min_df=0.003,\n",
    "                     max_df=0.5,\n",
    "                     max_features=5000,\n",
    "                     stop_words=stopwords_list)\n",
    "\n",
    "item_ids = feeds_df['contentId'].tolist()\n",
    "tfidf_matrix = vectorizer.fit_transform(feeds_df['text'])\n",
    "tfidf_feature_names = vectorizer.get_feature_names()\n",
    "tfidf_matrix"
   ]
  },
  {
   "cell_type": "code",
   "execution_count": null,
   "metadata": {},
   "outputs": [],
   "source": [
    "def get_item_profile(item_id):\n",
    "    #print(item_id)\n",
    "    idx = item_ids.index(item_id)\n",
    "    item_profile = tfidf_matrix[idx:idx+1]\n",
    "    return item_profile\n",
    "\n",
    "def get_item_profiles(ids):\n",
    "    #print(ids)\n",
    "    if(isinstance(ids, str)):\n",
    "        ids = [ids]\n",
    "    item_profiles_list = [get_item_profile(x) for x in ids]\n",
    "    item_profiles = scipy.sparse.vstack(item_profiles_list)\n",
    "    return item_profiles\n",
    "\n",
    "def build_users_profile(person_id, interactions_indexed_df):\n",
    "    #print(person_id)\n",
    "    interactions_person_df = interactions_indexed_df.loc[person_id]\n",
    "    user_item_profiles = get_item_profiles(interactions_person_df['contentId'])\n",
    "    \n",
    "    user_item_strengths = np.array(interactions_person_df['eventStrength']).reshape(-1,1)\n",
    "    #Weighted average of item profiles by the interactions strength\n",
    "    user_item_strengths_weighted_avg = np.sum(user_item_profiles.multiply(user_item_strengths), axis=0) / np.sum(user_item_strengths)\n",
    "    user_profile_norm = sklearn.preprocessing.normalize(user_item_strengths_weighted_avg)\n",
    "    return user_profile_norm\n",
    "\n",
    "def build_users_profiles(): \n",
    "    interactions_indexed_df = interactions_train_df[interactions_train_df['contentId'] \\\n",
    "                                                   .isin(feeds_df['contentId'])].set_index('personId')\n",
    "    user_profiles = {}\n",
    "    for person_id in interactions_indexed_df.index.unique():\n",
    "        #print(person_id)\n",
    "        user_profiles[person_id] = build_users_profile(person_id, interactions_indexed_df)\n",
    "    return user_profiles"
   ]
  },
  {
   "cell_type": "code",
   "execution_count": null,
   "metadata": {},
   "outputs": [],
   "source": [
    "user_profiles = build_users_profiles()\n",
    "len(user_profiles)"
   ]
  },
  {
   "cell_type": "code",
   "execution_count": null,
   "metadata": {},
   "outputs": [],
   "source": []
  },
  {
   "cell_type": "code",
   "execution_count": null,
   "metadata": {},
   "outputs": [],
   "source": []
  },
  {
   "cell_type": "code",
   "execution_count": null,
   "metadata": {
    "scrolled": true
   },
   "outputs": [],
   "source": [
    "myprofile = user_profiles['5df4c077a68eb700165a66c3']\n",
    "print(myprofile.shape)\n",
    "pd.DataFrame(sorted(zip(tfidf_feature_names, \n",
    "                        user_profiles['5df4c077a68eb700165a66c3'].flatten().tolist()), key=lambda x: -x[1])[:20],\n",
    "             columns=['token', 'relevance'])"
   ]
  },
  {
   "cell_type": "code",
   "execution_count": null,
   "metadata": {},
   "outputs": [],
   "source": [
    "class ContentBasedRecommender:\n",
    "    \n",
    "    MODEL_NAME = 'Content-Based'\n",
    "    \n",
    "    def __init__(self, items_df=None):\n",
    "        self.item_ids = item_ids\n",
    "        self.items_df = items_df\n",
    "        \n",
    "    def get_model_name(self):\n",
    "        return self.MODEL_NAME\n",
    "        \n",
    "    def _get_similar_items_to_user_profile(self, person_id, topn=1000):\n",
    "        #Computes the cosine similarity between the user profile and all item profiles\n",
    "        cosine_similarities = cosine_similarity(user_profiles[person_id], tfidf_matrix)\n",
    "        #Gets the top similar items\n",
    "        similar_indices = cosine_similarities.argsort().flatten()[-topn:]\n",
    "        #Sort the similar items by similarity\n",
    "        similar_items = sorted([(item_ids[i], cosine_similarities[0,i]) for i in similar_indices], key=lambda x: -x[1])\n",
    "        return similar_items\n",
    "        \n",
    "    def recommend_items(self, user_id, items_to_ignore=[], topn=10, verbose=False):\n",
    "        similar_items = self._get_similar_items_to_user_profile(user_id)\n",
    "        #Ignores items the user has already interacted\n",
    "        similar_items_filtered = list(filter(lambda x: x[0] not in items_to_ignore, similar_items))\n",
    "        \n",
    "        recommendations_df = pd.DataFrame(similar_items_filtered, columns=['contentId', 'recStrength']) \\\n",
    "                                    .head(topn)\n",
    "\n",
    "        if verbose:\n",
    "            if self.items_df is None:\n",
    "                raise Exception('\"items_df\" is required in verbose mode')\n",
    "\n",
    "            recommendations_df = recommendations_df.merge(self.items_df, how = 'left', \n",
    "                                                          left_on = 'contentId', \n",
    "                                                          right_on = 'contentId')[['recStrength', 'contentId']]\n",
    "\n",
    "\n",
    "        return recommendations_df\n",
    "    \n",
    "content_based_recommender_model = ContentBasedRecommender(feeds_df)"
   ]
  },
  {
   "cell_type": "code",
   "execution_count": null,
   "metadata": {},
   "outputs": [],
   "source": [
    "print('Evaluating Content-Based Filtering model...')\n",
    "cb_global_metrics, cb_detailed_results_df, full_reco_list = evaluate_model(content_based_recommender_model)\n",
    "print('\\nGlobal metrics:\\n%s' % cb_global_metrics)\n",
    "cb_detailed_results_df.head(10)"
   ]
  },
  {
   "cell_type": "code",
   "execution_count": null,
   "metadata": {},
   "outputs": [],
   "source": [
    "print(\"Coverage:\", full_reco_list['contentId'].nunique() / feeds_df['contentId'].nunique())"
   ]
  },
  {
   "cell_type": "markdown",
   "metadata": {},
   "source": [
    "# Collaborative Filtering model"
   ]
  },
  {
   "cell_type": "markdown",
   "metadata": {},
   "source": [
    "### Matrix Factorization"
   ]
  },
  {
   "cell_type": "code",
   "execution_count": null,
   "metadata": {},
   "outputs": [],
   "source": [
    "#Creating a sparse pivot table with users in rows and items in columns\n",
    "users_items_pivot_matrix_df = interactions_train_df.pivot(index='personId', \n",
    "                                                          columns='contentId', \n",
    "                                                          values='eventStrength').fillna(0)\n",
    "\n",
    "users_items_pivot_matrix_df.head(10)"
   ]
  },
  {
   "cell_type": "code",
   "execution_count": null,
   "metadata": {},
   "outputs": [],
   "source": [
    "users_items_pivot_matrix_df.shape"
   ]
  },
  {
   "cell_type": "code",
   "execution_count": null,
   "metadata": {},
   "outputs": [],
   "source": [
    "users_items_pivot_matrix = users_items_pivot_matrix_df.as_matrix()\n",
    "users_items_pivot_matrix[:10]"
   ]
  },
  {
   "cell_type": "code",
   "execution_count": null,
   "metadata": {},
   "outputs": [],
   "source": [
    "users_ids = list(users_items_pivot_matrix_df.index)\n",
    "users_ids[:10]"
   ]
  },
  {
   "cell_type": "code",
   "execution_count": null,
   "metadata": {},
   "outputs": [],
   "source": [
    "users_items_pivot_sparse_matrix = csr_matrix(users_items_pivot_matrix)\n",
    "users_items_pivot_sparse_matrix"
   ]
  },
  {
   "cell_type": "code",
   "execution_count": null,
   "metadata": {},
   "outputs": [],
   "source": [
    "#The number of factors to factor the user-item matrix.\n",
    "NUMBER_OF_FACTORS_MF = 15\n",
    "#Performs matrix factorization of the original user item matrix\n",
    "#U, sigma, Vt = svds(users_items_pivot_matrix, k = NUMBER_OF_FACTORS_MF)\n",
    "U, sigma, Vt = svds(users_items_pivot_sparse_matrix, k = NUMBER_OF_FACTORS_MF)"
   ]
  },
  {
   "cell_type": "code",
   "execution_count": null,
   "metadata": {},
   "outputs": [],
   "source": [
    "U.shape"
   ]
  },
  {
   "cell_type": "code",
   "execution_count": null,
   "metadata": {},
   "outputs": [],
   "source": [
    "Vt.shape"
   ]
  },
  {
   "cell_type": "code",
   "execution_count": null,
   "metadata": {},
   "outputs": [],
   "source": [
    "sigma = np.diag(sigma)\n",
    "sigma.shape"
   ]
  },
  {
   "cell_type": "code",
   "execution_count": null,
   "metadata": {},
   "outputs": [],
   "source": [
    "all_user_predicted_ratings = np.dot(np.dot(U, sigma), Vt) \n",
    "print(all_user_predicted_ratings.shape)\n",
    "all_user_predicted_ratings"
   ]
  },
  {
   "cell_type": "code",
   "execution_count": null,
   "metadata": {},
   "outputs": [],
   "source": [
    "all_user_predicted_ratings_norm = (all_user_predicted_ratings - all_user_predicted_ratings.min()) / (all_user_predicted_ratings.max() - all_user_predicted_ratings.min())"
   ]
  },
  {
   "cell_type": "code",
   "execution_count": null,
   "metadata": {},
   "outputs": [],
   "source": [
    "#Converting the reconstructed matrix back to a Pandas dataframe\n",
    "cf_preds_df = pd.DataFrame(all_user_predicted_ratings_norm, columns = users_items_pivot_matrix_df.columns, index=users_ids).transpose()\n",
    "cf_preds_df.head(10)"
   ]
  },
  {
   "cell_type": "code",
   "execution_count": null,
   "metadata": {},
   "outputs": [],
   "source": [
    "len(cf_preds_df.columns)"
   ]
  },
  {
   "cell_type": "code",
   "execution_count": null,
   "metadata": {},
   "outputs": [],
   "source": [
    "class CFRecommender:\n",
    "    \n",
    "    MODEL_NAME = 'Collaborative Filtering'\n",
    "    \n",
    "    def __init__(self, cf_predictions_df, items_df=None):\n",
    "        self.cf_predictions_df = cf_predictions_df\n",
    "        self.items_df = items_df\n",
    "        \n",
    "    def get_model_name(self):\n",
    "        return self.MODEL_NAME\n",
    "        \n",
    "    def recommend_items(self, user_id, items_to_ignore=[], topn=10, verbose=False):\n",
    "        # Get and sort the user's predictions\n",
    "        sorted_user_predictions = self.cf_predictions_df[user_id].sort_values(ascending=False) \\\n",
    "                                    .reset_index().rename(columns={user_id: 'recStrength'})\n",
    "\n",
    "        # Recommend the highest predicted rating movies that the user hasn't seen yet.\n",
    "        recommendations_df = sorted_user_predictions[~sorted_user_predictions['contentId'].isin(items_to_ignore)] \\\n",
    "                               .sort_values('recStrength', ascending = False) \\\n",
    "                               .head(topn)\n",
    "\n",
    "        if verbose:\n",
    "            if self.items_df is None:\n",
    "                raise Exception('\"items_df\" is required in verbose mode')\n",
    "\n",
    "            recommendations_df = recommendations_df.merge(self.items_df, how = 'left', \n",
    "                                                          left_on = 'contentId', \n",
    "                                                          right_on = 'contentId')[['recStrength', 'contentId']]\n",
    "\n",
    "\n",
    "        return recommendations_df\n",
    "    \n",
    "cf_recommender_model = CFRecommender(cf_preds_df, feeds_df)"
   ]
  },
  {
   "cell_type": "code",
   "execution_count": null,
   "metadata": {},
   "outputs": [],
   "source": [
    "print('Evaluating Collaborative Filtering (SVD Matrix Factorization) model...')\n",
    "cf_global_metrics, cf_detailed_results_df, full_reco_list = evaluate_model(cf_recommender_model)\n",
    "print('\\nGlobal metrics:\\n%s' % cf_global_metrics)\n",
    "cf_detailed_results_df.head(10)"
   ]
  },
  {
   "cell_type": "code",
   "execution_count": null,
   "metadata": {},
   "outputs": [],
   "source": [
    "print(\"Coverage:\", full_reco_list['contentId'].nunique() / feeds_df['contentId'].nunique())"
   ]
  },
  {
   "cell_type": "code",
   "execution_count": null,
   "metadata": {},
   "outputs": [],
   "source": [
    "cf_recommender_model.recommend_items(user_id = '5df4c077a68eb700165a66c3', items_to_ignore=[], topn=10, verbose=False)"
   ]
  },
  {
   "cell_type": "markdown",
   "metadata": {},
   "source": [
    "### Hybrid Recommendation "
   ]
  },
  {
   "cell_type": "code",
   "execution_count": null,
   "metadata": {},
   "outputs": [],
   "source": [
    "class HybridRecommender:\n",
    "    \n",
    "    MODEL_NAME = 'Hybrid'\n",
    "    \n",
    "    def __init__(self, cb_rec_model, cf_rec_model, items_df, cb_ensemble_weight=1.0, cf_ensemble_weight=1.0):\n",
    "        self.cb_rec_model = cb_rec_model\n",
    "        self.cf_rec_model = cf_rec_model\n",
    "        self.cb_ensemble_weight = cb_ensemble_weight\n",
    "        self.cf_ensemble_weight = cf_ensemble_weight\n",
    "        self.items_df = items_df\n",
    "        \n",
    "    def get_model_name(self):\n",
    "        return self.MODEL_NAME\n",
    "        \n",
    "    def recommend_items(self, user_id, items_to_ignore=[], topn=10, verbose=False):\n",
    "        #Getting the top-1000 Content-based filtering recommendations\n",
    "        cb_recs_df = self.cb_rec_model.recommend_items(user_id, items_to_ignore=items_to_ignore, verbose=verbose,\n",
    "                                                           topn=1000).rename(columns={'recStrength': 'recStrengthCB'})\n",
    "        \n",
    "        #Getting the top-1000 Collaborative filtering recommendations\n",
    "        cf_recs_df = self.cf_rec_model.recommend_items(user_id, items_to_ignore=items_to_ignore, verbose=verbose, \n",
    "                                                           topn=1000).rename(columns={'recStrength': 'recStrengthCF'})\n",
    "        \n",
    "        #Combining the results by contentId\n",
    "        recs_df = cb_recs_df.merge(cf_recs_df,\n",
    "                                   how = 'outer', \n",
    "                                   left_on = 'contentId', \n",
    "                                   right_on = 'contentId').fillna(0.0)\n",
    "        \n",
    "        #Computing a hybrid recommendation score based on CF and CB scores\n",
    "        #recs_df['recStrengthHybrid'] = recs_df['recStrengthCB'] * recs_df['recStrengthCF'] \n",
    "        recs_df['recStrengthHybrid'] = (recs_df['recStrengthCB'] * self.cb_ensemble_weight) \\\n",
    "                                     + (recs_df['recStrengthCF'] * self.cf_ensemble_weight)\n",
    "        \n",
    "        #Sorting recommendations by hybrid score\n",
    "        recommendations_df = recs_df.sort_values('recStrengthHybrid', ascending=False).head(topn)\n",
    "\n",
    "        if verbose:\n",
    "            if self.items_df is None:\n",
    "                raise Exception('\"items_df\" is required in verbose mode')\n",
    "\n",
    "            recommendations_df = recommendations_df.merge(self.items_df, how = 'left', \n",
    "                                                          left_on = 'contentId', \n",
    "                                                          right_on = 'contentId')[['recStrengthHybrid', 'contentId']]\n",
    "\n",
    "\n",
    "        return recommendations_df\n",
    "    \n",
    "hybrid_recommender_model = HybridRecommender(content_based_recommender_model, cf_recommender_model, feeds_df,\n",
    "                                             cb_ensemble_weight=1.0, cf_ensemble_weight=100.0)\n"
   ]
  },
  {
   "cell_type": "code",
   "execution_count": null,
   "metadata": {},
   "outputs": [],
   "source": [
    "hybrid_recommender_model.recommend_items(user_id = '5df4c077a68eb700165a66c3', items_to_ignore=[], topn=10, verbose=False)"
   ]
  },
  {
   "cell_type": "code",
   "execution_count": null,
   "metadata": {},
   "outputs": [],
   "source": [
    "print('Evaluating Hybrid model...')\n",
    "hybrid_global_metrics, hybrid_detailed_results_df, full_reco_list = evaluate_model(hybrid_recommender_model)\n",
    "print('\\nGlobal metrics:\\n%s' % hybrid_global_metrics)\n",
    "hybrid_detailed_results_df.head(10)"
   ]
  },
  {
   "cell_type": "code",
   "execution_count": null,
   "metadata": {},
   "outputs": [],
   "source": [
    "print(\"Coverage:\", full_reco_list['contentId'].nunique() / feeds_df['contentId'].nunique())"
   ]
  },
  {
   "cell_type": "markdown",
   "metadata": {},
   "source": [
    "# Comparing Methods"
   ]
  },
  {
   "cell_type": "code",
   "execution_count": null,
   "metadata": {},
   "outputs": [],
   "source": [
    "global_metrics_df = pd.DataFrame([cb_global_metrics, pop_global_metrics, cf_global_metrics, hybrid_global_metrics]) \\\n",
    "                        .set_index('modelName')\n",
    "global_metrics_df"
   ]
  },
  {
   "cell_type": "code",
   "execution_count": null,
   "metadata": {},
   "outputs": [],
   "source": [
    "%matplotlib inline\n",
    "ax = global_metrics_df.transpose().plot(kind='bar', figsize=(15,8))\n",
    "for p in ax.patches:\n",
    "    ax.annotate(\"%.3f\" % p.get_height(), (p.get_x() + p.get_width() / 2., p.get_height()), ha='center', va='center', xytext=(0, 10), textcoords='offset points')"
   ]
  },
  {
   "cell_type": "code",
   "execution_count": null,
   "metadata": {},
   "outputs": [],
   "source": [
    "popularity_model.recommend_items(user_id = 'dummy', items_to_ignore=[], topn=10, verbose=False)"
   ]
  },
  {
   "cell_type": "code",
   "execution_count": null,
   "metadata": {},
   "outputs": [],
   "source": [
    "item_popularity_df.head(10)"
   ]
  },
  {
   "cell_type": "code",
   "execution_count": null,
   "metadata": {},
   "outputs": [],
   "source": []
  },
  {
   "cell_type": "code",
   "execution_count": null,
   "metadata": {},
   "outputs": [],
   "source": []
  },
  {
   "cell_type": "code",
   "execution_count": null,
   "metadata": {},
   "outputs": [],
   "source": []
  },
  {
   "cell_type": "code",
   "execution_count": null,
   "metadata": {},
   "outputs": [],
   "source": []
  },
  {
   "cell_type": "code",
   "execution_count": null,
   "metadata": {},
   "outputs": [],
   "source": []
  }
 ],
 "metadata": {
  "kernelspec": {
   "display_name": "conda_tensorflow_p36",
   "language": "python",
   "name": "conda_tensorflow_p36"
  },
  "language_info": {
   "codemirror_mode": {
    "name": "ipython",
    "version": 3
   },
   "file_extension": ".py",
   "mimetype": "text/x-python",
   "name": "python",
   "nbconvert_exporter": "python",
   "pygments_lexer": "ipython3",
   "version": "3.6.6"
  }
 },
 "nbformat": 4,
 "nbformat_minor": 4
}
