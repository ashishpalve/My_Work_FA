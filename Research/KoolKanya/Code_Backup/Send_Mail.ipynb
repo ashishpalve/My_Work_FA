{
 "cells": [
  {
   "cell_type": "code",
   "execution_count": null,
   "metadata": {},
   "outputs": [],
   "source": [
    "import smtplib\n",
    "import datetime\n",
    "from email.mime.multipart import MIMEMultipart\n",
    "from email.mime.text import MIMEText\n",
    "from email.mime.base import MIMEBase \n",
    "from email import encoders \n",
    "\n",
    "mail_content = \"Hello The Recommendation models are refreshed and new recommendations loaded to the database at \" + str(datetime.datetime.today()) + \". Below is the attached log.\"\n",
    "\n",
    "#The mail addresses and password\n",
    "sender_address = 'kk.recoengine@gmail.com'\n",
    "sender_pass = 'recommendation@123'\n",
    "receiver_address = 'ashishpalve.07@gmail.com'\n",
    "#Setup the MIME\n",
    "message = MIMEMultipart()\n",
    "message['From'] = sender_address\n",
    "message['To'] = receiver_address\n",
    "message['Subject'] = 'Recommendation Refreshed at ' + str(datetime.datetime.today())   #The subject line\n",
    "#The body and the attachments for the mail\n",
    "message.attach(MIMEText(mail_content, 'plain'))\n",
    "\n",
    "# open the file to be sent  \n",
    "filename = \"logfile.txt\"\n",
    "attachment = open(\"/home/ubuntu/reco/Reco_Solution/logfile.txt\", \"rb\") \n",
    "  \n",
    "# instance of MIMEBase and named as p \n",
    "p = MIMEBase('application', 'octet-stream') \n",
    "  \n",
    "# To change the payload into encoded form \n",
    "p.set_payload((attachment).read()) \n",
    "  \n",
    "# encode into base64 \n",
    "encoders.encode_base64(p) \n",
    "   \n",
    "p.add_header('Content-Disposition', \"attachment; filename= %s\" % filename) \n",
    "  \n",
    "# attach the instance 'p' to instance 'msg' \n",
    "message.attach(p) \n",
    "\n",
    "#Create SMTP session for sending the mail\n",
    "session = smtplib.SMTP('smtp.gmail.com', 587) #use gmail with port\n",
    "session.starttls() #enable security\n",
    "session.login(sender_address, sender_pass) #login with mail_id and password\n",
    "text = message.as_string()\n",
    "session.sendmail(sender_address, receiver_address, text)\n",
    "session.quit()\n",
    "print('Mail Sent')"
   ]
  }
 ],
 "metadata": {
  "kernelspec": {
   "display_name": "conda_python3",
   "language": "python",
   "name": "conda_python3"
  },
  "language_info": {
   "codemirror_mode": {
    "name": "ipython",
    "version": 3
   },
   "file_extension": ".py",
   "mimetype": "text/x-python",
   "name": "python",
   "nbconvert_exporter": "python",
   "pygments_lexer": "ipython3",
   "version": "3.6.5"
  }
 },
 "nbformat": 4,
 "nbformat_minor": 4
}
