{
 "cells": [
  {
   "cell_type": "code",
   "execution_count": 1,
   "metadata": {
    "scrolled": true
   },
   "outputs": [
    {
     "name": "stdout",
     "output_type": "stream",
     "text": [
      "Requirement already satisfied: pymongo in /home/ec2-user/anaconda3/envs/tensorflow_p36/lib/python3.6/site-packages (3.10.1)\n",
      "\u001b[33mWARNING: You are using pip version 20.0.2; however, version 20.1.1 is available.\n",
      "You should consider upgrading via the '/home/ec2-user/anaconda3/envs/tensorflow_p36/bin/python -m pip install --upgrade pip' command.\u001b[0m\n",
      "Requirement already satisfied: dnspython in /home/ec2-user/anaconda3/envs/tensorflow_p36/lib/python3.6/site-packages (1.16.0)\n",
      "\u001b[33mWARNING: You are using pip version 20.0.2; however, version 20.1.1 is available.\n",
      "You should consider upgrading via the '/home/ec2-user/anaconda3/envs/tensorflow_p36/bin/python -m pip install --upgrade pip' command.\u001b[0m\n",
      "Requirement already satisfied: pymongo[srv] in /home/ec2-user/anaconda3/envs/tensorflow_p36/lib/python3.6/site-packages (3.10.1)\n",
      "Requirement already satisfied: dnspython<2.0.0,>=1.16.0; extra == \"srv\" in /home/ec2-user/anaconda3/envs/tensorflow_p36/lib/python3.6/site-packages (from pymongo[srv]) (1.16.0)\n",
      "\u001b[33mWARNING: You are using pip version 20.0.2; however, version 20.1.1 is available.\n",
      "You should consider upgrading via the '/home/ec2-user/anaconda3/envs/tensorflow_p36/bin/python -m pip install --upgrade pip' command.\u001b[0m\n",
      "Collecting xgboost\n",
      "  Downloading xgboost-1.1.1-py3-none-manylinux2010_x86_64.whl (127.6 MB)\n",
      "\u001b[K     |████████████████████████████████| 127.6 MB 21 kB/s s eta 0:00:01\n",
      "\u001b[?25hRequirement already satisfied: scipy in /home/ec2-user/anaconda3/envs/tensorflow_p36/lib/python3.6/site-packages (from xgboost) (1.4.1)\n",
      "Requirement already satisfied: numpy in /home/ec2-user/anaconda3/envs/tensorflow_p36/lib/python3.6/site-packages (from xgboost) (1.18.1)\n",
      "Installing collected packages: xgboost\n",
      "Successfully installed xgboost-1.1.1\n",
      "\u001b[33mWARNING: You are using pip version 20.0.2; however, version 20.1.1 is available.\n",
      "You should consider upgrading via the '/home/ec2-user/anaconda3/envs/tensorflow_p36/bin/python -m pip install --upgrade pip' command.\u001b[0m\n",
      "DeprecationWarning: 'source deactivate' is deprecated. Use 'conda deactivate'.\n"
     ]
    }
   ],
   "source": [
    "!source activate python3\n",
    "!pip3 install pymongo\n",
    "!pip3 install dnspython\n",
    "!pip3 install pymongo[srv]\n",
    "!pip3 install xgboost\n",
    "!source deactivate"
   ]
  },
  {
   "cell_type": "code",
   "execution_count": 8,
   "metadata": {
    "scrolled": true
   },
   "outputs": [
    {
     "ename": "SyntaxError",
     "evalue": "invalid token (<ipython-input-8-e16fd910e055>, line 1)",
     "output_type": "error",
     "traceback": [
      "\u001b[0;36m  File \u001b[0;32m\"<ipython-input-8-e16fd910e055>\"\u001b[0;36m, line \u001b[0;32m1\u001b[0m\n\u001b[0;31m    from 01Data_Creation_for_Tag_Classification import *\u001b[0m\n\u001b[0m          ^\u001b[0m\n\u001b[0;31mSyntaxError\u001b[0m\u001b[0;31m:\u001b[0m invalid token\n"
     ]
    }
   ],
   "source": [
    "from 01_Data_Creation_for_Tag_Classification import *"
   ]
  },
  {
   "cell_type": "code",
   "execution_count": 3,
   "metadata": {},
   "outputs": [
    {
     "name": "stdout",
     "output_type": "stream",
     "text": [
      "[nltk_data] Downloading package punkt to /home/ec2-user/nltk_data...\n",
      "[nltk_data]   Package punkt is already up-to-date!\n",
      "[nltk_data] Downloading package stopwords to\n",
      "[nltk_data]     /home/ec2-user/nltk_data...\n",
      "[nltk_data]   Package stopwords is already up-to-date!\n"
     ]
    },
    {
     "data": {
      "text/plain": [
       "True"
      ]
     },
     "execution_count": 3,
     "metadata": {},
     "output_type": "execute_result"
    }
   ],
   "source": [
    "import nltk\n",
    "nltk.download(['punkt', 'stopwords'])"
   ]
  },
  {
   "cell_type": "code",
   "execution_count": 4,
   "metadata": {},
   "outputs": [],
   "source": [
    "import os\n",
    "import warnings\n",
    "import pandas as pd\n",
    "import numpy as np\n",
    "import seaborn as sns\n",
    "import matplotlib.pyplot as plt\n",
    "from datetime import timedelta\n",
    "import pickle"
   ]
  },
  {
   "cell_type": "code",
   "execution_count": 5,
   "metadata": {},
   "outputs": [
    {
     "name": "stderr",
     "output_type": "stream",
     "text": [
      "Using TensorFlow backend.\n"
     ]
    },
    {
     "name": "stdout",
     "output_type": "stream",
     "text": [
      "WARNING:tensorflow:From /home/ec2-user/anaconda3/envs/tensorflow_p36/lib/python3.6/site-packages/tensorflow_core/__init__.py:1467: The name tf.estimator.inputs is deprecated. Please use tf.compat.v1.estimator.inputs instead.\n",
      "\n"
     ]
    }
   ],
   "source": [
    "from nltk.tokenize import word_tokenize\n",
    "from string import punctuation\n",
    "from nltk.corpus import stopwords\n",
    "from nltk.stem import PorterStemmer\n",
    "\n",
    "from sklearn import model_selection, preprocessing, linear_model, naive_bayes, metrics, svm\n",
    "from sklearn.feature_extraction.text import TfidfVectorizer, CountVectorizer\n",
    "from sklearn import decomposition, ensemble\n",
    "from sklearn.model_selection import train_test_split\n",
    "\n",
    "import xgboost\n",
    "\n",
    "from keras.preprocessing import text, sequence\n",
    "from keras import layers, models, optimizers\n",
    "from tensorflow import keras"
   ]
  },
  {
   "cell_type": "code",
   "execution_count": 6,
   "metadata": {},
   "outputs": [],
   "source": [
    "#feed_hashtag = pd.read_csv(os.getcwd() + '/Datasets/feed_hashtag_long.csv')\n",
    "#feed_hashtag['createdAt'] = pd.to_datetime(feed_hashtag['createdAt'])\n",
    "#print(feed_hashtag.shape)\n",
    "#feed_hashtag.head(1)"
   ]
  },
  {
   "cell_type": "code",
   "execution_count": null,
   "metadata": {},
   "outputs": [],
   "source": []
  },
  {
   "cell_type": "code",
   "execution_count": 7,
   "metadata": {},
   "outputs": [
    {
     "name": "stdout",
     "output_type": "stream",
     "text": [
      "Data Size: 7531\n",
      "Unique Content: 4487\n",
      "Unique tags: 12\n"
     ]
    }
   ],
   "source": [
    "feed_hashtag = feed_hashtag[feed_hashtag['isPrimary'] == True]\n",
    "feed_hashtag = feed_hashtag[~feed_hashtag['text'].isna()]\n",
    "print(\"Data Size:\", feed_hashtag.shape[0])\n",
    "print(\"Unique Content:\", feed_hashtag['contentId'].nunique())\n",
    "print(\"Unique tags:\", feed_hashtag['hashtag'].nunique())"
   ]
  },
  {
   "cell_type": "code",
   "execution_count": 8,
   "metadata": {},
   "outputs": [
    {
     "data": {
      "text/html": [
       "<div>\n",
       "<style scoped>\n",
       "    .dataframe tbody tr th:only-of-type {\n",
       "        vertical-align: middle;\n",
       "    }\n",
       "\n",
       "    .dataframe tbody tr th {\n",
       "        vertical-align: top;\n",
       "    }\n",
       "\n",
       "    .dataframe thead th {\n",
       "        text-align: right;\n",
       "    }\n",
       "</style>\n",
       "<table border=\"1\" class=\"dataframe\">\n",
       "  <thead>\n",
       "    <tr style=\"text-align: right;\">\n",
       "      <th></th>\n",
       "      <th>contentId</th>\n",
       "      <th>authorId_content</th>\n",
       "      <th>createdAt</th>\n",
       "      <th>tagIds</th>\n",
       "      <th>text</th>\n",
       "      <th>type</th>\n",
       "      <th>dt</th>\n",
       "      <th>mnth</th>\n",
       "      <th>yr</th>\n",
       "      <th>yr_mnth</th>\n",
       "      <th>hashtagId</th>\n",
       "      <th>authorId_hashtag</th>\n",
       "      <th>hashtag</th>\n",
       "      <th>isActive</th>\n",
       "      <th>isPrimary</th>\n",
       "      <th>createDate</th>\n",
       "    </tr>\n",
       "  </thead>\n",
       "  <tbody>\n",
       "    <tr>\n",
       "      <th>0</th>\n",
       "      <td>5df454f37e4ea600161b8e2e</td>\n",
       "      <td>5df454297e4ea600161b8e25</td>\n",
       "      <td>2019-12-14 03:20:19.029</td>\n",
       "      <td>5df3940fb2694d0016bdb722</td>\n",
       "      <td>Hi I am Shreshtha. I have been baking for the ...</td>\n",
       "      <td>QUESTION</td>\n",
       "      <td>2019-12-14</td>\n",
       "      <td>12</td>\n",
       "      <td>2019</td>\n",
       "      <td>2019-12</td>\n",
       "      <td>5df3940fb2694d0016bdb722</td>\n",
       "      <td>5df38de0b2694d0016bdb71f</td>\n",
       "      <td>marketingQueries</td>\n",
       "      <td>True</td>\n",
       "      <td>True</td>\n",
       "      <td>2019-12-14</td>\n",
       "    </tr>\n",
       "  </tbody>\n",
       "</table>\n",
       "</div>"
      ],
      "text/plain": [
       "                  contentId          authorId_content               createdAt  \\\n",
       "0  5df454f37e4ea600161b8e2e  5df454297e4ea600161b8e25 2019-12-14 03:20:19.029   \n",
       "\n",
       "                     tagIds  \\\n",
       "0  5df3940fb2694d0016bdb722   \n",
       "\n",
       "                                                text      type          dt  \\\n",
       "0  Hi I am Shreshtha. I have been baking for the ...  QUESTION  2019-12-14   \n",
       "\n",
       "   mnth    yr  yr_mnth                 hashtagId          authorId_hashtag  \\\n",
       "0    12  2019  2019-12  5df3940fb2694d0016bdb722  5df38de0b2694d0016bdb71f   \n",
       "\n",
       "            hashtag  isActive  isPrimary  createDate  \n",
       "0  marketingQueries      True       True  2019-12-14  "
      ]
     },
     "execution_count": 8,
     "metadata": {},
     "output_type": "execute_result"
    }
   ],
   "source": [
    "feed_hashtag['createDate'] = feed_hashtag['createdAt'].dt.date\n",
    "feed_hashtag.head(1)"
   ]
  },
  {
   "cell_type": "code",
   "execution_count": 9,
   "metadata": {},
   "outputs": [],
   "source": [
    "#feed_hashtag.groupby(['createDate']).agg({'contentId':'nunique', 'tagIds':'count'})"
   ]
  },
  {
   "cell_type": "code",
   "execution_count": 10,
   "metadata": {},
   "outputs": [],
   "source": [
    "feed_hashtag = feed_hashtag.sort_values(['contentId'])"
   ]
  },
  {
   "cell_type": "code",
   "execution_count": 11,
   "metadata": {},
   "outputs": [],
   "source": [
    "#feed_hashtag.groupby(['contentId'])['hashtag'].count().reset_index().sort_values(['hashtag'], ascending = False).head()"
   ]
  },
  {
   "cell_type": "code",
   "execution_count": 12,
   "metadata": {},
   "outputs": [
    {
     "data": {
      "image/png": "[encoded data removed]",
      "text/plain": [
       "<Figure size 1296x360 with 1 Axes>"
      ]
     },
     "metadata": {},
     "output_type": "display_data"
    }
   ],
   "source": [
    "hashtag_class_ct = feed_hashtag.groupby(['hashtag'])['contentId'].agg([('row_count','count'), ('content_count','nunique')]).reset_index()\n",
    "hashtag_class_ct = hashtag_class_ct.sort_values(['content_count'], ascending=False)\n",
    "hashtag_class_ct\n",
    "f, ax = plt.subplots(figsize=(18,5))\n",
    "plt.bar(hashtag_class_ct['hashtag'], hashtag_class_ct['content_count'])\n",
    "plt.xlabel('hashtag', fontsize=20)\n",
    "plt.ylabel('No of Feeds', fontsize=20)\n",
    "plt.xticks(hashtag_class_ct['hashtag'], fontsize=20, rotation=30)\n",
    "plt.title('hashtag counts')\n",
    "\n",
    "plt.title(\"Number of Post for every Primary Hashtag\")\n",
    "plt.savefig(os.getcwd()+'/Charts/Total_Post_Per_Primary_Hashtag.png')\n",
    "\n",
    "plt.show()\n",
    "plt.close()"
   ]
  },
  {
   "cell_type": "code",
   "execution_count": 13,
   "metadata": {},
   "outputs": [
    {
     "name": "stdout",
     "output_type": "stream",
     "text": [
      "(4487, 9)\n"
     ]
    },
    {
     "data": {
      "text/html": [
       "<div>\n",
       "<style scoped>\n",
       "    .dataframe tbody tr th:only-of-type {\n",
       "        vertical-align: middle;\n",
       "    }\n",
       "\n",
       "    .dataframe tbody tr th {\n",
       "        vertical-align: top;\n",
       "    }\n",
       "\n",
       "    .dataframe thead th {\n",
       "        text-align: right;\n",
       "    }\n",
       "</style>\n",
       "<table border=\"1\" class=\"dataframe\">\n",
       "  <thead>\n",
       "    <tr style=\"text-align: right;\">\n",
       "      <th></th>\n",
       "      <th>contentId</th>\n",
       "      <th>authorId_content</th>\n",
       "      <th>createdAt</th>\n",
       "      <th>text</th>\n",
       "      <th>type</th>\n",
       "      <th>isActive</th>\n",
       "      <th>isPrimary</th>\n",
       "      <th>hashtag_count</th>\n",
       "      <th>hashtag_list</th>\n",
       "    </tr>\n",
       "  </thead>\n",
       "  <tbody>\n",
       "    <tr>\n",
       "      <th>1943</th>\n",
       "      <td>5ea903a51081fc002f901eaf</td>\n",
       "      <td>5ea90095cc13d50046a192fe</td>\n",
       "      <td>2020-04-29 04:33:41.016</td>\n",
       "      <td>Hi, I am teaching spanish language, If anyone ...</td>\n",
       "      <td>POST</td>\n",
       "      <td>True</td>\n",
       "      <td>True</td>\n",
       "      <td>5</td>\n",
       "      <td>career-growth,career-switch,starting-out,selfc...</td>\n",
       "    </tr>\n",
       "    <tr>\n",
       "      <th>1155</th>\n",
       "      <td>5e883e2239bde20029d8280a</td>\n",
       "      <td>5e7c79d8ad47950024ffd1db</td>\n",
       "      <td>2020-04-04 07:58:26.601</td>\n",
       "      <td>Pinarayi Vijayan (Chief Minister of Kerala) Sa...</td>\n",
       "      <td>POST</td>\n",
       "      <td>True</td>\n",
       "      <td>True</td>\n",
       "      <td>4</td>\n",
       "      <td>inspiration,networking,selfcare,starting-out</td>\n",
       "    </tr>\n",
       "  </tbody>\n",
       "</table>\n",
       "</div>"
      ],
      "text/plain": [
       "                     contentId          authorId_content  \\\n",
       "1943  5ea903a51081fc002f901eaf  5ea90095cc13d50046a192fe   \n",
       "1155  5e883e2239bde20029d8280a  5e7c79d8ad47950024ffd1db   \n",
       "\n",
       "                   createdAt  \\\n",
       "1943 2020-04-29 04:33:41.016   \n",
       "1155 2020-04-04 07:58:26.601   \n",
       "\n",
       "                                                   text  type  isActive  \\\n",
       "1943  Hi, I am teaching spanish language, If anyone ...  POST      True   \n",
       "1155  Pinarayi Vijayan (Chief Minister of Kerala) Sa...  POST      True   \n",
       "\n",
       "      isPrimary  hashtag_count  \\\n",
       "1943       True              5   \n",
       "1155       True              4   \n",
       "\n",
       "                                           hashtag_list  \n",
       "1943  career-growth,career-switch,starting-out,selfc...  \n",
       "1155       inspiration,networking,selfcare,starting-out  "
      ]
     },
     "execution_count": 13,
     "metadata": {},
     "output_type": "execute_result"
    }
   ],
   "source": [
    "feed_hashtag_rollup = feed_hashtag.groupby(['contentId', 'authorId_content', 'createdAt', 'text', 'type', 'isActive', 'isPrimary'])['hashtag'].agg([('hashtag_count','count'), ('hashtag_list', ','.join)]).reset_index()\n",
    "print(feed_hashtag_rollup.shape)\n",
    "feed_hashtag_rollup.sort_values(['hashtag_count'],ascending=False).head(2)"
   ]
  },
  {
   "cell_type": "code",
   "execution_count": 14,
   "metadata": {},
   "outputs": [
    {
     "data": {
      "text/plain": [
       "Timestamp('2020-06-25 00:00:00')"
      ]
     },
     "execution_count": 14,
     "metadata": {},
     "output_type": "execute_result"
    }
   ],
   "source": [
    "train_test_cutoff = pd.to_datetime(feed_hashtag['createDate'].max() - timedelta(10))\n",
    "train_test_cutoff"
   ]
  },
  {
   "cell_type": "code",
   "execution_count": 15,
   "metadata": {},
   "outputs": [
    {
     "name": "stdout",
     "output_type": "stream",
     "text": [
      "train data: 6533\n",
      "test data: 998\n"
     ]
    }
   ],
   "source": [
    "train = feed_hashtag[feed_hashtag['createdAt'] <= train_test_cutoff].copy()\n",
    "print(\"train data:\", train.shape[0])\n",
    "test = feed_hashtag[feed_hashtag['createdAt'] > train_test_cutoff].copy()\n",
    "print(\"test data:\", test.shape[0])"
   ]
  },
  {
   "cell_type": "code",
   "execution_count": 16,
   "metadata": {},
   "outputs": [
    {
     "name": "stdout",
     "output_type": "stream",
     "text": [
      "---------------------------------------------------------------------------------------------------\n",
      "----------------------------------     Data Processing Started     --------------------------------\n",
      "---------------------------------------------------------------------------------------------------\n"
     ]
    }
   ],
   "source": [
    "print(\"---------------------------------------------------------------------------------------------------\")\n",
    "print(\"----------------------------------     Data Processing Started     --------------------------------\")\n",
    "print(\"---------------------------------------------------------------------------------------------------\")"
   ]
  },
  {
   "cell_type": "markdown",
   "metadata": {},
   "source": [
    "# Text Cleansing"
   ]
  },
  {
   "cell_type": "code",
   "execution_count": 17,
   "metadata": {},
   "outputs": [],
   "source": [
    "def del_stop(sent, stop_word_list):\n",
    "    return [term for term in sent if term not in stop_word_list]\n",
    "\n",
    "porter = PorterStemmer()\n",
    "def stem_tokens(token_list):\n",
    "    token_stem = [porter.stem(term) for term in token_list]\n",
    "    return(token_stem)\n",
    "\n",
    "def get_clean_text(txt):\n",
    "    feed_token = [word_tokenize(sent.lower()) for sent in txt]\n",
    "    \n",
    "    stop_punct = list(punctuation)\n",
    "    stop_nltk = stopwords.words(\"english\")\n",
    "    stop_updated = stop_nltk + stop_punct\n",
    "    \n",
    "    feed_token_clean = [del_stop(sent, stop_updated) for sent in feed_token]\n",
    "    feed_token_stemmed = [stem_tokens(tk) for tk in feed_token_clean]\n",
    "    \n",
    "    clean_text = [\" \".join(sent) for sent in feed_token_clean]\n",
    "    return(clean_text)"
   ]
  },
  {
   "cell_type": "code",
   "execution_count": 18,
   "metadata": {},
   "outputs": [
    {
     "data": {
      "text/html": [
       "<div>\n",
       "<style scoped>\n",
       "    .dataframe tbody tr th:only-of-type {\n",
       "        vertical-align: middle;\n",
       "    }\n",
       "\n",
       "    .dataframe tbody tr th {\n",
       "        vertical-align: top;\n",
       "    }\n",
       "\n",
       "    .dataframe thead th {\n",
       "        text-align: right;\n",
       "    }\n",
       "</style>\n",
       "<table border=\"1\" class=\"dataframe\">\n",
       "  <thead>\n",
       "    <tr style=\"text-align: right;\">\n",
       "      <th></th>\n",
       "      <th>contentId</th>\n",
       "      <th>authorId_content</th>\n",
       "      <th>createdAt</th>\n",
       "      <th>tagIds</th>\n",
       "      <th>text</th>\n",
       "      <th>type</th>\n",
       "      <th>dt</th>\n",
       "      <th>mnth</th>\n",
       "      <th>yr</th>\n",
       "      <th>yr_mnth</th>\n",
       "      <th>hashtagId</th>\n",
       "      <th>authorId_hashtag</th>\n",
       "      <th>hashtag</th>\n",
       "      <th>isActive</th>\n",
       "      <th>isPrimary</th>\n",
       "      <th>createDate</th>\n",
       "      <th>text_clean</th>\n",
       "    </tr>\n",
       "  </thead>\n",
       "  <tbody>\n",
       "    <tr>\n",
       "      <th>0</th>\n",
       "      <td>5df454f37e4ea600161b8e2e</td>\n",
       "      <td>5df454297e4ea600161b8e25</td>\n",
       "      <td>2019-12-14 03:20:19.029</td>\n",
       "      <td>5df3940fb2694d0016bdb722</td>\n",
       "      <td>Hi I am Shreshtha. I have been baking for the ...</td>\n",
       "      <td>QUESTION</td>\n",
       "      <td>2019-12-14</td>\n",
       "      <td>12</td>\n",
       "      <td>2019</td>\n",
       "      <td>2019-12</td>\n",
       "      <td>5df3940fb2694d0016bdb722</td>\n",
       "      <td>5df38de0b2694d0016bdb71f</td>\n",
       "      <td>marketingQueries</td>\n",
       "      <td>True</td>\n",
       "      <td>True</td>\n",
       "      <td>2019-12-14</td>\n",
       "      <td>hi shreshtha baking last 5 years brand associa...</td>\n",
       "    </tr>\n",
       "  </tbody>\n",
       "</table>\n",
       "</div>"
      ],
      "text/plain": [
       "                  contentId          authorId_content               createdAt  \\\n",
       "0  5df454f37e4ea600161b8e2e  5df454297e4ea600161b8e25 2019-12-14 03:20:19.029   \n",
       "\n",
       "                     tagIds  \\\n",
       "0  5df3940fb2694d0016bdb722   \n",
       "\n",
       "                                                text      type          dt  \\\n",
       "0  Hi I am Shreshtha. I have been baking for the ...  QUESTION  2019-12-14   \n",
       "\n",
       "   mnth    yr  yr_mnth                 hashtagId          authorId_hashtag  \\\n",
       "0    12  2019  2019-12  5df3940fb2694d0016bdb722  5df38de0b2694d0016bdb71f   \n",
       "\n",
       "            hashtag  isActive  isPrimary  createDate  \\\n",
       "0  marketingQueries      True       True  2019-12-14   \n",
       "\n",
       "                                          text_clean  \n",
       "0  hi shreshtha baking last 5 years brand associa...  "
      ]
     },
     "execution_count": 18,
     "metadata": {},
     "output_type": "execute_result"
    }
   ],
   "source": [
    "train['text_clean'] = get_clean_text(train.text)\n",
    "train.head(1)"
   ]
  },
  {
   "cell_type": "code",
   "execution_count": 19,
   "metadata": {},
   "outputs": [
    {
     "data": {
      "text/html": [
       "<div>\n",
       "<style scoped>\n",
       "    .dataframe tbody tr th:only-of-type {\n",
       "        vertical-align: middle;\n",
       "    }\n",
       "\n",
       "    .dataframe tbody tr th {\n",
       "        vertical-align: top;\n",
       "    }\n",
       "\n",
       "    .dataframe thead th {\n",
       "        text-align: right;\n",
       "    }\n",
       "</style>\n",
       "<table border=\"1\" class=\"dataframe\">\n",
       "  <thead>\n",
       "    <tr style=\"text-align: right;\">\n",
       "      <th></th>\n",
       "      <th>contentId</th>\n",
       "      <th>authorId_content</th>\n",
       "      <th>createdAt</th>\n",
       "      <th>tagIds</th>\n",
       "      <th>text</th>\n",
       "      <th>type</th>\n",
       "      <th>dt</th>\n",
       "      <th>mnth</th>\n",
       "      <th>yr</th>\n",
       "      <th>yr_mnth</th>\n",
       "      <th>hashtagId</th>\n",
       "      <th>authorId_hashtag</th>\n",
       "      <th>hashtag</th>\n",
       "      <th>isActive</th>\n",
       "      <th>isPrimary</th>\n",
       "      <th>createDate</th>\n",
       "      <th>text_clean</th>\n",
       "    </tr>\n",
       "  </thead>\n",
       "  <tbody>\n",
       "    <tr>\n",
       "      <th>18460</th>\n",
       "      <td>5ef3fb8e4446920022aef878</td>\n",
       "      <td>5e94802ee4ffc40045a924dd</td>\n",
       "      <td>2020-06-25 01:19:10.094</td>\n",
       "      <td>5df39410b2694d0016bdb724</td>\n",
       "      <td>Good morning 🌞 We’re all so inundated with sto...</td>\n",
       "      <td>POST</td>\n",
       "      <td>2020-06-25</td>\n",
       "      <td>6</td>\n",
       "      <td>2020</td>\n",
       "      <td>2020-6</td>\n",
       "      <td>5df39410b2694d0016bdb724</td>\n",
       "      <td>5df38de0b2694d0016bdb71f</td>\n",
       "      <td>inspiration</td>\n",
       "      <td>True</td>\n",
       "      <td>True</td>\n",
       "      <td>2020-06-25</td>\n",
       "      <td>good morning 🌞 ’ inundated stories people ’ li...</td>\n",
       "    </tr>\n",
       "  </tbody>\n",
       "</table>\n",
       "</div>"
      ],
      "text/plain": [
       "                      contentId          authorId_content  \\\n",
       "18460  5ef3fb8e4446920022aef878  5e94802ee4ffc40045a924dd   \n",
       "\n",
       "                    createdAt                    tagIds  \\\n",
       "18460 2020-06-25 01:19:10.094  5df39410b2694d0016bdb724   \n",
       "\n",
       "                                                    text  type          dt  \\\n",
       "18460  Good morning 🌞 We’re all so inundated with sto...  POST  2020-06-25   \n",
       "\n",
       "       mnth    yr yr_mnth                 hashtagId          authorId_hashtag  \\\n",
       "18460     6  2020  2020-6  5df39410b2694d0016bdb724  5df38de0b2694d0016bdb71f   \n",
       "\n",
       "           hashtag  isActive  isPrimary  createDate  \\\n",
       "18460  inspiration      True       True  2020-06-25   \n",
       "\n",
       "                                              text_clean  \n",
       "18460  good morning 🌞 ’ inundated stories people ’ li...  "
      ]
     },
     "execution_count": 19,
     "metadata": {},
     "output_type": "execute_result"
    }
   ],
   "source": [
    "test['text_clean'] = get_clean_text(test.text)\n",
    "test.head(1)"
   ]
  },
  {
   "cell_type": "code",
   "execution_count": 20,
   "metadata": {},
   "outputs": [
    {
     "data": {
      "text/plain": [
       "(3933, 10)"
      ]
     },
     "execution_count": 20,
     "metadata": {},
     "output_type": "execute_result"
    }
   ],
   "source": [
    "train_rollup = train.groupby(['contentId', 'authorId_content', 'createdAt', 'text', 'type', 'isActive', 'isPrimary', 'text_clean'])['hashtag'].agg([('hashtag_count','count'), ('hashtag_list', ','.join)]).reset_index()\n",
    "train_rollup.shape"
   ]
  },
  {
   "cell_type": "code",
   "execution_count": null,
   "metadata": {},
   "outputs": [],
   "source": []
  },
  {
   "cell_type": "code",
   "execution_count": 21,
   "metadata": {},
   "outputs": [
    {
     "name": "stdout",
     "output_type": "stream",
     "text": [
      "(3146, 10) (787, 10)\n",
      "(5264, 17)\n",
      "(1269, 17)\n"
     ]
    }
   ],
   "source": [
    "train_df_rollup, validation_rollup = model_selection.train_test_split(train_rollup, test_size=0.20)\n",
    "print(train_df_rollup.shape, validation_rollup.shape)\n",
    "train_df = train[train['contentId'].isin(train_df_rollup['contentId'])]\n",
    "validation = train[train['contentId'].isin(validation_rollup['contentId'])]\n",
    "print(train_df.shape)\n",
    "print(validation.shape)"
   ]
  },
  {
   "cell_type": "code",
   "execution_count": 22,
   "metadata": {},
   "outputs": [
    {
     "name": "stdout",
     "output_type": "stream",
     "text": [
      "(554, 10)\n"
     ]
    },
    {
     "data": {
      "text/html": [
       "<div>\n",
       "<style scoped>\n",
       "    .dataframe tbody tr th:only-of-type {\n",
       "        vertical-align: middle;\n",
       "    }\n",
       "\n",
       "    .dataframe tbody tr th {\n",
       "        vertical-align: top;\n",
       "    }\n",
       "\n",
       "    .dataframe thead th {\n",
       "        text-align: right;\n",
       "    }\n",
       "</style>\n",
       "<table border=\"1\" class=\"dataframe\">\n",
       "  <thead>\n",
       "    <tr style=\"text-align: right;\">\n",
       "      <th></th>\n",
       "      <th>contentId</th>\n",
       "      <th>authorId_content</th>\n",
       "      <th>createdAt</th>\n",
       "      <th>text</th>\n",
       "      <th>type</th>\n",
       "      <th>isActive</th>\n",
       "      <th>isPrimary</th>\n",
       "      <th>text_clean</th>\n",
       "      <th>hashtag_count</th>\n",
       "      <th>hashtag_list</th>\n",
       "    </tr>\n",
       "  </thead>\n",
       "  <tbody>\n",
       "    <tr>\n",
       "      <th>266</th>\n",
       "      <td>5efb7795e46cc7002879418c</td>\n",
       "      <td>5efb7171e46cc7002879413e</td>\n",
       "      <td>2020-06-30 17:34:13.218</td>\n",
       "      <td>Hey guys,    I am a Chef as well as a Baker.  ...</td>\n",
       "      <td>POST</td>\n",
       "      <td>True</td>\n",
       "      <td>True</td>\n",
       "      <td>hey guys chef well baker experienced vegan con...</td>\n",
       "      <td>4</td>\n",
       "      <td>GetWork,career-growth,starting-out,networking</td>\n",
       "    </tr>\n",
       "    <tr>\n",
       "      <th>465</th>\n",
       "      <td>5eff7e7ac5b7700023a25f43</td>\n",
       "      <td>5eff7a0b0bdede002216dcaf</td>\n",
       "      <td>2020-07-03 18:52:42.546</td>\n",
       "      <td>Hey everyone! I am new on this platform and st...</td>\n",
       "      <td>POST</td>\n",
       "      <td>True</td>\n",
       "      <td>True</td>\n",
       "      <td>hey everyone new platform still fluent p learn...</td>\n",
       "      <td>4</td>\n",
       "      <td>networking,career-growth,starting-out,GetWork</td>\n",
       "    </tr>\n",
       "  </tbody>\n",
       "</table>\n",
       "</div>"
      ],
      "text/plain": [
       "                    contentId          authorId_content  \\\n",
       "266  5efb7795e46cc7002879418c  5efb7171e46cc7002879413e   \n",
       "465  5eff7e7ac5b7700023a25f43  5eff7a0b0bdede002216dcaf   \n",
       "\n",
       "                  createdAt  \\\n",
       "266 2020-06-30 17:34:13.218   \n",
       "465 2020-07-03 18:52:42.546   \n",
       "\n",
       "                                                  text  type  isActive  \\\n",
       "266  Hey guys,    I am a Chef as well as a Baker.  ...  POST      True   \n",
       "465  Hey everyone! I am new on this platform and st...  POST      True   \n",
       "\n",
       "     isPrimary                                         text_clean  \\\n",
       "266       True  hey guys chef well baker experienced vegan con...   \n",
       "465       True  hey everyone new platform still fluent p learn...   \n",
       "\n",
       "     hashtag_count                                   hashtag_list  \n",
       "266              4  GetWork,career-growth,starting-out,networking  \n",
       "465              4  networking,career-growth,starting-out,GetWork  "
      ]
     },
     "execution_count": 22,
     "metadata": {},
     "output_type": "execute_result"
    }
   ],
   "source": [
    "test_rollup = test.groupby(['contentId', 'authorId_content', 'createdAt', 'text', 'type', 'isActive', 'isPrimary', 'text_clean'])['hashtag'].agg([('hashtag_count','count'), ('hashtag_list', ','.join)]).reset_index()\n",
    "print(test_rollup.shape)\n",
    "test_rollup.sort_values(['hashtag_count'],ascending=False).head(2)"
   ]
  },
  {
   "cell_type": "code",
   "execution_count": null,
   "metadata": {},
   "outputs": [],
   "source": []
  },
  {
   "cell_type": "code",
   "execution_count": 23,
   "metadata": {},
   "outputs": [],
   "source": [
    "train_x = train_df['text_clean']\n",
    "train_y = train_df['hashtag']\n",
    "valid_x = validation_rollup['text_clean']\n",
    "valid_y = validation_rollup['hashtag_list']\n",
    "test_x = test_rollup['text_clean']\n",
    "test_y = test_rollup['hashtag_list']"
   ]
  },
  {
   "cell_type": "code",
   "execution_count": 24,
   "metadata": {},
   "outputs": [],
   "source": [
    "# label encode the target variable \n",
    "encoder = preprocessing.LabelEncoder()\n",
    "train_y_enc = encoder.fit_transform(train_y)"
   ]
  },
  {
   "cell_type": "code",
   "execution_count": 30,
   "metadata": {},
   "outputs": [],
   "source": [
    "mapping = pd.DataFrame({'hashtag':train_y, 'hashtag_encoding':train_y_enc})\n",
    "mapping = mapping.drop_duplicates()\n",
    "mapping.sort_values(['hashtag_encoding'])\n",
    "mapping.to_csv(os.getcwd() + '/Model_Output/encoder_mapping.csv', index=False)"
   ]
  },
  {
   "cell_type": "code",
   "execution_count": null,
   "metadata": {},
   "outputs": [],
   "source": []
  },
  {
   "cell_type": "markdown",
   "metadata": {},
   "source": [
    "# Feature Creation"
   ]
  },
  {
   "cell_type": "code",
   "execution_count": 26,
   "metadata": {},
   "outputs": [],
   "source": [
    "text_for_feature = train['text_clean']"
   ]
  },
  {
   "cell_type": "code",
   "execution_count": 27,
   "metadata": {},
   "outputs": [],
   "source": [
    "def feature_creation_func(feature_type):\n",
    "    if(feature_type == 'Count Vectorizer'):\n",
    "        # create a count vectorizer object \n",
    "        count_vect = CountVectorizer(analyzer='word', token_pattern=r'\\w{1,}')\n",
    "        count_vect.fit(text_for_feature)\n",
    "        # transform the training and validation data using count vectorizer object\n",
    "        xtrain_feature =  count_vect.transform(train_x)\n",
    "        xvalid_feature =  count_vect.transform(valid_x)\n",
    "        xtest_feature = count_vect.transform(test_x)\n",
    "    \n",
    "    if(feature_type == 'Word TFIDF'):\n",
    "        # word level tf-idf\n",
    "        tfidf_vect = TfidfVectorizer(analyzer='word', token_pattern=r'\\w{1,}', max_features=5000)\n",
    "        tfidf_vect.fit(text_for_feature)\n",
    "        xtrain_feature =  tfidf_vect.transform(train_x)\n",
    "        xvalid_feature =  tfidf_vect.transform(valid_x)\n",
    "        xtest_feature = tfidf_vect.transform(test_x)\n",
    "        pickle.dump(tfidf_vect, open(os.getcwd() + '/Model_Output/tfidf.pkl', \"wb\"))\n",
    "        \n",
    "    if(feature_type == 'N-gram TFIDF'):\n",
    "        # ngram level tf-idf \n",
    "        tfidf_vect_ngram = TfidfVectorizer(analyzer='word', token_pattern=r'\\w{1,}', ngram_range=(2,3), max_features=5000)\n",
    "        tfidf_vect_ngram.fit(text_for_feature)\n",
    "        xtrain_feature =  tfidf_vect_ngram.transform(train_x)\n",
    "        xvalid_feature =  tfidf_vect_ngram.transform(valid_x)\n",
    "        xtest_feature =  tfidf_vect_ngram.transform(test_x)\n",
    "        \n",
    "    if(feature_type == 'Character TFIDF'):\n",
    "        # characters level tf-idf\n",
    "        tfidf_vect_ngram_chars = TfidfVectorizer(analyzer='char', token_pattern=r'\\w{1,}', ngram_range=(2,3), max_features=5000)\n",
    "        tfidf_vect_ngram_chars.fit(text_for_feature)\n",
    "        xtrain_feature =  tfidf_vect_ngram_chars.transform(train_x) \n",
    "        xvalid_feature =  tfidf_vect_ngram_chars.transform(valid_x) \n",
    "        xtest_feature =  tfidf_vect_ngram_chars.transform(test_x)\n",
    "        \n",
    "    return(xtrain_feature, xvalid_feature, xtest_feature)"
   ]
  },
  {
   "cell_type": "code",
   "execution_count": 28,
   "metadata": {},
   "outputs": [],
   "source": [
    "FEATURE_TYPE = 'Word TFIDF'\n",
    "xtrain_var, xvalid_var, xtest_var = feature_creation_func(FEATURE_TYPE)"
   ]
  },
  {
   "cell_type": "markdown",
   "metadata": {},
   "source": [
    "# Model Building"
   ]
  },
  {
   "cell_type": "markdown",
   "metadata": {},
   "source": [
    "### Shallow Neural Networks"
   ]
  },
  {
   "cell_type": "code",
   "execution_count": 29,
   "metadata": {},
   "outputs": [],
   "source": [
    "def create_model_architecture(input_size):\n",
    "    # create input layer \n",
    "    input_layer = layers.Input((input_size, ), sparse=True)\n",
    "    \n",
    "    # create hidden layer\n",
    "    hidden_layer = layers.Dense(1000, activation=\"relu\")(input_layer)\n",
    "    \n",
    "    # create output layer\n",
    "    output_layer = layers.Dense(mapping.shape[0], activation=\"softmax\")(hidden_layer)\n",
    "\n",
    "    classifier = models.Model(inputs = input_layer, outputs = output_layer)\n",
    "    classifier.compile(optimizer=optimizers.Adam(), loss='binary_crossentropy')\n",
    "    return(classifier)"
   ]
  },
  {
   "cell_type": "code",
   "execution_count": 30,
   "metadata": {},
   "outputs": [],
   "source": [
    "#train_y_onehot_enc = pd.get_dummies(train_y_enc)\n",
    "#classifier = create_model_architecture(xtrain_var.shape[1])\n",
    "#classifier.fit(xtrain_var, train_y_onehot_enc, epochs=5)\n",
    "#prob_predictions = classifier.predict(xvalid_var)"
   ]
  },
  {
   "cell_type": "markdown",
   "metadata": {},
   "source": [
    "### All Models"
   ]
  },
  {
   "cell_type": "code",
   "execution_count": 31,
   "metadata": {},
   "outputs": [],
   "source": [
    "def build_model(model_name):\n",
    "    #Naive Bayes Model\n",
    "    if(model_name == 'Naive Bayes'):\n",
    "        model = naive_bayes.MultinomialNB()\n",
    "        model.fit(xtrain_var, train_y_enc)\n",
    "    \n",
    "    #SVM Model\n",
    "    if(model_name == 'SVM'):\n",
    "        model = svm.SVC(probability=True)\n",
    "        model.fit(xtrain_var, train_y_enc)\n",
    "    \n",
    "    #Random Forest Model\n",
    "    if(model_name == 'Random Forest'):\n",
    "        model = ensemble.RandomForestClassifier()\n",
    "        model.fit(xtrain_var, train_y_enc)\n",
    "    \n",
    "    #XGBoost Model\n",
    "    if(model_name == 'XGBoost'):\n",
    "        model = xgboost.XGBClassifier()\n",
    "        model.fit(xtrain_var, train_y_enc)\n",
    "    \n",
    "    #Shallow Neural Networks Model\n",
    "    if(model_name == 'Shallow Neural Networks'):\n",
    "        train_y_onehot_enc = pd.get_dummies(train_y_enc)\n",
    "        \n",
    "        model = create_model_architecture(xtrain_var.shape[1])\n",
    "        model.fit(xtrain_var, train_y_onehot_enc, epochs=5)\n",
    "    \n",
    "    return(model)"
   ]
  },
  {
   "cell_type": "code",
   "execution_count": 32,
   "metadata": {
    "scrolled": true
   },
   "outputs": [
    {
     "name": "stdout",
     "output_type": "stream",
     "text": [
      "WARNING:tensorflow:From /home/ec2-user/anaconda3/envs/tensorflow_p36/lib/python3.6/site-packages/keras/backend/tensorflow_backend.py:74: The name tf.get_default_graph is deprecated. Please use tf.compat.v1.get_default_graph instead.\n",
      "\n",
      "WARNING:tensorflow:From /home/ec2-user/anaconda3/envs/tensorflow_p36/lib/python3.6/site-packages/keras/backend/tensorflow_backend.py:515: The name tf.sparse_placeholder is deprecated. Please use tf.compat.v1.sparse_placeholder instead.\n",
      "\n",
      "WARNING:tensorflow:From /home/ec2-user/anaconda3/envs/tensorflow_p36/lib/python3.6/site-packages/keras/backend/tensorflow_backend.py:4138: The name tf.random_uniform is deprecated. Please use tf.random.uniform instead.\n",
      "\n",
      "WARNING:tensorflow:From /home/ec2-user/anaconda3/envs/tensorflow_p36/lib/python3.6/site-packages/keras/backend/tensorflow_backend.py:1083: The name tf.sparse_tensor_dense_matmul is deprecated. Please use tf.sparse.sparse_dense_matmul instead.\n",
      "\n",
      "WARNING:tensorflow:From /home/ec2-user/anaconda3/envs/tensorflow_p36/lib/python3.6/site-packages/keras/optimizers.py:790: The name tf.train.Optimizer is deprecated. Please use tf.compat.v1.train.Optimizer instead.\n",
      "\n",
      "WARNING:tensorflow:From /home/ec2-user/anaconda3/envs/tensorflow_p36/lib/python3.6/site-packages/keras/backend/tensorflow_backend.py:517: The name tf.placeholder is deprecated. Please use tf.compat.v1.placeholder instead.\n",
      "\n",
      "WARNING:tensorflow:From /home/ec2-user/anaconda3/envs/tensorflow_p36/lib/python3.6/site-packages/keras/backend/tensorflow_backend.py:3376: The name tf.log is deprecated. Please use tf.math.log instead.\n",
      "\n",
      "WARNING:tensorflow:From /home/ec2-user/anaconda3/envs/tensorflow_p36/lib/python3.6/site-packages/tensorflow_core/python/ops/nn_impl.py:183: where (from tensorflow.python.ops.array_ops) is deprecated and will be removed in a future version.\n",
      "Instructions for updating:\n",
      "Use tf.where in 2.0, which has the same broadcast rule as np.where\n",
      "WARNING:tensorflow:From /home/ec2-user/anaconda3/envs/tensorflow_p36/lib/python3.6/site-packages/keras/backend/tensorflow_backend.py:986: The name tf.assign_add is deprecated. Please use tf.compat.v1.assign_add instead.\n",
      "\n",
      "WARNING:tensorflow:From /home/ec2-user/anaconda3/envs/tensorflow_p36/lib/python3.6/site-packages/keras/backend/tensorflow_backend.py:973: The name tf.assign is deprecated. Please use tf.compat.v1.assign instead.\n",
      "\n",
      "WARNING:tensorflow:From /home/ec2-user/anaconda3/envs/tensorflow_p36/lib/python3.6/site-packages/keras/backend/tensorflow_backend.py:2741: The name tf.Session is deprecated. Please use tf.compat.v1.Session instead.\n",
      "\n",
      "Epoch 1/5\n",
      "WARNING:tensorflow:From /home/ec2-user/anaconda3/envs/tensorflow_p36/lib/python3.6/site-packages/keras/backend/tensorflow_backend.py:174: The name tf.get_default_session is deprecated. Please use tf.compat.v1.get_default_session instead.\n",
      "\n",
      "WARNING:tensorflow:From /home/ec2-user/anaconda3/envs/tensorflow_p36/lib/python3.6/site-packages/keras/backend/tensorflow_backend.py:184: The name tf.ConfigProto is deprecated. Please use tf.compat.v1.ConfigProto instead.\n",
      "\n",
      "WARNING:tensorflow:From /home/ec2-user/anaconda3/envs/tensorflow_p36/lib/python3.6/site-packages/keras/backend/tensorflow_backend.py:190: The name tf.global_variables is deprecated. Please use tf.compat.v1.global_variables instead.\n",
      "\n",
      "WARNING:tensorflow:From /home/ec2-user/anaconda3/envs/tensorflow_p36/lib/python3.6/site-packages/keras/backend/tensorflow_backend.py:199: The name tf.is_variable_initialized is deprecated. Please use tf.compat.v1.is_variable_initialized instead.\n",
      "\n",
      "WARNING:tensorflow:From /home/ec2-user/anaconda3/envs/tensorflow_p36/lib/python3.6/site-packages/keras/backend/tensorflow_backend.py:206: The name tf.variables_initializer is deprecated. Please use tf.compat.v1.variables_initializer instead.\n",
      "\n",
      "5158/5158 [==============================] - 11s 2ms/step - loss: 0.2566\n",
      "Epoch 2/5\n",
      "5158/5158 [==============================] - 10s 2ms/step - loss: 0.2184\n",
      "Epoch 3/5\n",
      "5158/5158 [==============================] - 10s 2ms/step - loss: 0.1927\n",
      "Epoch 4/5\n",
      "5158/5158 [==============================] - 10s 2ms/step - loss: 0.1737\n",
      "Epoch 5/5\n",
      "5158/5158 [==============================] - 10s 2ms/step - loss: 0.1619\n"
     ]
    }
   ],
   "source": [
    "MODEL_NAME = 'Shallow Neural Networks'\n",
    "classifier = build_model(MODEL_NAME)"
   ]
  },
  {
   "cell_type": "code",
   "execution_count": null,
   "metadata": {
    "scrolled": true
   },
   "outputs": [],
   "source": []
  },
  {
   "cell_type": "code",
   "execution_count": 33,
   "metadata": {},
   "outputs": [],
   "source": [
    "weight = classifier.get_weights()\n",
    "pklfile= os.getcwd() + '/Model_Output/shallow_neural_network_classifier.pkl'\n",
    "\n",
    "try:\n",
    "    fpkl= open(pklfile, 'wb')    #Python 3     \n",
    "    pickle.dump(classifier, fpkl, protocol= pickle.HIGHEST_PROTOCOL)\n",
    "    fpkl.close()\n",
    "except:\n",
    "    fpkl= open(pklfile, 'w')    #Python 2      \n",
    "    pickle.dump(classifier, fpkl, protocol= pickle.HIGHEST_PROTOCOL)\n",
    "    fpkl.close()"
   ]
  },
  {
   "cell_type": "code",
   "execution_count": 34,
   "metadata": {},
   "outputs": [],
   "source": [
    "with open(os.getcwd() + '/Model_Output/shallow_neural_network_classifier.pkl', 'rb') as f:\n",
    "    classifier = pickle.load(f)"
   ]
  },
  {
   "cell_type": "code",
   "execution_count": null,
   "metadata": {},
   "outputs": [],
   "source": []
  },
  {
   "cell_type": "code",
   "execution_count": null,
   "metadata": {},
   "outputs": [],
   "source": []
  },
  {
   "cell_type": "code",
   "execution_count": null,
   "metadata": {},
   "outputs": [],
   "source": []
  },
  {
   "cell_type": "markdown",
   "metadata": {},
   "source": [
    "# Prediction for Accuracy"
   ]
  },
  {
   "cell_type": "code",
   "execution_count": 35,
   "metadata": {},
   "outputs": [],
   "source": [
    "def prediction_accuracy_func(model_name, x_var, measurement_df):\n",
    "    if(model_name == 'Shallow Neural Networks'):\n",
    "        prob_predictions = classifier.predict(x_var)\n",
    "    else:\n",
    "        prob_predictions = classifier.predict_proba(x_var)\n",
    "        \n",
    "    print(\"Evaluating: \", model_name)\n",
    "    prob_prediction_df = pd.DataFrame(prob_predictions)\n",
    "    print(\"prob_prediction_df\", prob_prediction_df.shape)\n",
    "    prob_prediction_df['contentId'] = list(measurement_df['contentId'])\n",
    "    \n",
    "    prob_prediction_df_long = pd.melt(prob_prediction_df, id_vars='contentId', value_vars=range(mapping.shape[0]))\n",
    "    prob_prediction_df_long.columns = ['contentId', 'hashtag_encoding', 'predicted_prob']\n",
    "    prob_prediction_df_long['hashtag_rank'] = prob_prediction_df_long.groupby(['contentId'])['predicted_prob'].rank(ascending=False, method = 'first')\n",
    "    prob_prediction_df_long = prob_prediction_df_long.sort_values(['contentId', 'hashtag_rank'])\n",
    "    prob_prediction_df_long = pd.merge(prob_prediction_df_long, mapping, how = 'left', on = 'hashtag_encoding')\n",
    "    prob_prediction_df_long['pred_rank'] = 'pred_rank_' + prob_prediction_df_long['hashtag_rank'].astype(int).map(str)\n",
    "    prob_prediction_df_long = prob_prediction_df_long.sort_values(['contentId', 'hashtag_rank'])\n",
    "    print(\"prob_prediction_df_long\", prob_prediction_df_long.shape)\n",
    "    \n",
    "    prob_prediction_df_wide = prob_prediction_df_long.pivot_table(index = ['contentId'], columns = 'pred_rank', values = ['hashtag'], aggfunc=lambda x: ''.join(x))\n",
    "    prob_prediction_df_wide = prob_prediction_df_wide.reset_index()\n",
    "    prob_prediction_df_wide.columns = ['%s%s' % (a, '_%s' % b if b else '') for a, b in prob_prediction_df_wide.columns]\n",
    "    print(\"prob_prediction_df_wide\", prob_prediction_df_wide.shape)\n",
    "    \n",
    "    prediction_results = pd.merge(measurement_df[['contentId', 'text', 'hashtag_list', 'hashtag_count']], prob_prediction_df_wide, how = 'right', on='contentId', sort=False, copy=True)\n",
    "    print(\"prediction_results\", prediction_results.shape)\n",
    "    \n",
    "    print(\"\")\n",
    "    \n",
    "    print(\"Exact Match 1st Prediction:\", sum(prediction_results['hashtag_list'] == prediction_results['hashtag_pred_rank_1']))\n",
    "    print(\"Exact Match 2nd Prediction:\", sum(prediction_results['hashtag_list'] == prediction_results['hashtag_pred_rank_2']))\n",
    "    print(\"Exact Match 3rd Prediction:\", sum(prediction_results['hashtag_list'] == prediction_results['hashtag_pred_rank_3']))\n",
    "    print(\"Exact Match 4th Prediction:\", sum(prediction_results['hashtag_list'] == prediction_results['hashtag_pred_rank_4']))\n",
    "    print(\"Exact Match 5th Prediction:\", sum(prediction_results['hashtag_list'] == prediction_results['hashtag_pred_rank_5']))\n",
    "    \n",
    "    h_list = prediction_results['hashtag_list'].str.split(',')\n",
    "\n",
    "    top_3_pred = prediction_results[['hashtag_pred_rank_1', 'hashtag_pred_rank_2', 'hashtag_pred_rank_3']].values.tolist()\n",
    "    \n",
    "    prediction_results['matching_hashtag_ct'] = [len(set(a) & set(b)) for a,b in zip(h_list, top_3_pred)]\n",
    "    prediction_results['matching_percent'] = (prediction_results['matching_hashtag_ct']/prediction_results['hashtag_count'])*100\n",
    "    \n",
    "    pred_summary = prediction_results.groupby(['matching_percent'])['contentId'].count().reset_index()\n",
    "    pred_summary['content_proportion'] = (pred_summary['contentId']/sum(pred_summary['contentId']))*100\n",
    "    pred_summary.sort_values(['matching_percent'], ascending=False)\n",
    "    \n",
    "    pred_summary_by_hash_ct = prediction_results.groupby(['matching_percent', 'hashtag_count'])['contentId'].count().reset_index()\n",
    "    pred_summary_by_hash_ct.sort_values(['hashtag_count', 'matching_percent'], ascending=False)\n",
    "    \n",
    "    return(pred_summary, pred_summary_by_hash_ct, prediction_results)\n"
   ]
  },
  {
   "cell_type": "code",
   "execution_count": 36,
   "metadata": {},
   "outputs": [
    {
     "name": "stdout",
     "output_type": "stream",
     "text": [
      "Evaluating:  Shallow Neural Networks\n",
      "prob_prediction_df (781, 12)\n",
      "prob_prediction_df_long (9372, 6)\n",
      "prob_prediction_df_wide (781, 13)\n",
      "prediction_results (781, 16)\n",
      "\n",
      "Exact Match 1st Prediction: 161\n",
      "Exact Match 2nd Prediction: 83\n",
      "Exact Match 3rd Prediction: 57\n",
      "Exact Match 4th Prediction: 56\n",
      "Exact Match 5th Prediction: 27\n",
      "---------------------------------------------------------------------------------------\n",
      "Validation Data Accuracy\n",
      "   matching_percent  contentId  content_proportion\n",
      "0          0.000000        162           20.742638\n",
      "1         25.000000          1            0.128041\n",
      "2         33.333333         46            5.889885\n",
      "3         50.000000         66            8.450704\n",
      "4         66.666667         97           12.419974\n",
      "5         75.000000          1            0.128041\n",
      "6        100.000000        408           52.240717\n"
     ]
    }
   ],
   "source": [
    "pred_summary_valid, pred_summary_by_hash_ct_valid, prediction_results_valid = prediction_accuracy_func(MODEL_NAME, xvalid_var, validation_rollup)\n",
    "print(\"---------------------------------------------------------------------------------------\")\n",
    "print(\"Validation Data Accuracy\")\n",
    "print(pred_summary_valid)"
   ]
  },
  {
   "cell_type": "code",
   "execution_count": 37,
   "metadata": {},
   "outputs": [
    {
     "name": "stdout",
     "output_type": "stream",
     "text": [
      "    matching_percent  hashtag_count  contentId\n",
      "0           0.000000              1        144\n",
      "1           0.000000              2         10\n",
      "2           0.000000              3          8\n",
      "3          25.000000              4          1\n",
      "4          33.333333              3         46\n",
      "5          50.000000              2         64\n",
      "6          50.000000              4          2\n",
      "7          66.666667              3         97\n",
      "8          75.000000              4          1\n",
      "9         100.000000              1        301\n",
      "10        100.000000              2         60\n",
      "11        100.000000              3         47\n"
     ]
    }
   ],
   "source": [
    "print(pred_summary_by_hash_ct_valid)"
   ]
  },
  {
   "cell_type": "code",
   "execution_count": 38,
   "metadata": {},
   "outputs": [
    {
     "data": {
      "text/html": [
       "<div>\n",
       "<style scoped>\n",
       "    .dataframe tbody tr th:only-of-type {\n",
       "        vertical-align: middle;\n",
       "    }\n",
       "\n",
       "    .dataframe tbody tr th {\n",
       "        vertical-align: top;\n",
       "    }\n",
       "\n",
       "    .dataframe thead th {\n",
       "        text-align: right;\n",
       "    }\n",
       "</style>\n",
       "<table border=\"1\" class=\"dataframe\">\n",
       "  <thead>\n",
       "    <tr style=\"text-align: right;\">\n",
       "      <th></th>\n",
       "      <th>contentId</th>\n",
       "      <th>text</th>\n",
       "      <th>hashtag_list</th>\n",
       "      <th>hashtag_count</th>\n",
       "      <th>hashtag_pred_rank_1</th>\n",
       "      <th>hashtag_pred_rank_10</th>\n",
       "      <th>hashtag_pred_rank_11</th>\n",
       "      <th>hashtag_pred_rank_12</th>\n",
       "      <th>hashtag_pred_rank_2</th>\n",
       "      <th>hashtag_pred_rank_3</th>\n",
       "      <th>hashtag_pred_rank_4</th>\n",
       "      <th>hashtag_pred_rank_5</th>\n",
       "      <th>hashtag_pred_rank_6</th>\n",
       "      <th>hashtag_pred_rank_7</th>\n",
       "      <th>hashtag_pred_rank_8</th>\n",
       "      <th>hashtag_pred_rank_9</th>\n",
       "      <th>matching_hashtag_ct</th>\n",
       "      <th>matching_percent</th>\n",
       "    </tr>\n",
       "  </thead>\n",
       "  <tbody>\n",
       "    <tr>\n",
       "      <th>0</th>\n",
       "      <td>5ef0641d8f7b6900229e3b73</td>\n",
       "      <td>Hello, I am new to this platform. I recently c...</td>\n",
       "      <td>starting-out</td>\n",
       "      <td>1</td>\n",
       "      <td>starting-out</td>\n",
       "      <td>speaking-out</td>\n",
       "      <td>all-things-legal</td>\n",
       "      <td>motherhood</td>\n",
       "      <td>career-switch</td>\n",
       "      <td>career-growth</td>\n",
       "      <td>networking</td>\n",
       "      <td>GetWork</td>\n",
       "      <td>marketingQueries</td>\n",
       "      <td>inspiration</td>\n",
       "      <td>Finance</td>\n",
       "      <td>selfcare</td>\n",
       "      <td>1</td>\n",
       "      <td>100.000000</td>\n",
       "    </tr>\n",
       "    <tr>\n",
       "      <th>1</th>\n",
       "      <td>5e7e04f6c3f6090022544857</td>\n",
       "      <td>Hi all .. i am a freelance architect and inter...</td>\n",
       "      <td>starting-out,marketingQueries,career-growth</td>\n",
       "      <td>3</td>\n",
       "      <td>career-growth</td>\n",
       "      <td>all-things-legal</td>\n",
       "      <td>motherhood</td>\n",
       "      <td>selfcare</td>\n",
       "      <td>starting-out</td>\n",
       "      <td>networking</td>\n",
       "      <td>GetWork</td>\n",
       "      <td>marketingQueries</td>\n",
       "      <td>career-switch</td>\n",
       "      <td>speaking-out</td>\n",
       "      <td>Finance</td>\n",
       "      <td>inspiration</td>\n",
       "      <td>2</td>\n",
       "      <td>66.666667</td>\n",
       "    </tr>\n",
       "    <tr>\n",
       "      <th>2</th>\n",
       "      <td>5e998c2feb763100356efa45</td>\n",
       "      <td>Use these #18daysoflockdown to explore a new i...</td>\n",
       "      <td>selfcare</td>\n",
       "      <td>1</td>\n",
       "      <td>selfcare</td>\n",
       "      <td>Finance</td>\n",
       "      <td>all-things-legal</td>\n",
       "      <td>GetWork</td>\n",
       "      <td>inspiration</td>\n",
       "      <td>speaking-out</td>\n",
       "      <td>starting-out</td>\n",
       "      <td>career-growth</td>\n",
       "      <td>motherhood</td>\n",
       "      <td>career-switch</td>\n",
       "      <td>networking</td>\n",
       "      <td>marketingQueries</td>\n",
       "      <td>1</td>\n",
       "      <td>100.000000</td>\n",
       "    </tr>\n",
       "    <tr>\n",
       "      <th>3</th>\n",
       "      <td>5ed06a42bed7c00023730f32</td>\n",
       "      <td></td>\n",
       "      <td>inspiration,selfcare</td>\n",
       "      <td>2</td>\n",
       "      <td>speaking-out</td>\n",
       "      <td>Finance</td>\n",
       "      <td>all-things-legal</td>\n",
       "      <td>GetWork</td>\n",
       "      <td>inspiration</td>\n",
       "      <td>starting-out</td>\n",
       "      <td>selfcare</td>\n",
       "      <td>career-growth</td>\n",
       "      <td>networking</td>\n",
       "      <td>marketingQueries</td>\n",
       "      <td>motherhood</td>\n",
       "      <td>career-switch</td>\n",
       "      <td>1</td>\n",
       "      <td>50.000000</td>\n",
       "    </tr>\n",
       "    <tr>\n",
       "      <th>4</th>\n",
       "      <td>5ec6e24412997b0024aa69c6</td>\n",
       "      <td>🌸 BELIEVE in YOURSELF 🌸    These three wonderf...</td>\n",
       "      <td>selfcare,starting-out,speaking-out</td>\n",
       "      <td>3</td>\n",
       "      <td>speaking-out</td>\n",
       "      <td>Finance</td>\n",
       "      <td>all-things-legal</td>\n",
       "      <td>GetWork</td>\n",
       "      <td>starting-out</td>\n",
       "      <td>inspiration</td>\n",
       "      <td>networking</td>\n",
       "      <td>selfcare</td>\n",
       "      <td>career-growth</td>\n",
       "      <td>marketingQueries</td>\n",
       "      <td>career-switch</td>\n",
       "      <td>motherhood</td>\n",
       "      <td>2</td>\n",
       "      <td>66.666667</td>\n",
       "    </tr>\n",
       "  </tbody>\n",
       "</table>\n",
       "</div>"
      ],
      "text/plain": [
       "                  contentId  \\\n",
       "0  5ef0641d8f7b6900229e3b73   \n",
       "1  5e7e04f6c3f6090022544857   \n",
       "2  5e998c2feb763100356efa45   \n",
       "3  5ed06a42bed7c00023730f32   \n",
       "4  5ec6e24412997b0024aa69c6   \n",
       "\n",
       "                                                text  \\\n",
       "0  Hello, I am new to this platform. I recently c...   \n",
       "1  Hi all .. i am a freelance architect and inter...   \n",
       "2  Use these #18daysoflockdown to explore a new i...   \n",
       "3                                                      \n",
       "4  🌸 BELIEVE in YOURSELF 🌸    These three wonderf...   \n",
       "\n",
       "                                  hashtag_list  hashtag_count  \\\n",
       "0                                 starting-out              1   \n",
       "1  starting-out,marketingQueries,career-growth              3   \n",
       "2                                     selfcare              1   \n",
       "3                         inspiration,selfcare              2   \n",
       "4           selfcare,starting-out,speaking-out              3   \n",
       "\n",
       "  hashtag_pred_rank_1 hashtag_pred_rank_10 hashtag_pred_rank_11  \\\n",
       "0        starting-out         speaking-out     all-things-legal   \n",
       "1       career-growth     all-things-legal           motherhood   \n",
       "2            selfcare              Finance     all-things-legal   \n",
       "3        speaking-out              Finance     all-things-legal   \n",
       "4        speaking-out              Finance     all-things-legal   \n",
       "\n",
       "  hashtag_pred_rank_12 hashtag_pred_rank_2 hashtag_pred_rank_3  \\\n",
       "0           motherhood       career-switch       career-growth   \n",
       "1             selfcare        starting-out          networking   \n",
       "2              GetWork         inspiration        speaking-out   \n",
       "3              GetWork         inspiration        starting-out   \n",
       "4              GetWork        starting-out         inspiration   \n",
       "\n",
       "  hashtag_pred_rank_4 hashtag_pred_rank_5 hashtag_pred_rank_6  \\\n",
       "0          networking             GetWork    marketingQueries   \n",
       "1             GetWork    marketingQueries       career-switch   \n",
       "2        starting-out       career-growth          motherhood   \n",
       "3            selfcare       career-growth          networking   \n",
       "4          networking            selfcare       career-growth   \n",
       "\n",
       "  hashtag_pred_rank_7 hashtag_pred_rank_8 hashtag_pred_rank_9  \\\n",
       "0         inspiration             Finance            selfcare   \n",
       "1        speaking-out             Finance         inspiration   \n",
       "2       career-switch          networking    marketingQueries   \n",
       "3    marketingQueries          motherhood       career-switch   \n",
       "4    marketingQueries       career-switch          motherhood   \n",
       "\n",
       "   matching_hashtag_ct  matching_percent  \n",
       "0                    1        100.000000  \n",
       "1                    2         66.666667  \n",
       "2                    1        100.000000  \n",
       "3                    1         50.000000  \n",
       "4                    2         66.666667  "
      ]
     },
     "execution_count": 38,
     "metadata": {},
     "output_type": "execute_result"
    }
   ],
   "source": [
    "prediction_results_valid.head()"
   ]
  },
  {
   "cell_type": "code",
   "execution_count": 39,
   "metadata": {},
   "outputs": [
    {
     "name": "stdout",
     "output_type": "stream",
     "text": [
      "Evaluating:  Shallow Neural Networks\n",
      "prob_prediction_df (532, 12)\n",
      "prob_prediction_df_long (6384, 6)\n",
      "prob_prediction_df_wide (532, 13)\n",
      "prediction_results (532, 16)\n",
      "\n",
      "Exact Match 1st Prediction: 101\n",
      "Exact Match 2nd Prediction: 53\n",
      "Exact Match 3rd Prediction: 55\n",
      "Exact Match 4th Prediction: 29\n",
      "Exact Match 5th Prediction: 18\n",
      "---------------------------------------------------------------------------------------\n",
      "Test Data Accuracy\n",
      "   matching_percent  contentId  content_proportion\n",
      "0          0.000000         82           15.413534\n",
      "1         33.333333         38            7.142857\n",
      "2         50.000000         31            5.827068\n",
      "3         66.666667         97           18.233083\n",
      "4         75.000000          1            0.187970\n",
      "5        100.000000        283           53.195489\n"
     ]
    }
   ],
   "source": [
    "pred_summary_test, pred_summary_by_hash_ct_test, prediction_results_test = prediction_accuracy_func(MODEL_NAME, xtest_var, test_rollup)\n",
    "print(\"---------------------------------------------------------------------------------------\")\n",
    "print(\"Test Data Accuracy\")\n",
    "print(pred_summary_test)"
   ]
  },
  {
   "cell_type": "code",
   "execution_count": 40,
   "metadata": {},
   "outputs": [
    {
     "name": "stdout",
     "output_type": "stream",
     "text": [
      "    matching_percent  hashtag_count  contentId\n",
      "0           0.000000              1         70\n",
      "1           0.000000              2          7\n",
      "2           0.000000              3          5\n",
      "3          33.333333              3         38\n",
      "4          50.000000              2         29\n",
      "5          50.000000              4          2\n",
      "6          66.666667              3         97\n",
      "7          75.000000              4          1\n",
      "8         100.000000              1        209\n",
      "9         100.000000              2         41\n",
      "10        100.000000              3         33\n"
     ]
    }
   ],
   "source": [
    "print(pred_summary_by_hash_ct_test)"
   ]
  },
  {
   "cell_type": "code",
   "execution_count": null,
   "metadata": {},
   "outputs": [],
   "source": []
  }
 ],
 "metadata": {
  "kernelspec": {
   "display_name": "conda_tensorflow_p36",
   "language": "python",
   "name": "conda_tensorflow_p36"
  },
  "language_info": {
   "codemirror_mode": {
    "name": "ipython",
    "version": 3
   },
   "file_extension": ".py",
   "mimetype": "text/x-python",
   "name": "python",
   "nbconvert_exporter": "python",
   "pygments_lexer": "ipython3",
   "version": "3.6.10"
  }
 },
 "nbformat": 4,
 "nbformat_minor": 4
}
