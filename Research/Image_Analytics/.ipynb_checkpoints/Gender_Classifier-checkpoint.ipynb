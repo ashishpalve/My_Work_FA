{
 "cells": [
  {
   "cell_type": "code",
   "execution_count": 1,
   "metadata": {},
   "outputs": [
    {
     "name": "stderr",
     "output_type": "stream",
     "text": [
      "/home/FRACTAL/ashish.palve/anaconda3/lib/python3.6/site-packages/h5py/__init__.py:36: FutureWarning: Conversion of the second argument of issubdtype from `float` to `np.floating` is deprecated. In future, it will be treated as `np.float64 == np.dtype(float).type`.\n",
      "  from ._conv import register_converters as _register_converters\n",
      "Using TensorFlow backend.\n",
      "/home/FRACTAL/ashish.palve/.local/lib/python3.6/site-packages/tensorflow/python/framework/dtypes.py:516: FutureWarning: Passing (type, 1) or '1type' as a synonym of type is deprecated; in a future version of numpy, it will be understood as (type, (1,)) / '(1,)type'.\n",
      "  _np_qint8 = np.dtype([(\"qint8\", np.int8, 1)])\n",
      "/home/FRACTAL/ashish.palve/.local/lib/python3.6/site-packages/tensorflow/python/framework/dtypes.py:517: FutureWarning: Passing (type, 1) or '1type' as a synonym of type is deprecated; in a future version of numpy, it will be understood as (type, (1,)) / '(1,)type'.\n",
      "  _np_quint8 = np.dtype([(\"quint8\", np.uint8, 1)])\n",
      "/home/FRACTAL/ashish.palve/.local/lib/python3.6/site-packages/tensorflow/python/framework/dtypes.py:518: FutureWarning: Passing (type, 1) or '1type' as a synonym of type is deprecated; in a future version of numpy, it will be understood as (type, (1,)) / '(1,)type'.\n",
      "  _np_qint16 = np.dtype([(\"qint16\", np.int16, 1)])\n",
      "/home/FRACTAL/ashish.palve/.local/lib/python3.6/site-packages/tensorflow/python/framework/dtypes.py:519: FutureWarning: Passing (type, 1) or '1type' as a synonym of type is deprecated; in a future version of numpy, it will be understood as (type, (1,)) / '(1,)type'.\n",
      "  _np_quint16 = np.dtype([(\"quint16\", np.uint16, 1)])\n",
      "/home/FRACTAL/ashish.palve/.local/lib/python3.6/site-packages/tensorflow/python/framework/dtypes.py:520: FutureWarning: Passing (type, 1) or '1type' as a synonym of type is deprecated; in a future version of numpy, it will be understood as (type, (1,)) / '(1,)type'.\n",
      "  _np_qint32 = np.dtype([(\"qint32\", np.int32, 1)])\n",
      "/home/FRACTAL/ashish.palve/.local/lib/python3.6/site-packages/tensorflow/python/framework/dtypes.py:525: FutureWarning: Passing (type, 1) or '1type' as a synonym of type is deprecated; in a future version of numpy, it will be understood as (type, (1,)) / '(1,)type'.\n",
      "  np_resource = np.dtype([(\"resource\", np.ubyte, 1)])\n",
      "/home/FRACTAL/ashish.palve/.local/lib/python3.6/site-packages/tensorboard/compat/tensorflow_stub/dtypes.py:541: FutureWarning: Passing (type, 1) or '1type' as a synonym of type is deprecated; in a future version of numpy, it will be understood as (type, (1,)) / '(1,)type'.\n",
      "  _np_qint8 = np.dtype([(\"qint8\", np.int8, 1)])\n",
      "/home/FRACTAL/ashish.palve/.local/lib/python3.6/site-packages/tensorboard/compat/tensorflow_stub/dtypes.py:542: FutureWarning: Passing (type, 1) or '1type' as a synonym of type is deprecated; in a future version of numpy, it will be understood as (type, (1,)) / '(1,)type'.\n",
      "  _np_quint8 = np.dtype([(\"quint8\", np.uint8, 1)])\n",
      "/home/FRACTAL/ashish.palve/.local/lib/python3.6/site-packages/tensorboard/compat/tensorflow_stub/dtypes.py:543: FutureWarning: Passing (type, 1) or '1type' as a synonym of type is deprecated; in a future version of numpy, it will be understood as (type, (1,)) / '(1,)type'.\n",
      "  _np_qint16 = np.dtype([(\"qint16\", np.int16, 1)])\n",
      "/home/FRACTAL/ashish.palve/.local/lib/python3.6/site-packages/tensorboard/compat/tensorflow_stub/dtypes.py:544: FutureWarning: Passing (type, 1) or '1type' as a synonym of type is deprecated; in a future version of numpy, it will be understood as (type, (1,)) / '(1,)type'.\n",
      "  _np_quint16 = np.dtype([(\"quint16\", np.uint16, 1)])\n",
      "/home/FRACTAL/ashish.palve/.local/lib/python3.6/site-packages/tensorboard/compat/tensorflow_stub/dtypes.py:545: FutureWarning: Passing (type, 1) or '1type' as a synonym of type is deprecated; in a future version of numpy, it will be understood as (type, (1,)) / '(1,)type'.\n",
      "  _np_qint32 = np.dtype([(\"qint32\", np.int32, 1)])\n",
      "/home/FRACTAL/ashish.palve/.local/lib/python3.6/site-packages/tensorboard/compat/tensorflow_stub/dtypes.py:550: FutureWarning: Passing (type, 1) or '1type' as a synonym of type is deprecated; in a future version of numpy, it will be understood as (type, (1,)) / '(1,)type'.\n",
      "  np_resource = np.dtype([(\"resource\", np.ubyte, 1)])\n"
     ]
    }
   ],
   "source": [
    "# demonstrate face detection on 5 Celebrity Faces Dataset\n",
    "from os import listdir\n",
    "import os\n",
    "from PIL import Image\n",
    "from numpy import asarray\n",
    "import numpy as np\n",
    "from matplotlib import pyplot\n",
    "from mtcnn.mtcnn import MTCNN"
   ]
  },
  {
   "cell_type": "code",
   "execution_count": 2,
   "metadata": {},
   "outputs": [],
   "source": [
    "# extract a single face from a given photograph\n",
    "def extract_face(filename, required_size=(160, 160)):\n",
    "    # load image from file\n",
    "    print(filename)\n",
    "    image = Image.open(filename)\n",
    "    # convert to RGB, if needed\n",
    "    image = image.convert('RGB')\n",
    "    # convert to array\n",
    "    pixels = asarray(image)\n",
    "    # create the detector, using default weights\n",
    "    detector = MTCNN()\n",
    "    # detect faces in the image\n",
    "    results = detector.detect_faces(pixels)\n",
    "    # extract the bounding box from the first face\n",
    "    x1, y1, width, height = results[0]['box']\n",
    "    # bug fix\n",
    "    x1, y1 = abs(x1), abs(y1)\n",
    "    x2, y2 = x1 + width, y1 + height\n",
    "    # extract the face\n",
    "    face = pixels[y1:y2, x1:x2]\n",
    "    # resize pixels to the model size\n",
    "    image = Image.fromarray(face)\n",
    "    image = image.resize(required_size)\n",
    "    face_array = asarray(image)\n",
    "    return face_array"
   ]
  },
  {
   "cell_type": "code",
   "execution_count": null,
   "metadata": {},
   "outputs": [],
   "source": [
    "# specify folder to plot\n",
    "folder = 'Male_Female_Backup/train/Male/'\n",
    "i = 1\n",
    "# enumerate files\n",
    "for filename in listdir(folder):\n",
    "    # path\n",
    "    path = folder + filename\n",
    "    # get face\n",
    "    print(filename)\n",
    "    face = extract_face(path)\n",
    "    print(i, face.shape)\n",
    "    # plot\n",
    "    pyplot.subplot(42, 7, i)\n",
    "    pyplot.axis('off')\n",
    "    pyplot.imshow(face)\n",
    "    i += 1\n",
    "pyplot.show()"
   ]
  },
  {
   "cell_type": "code",
   "execution_count": 3,
   "metadata": {},
   "outputs": [],
   "source": [
    "# load images and extract faces for all images in a directory\n",
    "def load_faces(directory):\n",
    "    faces = list()\n",
    "    # enumerate files\n",
    "    for filename in listdir(directory):\n",
    "        # path\n",
    "        path = directory + filename\n",
    "        # get face\n",
    "        face = extract_face(path)\n",
    "        # store\n",
    "        faces.append(face)\n",
    "    return faces"
   ]
  },
  {
   "cell_type": "code",
   "execution_count": 4,
   "metadata": {},
   "outputs": [],
   "source": [
    "# load a dataset that contains one subdir for each class that in turn contains images\n",
    "def load_dataset(directory):\n",
    "    X, y = list(), list()\n",
    "    # enumerate folders, on per class\n",
    "    for subdir in listdir(directory):\n",
    "        # path\n",
    "        path = directory + subdir + '/'\n",
    "        # skip any files that might be in the dir\n",
    "        if not os.path.isdir(path):\n",
    "            continue\n",
    "        # load all faces in the subdirectory\n",
    "        faces = load_faces(path)\n",
    "        # create labels\n",
    "        labels = [subdir for _ in range(len(faces))]\n",
    "        # summarize progress\n",
    "        print('>loaded %d examples for class: %s' % (len(faces), subdir))\n",
    "        # store\n",
    "        X.extend(faces)\n",
    "        y.extend(labels)\n",
    "    return asarray(X), asarray(y)"
   ]
  },
  {
   "cell_type": "code",
   "execution_count": 5,
   "metadata": {
    "scrolled": true
   },
   "outputs": [
    {
     "name": "stdout",
     "output_type": "stream",
     "text": [
      "Male_Female_Backup/train/Female/images39.jpg\n",
      "WARNING:tensorflow:From /home/FRACTAL/ashish.palve/.local/lib/python3.6/site-packages/keras/backend/tensorflow_backend.py:4070: The name tf.nn.max_pool is deprecated. Please use tf.nn.max_pool2d instead.\n",
      "\n",
      "WARNING:tensorflow:From /home/FRACTAL/ashish.palve/.local/lib/python3.6/site-packages/keras/backend/tensorflow_backend.py:422: The name tf.global_variables is deprecated. Please use tf.compat.v1.global_variables instead.\n",
      "\n",
      "Male_Female_Backup/train/Female/images35.jpg\n",
      "Male_Female_Backup/train/Female/images46.jpg\n",
      "Male_Female_Backup/train/Female/image7.jpeg\n",
      "Male_Female_Backup/train/Female/images16.jpg\n",
      "Male_Female_Backup/train/Female/images40.jpg\n",
      "Male_Female_Backup/train/Female/images8.jpg\n",
      "Male_Female_Backup/train/Female/image24.jpeg\n",
      "Male_Female_Backup/train/Female/images4.jpg\n",
      "Male_Female_Backup/train/Female/images19.jpg\n",
      "Male_Female_Backup/train/Female/image27.jpeg\n",
      "Male_Female_Backup/train/Female/images17.jpg\n",
      "Male_Female_Backup/train/Female/images10.jpg\n",
      "Male_Female_Backup/train/Female/image14.jpeg\n",
      "Male_Female_Backup/train/Female/image16.jpeg\n",
      "Male_Female_Backup/train/Female/images13.jpg\n",
      "Male_Female_Backup/train/Female/images43.jpg\n",
      "Male_Female_Backup/train/Female/images.jpg\n",
      "Male_Female_Backup/train/Female/images11.jpg\n",
      "Male_Female_Backup/train/Female/images5.jpg\n",
      "Male_Female_Backup/train/Female/images27.jpg\n",
      "Male_Female_Backup/train/Female/image11.jpeg\n",
      "Male_Female_Backup/train/Female/images44.jpg\n",
      "Male_Female_Backup/train/Female/images33.jpg\n",
      "Male_Female_Backup/train/Female/image28.jpeg\n",
      "Male_Female_Backup/train/Female/image29.jpeg\n",
      "Male_Female_Backup/train/Female/images22.jpg\n",
      "Male_Female_Backup/train/Female/image13.jpeg\n",
      "Male_Female_Backup/train/Female/images1.jpg\n",
      "Male_Female_Backup/train/Female/images6.jpg\n",
      "Male_Female_Backup/train/Female/images21.jpg\n",
      "Male_Female_Backup/train/Female/images15.jpg\n",
      "Male_Female_Backup/train/Female/images34.jpg\n",
      "Male_Female_Backup/train/Female/images36.jpg\n",
      "Male_Female_Backup/train/Female/image17.jpeg\n",
      "Male_Female_Backup/train/Female/images29.jpg\n",
      "Male_Female_Backup/train/Female/images14.jpg\n",
      "Male_Female_Backup/train/Female/images42.jpg\n",
      "Male_Female_Backup/train/Female/images18.jpg\n",
      "Male_Female_Backup/train/Female/images30.jpg\n",
      "Male_Female_Backup/train/Female/image21.jpeg\n",
      "Male_Female_Backup/train/Female/image20.jpeg\n",
      "Male_Female_Backup/train/Female/image12.jpeg\n",
      "Male_Female_Backup/train/Female/images2.jpg\n",
      "Male_Female_Backup/train/Female/images3.jpg\n",
      "Male_Female_Backup/train/Female/image19.jpeg\n",
      "Male_Female_Backup/train/Female/images9.jpg\n",
      "Male_Female_Backup/train/Female/images7.jpg\n",
      "Male_Female_Backup/train/Female/images37.jpg\n",
      "Male_Female_Backup/train/Female/image10.jpeg\n",
      ">loaded 50 examples for class: Female\n",
      "Male_Female_Backup/train/Male/images179.jpg\n",
      "Male_Female_Backup/train/Male/images134.jpg\n",
      "Male_Female_Backup/train/Male/images35.jpg\n",
      "Male_Female_Backup/train/Male/images64.jpg\n",
      "Male_Female_Backup/train/Male/images16.jpg\n",
      "Male_Female_Backup/train/Male/images153.jpg\n",
      "Male_Female_Backup/train/Male/images205.jpg\n",
      "Male_Female_Backup/train/Male/image23.jpeg\n",
      "Male_Female_Backup/train/Male/images117.jpg\n",
      "Male_Female_Backup/train/Male/images40.jpg\n",
      "Male_Female_Backup/train/Male/images139.jpg\n",
      "Male_Female_Backup/train/Male/images52.jpg\n",
      "Male_Female_Backup/train/Male/images65.jpg\n",
      "Male_Female_Backup/train/Male/image24.jpeg\n",
      "Male_Female_Backup/train/Male/images189.jpg\n",
      "Male_Female_Backup/train/Male/images4.jpg\n",
      "Male_Female_Backup/train/Male/images211.jpg\n",
      "Male_Female_Backup/train/Male/images137.jpg\n",
      "Male_Female_Backup/train/Male/images204.jpg\n",
      "Male_Female_Backup/train/Male/images74.jpg\n",
      "Male_Female_Backup/train/Male/images129.jpg\n",
      "Male_Female_Backup/train/Male/image14.jpeg\n",
      "Male_Female_Backup/train/Male/images20.jpg\n",
      "Male_Female_Backup/train/Male/images84.jpg\n",
      "Male_Female_Backup/train/Male/images.jpg\n",
      "Male_Female_Backup/train/Male/images63.jpg\n",
      "Male_Female_Backup/train/Male/images163.jpg\n",
      "Male_Female_Backup/train/Male/image15.jpeg\n",
      "Male_Female_Backup/train/Male/images159.jpg\n",
      "Male_Female_Backup/train/Male/images199.jpg\n",
      "Male_Female_Backup/train/Male/images172.jpg\n",
      "Male_Female_Backup/train/Male/images59.jpg\n",
      "Male_Female_Backup/train/Male/images180.jpg\n",
      "Male_Female_Backup/train/Male/images48.jpg\n",
      "Male_Female_Backup/train/Male/image13.jpeg\n",
      "Male_Female_Backup/train/Male/images1.jpg\n",
      "Male_Female_Backup/train/Male/images187.jpg\n",
      "Male_Female_Backup/train/Male/images15.jpg\n",
      "Male_Female_Backup/train/Male/images173.jpg\n",
      "Male_Female_Backup/train/Male/images58.jpg\n",
      "Male_Female_Backup/train/Male/images56.jpg\n",
      "Male_Female_Backup/train/Male/images200.jpg\n",
      "Male_Female_Backup/train/Male/images61.jpg\n",
      "Male_Female_Backup/train/Male/images123.jpg\n",
      "Male_Female_Backup/train/Male/images23.jpg\n",
      "Male_Female_Backup/train/Male/images116.jpg\n",
      "Male_Female_Backup/train/Male/images9.jpg\n",
      "Male_Female_Backup/train/Male/images7.jpg\n",
      "Male_Female_Backup/train/Male/images12.jpg\n",
      "Male_Female_Backup/train/Male/images91.jpg\n",
      ">loaded 50 examples for class: Male\n",
      "(100, 160, 160, 3) (100,)\n",
      "Male_Female_Backup/val/Female/2.jpg\n",
      "Male_Female_Backup/val/Female/farhana-maqsood-1-300x300.jpg\n",
      "Male_Female_Backup/val/Female/2ed89-15450721145209-500.jpg\n",
      "Male_Female_Backup/val/Female/3148_natalie_732x549-thumb.jpg\n",
      "Male_Female_Backup/val/Female/11.jpg\n",
      "Male_Female_Backup/val/Female/female-punjab-singer.jpg\n",
      "Male_Female_Backup/val/Female/302035_1100.jpg\n",
      "Male_Female_Backup/val/Female/female-blushing.jpg\n",
      "Male_Female_Backup/val/Female/326403_1100.jpg\n",
      "Male_Female_Backup/val/Female/06-Jessica-biel.jpg\n",
      "Male_Female_Backup/val/Female/alana-blanchard-mobile-wallpaper.jpg\n",
      "Male_Female_Backup/val/Female/19691652-7571245-image-a-2_1571055758081.jpg\n",
      "Male_Female_Backup/val/Female/91651699.jpeg\n",
      "Male_Female_Backup/val/Female/200116231238-san-francisco-giants-female-coach-trnd-exlarge-169.jpg\n",
      "Male_Female_Backup/val/Female/321032_1100.jpg\n",
      ">loaded 15 examples for class: Female\n",
      "Male_Female_Backup/val/Male/40-pisuetlpp71677-peter-england-original-imafmzubesvnyryf.jpeg\n",
      "Male_Female_Backup/val/Male/6-skincare-tips-men-should-always-follow-peter-kraus-00-722x406.jpg\n",
      "Male_Female_Backup/val/Male/best-mens-medium-length-hairstyles2.jpg\n",
      "Male_Female_Backup/val/Male/447932206319ff09a88fcf8cc96119cf--male-senior-pictures-senior-photos.jpg\n",
      "Male_Female_Backup/val/Male/1189-Male_Sexual_Performance-732x549-thumbnaill.jpg\n",
      "Male_Female_Backup/val/Male/81-KQKLZvQL._AC._SR360460.jpg\n",
      "Male_Female_Backup/val/Male/ff371ff9-b0a5-4672-bf25-887fd64c35441566371512914-HM-Men-White-Solid-Easy-iron-shirt-Slim-Fit-6231566371512073-1.jpg\n",
      "Male_Female_Backup/val/Male/99253-96654.jpg\n",
      "Male_Female_Backup/val/Male/f802fa14-5781-4f42-b11b-f90ff42fcc7b.jpg\n",
      "Male_Female_Backup/val/Male/2cd0643b-0e45-46d8-919c-0761570074141580464871899-Emerging-Brands_JAINISH_Beevee-and-Fido-Dido_DMPB_B2.jpg\n",
      "Male_Female_Backup/val/Male/adult-business-businessman-428339.jpg\n",
      "Male_Female_Backup/val/Male/a-young-man-on-a-laptop-in-bed.jpg\n",
      "Male_Female_Backup/val/Male/271647_1100.jpg\n",
      "Male_Female_Backup/val/Male/266749_1100.jpg\n",
      "Male_Female_Backup/val/Male/001ec97909631412122b07.jpg\n",
      ">loaded 15 examples for class: Male\n",
      "(30, 160, 160, 3) (30,)\n"
     ]
    }
   ],
   "source": [
    "# load train dataset\n",
    "trainX, trainy = load_dataset('Male_Female_Backup/train/')\n",
    "print(trainX.shape, trainy.shape)\n",
    "# load test dataset\n",
    "testX, testy = load_dataset('Male_Female_Backup/val/')\n",
    "print(testX.shape, testy.shape)\n",
    "# save arrays to one file in compressed format\n",
    "np.savez_compressed('Male_Female_Backup-dataset.npz', trainX, trainy, testX, testy)"
   ]
  },
  {
   "cell_type": "code",
   "execution_count": 6,
   "metadata": {},
   "outputs": [
    {
     "name": "stdout",
     "output_type": "stream",
     "text": [
      "Loaded:  (100, 160, 160, 3) (100,) (30, 160, 160, 3) (30,)\n"
     ]
    }
   ],
   "source": [
    "# load the face dataset\n",
    "data = np.load('Male_Female_Backup-dataset.npz')\n",
    "trainX, trainy, testX, testy = data['arr_0'], data['arr_1'], data['arr_2'], data['arr_3']\n",
    "print('Loaded: ', trainX.shape, trainy.shape, testX.shape, testy.shape)"
   ]
  },
  {
   "cell_type": "code",
   "execution_count": 7,
   "metadata": {},
   "outputs": [],
   "source": [
    "# example of loading the keras facenet model\n",
    "from keras.models import load_model\n",
    "# load the model\n",
    "#model = load_model('facenet_keras.h5')"
   ]
  },
  {
   "cell_type": "code",
   "execution_count": 8,
   "metadata": {},
   "outputs": [
    {
     "name": "stdout",
     "output_type": "stream",
     "text": [
      "Loaded Model\n"
     ]
    },
    {
     "name": "stderr",
     "output_type": "stream",
     "text": [
      "/home/FRACTAL/ashish.palve/.local/lib/python3.6/site-packages/keras/engine/saving.py:341: UserWarning: No training configuration found in save file: the model was *not* compiled. Compile it manually.\n",
      "  warnings.warn('No training configuration found in save file: '\n"
     ]
    }
   ],
   "source": [
    "model = load_model('facenet_keras.h5')\n",
    "print('Loaded Model')"
   ]
  },
  {
   "cell_type": "code",
   "execution_count": 9,
   "metadata": {},
   "outputs": [],
   "source": [
    "# calculate a face embedding for each face in the dataset using facenet\n",
    "from numpy import load\n",
    "from numpy import expand_dims\n",
    "from numpy import asarray\n",
    "from numpy import savez_compressed\n",
    "from keras.models import load_model"
   ]
  },
  {
   "cell_type": "code",
   "execution_count": 10,
   "metadata": {},
   "outputs": [],
   "source": [
    "# get the face embedding for one face\n",
    "def get_embedding(model, face_pixels):\n",
    "\t# scale pixel values\n",
    "\tface_pixels = face_pixels.astype('float32')\n",
    "\t# standardize pixel values across channels (global)\n",
    "\tmean, std = face_pixels.mean(), face_pixels.std()\n",
    "\tface_pixels = (face_pixels - mean) / std\n",
    "\t# transform face into one sample\n",
    "\tsamples = expand_dims(face_pixels, axis=0)\n",
    "\t# make prediction to get embedding\n",
    "\tyhat = model.predict(samples)\n",
    "\treturn yhat[0]"
   ]
  },
  {
   "cell_type": "code",
   "execution_count": 11,
   "metadata": {},
   "outputs": [
    {
     "name": "stdout",
     "output_type": "stream",
     "text": [
      "Loaded:  (100, 160, 160, 3) (100,) (30, 160, 160, 3) (30,)\n",
      "Loaded Model\n"
     ]
    },
    {
     "name": "stderr",
     "output_type": "stream",
     "text": [
      "/home/FRACTAL/ashish.palve/.local/lib/python3.6/site-packages/keras/engine/saving.py:341: UserWarning: No training configuration found in save file: the model was *not* compiled. Compile it manually.\n",
      "  warnings.warn('No training configuration found in save file: '\n"
     ]
    }
   ],
   "source": [
    "data = load('Male_Female_Backup-dataset.npz')\n",
    "trainX, trainy, testX, testy = data['arr_0'], data['arr_1'], data['arr_2'], data['arr_3']\n",
    "print('Loaded: ', trainX.shape, trainy.shape, testX.shape, testy.shape)\n",
    "# load the facenet model\n",
    "model = load_model('facenet_keras.h5')\n",
    "print('Loaded Model')"
   ]
  },
  {
   "cell_type": "code",
   "execution_count": 12,
   "metadata": {},
   "outputs": [
    {
     "name": "stdout",
     "output_type": "stream",
     "text": [
      "(100, 128)\n"
     ]
    }
   ],
   "source": [
    "# convert each face in the train set to an embedding\n",
    "newTrainX = list()\n",
    "for face_pixels in trainX:\n",
    "\tembedding = get_embedding(model, face_pixels)\n",
    "\tnewTrainX.append(embedding)\n",
    "newTrainX = asarray(newTrainX)\n",
    "print(newTrainX.shape)"
   ]
  },
  {
   "cell_type": "code",
   "execution_count": 13,
   "metadata": {},
   "outputs": [
    {
     "name": "stdout",
     "output_type": "stream",
     "text": [
      "(30, 128)\n"
     ]
    }
   ],
   "source": [
    "# convert each face in the test set to an embedding\n",
    "newTestX = list()\n",
    "for face_pixels in testX:\n",
    "\tembedding = get_embedding(model, face_pixels)\n",
    "\tnewTestX.append(embedding)\n",
    "newTestX = asarray(newTestX)\n",
    "print(newTestX.shape)"
   ]
  },
  {
   "cell_type": "code",
   "execution_count": 14,
   "metadata": {},
   "outputs": [],
   "source": [
    "# save arrays to one file in compressed format\n",
    "savez_compressed('Male_Female_Backup-embeddings.npz', newTrainX, trainy, newTestX, testy)"
   ]
  },
  {
   "cell_type": "code",
   "execution_count": 15,
   "metadata": {},
   "outputs": [],
   "source": [
    "# develop a classifier for the 5 Celebrity Faces Dataset\n",
    "from numpy import load\n",
    "from sklearn.metrics import accuracy_score\n",
    "from sklearn.preprocessing import LabelEncoder\n",
    "from sklearn.preprocessing import Normalizer\n",
    "from sklearn.svm import SVC"
   ]
  },
  {
   "cell_type": "code",
   "execution_count": 16,
   "metadata": {},
   "outputs": [
    {
     "name": "stdout",
     "output_type": "stream",
     "text": [
      "Dataset: train=100, test=30\n"
     ]
    }
   ],
   "source": [
    "# load dataset\n",
    "data = load('Male_Female_Backup-embeddings.npz')\n",
    "trainX, trainy, testX, testy = data['arr_0'], data['arr_1'], data['arr_2'], data['arr_3']\n",
    "print('Dataset: train=%d, test=%d' % (trainX.shape[0], testX.shape[0]))"
   ]
  },
  {
   "cell_type": "code",
   "execution_count": 17,
   "metadata": {},
   "outputs": [],
   "source": [
    "# normalize input vectors\n",
    "in_encoder = Normalizer(norm='l2')\n",
    "trainX = in_encoder.transform(trainX)\n",
    "testX = in_encoder.transform(testX)"
   ]
  },
  {
   "cell_type": "code",
   "execution_count": 18,
   "metadata": {},
   "outputs": [],
   "source": [
    "# label encode targets\n",
    "out_encoder = LabelEncoder()\n",
    "out_encoder.fit(trainy)\n",
    "trainy = out_encoder.transform(trainy)\n",
    "testy = out_encoder.transform(testy)"
   ]
  },
  {
   "cell_type": "code",
   "execution_count": 19,
   "metadata": {},
   "outputs": [
    {
     "data": {
      "text/plain": [
       "SVC(C=1.0, cache_size=200, class_weight=None, coef0=0.0,\n",
       "  decision_function_shape='ovr', degree=3, gamma='auto', kernel='linear',\n",
       "  max_iter=-1, probability=True, random_state=None, shrinking=True,\n",
       "  tol=0.001, verbose=False)"
      ]
     },
     "execution_count": 19,
     "metadata": {},
     "output_type": "execute_result"
    }
   ],
   "source": [
    "# fit model\n",
    "model = SVC(kernel='linear', probability=True)\n",
    "model.fit(trainX, trainy)"
   ]
  },
  {
   "cell_type": "code",
   "execution_count": 20,
   "metadata": {},
   "outputs": [],
   "source": [
    "# predict\n",
    "yhat_train = model.predict(trainX)\n",
    "yhat_test = model.predict(testX)"
   ]
  },
  {
   "cell_type": "code",
   "execution_count": 21,
   "metadata": {},
   "outputs": [
    {
     "name": "stdout",
     "output_type": "stream",
     "text": [
      "Accuracy: train=92.000, test=80.000\n"
     ]
    }
   ],
   "source": [
    "# score\n",
    "score_train = accuracy_score(trainy, yhat_train)\n",
    "score_test = accuracy_score(testy, yhat_test)\n",
    "# summarize\n",
    "print('Accuracy: train=%.3f, test=%.3f' % (score_train*100, score_test*100))"
   ]
  },
  {
   "cell_type": "code",
   "execution_count": 22,
   "metadata": {},
   "outputs": [],
   "source": [
    "# develop a classifier for the 5 Celebrity Faces Dataset\n",
    "from random import choice\n",
    "from numpy import load\n",
    "from numpy import expand_dims\n",
    "from sklearn.preprocessing import LabelEncoder\n",
    "from sklearn.preprocessing import Normalizer\n",
    "from sklearn.svm import SVC\n",
    "from matplotlib import pyplot"
   ]
  },
  {
   "cell_type": "code",
   "execution_count": 23,
   "metadata": {},
   "outputs": [],
   "source": [
    "# load faces\n",
    "data = load('Male_Female_Backup-dataset.npz')\n",
    "testX_faces = data['arr_2']"
   ]
  },
  {
   "cell_type": "code",
   "execution_count": 24,
   "metadata": {},
   "outputs": [],
   "source": [
    "# load face embeddings\n",
    "data = load('Male_Female_Backup-embeddings.npz')\n",
    "trainX, trainy, testX, testy = data['arr_0'], data['arr_1'], data['arr_2'], data['arr_3']"
   ]
  },
  {
   "cell_type": "code",
   "execution_count": 25,
   "metadata": {},
   "outputs": [],
   "source": [
    "# normalize input vectors\n",
    "in_encoder = Normalizer(norm='l2')\n",
    "trainX = in_encoder.transform(trainX)\n",
    "testX = in_encoder.transform(testX)\n",
    "# label encode targets\n",
    "out_encoder = LabelEncoder()\n",
    "out_encoder.fit(trainy)\n",
    "trainy = out_encoder.transform(trainy)\n",
    "testy = out_encoder.transform(testy)"
   ]
  },
  {
   "cell_type": "code",
   "execution_count": 26,
   "metadata": {},
   "outputs": [
    {
     "data": {
      "text/plain": [
       "SVC(C=1.0, cache_size=200, class_weight=None, coef0=0.0,\n",
       "  decision_function_shape='ovr', degree=3, gamma='auto', kernel='linear',\n",
       "  max_iter=-1, probability=True, random_state=None, shrinking=True,\n",
       "  tol=0.001, verbose=False)"
      ]
     },
     "execution_count": 26,
     "metadata": {},
     "output_type": "execute_result"
    }
   ],
   "source": [
    "# fit model\n",
    "model = SVC(kernel='linear', probability=True)\n",
    "model.fit(trainX, trainy)"
   ]
  },
  {
   "cell_type": "code",
   "execution_count": 27,
   "metadata": {},
   "outputs": [
    {
     "name": "stderr",
     "output_type": "stream",
     "text": [
      "/home/FRACTAL/ashish.palve/anaconda3/lib/python3.6/site-packages/sklearn/preprocessing/label.py:151: DeprecationWarning: The truth value of an empty array is ambiguous. Returning False, but in future this will result in an error. Use `array.size > 0` to check that an array is not empty.\n",
      "  if diff:\n"
     ]
    }
   ],
   "source": [
    "# test model on a random example from the test dataset\n",
    "selection = choice([i for i in range(testX.shape[0])])\n",
    "random_face_pixels = testX_faces[selection]\n",
    "random_face_emb = testX[selection]\n",
    "random_face_class = testy[selection]\n",
    "random_face_name = out_encoder.inverse_transform([random_face_class])"
   ]
  },
  {
   "cell_type": "code",
   "execution_count": 28,
   "metadata": {},
   "outputs": [
    {
     "name": "stdout",
     "output_type": "stream",
     "text": [
      "Predicted: Male (94.271)\n",
      "Expected: Male\n"
     ]
    },
    {
     "name": "stderr",
     "output_type": "stream",
     "text": [
      "/home/FRACTAL/ashish.palve/anaconda3/lib/python3.6/site-packages/sklearn/preprocessing/label.py:151: DeprecationWarning: The truth value of an empty array is ambiguous. Returning False, but in future this will result in an error. Use `array.size > 0` to check that an array is not empty.\n",
      "  if diff:\n"
     ]
    }
   ],
   "source": [
    "# prediction for the face\n",
    "samples = expand_dims(random_face_emb, axis=0)\n",
    "yhat_class = model.predict(samples)\n",
    "yhat_prob = model.predict_proba(samples)\n",
    "# get name\n",
    "class_index = yhat_class[0]\n",
    "class_probability = yhat_prob[0,class_index] * 100\n",
    "predict_names = out_encoder.inverse_transform(yhat_class)\n",
    "print('Predicted: %s (%.3f)' % (predict_names[0], class_probability))\n",
    "print('Expected: %s' % random_face_name[0])"
   ]
  },
  {
   "cell_type": "code",
   "execution_count": 29,
   "metadata": {},
   "outputs": [
    {
     "data": {
      "image/png": "[encoded data removed]",
      "text/plain": [
       "<Figure size 432x288 with 1 Axes>"
      ]
     },
     "metadata": {},
     "output_type": "display_data"
    }
   ],
   "source": [
    "# plot for fun\n",
    "pyplot.imshow(random_face_pixels)\n",
    "title = '%s (%.3f)' % (predict_names[0], class_probability)\n",
    "pyplot.title(title)\n",
    "pyplot.show()"
   ]
  },
  {
   "cell_type": "code",
   "execution_count": null,
   "metadata": {},
   "outputs": [],
   "source": []
  }
 ],
 "metadata": {
  "kernelspec": {
   "display_name": "Python 3",
   "language": "python",
   "name": "python3"
  },
  "language_info": {
   "codemirror_mode": {
    "name": "ipython",
    "version": 3
   },
   "file_extension": ".py",
   "mimetype": "text/x-python",
   "name": "python",
   "nbconvert_exporter": "python",
   "pygments_lexer": "ipython3",
   "version": "3.6.5"
  }
 },
 "nbformat": 4,
 "nbformat_minor": 2
}
