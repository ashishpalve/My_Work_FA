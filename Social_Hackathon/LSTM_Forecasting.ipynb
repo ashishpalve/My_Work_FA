{
 "cells": [
  {
   "cell_type": "code",
   "execution_count": null,
   "metadata": {},
   "outputs": [],
   "source": [
    "from numpy import array"
   ]
  },
  {
   "cell_type": "code",
   "execution_count": null,
   "metadata": {},
   "outputs": [],
   "source": [
    "# split a univariate sequence into samples\n",
    "def split_sequence(sequence, n_steps):\n",
    "\tX, y = list(), list()\n",
    "\tfor i in range(len(sequence)):\n",
    "\t\t# find the end of this pattern\n",
    "\t\tend_ix = i + n_steps\n",
    "\t\t# check if we are beyond the sequence\n",
    "\t\tif end_ix > len(sequence)-1:\n",
    "\t\t\tbreak\n",
    "\t\t# gather input and output parts of the pattern\n",
    "\t\tseq_x, seq_y = sequence[i:end_ix], sequence[end_ix]\n",
    "\t\tX.append(seq_x)\n",
    "\t\ty.append(seq_y)\n",
    "\treturn array(X), array(y)"
   ]
  },
  {
   "cell_type": "code",
   "execution_count": null,
   "metadata": {},
   "outputs": [],
   "source": [
    "# define input sequence\n",
    "raw_seq = [10, 20, 30, 40, 50, 60, 70, 80, 90]\n",
    "# choose a number of time steps\n",
    "n_steps = 3\n",
    "n_features = 1"
   ]
  },
  {
   "cell_type": "code",
   "execution_count": null,
   "metadata": {},
   "outputs": [],
   "source": [
    "# split into samples\n",
    "X, y = split_sequence(raw_seq, n_steps)\n",
    "# summarize the data\n",
    "for i in range(len(X)):\n",
    "\tprint(X[i], y[i])"
   ]
  },
  {
   "cell_type": "code",
   "execution_count": null,
   "metadata": {},
   "outputs": [],
   "source": [
    "# reshape from [samples, timesteps] into [samples, timesteps, features]\n",
    "n_features = 1\n",
    "X = X.reshape((X.shape[0], X.shape[1], n_features))"
   ]
  },
  {
   "cell_type": "code",
   "execution_count": null,
   "metadata": {},
   "outputs": [],
   "source": [
    "X"
   ]
  },
  {
   "cell_type": "code",
   "execution_count": null,
   "metadata": {},
   "outputs": [],
   "source": [
    "from keras.models import Sequential  \n",
    "from keras.layers import Dense  \n",
    "from keras.layers import LSTM  \n",
    "from keras.layers import Dropout  "
   ]
  },
  {
   "cell_type": "code",
   "execution_count": null,
   "metadata": {},
   "outputs": [],
   "source": [
    "# define model\n",
    "model = Sequential()\n",
    "model.add(LSTM(50, activation='relu', input_shape=(n_steps, n_features)))\n",
    "model.add(Dense(1))\n",
    "model.compile(optimizer='adam', loss='mse')"
   ]
  },
  {
   "cell_type": "code",
   "execution_count": null,
   "metadata": {},
   "outputs": [],
   "source": [
    "# fit model\n",
    "model.fit(X, y, epochs=200, verbose=0)"
   ]
  },
  {
   "cell_type": "code",
   "execution_count": null,
   "metadata": {},
   "outputs": [],
   "source": [
    "# demonstrate prediction\n",
    "x_input = array([70, 80, 90])\n",
    "x_input = x_input.reshape((1, n_steps, n_features))\n",
    "yhat = model.predict(x_input, verbose=0)\n",
    "yhat"
   ]
  },
  {
   "cell_type": "markdown",
   "metadata": {},
   "source": [
    "LSTM on our data"
   ]
  },
  {
   "cell_type": "code",
   "execution_count": 1,
   "metadata": {},
   "outputs": [],
   "source": [
    "import pandas as pd\n",
    "import numpy as np\n",
    "from matplotlib import pyplot\n",
    "import itertools\n",
    "import warnings\n",
    "from statsmodels.tsa.stattools import acf, pacf\n",
    "import math\n",
    "import datetime"
   ]
  },
  {
   "cell_type": "code",
   "execution_count": 2,
   "metadata": {},
   "outputs": [],
   "source": [
    "mydata = pd.read_csv(\"train.csv\")\n",
    "subset = mydata.loc[mydata.building_number == 1]\n",
    "subset = subset[['timestamp', 'main_meter']]\n",
    "subset['timestamp'] = pd.to_datetime(subset['timestamp'], format = '%Y-%m-%d %H:%M:%S')\n",
    "subset = subset.sort_values(by=['timestamp'])\n",
    "subset = subset.loc[subset.timestamp >= '2017-09-01 00:00:00']\n",
    "subset = subset.set_index('timestamp')\n",
    "subset = subset[['main_meter']]"
   ]
  },
  {
   "cell_type": "code",
   "execution_count": 3,
   "metadata": {},
   "outputs": [],
   "source": [
    "train = subset.iloc[0:11616]\n",
    "test = subset.iloc[11616:11712]"
   ]
  },
  {
   "cell_type": "code",
   "execution_count": 4,
   "metadata": {},
   "outputs": [],
   "source": [
    "from numpy import array"
   ]
  },
  {
   "cell_type": "code",
   "execution_count": 5,
   "metadata": {},
   "outputs": [],
   "source": [
    "# split a univariate sequence into samples\n",
    "def split_sequence(sequence, n_steps):\n",
    "\tX, y = list(), list()\n",
    "\tfor i in range(len(sequence)):\n",
    "\t\t# find the end of this pattern\n",
    "\t\tend_ix = i + n_steps\n",
    "\t\t# check if we are beyond the sequence\n",
    "\t\tif end_ix > len(sequence)-1:\n",
    "\t\t\tbreak\n",
    "\t\t# gather input and output parts of the pattern\n",
    "\t\tseq_x, seq_y = sequence[i:end_ix], sequence[end_ix]\n",
    "\t\tX.append(seq_x)\n",
    "\t\ty.append(seq_y)\n",
    "\treturn array(X), array(y)"
   ]
  },
  {
   "cell_type": "code",
   "execution_count": 6,
   "metadata": {},
   "outputs": [],
   "source": [
    "# choose a number of time steps\n",
    "n_steps = 2\n",
    "n_features = 1"
   ]
  },
  {
   "cell_type": "code",
   "execution_count": 46,
   "metadata": {},
   "outputs": [],
   "source": [
    "# split into samples\n",
    "X, y = split_sequence(train.main_meter, n_steps)"
   ]
  },
  {
   "cell_type": "code",
   "execution_count": 8,
   "metadata": {},
   "outputs": [],
   "source": [
    "# reshape from [samples, timesteps] into [samples, timesteps, features]\n",
    "n_features = 1\n",
    "X = X.reshape((X.shape[0], X.shape[1], n_features))"
   ]
  },
  {
   "cell_type": "markdown",
   "metadata": {},
   "source": [
    "Vanilla LSTM"
   ]
  },
  {
   "cell_type": "code",
   "execution_count": 44,
   "metadata": {},
   "outputs": [],
   "source": [
    "from keras.models import Sequential  \n",
    "from keras.layers import Dense  \n",
    "from keras.layers import LSTM  \n",
    "from keras.layers import Dropout \n",
    "from keras.layers import Bidirectional\n",
    "from keras.layers import ConvLSTM2D\n",
    "from keras.layers import Flatten"
   ]
  },
  {
   "cell_type": "code",
   "execution_count": 10,
   "metadata": {},
   "outputs": [
    {
     "name": "stdout",
     "output_type": "stream",
     "text": [
      "WARNING:tensorflow:From /home/FRACTAL/ashish.palve/.local/lib/python3.5/site-packages/tensorflow/python/framework/op_def_library.py:263: colocate_with (from tensorflow.python.framework.ops) is deprecated and will be removed in a future version.\n",
      "Instructions for updating:\n",
      "Colocations handled automatically by placer.\n"
     ]
    }
   ],
   "source": [
    "# define model\n",
    "model = Sequential()\n",
    "model.add(LSTM(50, activation='relu', input_shape=(n_steps, n_features)))\n",
    "model.add(Dense(1))\n",
    "model.compile(optimizer='adam', loss='mse')"
   ]
  },
  {
   "cell_type": "code",
   "execution_count": 11,
   "metadata": {},
   "outputs": [
    {
     "name": "stdout",
     "output_type": "stream",
     "text": [
      "WARNING:tensorflow:From /home/FRACTAL/ashish.palve/.local/lib/python3.5/site-packages/tensorflow/python/ops/math_ops.py:3066: to_int32 (from tensorflow.python.ops.math_ops) is deprecated and will be removed in a future version.\n",
      "Instructions for updating:\n",
      "Use tf.cast instead.\n"
     ]
    },
    {
     "data": {
      "text/plain": [
       "<keras.callbacks.History at 0x7f7858505eb8>"
      ]
     },
     "execution_count": 11,
     "metadata": {},
     "output_type": "execute_result"
    }
   ],
   "source": [
    "# fit model\n",
    "model.fit(X, y, epochs=200, verbose=0)"
   ]
  },
  {
   "cell_type": "code",
   "execution_count": 33,
   "metadata": {},
   "outputs": [
    {
     "data": {
      "text/plain": [
       "(94, 2)"
      ]
     },
     "execution_count": 33,
     "metadata": {},
     "output_type": "execute_result"
    }
   ],
   "source": [
    "# split into samples\n",
    "x_input, y_input = split_sequence(test.main_meter, n_steps)\n",
    "x_input.shape"
   ]
  },
  {
   "cell_type": "code",
   "execution_count": 34,
   "metadata": {
    "collapsed": true
   },
   "outputs": [
    {
     "data": {
      "text/plain": [
       "array([[1956.3341],\n",
       "       [1779.5195],\n",
       "       [1569.7301],\n",
       "       [1987.9468],\n",
       "       [1971.3804],\n",
       "       [2013.3029],\n",
       "       [1977.8684],\n",
       "       [1819.2793],\n",
       "       [2131.592 ],\n",
       "       [2048.1084],\n",
       "       [2050.0374],\n",
       "       [1794.9297],\n",
       "       [1872.4698],\n",
       "       [2129.0613],\n",
       "       [1948.9054],\n",
       "       [1816.28  ],\n",
       "       [1874.6113],\n",
       "       [1770.9214],\n",
       "       [1763.5515],\n",
       "       [1643.782 ],\n",
       "       [1868.3931],\n",
       "       [2051.6191],\n",
       "       [3369.0593],\n",
       "       [6921.0464],\n",
       "       [7039.317 ],\n",
       "       [6614.995 ],\n",
       "       [5654.9585],\n",
       "       [6979.1577],\n",
       "       [7113.633 ],\n",
       "       [6972.4253],\n",
       "       [5558.04  ],\n",
       "       [6789.4604],\n",
       "       [6566.179 ],\n",
       "       [6573.6343],\n",
       "       [6311.0156],\n",
       "       [4816.4565],\n",
       "       [6751.167 ],\n",
       "       [6613.81  ],\n",
       "       [6713.199 ],\n",
       "       [6843.202 ],\n",
       "       [6980.96  ],\n",
       "       [6195.22  ],\n",
       "       [6255.939 ],\n",
       "       [6688.853 ],\n",
       "       [6524.835 ],\n",
       "       [6581.821 ],\n",
       "       [6476.788 ],\n",
       "       [6771.714 ],\n",
       "       [8217.03  ],\n",
       "       [7721.4673],\n",
       "       [6986.568 ],\n",
       "       [8504.225 ],\n",
       "       [7868.555 ],\n",
       "       [7897.1   ],\n",
       "       [7911.512 ],\n",
       "       [8090.2275],\n",
       "       [7821.635 ],\n",
       "       [8375.872 ],\n",
       "       [7752.6646],\n",
       "       [8035.733 ],\n",
       "       [8333.603 ],\n",
       "       [7890.2495],\n",
       "       [8047.6016],\n",
       "       [8019.3633],\n",
       "       [8053.6245],\n",
       "       [7568.03  ],\n",
       "       [7832.4165],\n",
       "       [7052.2983],\n",
       "       [8109.385 ],\n",
       "       [8009.922 ],\n",
       "       [6671.0024],\n",
       "       [3479.1868],\n",
       "       [2115.8677],\n",
       "       [2172.6794],\n",
       "       [2360.51  ],\n",
       "       [2179.4612],\n",
       "       [2044.1858],\n",
       "       [1999.7505],\n",
       "       [2003.8215],\n",
       "       [2159.4397],\n",
       "       [1992.567 ],\n",
       "       [1732.1556],\n",
       "       [1663.8804],\n",
       "       [1935.6157],\n",
       "       [2326.846 ],\n",
       "       [1970.0305],\n",
       "       [1852.2605],\n",
       "       [1735.1024],\n",
       "       [2255.4456],\n",
       "       [2127.1182],\n",
       "       [1971.6083],\n",
       "       [2084.6042],\n",
       "       [2137.6672],\n",
       "       [2043.2407]], dtype=float32)"
      ]
     },
     "execution_count": 34,
     "metadata": {},
     "output_type": "execute_result"
    }
   ],
   "source": [
    "# demonstrate prediction\n",
    "#x_input = array([70, 80, 90])\n",
    "x_input = x_input.reshape((94, n_steps, n_features))\n",
    "yhat = model.predict(x_input, verbose=0)\n",
    "yhat"
   ]
  },
  {
   "cell_type": "code",
   "execution_count": 35,
   "metadata": {},
   "outputs": [],
   "source": [
    "ypred = []\n",
    "for i in yhat:\n",
    "    ypred.extend(i)\n",
    "ypred = np.array(ypred)"
   ]
  },
  {
   "cell_type": "code",
   "execution_count": 36,
   "metadata": {},
   "outputs": [
    {
     "data": {
      "text/plain": [
       "6376.744777791696"
      ]
     },
     "execution_count": 36,
     "metadata": {},
     "output_type": "execute_result"
    }
   ],
   "source": [
    "RMSE = math.sqrt(sum((ypred-np.array(test.main_meter)[2:96])**2))\n",
    "RMSE"
   ]
  },
  {
   "cell_type": "code",
   "execution_count": 37,
   "metadata": {},
   "outputs": [
    {
     "data": {
      "text/plain": [
       "9.299861220384841"
      ]
     },
     "execution_count": 37,
     "metadata": {},
     "output_type": "execute_result"
    }
   ],
   "source": [
    "MAPE = 100*(sum(abs(ypred - np.array(test.main_meter)[2:96])/np.array(test.main_meter)[2:96])/94)\n",
    "MAPE"
   ]
  },
  {
   "cell_type": "code",
   "execution_count": 38,
   "metadata": {
    "collapsed": true
   },
   "outputs": [
    {
     "name": "stdout",
     "output_type": "stream",
     "text": [
      "1745.8793441673215 1956.3341\n",
      "1536.2864085776334 1779.5195\n",
      "1887.0632459250353 1569.7301\n",
      "1922.8414546482254 1987.9468\n",
      "1964.9757536290272 1971.3804\n",
      "1935.5101372438996 2013.3029\n",
      "1785.1132749289786 1977.8684\n",
      "2053.4657132650314 1819.2793\n",
      "2008.529434430884 2131.592\n",
      "2006.5113154974906 2048.1084\n",
      "1768.4366203995214 2050.0374\n",
      "1820.5251635544712 1794.9297\n",
      "2057.7318164181615 1872.4698\n",
      "1916.378981769032 2129.0613\n",
      "1780.6911967907834 1948.9054\n",
      "1823.5632687917582 1816.28\n",
      "1730.5078555516761 1874.6113\n",
      "1715.7306780090312 1770.9214\n",
      "1602.7833109760172 1763.5515\n",
      "1798.0543562284695 1643.782\n",
      "1988.220314968283 1868.3931\n",
      "3136.0019083186144 2051.6191\n",
      "6345.435040821334 3369.0593\n",
      "7025.887233344343 6921.0464\n",
      "6689.7873344187265 7039.317\n",
      "5765.947009060977 6614.995\n",
      "6870.231858845332 5654.9585\n",
      "7141.575161736657 6979.1577\n",
      "7032.9394410724035 7113.633\n",
      "5704.712473036167 6972.4253\n",
      "6698.8403216320885 5558.04\n",
      "6616.48382336527 6789.4604\n",
      "6616.441395956834 6566.179\n",
      "6371.529401343065 6573.6343\n",
      "4964.785967985775 6311.0156\n",
      "6532.645373184357 4816.4565\n",
      "6646.785460638963 6751.167\n",
      "6749.166950925462 6613.81\n",
      "6879.099532078774 6713.199\n",
      "7018.6031283892235 6843.202\n",
      "6297.703026470719 6980.96\n",
      "6293.0934409812735 6195.22\n",
      "6696.4193124479225 6255.939\n",
      "6577.722379960062 6688.853\n",
      "6620.782438356878 6524.835\n",
      "6526.490636803658 6581.821\n",
      "6793.517796956407 6476.788\n",
      "8102.234610333103 6771.714\n",
      "7813.065361111423 8217.03\n",
      "7103.16432363484 7721.4673\n",
      "8400.952717081731 6986.568\n",
      "7975.606837449287 8504.225\n",
      "7966.09708670048 7868.555\n",
      "7978.729900430741 7897.1\n",
      "8146.4659992820725 7911.512\n",
      "7910.2334477442355 8090.2275\n",
      "8407.028307278535 7821.635\n",
      "7868.047209007161 8375.872\n",
      "8086.243681450957 7752.6646\n",
      "8382.560580658821 8035.733\n",
      "7994.275792840024 8333.603\n",
      "8108.0346073609935 7890.2495\n",
      "8091.363089836104 8047.6016\n",
      "8121.898114301179 8019.3633\n",
      "7671.644754735502 8053.6245\n",
      "7879.957698851475 7568.03\n",
      "7170.144220018761 7832.4165\n",
      "8079.382877979428 7052.2983\n",
      "8080.125057422569 8109.385\n",
      "6831.5653084448595 8009.922\n",
      "3852.6594211763418 6671.0024\n",
      "2276.2692187395546 3479.1868\n",
      "2143.624496673432 2115.8677\n",
      "2307.520660004433 2172.6794\n",
      "2152.603389350068 2360.51\n",
      "2013.2923012655758 2179.4612\n",
      "1960.0204211817813 2044.1858\n",
      "1959.2916024757221 1999.7505\n",
      "2104.3532518448324 2003.8215\n",
      "1961.0564320143665 2159.4397\n",
      "1706.0351825000864 1992.567\n",
      "1620.7026085190744 1732.1556\n",
      "1858.1061183430757 1663.8804\n",
      "2231.6798941349944 1935.6157\n",
      "1950.8547054563269 2326.846\n",
      "1817.1735768513665 1970.0305\n",
      "1696.5615038157648 1852.2605\n",
      "2142.119318173658 1735.1024\n",
      "2089.7412527945216 2255.4456\n",
      "1940.2696186737835 2127.1182\n",
      "2032.948746930528 1971.6083\n",
      "2090.3057463782247 2084.6042\n",
      "2007.1191938786624 2137.6672\n",
      "2163.6045196206496 2043.2407\n"
     ]
    }
   ],
   "source": [
    "for i in range(len(ypred)):\n",
    "    print(np.array(test.main_meter)[2:96][i], ypred[i])"
   ]
  },
  {
   "cell_type": "code",
   "execution_count": 39,
   "metadata": {},
   "outputs": [],
   "source": [
    "predicted = pd.Series(ypred)\n",
    "predicted.index = test.index[2:96]"
   ]
  },
  {
   "cell_type": "code",
   "execution_count": 40,
   "metadata": {},
   "outputs": [
    {
     "data": {
      "text/plain": [
       "<matplotlib.axes._subplots.AxesSubplot at 0x7f77cadaf5f8>"
      ]
     },
     "execution_count": 40,
     "metadata": {},
     "output_type": "execute_result"
    },
    {
     "data": {
      "image/png": "[encoded data removed]",
      "text/plain": [
       "<Figure size 1728x432 with 1 Axes>"
      ]
     },
     "metadata": {
      "needs_background": "light"
     },
     "output_type": "display_data"
    }
   ],
   "source": [
    "from matplotlib import pyplot\n",
    "ax = train.tail(96).plot(figsize=(24,6), label='train')\n",
    "test.plot(ax = ax, figsize=(24,6), label='observed')\n",
    "predicted.plot(ax=ax, label='predicted', figsize=(24,6))"
   ]
  },
  {
   "cell_type": "markdown",
   "metadata": {},
   "source": [
    "Stacked LSTM"
   ]
  },
  {
   "cell_type": "code",
   "execution_count": 21,
   "metadata": {},
   "outputs": [
    {
     "data": {
      "text/plain": [
       "<keras.callbacks.History at 0x7f7804301470>"
      ]
     },
     "execution_count": 21,
     "metadata": {},
     "output_type": "execute_result"
    }
   ],
   "source": [
    "# define model\n",
    "model = Sequential()\n",
    "model.add(LSTM(50, activation='relu', return_sequences=True, input_shape=(n_steps, n_features)))\n",
    "model.add(LSTM(50, activation='relu'))\n",
    "model.add(Dense(1))\n",
    "model.compile(optimizer='adam', loss='mse')\n",
    "# fit model\n",
    "model.fit(X, y, epochs=200, verbose=0)"
   ]
  },
  {
   "cell_type": "markdown",
   "metadata": {},
   "source": [
    "Bidirectional LSTM"
   ]
  },
  {
   "cell_type": "code",
   "execution_count": 32,
   "metadata": {},
   "outputs": [
    {
     "data": {
      "text/plain": [
       "<keras.callbacks.History at 0x7f77cbd1ff28>"
      ]
     },
     "execution_count": 32,
     "metadata": {},
     "output_type": "execute_result"
    }
   ],
   "source": [
    "# define model\n",
    "model = Sequential()\n",
    "model.add(Bidirectional(LSTM(50, activation='relu'), input_shape=(n_steps, n_features)))\n",
    "model.add(Dense(1))\n",
    "model.compile(optimizer='adam', loss='mse')\n",
    "# fit model\n",
    "model.fit(X, y, epochs=200, verbose=0)"
   ]
  },
  {
   "cell_type": "code",
   "execution_count": null,
   "metadata": {},
   "outputs": [],
   "source": []
  }
 ],
 "metadata": {
  "kernelspec": {
   "display_name": "Python 3",
   "language": "python",
   "name": "python3"
  },
  "language_info": {
   "codemirror_mode": {
    "name": "ipython",
    "version": 3
   },
   "file_extension": ".py",
   "mimetype": "text/x-python",
   "name": "python",
   "nbconvert_exporter": "python",
   "pygments_lexer": "ipython3",
   "version": "3.5.2"
  }
 },
 "nbformat": 4,
 "nbformat_minor": 2
}
