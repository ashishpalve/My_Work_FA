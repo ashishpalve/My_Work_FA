{
 "cells": [
  {
   "cell_type": "code",
   "execution_count": 1,
   "metadata": {},
   "outputs": [],
   "source": [
    "from numpy import array"
   ]
  },
  {
   "cell_type": "code",
   "execution_count": 2,
   "metadata": {},
   "outputs": [],
   "source": [
    "# split a univariate sequence into samples\n",
    "def split_sequence(sequence, n_steps):\n",
    "\tX, y = list(), list()\n",
    "\tfor i in range(len(sequence)):\n",
    "\t\t# find the end of this pattern\n",
    "\t\tend_ix = i + n_steps\n",
    "\t\t# check if we are beyond the sequence\n",
    "\t\tif end_ix > len(sequence)-1:\n",
    "\t\t\tbreak\n",
    "\t\t# gather input and output parts of the pattern\n",
    "\t\tseq_x, seq_y = sequence[i:end_ix], sequence[end_ix]\n",
    "\t\tX.append(seq_x)\n",
    "\t\ty.append(seq_y)\n",
    "\treturn array(X), array(y)"
   ]
  },
  {
   "cell_type": "code",
   "execution_count": 10,
   "metadata": {},
   "outputs": [],
   "source": [
    "# define input sequence\n",
    "raw_seq = [10, 20, 30, 40, 50, 60, 70, 80, 90]\n",
    "# choose a number of time steps\n",
    "n_steps = 3\n",
    "n_features = 1"
   ]
  },
  {
   "cell_type": "code",
   "execution_count": 4,
   "metadata": {},
   "outputs": [
    {
     "name": "stdout",
     "output_type": "stream",
     "text": [
      "[10 20 30] 40\n",
      "[20 30 40] 50\n",
      "[30 40 50] 60\n",
      "[40 50 60] 70\n",
      "[50 60 70] 80\n",
      "[60 70 80] 90\n"
     ]
    }
   ],
   "source": [
    "# split into samples\n",
    "X, y = split_sequence(raw_seq, n_steps)\n",
    "# summarize the data\n",
    "for i in range(len(X)):\n",
    "\tprint(X[i], y[i])"
   ]
  },
  {
   "cell_type": "code",
   "execution_count": 14,
   "metadata": {},
   "outputs": [],
   "source": [
    "# reshape from [samples, timesteps] into [samples, timesteps, features]\n",
    "n_features = 1\n",
    "X = X.reshape((X.shape[0], X.shape[1], n_features))"
   ]
  },
  {
   "cell_type": "code",
   "execution_count": 15,
   "metadata": {
    "collapsed": true
   },
   "outputs": [
    {
     "data": {
      "text/plain": [
       "array([[[10],\n",
       "        [20],\n",
       "        [30]],\n",
       "\n",
       "       [[20],\n",
       "        [30],\n",
       "        [40]],\n",
       "\n",
       "       [[30],\n",
       "        [40],\n",
       "        [50]],\n",
       "\n",
       "       [[40],\n",
       "        [50],\n",
       "        [60]],\n",
       "\n",
       "       [[50],\n",
       "        [60],\n",
       "        [70]],\n",
       "\n",
       "       [[60],\n",
       "        [70],\n",
       "        [80]]])"
      ]
     },
     "execution_count": 15,
     "metadata": {},
     "output_type": "execute_result"
    }
   ],
   "source": [
    "X"
   ]
  },
  {
   "cell_type": "code",
   "execution_count": 8,
   "metadata": {},
   "outputs": [],
   "source": [
    "from keras.models import Sequential  \n",
    "from keras.layers import Dense  \n",
    "from keras.layers import LSTM  \n",
    "from keras.layers import Dropout  "
   ]
  },
  {
   "cell_type": "code",
   "execution_count": 16,
   "metadata": {},
   "outputs": [],
   "source": [
    "# define model\n",
    "model = Sequential()\n",
    "model.add(LSTM(50, activation='relu', input_shape=(n_steps, n_features)))\n",
    "model.add(Dense(1))\n",
    "model.compile(optimizer='adam', loss='mse')"
   ]
  },
  {
   "cell_type": "code",
   "execution_count": 17,
   "metadata": {},
   "outputs": [
    {
     "name": "stdout",
     "output_type": "stream",
     "text": [
      "WARNING:tensorflow:From /home/FRACTAL/ashish.palve/.local/lib/python3.5/site-packages/tensorflow/python/ops/math_ops.py:3066: to_int32 (from tensorflow.python.ops.math_ops) is deprecated and will be removed in a future version.\n",
      "Instructions for updating:\n",
      "Use tf.cast instead.\n"
     ]
    },
    {
     "data": {
      "text/plain": [
       "<keras.callbacks.History at 0x7f39b3f85630>"
      ]
     },
     "execution_count": 17,
     "metadata": {},
     "output_type": "execute_result"
    }
   ],
   "source": [
    "# fit model\n",
    "model.fit(X, y, epochs=200, verbose=0)"
   ]
  },
  {
   "cell_type": "code",
   "execution_count": 19,
   "metadata": {},
   "outputs": [
    {
     "data": {
      "text/plain": [
       "array([[102.35276]], dtype=float32)"
      ]
     },
     "execution_count": 19,
     "metadata": {},
     "output_type": "execute_result"
    }
   ],
   "source": [
    "# demonstrate prediction\n",
    "x_input = array([70, 80, 90])\n",
    "x_input = x_input.reshape((1, n_steps, n_features))\n",
    "yhat = model.predict(x_input, verbose=0)\n",
    "yhat"
   ]
  },
  {
   "cell_type": "code",
   "execution_count": 21,
   "metadata": {},
   "outputs": [],
   "source": [
    "import pandas as pd\n",
    "import numpy as np\n",
    "from matplotlib import pyplot\n",
    "import itertools\n",
    "import warnings\n",
    "from statsmodels.tsa.stattools import acf, pacf\n",
    "import math\n",
    "import datetime"
   ]
  },
  {
   "cell_type": "code",
   "execution_count": 22,
   "metadata": {},
   "outputs": [],
   "source": [
    "mydata = pd.read_csv(\"train.csv\")\n",
    "subset = mydata.loc[mydata.building_number == 1]\n",
    "subset = subset[['timestamp', 'main_meter']]\n",
    "subset['timestamp'] = pd.to_datetime(subset['timestamp'], format = '%Y-%m-%d %H:%M:%S')\n",
    "subset = subset.sort_values(by=['timestamp'])\n",
    "subset = subset.loc[subset.timestamp >= '2017-09-01 00:00:00']\n",
    "subset = subset.set_index('timestamp')\n",
    "subset = subset[['main_meter']]"
   ]
  },
  {
   "cell_type": "code",
   "execution_count": 23,
   "metadata": {},
   "outputs": [],
   "source": [
    "train = subset.iloc[0:11616]\n",
    "test = subset.iloc[11616:11712]"
   ]
  },
  {
   "cell_type": "code",
   "execution_count": 25,
   "metadata": {},
   "outputs": [],
   "source": [
    "from numpy import array"
   ]
  },
  {
   "cell_type": "code",
   "execution_count": 26,
   "metadata": {},
   "outputs": [],
   "source": [
    "# split a univariate sequence into samples\n",
    "def split_sequence(sequence, n_steps):\n",
    "\tX, y = list(), list()\n",
    "\tfor i in range(len(sequence)):\n",
    "\t\t# find the end of this pattern\n",
    "\t\tend_ix = i + n_steps\n",
    "\t\t# check if we are beyond the sequence\n",
    "\t\tif end_ix > len(sequence)-1:\n",
    "\t\t\tbreak\n",
    "\t\t# gather input and output parts of the pattern\n",
    "\t\tseq_x, seq_y = sequence[i:end_ix], sequence[end_ix]\n",
    "\t\tX.append(seq_x)\n",
    "\t\ty.append(seq_y)\n",
    "\treturn array(X), array(y)"
   ]
  },
  {
   "cell_type": "code",
   "execution_count": 27,
   "metadata": {},
   "outputs": [],
   "source": [
    "# choose a number of time steps\n",
    "n_steps = 3\n",
    "n_features = 1"
   ]
  },
  {
   "cell_type": "code",
   "execution_count": 29,
   "metadata": {},
   "outputs": [],
   "source": [
    "# split into samples\n",
    "X, y = split_sequence(train.main_meter, n_steps)"
   ]
  },
  {
   "cell_type": "code",
   "execution_count": 32,
   "metadata": {},
   "outputs": [],
   "source": [
    "# reshape from [samples, timesteps] into [samples, timesteps, features]\n",
    "n_features = 1\n",
    "X = X.reshape((X.shape[0], X.shape[1], n_features))"
   ]
  },
  {
   "cell_type": "code",
   "execution_count": 34,
   "metadata": {},
   "outputs": [],
   "source": [
    "from keras.models import Sequential  \n",
    "from keras.layers import Dense  \n",
    "from keras.layers import LSTM  \n",
    "from keras.layers import Dropout  "
   ]
  },
  {
   "cell_type": "code",
   "execution_count": 35,
   "metadata": {},
   "outputs": [],
   "source": [
    "# define model\n",
    "model = Sequential()\n",
    "model.add(LSTM(50, activation='relu', input_shape=(n_steps, n_features)))\n",
    "model.add(Dense(1))\n",
    "model.compile(optimizer='adam', loss='mse')"
   ]
  },
  {
   "cell_type": "code",
   "execution_count": 36,
   "metadata": {},
   "outputs": [
    {
     "data": {
      "text/plain": [
       "<keras.callbacks.History at 0x7f3978078240>"
      ]
     },
     "execution_count": 36,
     "metadata": {},
     "output_type": "execute_result"
    }
   ],
   "source": [
    "# fit model\n",
    "model.fit(X, y, epochs=200, verbose=0)"
   ]
  },
  {
   "cell_type": "code",
   "execution_count": 51,
   "metadata": {},
   "outputs": [],
   "source": [
    "# split into samples\n",
    "x_input, y_input = split_sequence(test.main_meter, n_steps)"
   ]
  },
  {
   "cell_type": "code",
   "execution_count": 52,
   "metadata": {
    "collapsed": true
   },
   "outputs": [
    {
     "data": {
      "text/plain": [
       "array([[1736.7787],\n",
       "       [1560.7094],\n",
       "       [2000.1895],\n",
       "       [1868.7953],\n",
       "       [1977.926 ],\n",
       "       [1936.4457],\n",
       "       [1785.2474],\n",
       "       [2139.7136],\n",
       "       [1957.5637],\n",
       "       [2028.8138],\n",
       "       [1749.296 ],\n",
       "       [1893.764 ],\n",
       "       [2096.03  ],\n",
       "       [1858.7126],\n",
       "       [1806.9694],\n",
       "       [1875.8527],\n",
       "       [1725.4036],\n",
       "       [1752.0742],\n",
       "       [1609.348 ],\n",
       "       [1869.9913],\n",
       "       [1990.1342],\n",
       "       [3266.5242],\n",
       "       [6699.337 ],\n",
       "       [7399.075 ],\n",
       "       [6411.641 ],\n",
       "       [5629.6475],\n",
       "       [7137.8647],\n",
       "       [6859.93  ],\n",
       "       [6870.483 ],\n",
       "       [5457.794 ],\n",
       "       [6953.2456],\n",
       "       [6313.142 ],\n",
       "       [6554.4727],\n",
       "       [6258.5093],\n",
       "       [4716.9526],\n",
       "       [6827.6245],\n",
       "       [6439.4204],\n",
       "       [6658.941 ],\n",
       "       [6793.093 ],\n",
       "       [6925.4556],\n",
       "       [6081.716 ],\n",
       "       [6367.8706],\n",
       "       [6679.767 ],\n",
       "       [6394.813 ],\n",
       "       [6573.215 ],\n",
       "       [6424.895 ],\n",
       "       [6772.517 ],\n",
       "       [8142.0767],\n",
       "       [7386.436 ],\n",
       "       [6963.705 ],\n",
       "       [8640.386 ],\n",
       "       [7526.6226],\n",
       "       [7948.3345],\n",
       "       [7875.954 ],\n",
       "       [8060.011 ],\n",
       "       [7732.0923],\n",
       "       [8419.89  ],\n",
       "       [7573.3267],\n",
       "       [8125.984 ],\n",
       "       [8267.962 ],\n",
       "       [7763.2573],\n",
       "       [8098.94  ],\n",
       "       [7955.562 ],\n",
       "       [8020.583 ],\n",
       "       [7493.7573],\n",
       "       [7903.4556],\n",
       "       [6923.7876],\n",
       "       [8264.161 ],\n",
       "       [7778.486 ],\n",
       "       [6551.347 ],\n",
       "       [3105.5818],\n",
       "       [2113.2627],\n",
       "       [2121.1404],\n",
       "       [2368.4795],\n",
       "       [2103.6194],\n",
       "       [2037.2108],\n",
       "       [1995.224 ],\n",
       "       [1984.5134],\n",
       "       [2138.4358],\n",
       "       [1921.7411],\n",
       "       [1715.4618],\n",
       "       [1678.7701],\n",
       "       [1929.6023],\n",
       "       [2248.603 ],\n",
       "       [1841.6309],\n",
       "       [1869.0658],\n",
       "       [1725.2706],\n",
       "       [2248.129 ],\n",
       "       [2008.1434],\n",
       "       [1942.2972],\n",
       "       [2091.7917],\n",
       "       [2091.0596],\n",
       "       [1994.941 ]], dtype=float32)"
      ]
     },
     "execution_count": 52,
     "metadata": {},
     "output_type": "execute_result"
    }
   ],
   "source": [
    "# demonstrate prediction\n",
    "#x_input = array([70, 80, 90])\n",
    "x_input = x_input.reshape((93, n_steps, n_features))\n",
    "yhat = model.predict(x_input, verbose=0)\n",
    "yhat"
   ]
  },
  {
   "cell_type": "code",
   "execution_count": 75,
   "metadata": {},
   "outputs": [],
   "source": [
    "ypred = []\n",
    "for i in yhat:\n",
    "    ypred.extend(i)\n",
    "ypred = np.array(ypred)"
   ]
  },
  {
   "cell_type": "code",
   "execution_count": 76,
   "metadata": {},
   "outputs": [
    {
     "data": {
      "text/plain": [
       "6385.8462453669545"
      ]
     },
     "execution_count": 76,
     "metadata": {},
     "output_type": "execute_result"
    }
   ],
   "source": [
    "RMSE = math.sqrt(sum((ypred-np.array(test.main_meter)[3:96])**2))\n",
    "RMSE"
   ]
  },
  {
   "cell_type": "code",
   "execution_count": 77,
   "metadata": {},
   "outputs": [
    {
     "data": {
      "text/plain": [
       "9.037647201967463"
      ]
     },
     "execution_count": 77,
     "metadata": {},
     "output_type": "execute_result"
    }
   ],
   "source": [
    "MAPE = 100*(sum(abs(ypred - np.array(test.main_meter)[3:96])/np.array(test.main_meter)[3:96])/93)\n",
    "MAPE"
   ]
  },
  {
   "cell_type": "code",
   "execution_count": 78,
   "metadata": {},
   "outputs": [
    {
     "name": "stdout",
     "output_type": "stream",
     "text": [
      "1536.2864085776334 1736.7787\n",
      "1887.0632459250353 1560.7094\n",
      "1922.8414546482254 2000.1895\n",
      "1964.9757536290272 1868.7953\n",
      "1935.5101372438996 1977.926\n",
      "1785.1132749289786 1936.4457\n",
      "2053.4657132650314 1785.2474\n",
      "2008.529434430884 2139.7136\n",
      "2006.5113154974906 1957.5637\n",
      "1768.4366203995214 2028.8138\n",
      "1820.5251635544712 1749.296\n",
      "2057.7318164181615 1893.764\n",
      "1916.378981769032 2096.03\n",
      "1780.6911967907834 1858.7126\n",
      "1823.5632687917582 1806.9694\n",
      "1730.5078555516761 1875.8527\n",
      "1715.7306780090312 1725.4036\n",
      "1602.7833109760172 1752.0742\n",
      "1798.0543562284695 1609.348\n",
      "1988.220314968283 1869.9913\n",
      "3136.0019083186144 1990.1342\n",
      "6345.435040821334 3266.5242\n",
      "7025.887233344343 6699.337\n",
      "6689.7873344187265 7399.075\n",
      "5765.947009060977 6411.641\n",
      "6870.231858845332 5629.6475\n",
      "7141.575161736657 7137.8647\n",
      "7032.9394410724035 6859.93\n",
      "5704.712473036167 6870.483\n",
      "6698.8403216320885 5457.794\n",
      "6616.48382336527 6953.2456\n",
      "6616.441395956834 6313.142\n",
      "6371.529401343065 6554.4727\n",
      "4964.785967985775 6258.5093\n",
      "6532.645373184357 4716.9526\n",
      "6646.785460638963 6827.6245\n",
      "6749.166950925462 6439.4204\n",
      "6879.099532078774 6658.941\n",
      "7018.6031283892235 6793.093\n",
      "6297.703026470719 6925.4556\n",
      "6293.0934409812735 6081.716\n",
      "6696.4193124479225 6367.8706\n",
      "6577.722379960062 6679.767\n",
      "6620.782438356878 6394.813\n",
      "6526.490636803658 6573.215\n",
      "6793.517796956407 6424.895\n",
      "8102.234610333103 6772.517\n",
      "7813.065361111423 8142.0767\n",
      "7103.16432363484 7386.436\n",
      "8400.952717081731 6963.705\n",
      "7975.606837449287 8640.386\n",
      "7966.09708670048 7526.6226\n",
      "7978.729900430741 7948.3345\n",
      "8146.4659992820725 7875.954\n",
      "7910.2334477442355 8060.011\n",
      "8407.028307278535 7732.0923\n",
      "7868.047209007161 8419.89\n",
      "8086.243681450957 7573.3267\n",
      "8382.560580658821 8125.984\n",
      "7994.275792840024 8267.962\n",
      "8108.0346073609935 7763.2573\n",
      "8091.363089836104 8098.94\n",
      "8121.898114301179 7955.562\n",
      "7671.644754735502 8020.583\n",
      "7879.957698851475 7493.7573\n",
      "7170.144220018761 7903.4556\n",
      "8079.382877979428 6923.7876\n",
      "8080.125057422569 8264.161\n",
      "6831.5653084448595 7778.486\n",
      "3852.6594211763418 6551.347\n",
      "2276.2692187395546 3105.5818\n",
      "2143.624496673432 2113.2627\n",
      "2307.520660004433 2121.1404\n",
      "2152.603389350068 2368.4795\n",
      "2013.2923012655758 2103.6194\n",
      "1960.0204211817813 2037.2108\n",
      "1959.2916024757221 1995.224\n",
      "2104.3532518448324 1984.5134\n",
      "1961.0564320143665 2138.4358\n",
      "1706.0351825000864 1921.7411\n",
      "1620.7026085190744 1715.4618\n",
      "1858.1061183430757 1678.7701\n",
      "2231.6798941349944 1929.6023\n",
      "1950.8547054563269 2248.603\n",
      "1817.1735768513665 1841.6309\n",
      "1696.5615038157648 1869.0658\n",
      "2142.119318173658 1725.2706\n",
      "2089.7412527945216 2248.129\n",
      "1940.2696186737835 2008.1434\n",
      "2032.948746930528 1942.2972\n",
      "2090.3057463782247 2091.7917\n",
      "2007.1191938786624 2091.0596\n",
      "2163.6045196206496 1994.941\n"
     ]
    }
   ],
   "source": [
    "for i in range(len(ypred)):\n",
    "    print(np.array(test.main_meter)[3:96][i], ypred[i])"
   ]
  },
  {
   "cell_type": "code",
   "execution_count": null,
   "metadata": {},
   "outputs": [],
   "source": []
  }
 ],
 "metadata": {
  "kernelspec": {
   "display_name": "Python 3",
   "language": "python",
   "name": "python3"
  },
  "language_info": {
   "codemirror_mode": {
    "name": "ipython",
    "version": 3
   },
   "file_extension": ".py",
   "mimetype": "text/x-python",
   "name": "python",
   "nbconvert_exporter": "python",
   "pygments_lexer": "ipython3",
   "version": "3.5.2"
  }
 },
 "nbformat": 4,
 "nbformat_minor": 2
}
